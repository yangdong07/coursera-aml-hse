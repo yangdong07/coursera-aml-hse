{
 "cells": [
  {
   "cell_type": "markdown",
   "metadata": {},
   "source": [
    "\n",
    "# Image Retraining -2 还是用tensorflow\n",
    "\n",
    "主要是做练习时候的一个困惑： \n",
    "\n",
    "使用已经训练好的 InceptionV3，对新的图片分类问题进行训练，**很容易** 产生过拟合：对训练集，很容易达到100%的准确率，但是对测试集/验证集，准确率不到 50%，并且很难继续提升。 这说明什么，说明确实学习到了图片的特征，但是学习能力太强，产生了过拟合。\n",
    "\n",
    "google了一下，有些参考：\n",
    "\n",
    "- https://stackoverflow.com/questions/37605611/would-adding-dropout-help-reduce-overfitting-when-following-tensorflows-transfe\n",
    "\n",
    "- [Image Retraining](https://www.tensorflow.org/tutorials/image_retraining)\n",
    "\n",
    "- [tensorboard](https://www.youtube.com/watch?time_continue=1426&v=eBbEDRsCmv4) ，这个视频说了tensorboard的一些特性。例子里面用了不少 summary，用于观察\n",
    "\n",
    "这里按照 Image Retraining的教程，推演一遍，看看如何解决这个问题\n",
    "\n",
    "main函数步骤：\n",
    "\n",
    "1. 准备一些模型参数\n",
    "2. 准备图片文件，包括训练集、验证集、测试集，以及标签\n",
    "3. 准备模型\n",
    "    1. 加载inception_v3模型\n",
    "    2. 在原模型的某一层（bottleneck）后面添加 新的模型层（ retrain ），用于新的分类任务\n",
    "    3. 在原模型的前面加上 `jepg_decoding`层，用于jpeg图片的解码。或者加上 `distortion`层，用于data argumentation。\n",
    "    4. 如果不是用`distortion`，则计算并缓存所有图片在原模型上bottleneck层的输出\n",
    "    5. 在新的训练层之后添加 评估计算（`add_evaluation_step`）。\n",
    "4. 训练模型：使用 bottleneck层输出的缓存或者直接计算，以及其他信息，开始训练。\n",
    "5. 其他操作：存储模型\n",
    "\n",
    "\n",
    "一些Tips：\n",
    "\n",
    "1. 需要缓存一些bottleneck输出，最好缓存在服务器上，而不是本地。 这样训练的时候取batch速度会快一些。训练会变快，很有效！\n",
    "2. 还是不理解tensorflow的session和graph。 在session运行完之后，不能清除GPU内存，非常不方便！\n",
    "3. 原文件的做法是 将训练后的模型彻底保存下来，然后读取，然后在测试集上评估。\n",
    "4. 对于tensorflow的placeholder，有没有什么不赋值就用默认值的用法？ 有 `placeholder_with_default`\n",
    "5. 使用dropout提升的效果并不明显。 一些观察：准确率评估不是很稳定。 后续可以尝试一下 data argumentation。\n"
   ]
  },
  {
   "cell_type": "code",
   "execution_count": 1,
   "metadata": {},
   "outputs": [
    {
     "name": "stderr",
     "output_type": "stream",
     "text": [
      "/home/yangdong/Applications/miniconda3/envs/DL3/lib/python3.6/site-packages/h5py/__init__.py:36: FutureWarning: Conversion of the second argument of issubdtype from `float` to `np.floating` is deprecated. In future, it will be treated as `np.float64 == np.dtype(float).type`.\n",
      "  from ._conv import register_converters as _register_converters\n",
      "Using TensorFlow backend.\n"
     ]
    }
   ],
   "source": [
    "import os\n",
    "import re\n",
    "import hashlib\n",
    "import sys\n",
    "import urllib\n",
    "import tarfile\n",
    "import random\n",
    "import scipy.io\n",
    "\n",
    "import numpy as np\n",
    "import tensorflow as tf\n",
    "import keras.backend as K\n",
    "\n",
    "from datetime import datetime\n",
    "from tensorflow.python.util import compat\n",
    "from tensorflow.python.platform import gfile\n",
    "\n",
    "def limit_mem():\n",
    "    K.get_session().close()\n",
    "    cfg = K.tf.ConfigProto()\n",
    "    cfg.gpu_options.allow_growth = True\n",
    "    K.set_session(K.tf.Session(config=cfg))\n",
    "    \n",
    "limit_mem()\n"
   ]
  },
  {
   "cell_type": "markdown",
   "metadata": {},
   "source": [
    "## 1. 模型参数"
   ]
  },
  {
   "cell_type": "code",
   "execution_count": 2,
   "metadata": {},
   "outputs": [],
   "source": [
    "# model_info\n",
    "model_info =  {\n",
    "    'data_url': 'http://download.tensorflow.org/models/image/imagenet/inception-2015-12-05.tgz',\n",
    "    'resized_input_tensor_name': 'Mul:0',\n",
    "    'bottleneck_tensor_name': 'pool_3/_reshape:0',\n",
    "    'bottleneck_tensor_size': 2048,\n",
    "    'class_count': 5,   # class of new task\n",
    "    'input_width': 299,\n",
    "    'input_height': 299,\n",
    "    'input_depth': 3,\n",
    "    'model_file_name': 'classify_image_graph_def.pb',\n",
    "    'input_mean': 128,\n",
    "    'input_std': 128,\n",
    "    'quantize_layer': False,\n",
    "}\n",
    "\n",
    "# configs\n",
    "class FLAGS:\n",
    "    model_dir = '/home/yangdong/Downloads/tmp/imagenet/'\n",
    "    bottleneck_dir = '/tmp/bottleneck/'\n",
    "    summaries_dir  = '/tmp/retrain_logs'\n",
    "    final_tensor_name = 'final_result'\n",
    "    learning_rate = 0.01\n",
    "    how_many_training_steps = 5000\n",
    "    eval_step_interval = 100\n",
    "    train_batch_size = 100\n",
    "    validation_batch_size = 100\n",
    "    test_batch_size = -1\n",
    "    \n",
    "    l2_penalty = 0.01\n",
    "\n",
    "CHECKPOINT_NAME = '/tmp/_retrain_checkpoint'"
   ]
  },
  {
   "cell_type": "markdown",
   "metadata": {},
   "source": [
    "## 2. 准备训练数据\n",
    "\n",
    "这里是102flowers数据，包括102种花。\n",
    "\n",
    "来源： <http://www.robots.ox.ac.uk/~vgg/data/flowers/102/index.html>\n",
    "\n",
    "准备训练集、验证集和测试集以及标签。\n",
    "\n",
    "输出形式：  文件名， 标签（数字）， 标签名\n",
    "分成 训练集、验证集和测试集，或者不要验证集。\n",
    "\n",
    "下一步需要输出： bottlenecks 文件。\n",
    "\n",
    "直接映射。训练集、验证集只返回索引。"
   ]
  },
  {
   "cell_type": "code",
   "execution_count": 3,
   "metadata": {},
   "outputs": [
    {
     "name": "stdout",
     "output_type": "stream",
     "text": [
      "102\n"
     ]
    }
   ],
   "source": [
    "MAX_NUM_IMAGES_PER_CLASS = 2 ** 27 - 1  # ~134M\n",
    "\n",
    "image_dir = './flower_photos'\n",
    "flowers102_tar_path = \"../readonly/week3/102flowers.tgz\"\n",
    "labels_mat_path = '../readonly/week3/imagelabels.mat'\n",
    "tmp_flowers_path = '/tmp/flowers/'\n",
    "tmp_bottleneck_path = '/tmp/flowers/bottlenecks'\n",
    "\n",
    "def ensure_dir_exists(dir_name):\n",
    "    if not os.path.exists(dir_name):\n",
    "        os.makedirs(dir_name)\n",
    "ensure_dir_exists(tmp_flowers_path)\n",
    "ensure_dir_exists(tmp_bottleneck_path)\n",
    "\n",
    "if not os.path.exists(os.path.join(tmp_flowers_path, 'jpg')):\n",
    "    tarfile.open(flowers102_tar_path, 'r:gz').extractall(tmp_flowers_path)\n",
    "\n",
    "with tarfile.open(flowers102_tar_path) as f:\n",
    "    all_files = sorted([m.name for m in f.getmembers() if m.isfile()])\n",
    "\n",
    "all_labels = scipy.io.loadmat(labels_mat_path)['labels'][0] - 1\n",
    "\n",
    "def get_image_path(image_file):\n",
    "    return os.path.join(tmp_flowers_path, image_file)\n",
    "\n",
    "\n",
    "NUM_CLASSES = len(np.unique(all_labels))\n",
    "print(NUM_CLASSES)"
   ]
  },
  {
   "cell_type": "code",
   "execution_count": 4,
   "metadata": {},
   "outputs": [],
   "source": [
    "from sklearn.model_selection import train_test_split\n",
    "# split into train/test\n",
    "tr_files, te_files, tr_labels, te_labels = \\\n",
    "    train_test_split(all_files, all_labels, test_size=0.2, random_state=42, stratify=all_labels)"
   ]
  },
  {
   "cell_type": "markdown",
   "metadata": {},
   "source": [
    "## 3. 准备模型\n",
    "\n",
    "### 3.1 使用 inception_v3模型\n",
    "\n",
    "tensorflow的model文件，参考这个文章： <https://www.tensorflow.org/extend/tool_developers/>"
   ]
  },
  {
   "cell_type": "code",
   "execution_count": 5,
   "metadata": {},
   "outputs": [],
   "source": [
    "\n",
    "# 下载 inception_v3 模型文件 (.pb文件)\n",
    "\n",
    "data_url = 'http://download.tensorflow.org/models/image/imagenet/inception-2015-12-05.tgz'\n",
    "model_dir = './tmp/imagenet'\n",
    "bottleneck_dir = '/tmp/bottleneck'\n",
    "model_file_name = 'classify_image_graph_def.pb'\n",
    "summaries_dir = '/tmp/retrain_logs/'\n",
    "\n",
    "# 如果没有 './tmp/imagenet' 文件夹则创建\n",
    "if not os.path.exists(model_dir):\n",
    "    os.makedirs(model_dir)\n",
    "filename = data_url.split('/')[-1]\n",
    "filepath = os.path.join(model_dir, filename)\n",
    "\n",
    "# 进度条\n",
    "def _progress(count, block_size, total_size):\n",
    "    sys.stdout.write('\\r>> Downloading %s %.1f%%' %\n",
    "                     (filename,\n",
    "                      float(count * block_size) / float(total_size) * 100.0))\n",
    "    sys.stdout.flush()\n",
    "    \n",
    "# 没有文件则下载\n",
    "if not os.path.exists(filepath):\n",
    "    filepath, _ = urllib.request.urlretrieve(data_url, filepath, _progress)\n",
    "    print()\n",
    "    statinfo = os.stat(filepath)\n",
    "    tf.logging.info('Successfully downloaded %s %d bytes.', filename, statinfo.st_size)\n",
    "\n",
    "# 没有模型文件，则解压缩\n",
    "model_path = os.path.join(model_dir, model_file_name)\n",
    "if not os.path.exists(model_path):\n",
    "    print('Extracting file from ', filepath)\n",
    "    tarfile.open(filepath, 'r:gz').extractall(model_dir)\n",
    "    "
   ]
  },
  {
   "cell_type": "code",
   "execution_count": 6,
   "metadata": {},
   "outputs": [
    {
     "name": "stdout",
     "output_type": "stream",
     "text": [
      "Model path:  ./tmp/imagenet/classify_image_graph_def.pb\n",
      "<tensorflow.python.framework.ops.Graph object at 0x7fee6c30f8d0>\n"
     ]
    }
   ],
   "source": [
    "\n",
    "# 从pb文件里面，创建 graph：\n",
    "print('Model path: ', model_path)\n",
    "\n",
    "def create_model_graph():\n",
    "    tf.reset_default_graph()\n",
    "    with tf.Graph().as_default() as graph:\n",
    "        print(graph)\n",
    "        with gfile.FastGFile(model_path, 'rb') as f:\n",
    "            graph_def = tf.GraphDef()\n",
    "            graph_def.ParseFromString(f.read())\n",
    "            bottleneck_tensor, resized_input_tensor = (tf.import_graph_def(\n",
    "                graph_def,\n",
    "                name='',\n",
    "                return_elements=['pool_3/_reshape:0', 'Mul:0']\n",
    "            ))\n",
    "    return graph, bottleneck_tensor, resized_input_tensor\n",
    "\n",
    "graph, bottleneck_tensor, resized_input_tensor =  create_model_graph()"
   ]
  },
  {
   "cell_type": "code",
   "execution_count": 7,
   "metadata": {},
   "outputs": [
    {
     "data": {
      "text/plain": [
       "<tensorflow.python.framework.ops.Graph at 0x7fee6c30f8d0>"
      ]
     },
     "execution_count": 7,
     "metadata": {},
     "output_type": "execute_result"
    }
   ],
   "source": [
    "graph"
   ]
  },
  {
   "cell_type": "code",
   "execution_count": 8,
   "metadata": {},
   "outputs": [
    {
     "name": "stdout",
     "output_type": "stream",
     "text": [
      "Tensor(\"Mul:0\", shape=(1, 299, 299, 3), dtype=float32)\n",
      "Tensor(\"pool_3/_reshape:0\", shape=(1, 2048), dtype=float32)\n"
     ]
    }
   ],
   "source": [
    "print(resized_input_tensor)\n",
    "print(bottleneck_tensor)"
   ]
  },
  {
   "cell_type": "markdown",
   "metadata": {},
   "source": [
    "### 3.2 添加新的训练层"
   ]
  },
  {
   "cell_type": "code",
   "execution_count": 9,
   "metadata": {},
   "outputs": [],
   "source": [
    "\n",
    "bottleneck_tensor_size = int(bottleneck_tensor.shape[-1])\n",
    "class_count = NUM_CLASSES"
   ]
  },
  {
   "cell_type": "code",
   "execution_count": 10,
   "metadata": {},
   "outputs": [],
   "source": [
    "def variable_summaries(var):\n",
    "    \"\"\"Attach a lot of summaries to a Tensor (for TensorBoard visualization).\"\"\"\n",
    "    with tf.name_scope('summaries'):\n",
    "        mean = tf.reduce_mean(var)\n",
    "        tf.summary.scalar('mean', mean)\n",
    "        with tf.name_scope('stddev'):\n",
    "            stddev = tf.sqrt(tf.reduce_mean(tf.square(var - mean)))\n",
    "        tf.summary.scalar('stddev', stddev)\n",
    "        tf.summary.scalar('max', tf.reduce_max(var))\n",
    "        tf.summary.scalar('min', tf.reduce_min(var))\n",
    "        tf.summary.histogram('histogram', var)\n",
    "\n",
    "with graph.as_default():\n",
    "    # BottleneckInputPlaceholder, input =  bottlenck output\n",
    "    with tf.name_scope('input'):\n",
    "        bottleneck_input = tf.placeholder_with_default(\n",
    "            bottleneck_tensor,\n",
    "            shape=[None, bottleneck_tensor_size],\n",
    "            name='BottleneckInputPlaceholder')\n",
    "\n",
    "        ground_truth_input = tf.placeholder(\n",
    "            tf.int64, [None], name='GroundTruthInput')\n",
    "\n",
    "    # Organizing the following ops so they are easier to see in TensorBoard.\n",
    "    with tf.name_scope('final_retrain_ops'):\n",
    "        with tf.name_scope('weights'):\n",
    "            initial_value = tf.truncated_normal(\n",
    "                [bottleneck_tensor_size, class_count], stddev=0.001)\n",
    "            layer_weights = tf.Variable(initial_value, name='final_weights')\n",
    "            variable_summaries(layer_weights)\n",
    "\n",
    "        with tf.name_scope('biases'):\n",
    "            layer_biases = tf.Variable(tf.zeros([class_count]), name='final_biases')\n",
    "            variable_summaries(layer_biases)\n",
    "            \n",
    "        # add dropout\n",
    "        with tf.name_scope('dropout'):\n",
    "            keep_prob = tf.placeholder_with_default(tf.constant(1.0), [], name='keep_prob')\n",
    "            drop = tf.nn.dropout(bottleneck_input, keep_prob)\n",
    "            \n",
    "        with tf.name_scope('Wx_plus_b'):\n",
    "            logits = tf.matmul(drop, layer_weights) + layer_biases\n",
    "            tf.summary.histogram('pre_activations', logits)\n",
    "\n",
    "    # final output\n",
    "    final_tensor = tf.nn.softmax(logits, name='final_result')\n",
    "    tf.summary.histogram('activations', final_tensor)\n",
    "    \n",
    "# here we have : (train_step, cross_entropy_mean, bottleneck_input, ground_truth_input, final_tensor)\n"
   ]
  },
  {
   "cell_type": "code",
   "execution_count": 11,
   "metadata": {},
   "outputs": [],
   "source": [
    "# cross entropy 和 train：\n",
    "with graph.as_default():\n",
    "    # cross entropy\n",
    "    with tf.name_scope('cross_entropy'):\n",
    "        cross_entropy_mean = tf.losses.sparse_softmax_cross_entropy(\n",
    "            labels=ground_truth_input, logits=logits)\n",
    "    tf.summary.scalar('cross_entropy', cross_entropy_mean)\n",
    "\n",
    "    with tf.name_scope('loss'):\n",
    "        regularizer = tf.nn.l2_loss(layer_weights)\n",
    "        loss = cross_entropy_mean + FLAGS.l2_penalty * regularizer\n",
    "        \n",
    "    # train step, optimizer\n",
    "    with tf.name_scope('train'):\n",
    "        optimizer = tf.train.GradientDescentOptimizer(FLAGS.learning_rate)\n",
    "        train_step = optimizer.minimize(loss)"
   ]
  },
  {
   "cell_type": "code",
   "execution_count": 12,
   "metadata": {},
   "outputs": [
    {
     "data": {
      "text/plain": [
       "TensorShape([])"
      ]
     },
     "execution_count": 12,
     "metadata": {},
     "output_type": "execute_result"
    }
   ],
   "source": [
    "regularizer.shape"
   ]
  },
  {
   "cell_type": "code",
   "execution_count": 13,
   "metadata": {},
   "outputs": [],
   "source": [
    "# 评估层\n",
    "with graph.as_default():\n",
    "    with tf.name_scope('accuracy'):\n",
    "        with tf.name_scope('correct_prediction'):\n",
    "            prediction = tf.argmax(final_tensor, 1)\n",
    "            correct_prediction = tf.equal(prediction, ground_truth_input)\n",
    "        with tf.name_scope('accuracy'):\n",
    "            evaluation_step = tf.reduce_mean(tf.cast(correct_prediction, tf.float32))\n",
    "    tf.summary.scalar('accuracy', evaluation_step)"
   ]
  },
  {
   "cell_type": "markdown",
   "metadata": {},
   "source": [
    "\n",
    "### 3.3 在原模型前面加上 `jepg_decoding` 层，用于处理图片输入\n",
    "\n"
   ]
  },
  {
   "cell_type": "code",
   "execution_count": 14,
   "metadata": {},
   "outputs": [],
   "source": [
    "# 在输入层添加 jpeg decoding层\n",
    "\n",
    "input_width = 299\n",
    "input_height = 299\n",
    "input_depth = 3\n",
    "input_mean = 128   # 256/2\n",
    "input_std = 128    # 256/2\n",
    "# resize and normalize ~(-0.5, 0.5)\n",
    "\n",
    "with graph.as_default():\n",
    "    jpeg_data_tensor = tf.placeholder(tf.string, name='DecodeJPGInput')\n",
    "    decoded_image = tf.image.decode_jpeg(jpeg_data_tensor, channels=input_depth)\n",
    "    decoded_image_as_float = tf.cast(decoded_image, dtype=tf.float32)\n",
    "    decoded_image_4d = tf.expand_dims(decoded_image_as_float, 0)\n",
    "    resize_shape = tf.stack([input_height, input_width])\n",
    "    resize_shape_as_int = tf.cast(resize_shape, dtype=tf.int32)\n",
    "    resized_image = tf.image.resize_bilinear(decoded_image_4d,\n",
    "                                             resize_shape_as_int)\n",
    "    offset_image = tf.subtract(resized_image, input_mean)\n",
    "    decoded_image_tensor = tf.multiply(offset_image, 1.0 / input_std)\n",
    "    \n"
   ]
  },
  {
   "cell_type": "code",
   "execution_count": 15,
   "metadata": {},
   "outputs": [
    {
     "data": {
      "text/plain": [
       "<tensorflow.python.framework.ops.Graph at 0x7fee6c30f8d0>"
      ]
     },
     "execution_count": 15,
     "metadata": {},
     "output_type": "execute_result"
    }
   ],
   "source": [
    "jpeg_data_tensor.graph"
   ]
  },
  {
   "cell_type": "markdown",
   "metadata": {},
   "source": [
    "### 3.4 计算并缓存 bottleneck 的输出（对所有图片）\n"
   ]
  },
  {
   "cell_type": "code",
   "execution_count": 16,
   "metadata": {},
   "outputs": [],
   "source": [
    "# 计算 bottleneck层 的输出，并缓存。 主要是为了避免重复计算，加快训练速度\n",
    "\n",
    "    \n",
    "def run_bottleneck_on_image(sess, image_data):\n",
    "    # image_data_tensor -> decoded_image_tensor | resized_input_tensor -> bottleneck_tensor\n",
    "    # image_data -> resized_input_values -> bottleneck_values\n",
    "    resized_input_values = sess.run(decoded_image_tensor, {jpeg_data_tensor: image_data})\n",
    "    # Then run it through the recognition network.\n",
    "    bottleneck_values = sess.run(bottleneck_tensor, {resized_input_tensor: resized_input_values})\n",
    "    bottleneck_values = np.squeeze(bottleneck_values)\n",
    "    return bottleneck_values\n",
    "\n",
    "def create_bottleneck_file(sess, image_path, bottleneck_path):\n",
    "    if not gfile.Exists(image_path):\n",
    "        tf.logging.fatal('File does not exist %s', image_path)\n",
    "    image_data = gfile.FastGFile(image_path, 'rb').read()\n",
    "    try:\n",
    "        bottleneck_values = run_bottleneck_on_image(sess, image_data)\n",
    "    except Exception as e:\n",
    "        raise RuntimeError('Error during processing file %s (%s)' % (image_path, str(e)))\n",
    "        \n",
    "    bottleneck_string = ','.join(str(x) for x in bottleneck_values)\n",
    "    with open(bottleneck_path, 'w') as bottleneck_file:\n",
    "        bottleneck_file.write(bottleneck_string)\n",
    "\n",
    "\n",
    "def get_or_create_bottleneck(sess, index):\n",
    "    image_path = os.path.join(tmp_flowers_path, all_files[index])\n",
    "    image_name = os.path.basename(all_files[index])\n",
    "    bottleneck_path = os.path.join(tmp_bottleneck_path, image_name + '.txt')\n",
    "    \n",
    "    if not os.path.exists(bottleneck_path):\n",
    "        create_bottleneck_file(sess, image_path, bottleneck_path)\n",
    "    with open(bottleneck_path, 'r') as bottleneck_file:\n",
    "        bottleneck_string = bottleneck_file.read()\n",
    "    bottleneck_values = [float(x) for x in bottleneck_string.split(',')]\n",
    "    return bottleneck_values\n",
    "    \n",
    "    \n",
    "def cache_bottlenecks(sess):\n",
    "    how_many_bottlenecks = 0\n",
    "    for i in range(len(all_files)):\n",
    "        get_or_create_bottleneck(sess, i)\n",
    "        how_many_bottlenecks += 1\n",
    "        if how_many_bottlenecks % 100 == 0:\n",
    "            tf.logging.info(str(how_many_bottlenecks) + ' bottleneck files created.')\n",
    "        \n",
    "#         for category in ['training', 'testing', 'validation']:\n",
    "#             category_list = label_lists[category]\n",
    "#             for index, unused_base_name in enumerate(category_list):\n",
    "#                 get_or_create_bottleneck(sess, label_name, unused_base_name)\n",
    "#                 how_many_bottlenecks += 1\n",
    "# #                 if how_many_bottlenecks % 100 == 0:\n",
    "# #                     tf.logging.info(str(how_many_bottlenecks) + ' bottleneck files created.')\n",
    "                    "
   ]
  },
  {
   "cell_type": "code",
   "execution_count": 17,
   "metadata": {},
   "outputs": [],
   "source": [
    "# with tf.Session(graph=graph) as sess:\n",
    "#     # cache bottlenecks\n",
    "#     cache_bottlenecks(sess)"
   ]
  },
  {
   "cell_type": "code",
   "execution_count": 18,
   "metadata": {},
   "outputs": [
    {
     "data": {
      "text/plain": [
       "'image_08189.jpg'"
      ]
     },
     "execution_count": 18,
     "metadata": {},
     "output_type": "execute_result"
    }
   ],
   "source": [
    "os.path.basename(all_files[-1])"
   ]
  },
  {
   "cell_type": "markdown",
   "metadata": {},
   "source": [
    "\n",
    "\n",
    "## 4. 开始训练\n",
    "\n"
   ]
  },
  {
   "cell_type": "code",
   "execution_count": 19,
   "metadata": {},
   "outputs": [],
   "source": [
    "\n",
    "# 拆分数据集\n",
    "\n",
    "indexes = np.random.permutation(len(all_files))\n",
    "split_idx = -int(len(all_files)*0.2)\n",
    "train_idx = indexes[:split_idx]\n",
    "test_idx = indexes[split_idx:]\n",
    "\n",
    "\n",
    "# 定义batch 方法：\n",
    "\n",
    "def get_random_cached_bottlenecks(sess, batch_size, category):\n",
    "    \n",
    "    if category == 'training':\n",
    "        idx = train_idx\n",
    "    else:\n",
    "        idx = test_idx\n",
    "    \n",
    "    class_count = len(idx)\n",
    "    bottlenecks = []\n",
    "    ground_truths = []\n",
    "    filenames = []\n",
    "    if batch_size >= 0:\n",
    "        random_idx = np.random.permutation(len(idx))\n",
    "        random_idx = random_idx[:batch_size]\n",
    "        for i in random_idx:\n",
    "            bottleneck = get_or_create_bottleneck(sess, i)\n",
    "            bottlenecks.append(bottleneck)\n",
    "            ground_truths.append(all_labels[i])\n",
    "            filenames.append(all_files[i])\n",
    "    else:\n",
    "        # Retrieve all bottlenecks.\n",
    "        for i in idx:\n",
    "            bottleneck = get_or_create_bottleneck(sess, i)\n",
    "            bottlenecks.append(bottleneck)\n",
    "            ground_truths.append(all_labels[i])\n",
    "            filenames.append(all_files[i])\n",
    "                \n",
    "    return bottlenecks, ground_truths, filenames\n"
   ]
  },
  {
   "cell_type": "code",
   "execution_count": 20,
   "metadata": {},
   "outputs": [],
   "source": [
    "# sess = tf.InteractiveSession(graph=graph)\n",
    "\n",
    "# summaries_dir = '/tmp/retrain_logs2/'\n",
    "\n",
    "# with tf.Session(graph=graph) as sess:\n",
    "    \n"
   ]
  },
  {
   "cell_type": "code",
   "execution_count": 21,
   "metadata": {},
   "outputs": [],
   "source": [
    "summaries_dir = '/tmp/retrain_logs/'"
   ]
  },
  {
   "cell_type": "code",
   "execution_count": 22,
   "metadata": {
    "scrolled": false
   },
   "outputs": [
    {
     "name": "stdout",
     "output_type": "stream",
     "text": [
      "INFO:tensorflow:2018-03-21 23:54:54.763299: Step 0: Cross entropy = 4.555732, Train accuracy = 15.0%\n",
      "INFO:tensorflow:2018-03-21 23:54:55.524657: Step 0: Validation accuracy = 4.3% (N=1637)\n",
      "INFO:tensorflow:2018-03-21 23:55:00.006247: Step 100: Cross entropy = 3.517713, Train accuracy = 28.0%\n",
      "INFO:tensorflow:2018-03-21 23:55:00.655308: Step 100: Validation accuracy = 18.9% (N=1637)\n",
      "INFO:tensorflow:2018-03-21 23:55:05.164823: Step 200: Cross entropy = 3.123281, Train accuracy = 35.0%\n",
      "INFO:tensorflow:2018-03-21 23:55:05.826801: Step 200: Validation accuracy = 27.5% (N=1637)\n",
      "INFO:tensorflow:2018-03-21 23:55:10.356965: Step 300: Cross entropy = 2.659822, Train accuracy = 47.0%\n",
      "INFO:tensorflow:2018-03-21 23:55:11.007897: Step 300: Validation accuracy = 32.9% (N=1637)\n",
      "INFO:tensorflow:2018-03-21 23:55:15.532596: Step 400: Cross entropy = 2.298745, Train accuracy = 63.0%\n",
      "INFO:tensorflow:2018-03-21 23:55:16.192353: Step 400: Validation accuracy = 40.8% (N=1637)\n",
      "INFO:tensorflow:2018-03-21 23:55:20.710112: Step 500: Cross entropy = 2.375001, Train accuracy = 54.0%\n",
      "INFO:tensorflow:2018-03-21 23:55:21.390118: Step 500: Validation accuracy = 47.1% (N=1637)\n",
      "INFO:tensorflow:2018-03-21 23:55:25.901514: Step 600: Cross entropy = 1.925575, Train accuracy = 69.0%\n",
      "INFO:tensorflow:2018-03-21 23:55:26.572270: Step 600: Validation accuracy = 50.4% (N=1637)\n",
      "INFO:tensorflow:2018-03-21 23:55:31.101933: Step 700: Cross entropy = 1.870903, Train accuracy = 64.0%\n",
      "INFO:tensorflow:2018-03-21 23:55:31.751486: Step 700: Validation accuracy = 54.4% (N=1637)\n",
      "INFO:tensorflow:2018-03-21 23:55:36.263788: Step 800: Cross entropy = 1.860657, Train accuracy = 63.0%\n",
      "INFO:tensorflow:2018-03-21 23:55:36.920994: Step 800: Validation accuracy = 57.8% (N=1637)\n",
      "INFO:tensorflow:2018-03-21 23:55:41.460086: Step 900: Cross entropy = 1.665527, Train accuracy = 78.0%\n",
      "INFO:tensorflow:2018-03-21 23:55:42.111809: Step 900: Validation accuracy = 58.9% (N=1637)\n",
      "INFO:tensorflow:2018-03-21 23:55:46.633199: Step 1000: Cross entropy = 1.467172, Train accuracy = 82.0%\n",
      "INFO:tensorflow:2018-03-21 23:55:47.284590: Step 1000: Validation accuracy = 62.1% (N=1637)\n",
      "INFO:tensorflow:2018-03-21 23:55:51.843989: Step 1100: Cross entropy = 1.459321, Train accuracy = 80.0%\n",
      "INFO:tensorflow:2018-03-21 23:55:52.520299: Step 1100: Validation accuracy = 63.3% (N=1637)\n",
      "INFO:tensorflow:2018-03-21 23:55:57.090769: Step 1200: Cross entropy = 1.399370, Train accuracy = 78.0%\n",
      "INFO:tensorflow:2018-03-21 23:55:57.796192: Step 1200: Validation accuracy = 64.9% (N=1637)\n",
      "INFO:tensorflow:2018-03-21 23:56:02.372709: Step 1300: Cross entropy = 1.308813, Train accuracy = 80.0%\n",
      "INFO:tensorflow:2018-03-21 23:56:03.028336: Step 1300: Validation accuracy = 65.5% (N=1637)\n",
      "INFO:tensorflow:2018-03-21 23:56:07.611970: Step 1400: Cross entropy = 1.418637, Train accuracy = 76.0%\n",
      "INFO:tensorflow:2018-03-21 23:56:08.269715: Step 1400: Validation accuracy = 65.8% (N=1637)\n",
      "INFO:tensorflow:2018-03-21 23:56:12.859167: Step 1500: Cross entropy = 1.349521, Train accuracy = 75.0%\n",
      "INFO:tensorflow:2018-03-21 23:56:13.516923: Step 1500: Validation accuracy = 66.9% (N=1637)\n",
      "INFO:tensorflow:2018-03-21 23:56:18.106655: Step 1600: Cross entropy = 1.203704, Train accuracy = 83.0%\n",
      "INFO:tensorflow:2018-03-21 23:56:18.764556: Step 1600: Validation accuracy = 67.4% (N=1637)\n",
      "INFO:tensorflow:2018-03-21 23:56:23.370128: Step 1700: Cross entropy = 1.019911, Train accuracy = 91.0%\n",
      "INFO:tensorflow:2018-03-21 23:56:24.022915: Step 1700: Validation accuracy = 68.2% (N=1637)\n",
      "INFO:tensorflow:2018-03-21 23:56:28.661973: Step 1800: Cross entropy = 1.076569, Train accuracy = 87.0%\n",
      "INFO:tensorflow:2018-03-21 23:56:29.335001: Step 1800: Validation accuracy = 69.0% (N=1637)\n",
      "INFO:tensorflow:2018-03-21 23:56:33.982614: Step 1900: Cross entropy = 1.087073, Train accuracy = 89.0%\n",
      "INFO:tensorflow:2018-03-21 23:56:34.634372: Step 1900: Validation accuracy = 69.3% (N=1637)\n",
      "INFO:tensorflow:2018-03-21 23:56:39.257331: Step 2000: Cross entropy = 0.903331, Train accuracy = 90.0%\n",
      "INFO:tensorflow:2018-03-21 23:56:39.916587: Step 2000: Validation accuracy = 69.9% (N=1637)\n",
      "INFO:tensorflow:2018-03-21 23:56:44.577391: Step 2100: Cross entropy = 1.064639, Train accuracy = 83.0%\n",
      "INFO:tensorflow:2018-03-21 23:56:45.229965: Step 2100: Validation accuracy = 70.1% (N=1637)\n",
      "INFO:tensorflow:2018-03-21 23:56:49.849207: Step 2200: Cross entropy = 1.090221, Train accuracy = 86.0%\n",
      "INFO:tensorflow:2018-03-21 23:56:50.502658: Step 2200: Validation accuracy = 69.8% (N=1637)\n",
      "INFO:tensorflow:2018-03-21 23:56:55.173445: Step 2300: Cross entropy = 0.899257, Train accuracy = 85.0%\n",
      "INFO:tensorflow:2018-03-21 23:56:55.823052: Step 2300: Validation accuracy = 70.3% (N=1637)\n",
      "INFO:tensorflow:2018-03-21 23:57:00.471132: Step 2400: Cross entropy = 0.996940, Train accuracy = 86.0%\n",
      "INFO:tensorflow:2018-03-21 23:57:01.143916: Step 2400: Validation accuracy = 70.4% (N=1637)\n",
      "INFO:tensorflow:2018-03-21 23:57:05.799939: Step 2500: Cross entropy = 0.918657, Train accuracy = 85.0%\n",
      "INFO:tensorflow:2018-03-21 23:57:06.457032: Step 2500: Validation accuracy = 70.8% (N=1637)\n",
      "INFO:tensorflow:2018-03-21 23:57:11.113652: Step 2600: Cross entropy = 0.792602, Train accuracy = 89.0%\n",
      "INFO:tensorflow:2018-03-21 23:57:11.767628: Step 2600: Validation accuracy = 71.0% (N=1637)\n",
      "INFO:tensorflow:2018-03-21 23:57:16.420542: Step 2700: Cross entropy = 0.805491, Train accuracy = 92.0%\n",
      "INFO:tensorflow:2018-03-21 23:57:17.079150: Step 2700: Validation accuracy = 70.9% (N=1637)\n",
      "INFO:tensorflow:2018-03-21 23:57:21.721588: Step 2800: Cross entropy = 0.892145, Train accuracy = 89.0%\n",
      "INFO:tensorflow:2018-03-21 23:57:22.467009: Step 2800: Validation accuracy = 71.4% (N=1637)\n",
      "INFO:tensorflow:2018-03-21 23:57:27.131075: Step 2900: Cross entropy = 0.880060, Train accuracy = 91.0%\n",
      "INFO:tensorflow:2018-03-21 23:57:27.791441: Step 2900: Validation accuracy = 71.6% (N=1637)\n",
      "INFO:tensorflow:2018-03-21 23:57:32.499230: Step 3000: Cross entropy = 0.761095, Train accuracy = 89.0%\n",
      "INFO:tensorflow:2018-03-21 23:57:33.168130: Step 3000: Validation accuracy = 71.7% (N=1637)\n",
      "INFO:tensorflow:2018-03-21 23:57:37.844215: Step 3100: Cross entropy = 0.846456, Train accuracy = 90.0%\n",
      "INFO:tensorflow:2018-03-21 23:57:38.501334: Step 3100: Validation accuracy = 71.5% (N=1637)\n",
      "INFO:tensorflow:2018-03-21 23:57:43.171715: Step 3200: Cross entropy = 0.806510, Train accuracy = 92.0%\n",
      "INFO:tensorflow:2018-03-21 23:57:43.828884: Step 3200: Validation accuracy = 72.0% (N=1637)\n",
      "INFO:tensorflow:2018-03-21 23:57:48.514496: Step 3300: Cross entropy = 0.762530, Train accuracy = 96.0%\n",
      "INFO:tensorflow:2018-03-21 23:57:49.167785: Step 3300: Validation accuracy = 72.3% (N=1637)\n",
      "INFO:tensorflow:2018-03-21 23:57:53.848009: Step 3400: Cross entropy = 0.655594, Train accuracy = 98.0%\n",
      "INFO:tensorflow:2018-03-21 23:57:54.499381: Step 3400: Validation accuracy = 72.3% (N=1637)\n",
      "INFO:tensorflow:2018-03-21 23:57:59.224954: Step 3500: Cross entropy = 0.696217, Train accuracy = 93.0%\n",
      "INFO:tensorflow:2018-03-21 23:57:59.880703: Step 3500: Validation accuracy = 72.7% (N=1637)\n",
      "INFO:tensorflow:2018-03-21 23:58:04.552518: Step 3600: Cross entropy = 0.686786, Train accuracy = 89.0%\n",
      "INFO:tensorflow:2018-03-21 23:58:05.228553: Step 3600: Validation accuracy = 73.2% (N=1637)\n",
      "INFO:tensorflow:2018-03-21 23:58:09.916849: Step 3700: Cross entropy = 0.616918, Train accuracy = 96.0%\n",
      "INFO:tensorflow:2018-03-21 23:58:10.574666: Step 3700: Validation accuracy = 73.0% (N=1637)\n",
      "INFO:tensorflow:2018-03-21 23:58:15.251520: Step 3800: Cross entropy = 0.852626, Train accuracy = 88.0%\n",
      "INFO:tensorflow:2018-03-21 23:58:15.916580: Step 3800: Validation accuracy = 73.2% (N=1637)\n",
      "INFO:tensorflow:2018-03-21 23:58:20.602928: Step 3900: Cross entropy = 0.706058, Train accuracy = 95.0%\n",
      "INFO:tensorflow:2018-03-21 23:58:21.251138: Step 3900: Validation accuracy = 73.2% (N=1637)\n",
      "INFO:tensorflow:2018-03-21 23:58:25.941942: Step 4000: Cross entropy = 0.713218, Train accuracy = 94.0%\n",
      "INFO:tensorflow:2018-03-21 23:58:26.618720: Step 4000: Validation accuracy = 73.2% (N=1637)\n",
      "INFO:tensorflow:2018-03-21 23:58:31.332300: Step 4100: Cross entropy = 0.686466, Train accuracy = 91.0%\n",
      "INFO:tensorflow:2018-03-21 23:58:31.992084: Step 4100: Validation accuracy = 73.4% (N=1637)\n"
     ]
    },
    {
     "name": "stdout",
     "output_type": "stream",
     "text": [
      "INFO:tensorflow:2018-03-21 23:58:36.687463: Step 4200: Cross entropy = 0.683311, Train accuracy = 93.0%\n",
      "INFO:tensorflow:2018-03-21 23:58:37.360680: Step 4200: Validation accuracy = 73.7% (N=1637)\n",
      "INFO:tensorflow:2018-03-21 23:58:42.052227: Step 4300: Cross entropy = 0.682368, Train accuracy = 93.0%\n",
      "INFO:tensorflow:2018-03-21 23:58:42.709207: Step 4300: Validation accuracy = 74.0% (N=1637)\n",
      "INFO:tensorflow:2018-03-21 23:58:47.387832: Step 4400: Cross entropy = 0.702028, Train accuracy = 93.0%\n",
      "INFO:tensorflow:2018-03-21 23:58:48.051257: Step 4400: Validation accuracy = 74.0% (N=1637)\n",
      "INFO:tensorflow:2018-03-21 23:58:52.746657: Step 4500: Cross entropy = 0.638100, Train accuracy = 96.0%\n",
      "INFO:tensorflow:2018-03-21 23:58:53.416084: Step 4500: Validation accuracy = 74.2% (N=1637)\n",
      "INFO:tensorflow:2018-03-21 23:58:58.089246: Step 4600: Cross entropy = 0.625572, Train accuracy = 93.0%\n",
      "INFO:tensorflow:2018-03-21 23:58:58.752692: Step 4600: Validation accuracy = 74.4% (N=1637)\n",
      "INFO:tensorflow:2018-03-21 23:59:03.478992: Step 4700: Cross entropy = 0.525129, Train accuracy = 96.0%\n",
      "INFO:tensorflow:2018-03-21 23:59:04.145156: Step 4700: Validation accuracy = 74.2% (N=1637)\n",
      "INFO:tensorflow:2018-03-21 23:59:08.829100: Step 4800: Cross entropy = 0.604477, Train accuracy = 98.0%\n",
      "INFO:tensorflow:2018-03-21 23:59:09.506005: Step 4800: Validation accuracy = 74.5% (N=1637)\n",
      "INFO:tensorflow:2018-03-21 23:59:14.201991: Step 4900: Cross entropy = 0.664037, Train accuracy = 94.0%\n",
      "INFO:tensorflow:2018-03-21 23:59:14.856810: Step 4900: Validation accuracy = 74.4% (N=1637)\n",
      "INFO:tensorflow:2018-03-21 23:59:19.502945: Step 4999: Cross entropy = 0.667513, Train accuracy = 92.0%\n",
      "INFO:tensorflow:2018-03-21 23:59:20.165785: Step 4999: Validation accuracy = 74.7% (N=1637)\n",
      "INFO:tensorflow:Final test accuracy = 74.7% (N=1637)\n"
     ]
    }
   ],
   "source": [
    "# training_steps= 4000\n",
    "dropout_keep_prob = 1\n",
    "\n",
    "with tf.Session(graph=graph) as sess:\n",
    "    # cache bottlenecks\n",
    "#     cache_bottlenecks(sess)\n",
    "\n",
    "    # summary\n",
    "    merged = tf.summary.merge_all()\n",
    "\n",
    "    train_writer = tf.summary.FileWriter(summaries_dir + '/train', sess.graph)\n",
    "    validation_writer = tf.summary.FileWriter(FLAGS.summaries_dir + '/validation')\n",
    "    train_saver = tf.train.Saver()\n",
    "\n",
    "    # \n",
    "    # Set up all our weights to their initial default values.\n",
    "    init = tf.global_variables_initializer()\n",
    "    sess.run(init)\n",
    "    # Run the training for as many cycles as requested on the command line.\n",
    "    for i in range(FLAGS.how_many_training_steps):\n",
    "        (train_bottlenecks, train_ground_truth, _) = get_random_cached_bottlenecks(\n",
    "                sess, FLAGS.train_batch_size, 'training')\n",
    "        # Feed the bottlenecks and ground truth into the graph, and run a training\n",
    "        # step. Capture training summaries for TensorBoard with the `merged` op.\n",
    "        train_summary, _ = sess.run(\n",
    "            [merged, train_step],\n",
    "            feed_dict={\n",
    "                bottleneck_input: train_bottlenecks,\n",
    "                ground_truth_input: train_ground_truth,\n",
    "                keep_prob: dropout_keep_prob,\n",
    "            })\n",
    "        train_writer.add_summary(train_summary, i)\n",
    "\n",
    "        # Every so often, print out how well the graph is training.\n",
    "        is_last_step = (i + 1 == FLAGS.how_many_training_steps)\n",
    "        if (i % FLAGS.eval_step_interval) == 0 or is_last_step:\n",
    "            train_accuracy, cross_entropy_value = sess.run(\n",
    "                [evaluation_step, cross_entropy_mean],\n",
    "                feed_dict={\n",
    "                    bottleneck_input: train_bottlenecks,\n",
    "                    ground_truth_input: train_ground_truth\n",
    "                })\n",
    "            tf.logging.info('%s: Step %d: Cross entropy = %f, Train accuracy = %.1f%%' % (\n",
    "                datetime.now(), i, cross_entropy_value, train_accuracy * 100))\n",
    "            \n",
    "            validation_bottlenecks, validation_ground_truth, _ = (\n",
    "                get_random_cached_bottlenecks(sess, -1, 'validation'))\n",
    "\n",
    "            # Run a validation step and capture training summaries for TensorBoard\n",
    "            # with the `merged` op.\n",
    "            validation_summary, validation_accuracy = sess.run(\n",
    "                [merged, evaluation_step],\n",
    "                feed_dict={\n",
    "                    bottleneck_input: validation_bottlenecks,\n",
    "                    ground_truth_input: validation_ground_truth\n",
    "                })\n",
    "            validation_writer.add_summary(validation_summary, i)\n",
    "            tf.logging.info('%s: Step %d: Validation accuracy = %.1f%% (N=%d)' %\n",
    "                            (datetime.now(), i, validation_accuracy * 100,\n",
    "                             len(validation_bottlenecks)))\n",
    "    # 这个用于保存session中的模型和参数信息\n",
    "    #     train_saver.save(sess, CHECKPOINT_NAME)\n",
    "\n",
    "    #     # We've completed all our training, so run a final test evaluation on\n",
    "    #     # some new images we haven't used before.\n",
    "    test_bottlenecks, test_ground_truth, test_filenames = (\n",
    "        get_random_cached_bottlenecks(sess, FLAGS.test_batch_size, 'testing'))\n",
    "        \n",
    "    test_accuracy, predictions = sess.run(\n",
    "        [evaluation_step, prediction],\n",
    "        feed_dict={\n",
    "            bottleneck_input: test_bottlenecks,\n",
    "            ground_truth_input: test_ground_truth\n",
    "        })\n",
    "    tf.logging.info('Final test accuracy = %.1f%% (N=%d)' %\n",
    "                    (test_accuracy * 100, len(test_bottlenecks)))"
   ]
  },
  {
   "cell_type": "markdown",
   "metadata": {},
   "source": [
    "\n",
    "```\n",
    "INFO:tensorflow:2018-03-21 23:27:21.368419: Step 3300: Cross entropy = 0.091777, Train accuracy = 98.8%\n",
    "INFO:tensorflow:2018-03-21 23:27:22.017629: Step 3300: Validation accuracy = 80.0% (N=1637)\n",
    "INFO:tensorflow:2018-03-21 23:27:32.701135: Step 3400: Cross entropy = 0.097691, Train accuracy = 99.6%\n",
    "INFO:tensorflow:2018-03-21 23:27:33.474558: Step 3400: Validation accuracy = 80.1% (N=1637)\n",
    "INFO:tensorflow:2018-03-21 23:27:44.154611: Step 3500: Cross entropy = 0.085186, Train accuracy = 99.6%\n",
    "INFO:tensorflow:2018-03-21 23:27:44.953435: Step 3500: Validation accuracy = 80.1% (N=1637)\n",
    "```\n",
    "batch size 256，  有20%的差距。。泛化能力还是太弱了。\n",
    "\n",
    "```\n",
    "INFO:tensorflow:2018-03-21 23:33:42.235579: Step 4800: Validation accuracy = 79.0% (N=1637)\n",
    "INFO:tensorflow:2018-03-21 23:33:46.869099: Step 4900: Cross entropy = 0.099666, Train accuracy = 99.0%\n",
    "INFO:tensorflow:2018-03-21 23:33:47.509601: Step 4900: Validation accuracy = 79.0% (N=1637)\n",
    "INFO:tensorflow:2018-03-21 23:33:52.088484: Step 4999: Cross entropy = 0.087469, Train accuracy = 99.0%\n",
    "INFO:tensorflow:2018-03-21 23:33:52.800459: Step 4999: Validation accuracy = 78.7% (N=1637)\n",
    "INFO:tensorflow:Final test accuracy = 78.7% (N=1637)\n",
    "```\n",
    " batch size 100，"
   ]
  },
  {
   "cell_type": "markdown",
   "metadata": {},
   "source": [
    "## 5. error analysis\n",
    "\n",
    "就是好奇，什么样的图片分类会错误。\n",
    "\n"
   ]
  },
  {
   "cell_type": "code",
   "execution_count": 23,
   "metadata": {},
   "outputs": [
    {
     "ename": "NameError",
     "evalue": "name 'image_lists' is not defined",
     "output_type": "error",
     "traceback": [
      "\u001b[0;31m---------------------------------------------------------------------------\u001b[0m",
      "\u001b[0;31mNameError\u001b[0m                                 Traceback (most recent call last)",
      "\u001b[0;32m<ipython-input-23-21e5f6e932d5>\u001b[0m in \u001b[0;36m<module>\u001b[0;34m()\u001b[0m\n\u001b[1;32m      1\u001b[0m \u001b[0;34m\u001b[0m\u001b[0m\n\u001b[1;32m      2\u001b[0m \u001b[0merror_files\u001b[0m \u001b[0;34m=\u001b[0m \u001b[0;34m[\u001b[0m\u001b[0;34m]\u001b[0m\u001b[0;34m\u001b[0m\u001b[0m\n\u001b[0;32m----> 3\u001b[0;31m \u001b[0mlabel_names\u001b[0m \u001b[0;34m=\u001b[0m \u001b[0mlist\u001b[0m\u001b[0;34m(\u001b[0m\u001b[0mimage_lists\u001b[0m\u001b[0;34m.\u001b[0m\u001b[0mkeys\u001b[0m\u001b[0;34m(\u001b[0m\u001b[0;34m)\u001b[0m\u001b[0;34m)\u001b[0m\u001b[0;34m\u001b[0m\u001b[0m\n\u001b[0m\u001b[1;32m      4\u001b[0m \u001b[0;34m\u001b[0m\u001b[0m\n\u001b[1;32m      5\u001b[0m \u001b[0;32mfor\u001b[0m \u001b[0mi\u001b[0m\u001b[0;34m,\u001b[0m \u001b[0mpred\u001b[0m \u001b[0;32min\u001b[0m \u001b[0menumerate\u001b[0m\u001b[0;34m(\u001b[0m\u001b[0mpredictions\u001b[0m\u001b[0;34m)\u001b[0m\u001b[0;34m:\u001b[0m\u001b[0;34m\u001b[0m\u001b[0m\n",
      "\u001b[0;31mNameError\u001b[0m: name 'image_lists' is not defined"
     ]
    }
   ],
   "source": [
    "\n",
    "error_files = []\n",
    "label_names = list(image_lists.keys())\n",
    "\n",
    "for i, pred in enumerate(predictions):\n",
    "    label = test_ground_truth[i]\n",
    "    if pred != label:\n",
    "        filename = test_filenames[i]\n",
    "        image_path = os.path.join(image_dir, label_names[label], filename)\n",
    "        error_files.append((image_path, label_names[label], label_names[pred]))"
   ]
  },
  {
   "cell_type": "code",
   "execution_count": null,
   "metadata": {},
   "outputs": [],
   "source": [
    "1 - len(error_files) / len(test_filenames)"
   ]
  },
  {
   "cell_type": "code",
   "execution_count": null,
   "metadata": {
    "scrolled": false
   },
   "outputs": [],
   "source": [
    "\n",
    "import matplotlib.pyplot as plt\n",
    "%matplotlib inline\n",
    "from PIL import Image\n",
    "\n",
    "# inspect preditions\n",
    "cols = 4\n",
    "rows = 7\n",
    "fig = plt.figure(figsize=(4 * cols - 1, 6 * rows - 1))\n",
    "\n",
    "for i, (filename, label, pred) in enumerate(error_files):\n",
    "    c = i % cols\n",
    "    r = i // cols\n",
    "    ax = fig.add_subplot(rows, cols, i+1)\n",
    "    ax.grid(False)\n",
    "    ax.axis('off')\n",
    "    image = Image.open(filename)\n",
    "    # can use crop here\n",
    "    image = image.resize((100, 100), Image.ANTIALIAS)\n",
    "    ax.imshow(np.asarray(image))\n",
    "    ax.set_title(\"true: {}\\n pred: {}\".format(label, pred))\n",
    "plt.show()\n",
    "\n",
    "# roses：玫瑰\n",
    "# tulips：郁金香\n",
    "# sunflowers： 向日葵\n",
    "# dandelion： 蒲公英\n",
    "# daisy： 雏菊\n"
   ]
  }
 ],
 "metadata": {
  "kernelspec": {
   "display_name": "Python 3",
   "language": "python",
   "name": "python3"
  },
  "language_info": {
   "codemirror_mode": {
    "name": "ipython",
    "version": 3
   },
   "file_extension": ".py",
   "mimetype": "text/x-python",
   "name": "python",
   "nbconvert_exporter": "python",
   "pygments_lexer": "ipython3",
   "version": "3.6.4"
  }
 },
 "nbformat": 4,
 "nbformat_minor": 2
}
