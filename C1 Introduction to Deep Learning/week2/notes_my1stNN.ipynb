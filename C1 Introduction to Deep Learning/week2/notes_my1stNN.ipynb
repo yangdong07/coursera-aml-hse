{
 "cells": [
  {
   "cell_type": "markdown",
   "metadata": {},
   "source": [
    "# 第一个神经网络\n",
    "\n",
    "开放互评作业，这里记录一些设计过程。\n",
    "\n",
    "目标：\n",
    "1. 设计一个层数 $\\geq 2$ 的神经网络（NN、MLP），处理识别 minist 手写数字图片。 $ \\mathbb{R}^{n} \\to \\{0, 1, \\ldots, 9\\}$ \n",
    "2. 50k训练数据，图片大小 28x28 像素， 表示 0 ~ 9 的手写数字。 10k验证数据； 10k测试数据\n",
    "3. 测试数据上accuracy至少95%，满分需要达到 98%以上。 画出 train loss和test loss曲线"
   ]
  },
  {
   "cell_type": "code",
   "execution_count": 1,
   "metadata": {
    "scrolled": true
   },
   "outputs": [
    {
     "name": "stderr",
     "output_type": "stream",
     "text": [
      "/home/yangdong/Applications/miniconda3/envs/DL3/lib/python3.6/site-packages/h5py/__init__.py:36: FutureWarning: Conversion of the second argument of issubdtype from `float` to `np.floating` is deprecated. In future, it will be treated as `np.float64 == np.dtype(float).type`.\n",
      "  from ._conv import register_converters as _register_converters\n",
      "Using TensorFlow backend.\n"
     ]
    },
    {
     "name": "stdout",
     "output_type": "stream",
     "text": [
      "(50000, 28, 28) (50000,)\n",
      "digit 5\n"
     ]
    },
    {
     "data": {
      "image/png": "[encoded data removed]",
      "text/plain": [
       "<Figure size 432x288 with 1 Axes>"
      ]
     },
     "metadata": {},
     "output_type": "display_data"
    }
   ],
   "source": [
    "import numpy as np\n",
    "import tensorflow as tf\n",
    "import matplotlib.pyplot as plt\n",
    "%matplotlib inline\n",
    "\n",
    "from preprocessed_mnist import load_dataset\n",
    "\n",
    "X_train, y_train, X_val, y_val, X_test, y_test = load_dataset()\n",
    "print(X_train.shape, y_train.shape)\n",
    "plt.imshow(X_train[0], cmap=\"Greys\");\n",
    "print('digit', y_train[0])"
   ]
  },
  {
   "cell_type": "code",
   "execution_count": 2,
   "metadata": {},
   "outputs": [],
   "source": [
    "# size\n",
    "n_input = X_train.shape[1] * X_train.shape[2]\n",
    "n_classes = 10   # for simple\n",
    "\n",
    "n_train = X_train.shape[0]\n",
    "n_val = X_val.shape[0]\n",
    "n_test = X_test.shape[0]\n",
    "\n",
    "# reshape data\n",
    "X_train2 = X_train.reshape(n_train, n_input)\n",
    "X_val2 = X_val.reshape(n_val, n_input)\n",
    "X_test2 = X_test.reshape(n_test, n_input)\n",
    "\n",
    "# lables - one hot encoding\n",
    "y_train2 = np.zeros((n_train, n_classes))\n",
    "y_train2[np.arange(n_train), y_train] = 1\n",
    "y_val2 = np.zeros((n_val, n_classes))\n",
    "y_val2[np.arange(n_val), y_val] = 1\n",
    "y_test2 = np.zeros((n_test, n_classes))\n",
    "y_test2[np.arange(n_test), y_test] = 1\n"
   ]
  },
  {
   "cell_type": "code",
   "execution_count": 3,
   "metadata": {},
   "outputs": [],
   "source": [
    "# Parameters\n",
    "learning_rate = 0.1\n",
    "\n",
    "# Network Parameters\n",
    "n_hidden_1 = 256 # 1st layer number of neurons\n",
    "n_hidden_2 = 50 # 2nd layer number of neurons\n",
    "num_input = 784 # MNIST data input (img shape: 28*28)\n",
    "num_classes = 10 # MNIST total classes (0-9 digits)\n",
    "\n",
    "# # tf Graph input\n",
    "# X = tf.placeholder(\"float\", [None, num_input])\n",
    "# Y = tf.placeholder(\"float\", [None, num_classes])\n",
    "\n",
    "# # Store layers weight & bias\n",
    "# parameters = {\n",
    "#     'W1': tf.Variable(tf.random_normal([n_input, n_hidden_1])),\n",
    "#     'b1': tf.Variable(tf.random_normal([n_hidden_1])),\n",
    "#     'W2': tf.Variable(tf.random_normal([n_hidden_1, n_hidden_2])),\n",
    "#     'b2': tf.Variable(tf.random_normal([n_hidden_2])),\n",
    "#     'W3': tf.Variable(tf.random_normal([n_hidden_2, n_classes])),\n",
    "#     'b3': tf.Variable(tf.random_normal([n_classes]))\n",
    "# }\n",
    "\n",
    "\n",
    "X = tf.placeholder(\"float\", [None, n_input])\n",
    "Y = tf.placeholder(\"float\", [None, n_classes])\n",
    "dropout_keep_prob = tf.placeholder(tf.float32)\n",
    "\n",
    "def create_nn_model(dims):\n",
    "    layers = [X]\n",
    "    layer = X\n",
    "    L = len(dims) - 1\n",
    "    for i in range(L - 1):  # hidden layers\n",
    "        W = tf.Variable(tf.random_normal([dims[i], dims[i+1]], stddev=0.1))\n",
    "        b = tf.Variable(tf.random_normal([dims[i+1]], stddev=0.1))\n",
    "        layer = tf.nn.dropout(tf.nn.relu(tf.matmul(layer, W) + b), keep_prob=dropout_keep_prob)\n",
    "        layers.append(layer)\n",
    "    W = tf.Variable(tf.random_normal([dims[L-1], dims[L]]))\n",
    "    b = tf.Variable(tf.random_normal([dims[L]]))\n",
    "    logits = tf.matmul(layer, W) + b\n",
    "    return logits\n",
    "    \n",
    "        "
   ]
  },
  {
   "cell_type": "code",
   "execution_count": 4,
   "metadata": {},
   "outputs": [],
   "source": [
    "# Parameters\n",
    "learning_rate = 0.1\n",
    "\n",
    "# Construct model\n",
    "logits = create_nn_model([n_input, 512, 128, n_classes])\n",
    "\n",
    "# Define loss and optimizer\n",
    "loss_op = tf.reduce_mean(tf.nn.softmax_cross_entropy_with_logits_v2(\n",
    "    logits=logits, labels=Y))\n",
    "optimizer = tf.train.AdamOptimizer(learning_rate=learning_rate)\n",
    "train_op = optimizer.minimize(loss_op)\n",
    "\n",
    "# Evaluate model (with test logits, for dropout to be disabled)\n",
    "correct_pred = tf.equal(tf.argmax(logits, 1), tf.argmax(Y, 1))\n",
    "accuracy = tf.reduce_mean(tf.cast(correct_pred, tf.float32))\n"
   ]
  },
  {
   "cell_type": "code",
   "execution_count": 5,
   "metadata": {
    "scrolled": false
   },
   "outputs": [
    {
     "name": "stdout",
     "output_type": "stream",
     "text": [
      "Epoch 0, Minibatch Loss= 1.9385, Training Acc= 0.294, Test Acc= 0.325\n",
      "Epoch 1, Minibatch Loss= 1.7768, Training Acc= 0.316, Test Acc= 0.355\n",
      "Epoch 10, Minibatch Loss= 1.2596, Training Acc= 0.501, Test Acc= 0.484\n",
      "Epoch 20, Minibatch Loss= 1.1977, Training Acc= 0.520, Test Acc= 0.531\n",
      "Epoch 30, Minibatch Loss= 1.0514, Training Acc= 0.607, Test Acc= 0.598\n",
      "Epoch 40, Minibatch Loss= 0.9760, Training Acc= 0.656, Test Acc= 0.645\n",
      "Epoch 50, Minibatch Loss= 1.0216, Training Acc= 0.657, Test Acc= 0.659\n",
      "Epoch 60, Minibatch Loss= 0.9258, Training Acc= 0.708, Test Acc= 0.725\n",
      "Epoch 70, Minibatch Loss= 0.8512, Training Acc= 0.762, Test Acc= 0.737\n",
      "Epoch 80, Minibatch Loss= 0.8377, Training Acc= 0.742, Test Acc= 0.737\n",
      "Epoch 90, Minibatch Loss= 0.9003, Training Acc= 0.689, Test Acc= 0.712\n",
      "Epoch 100, Minibatch Loss= 0.9072, Training Acc= 0.706, Test Acc= 0.701\n",
      "Epoch 110, Minibatch Loss= 0.8835, Training Acc= 0.683, Test Acc= 0.642\n",
      "Epoch 120, Minibatch Loss= 0.8890, Training Acc= 0.677, Test Acc= 0.676\n",
      "Epoch 130, Minibatch Loss= 0.8467, Training Acc= 0.711, Test Acc= 0.704\n",
      "Epoch 140, Minibatch Loss= 0.8997, Training Acc= 0.688, Test Acc= 0.705\n",
      "Epoch 150, Minibatch Loss= 0.8666, Training Acc= 0.686, Test Acc= 0.672\n",
      "Epoch 160, Minibatch Loss= 0.7992, Training Acc= 0.743, Test Acc= 0.715\n",
      "Epoch 170, Minibatch Loss= 0.8868, Training Acc= 0.665, Test Acc= 0.667\n",
      "Epoch 180, Minibatch Loss= 0.9111, Training Acc= 0.680, Test Acc= 0.689\n",
      "Epoch 190, Minibatch Loss= 0.8277, Training Acc= 0.739, Test Acc= 0.710\n",
      "Optimization Finished!\n",
      "Testing Accuracy: 0.6908\n"
     ]
    }
   ],
   "source": [
    "epochs = 200\n",
    "train_size = X_train2.shape[0]\n",
    "batch_size = 2048\n",
    "display_epoch = 10\n",
    "\n",
    "train_loss = []\n",
    "val_loss = []\n",
    "# Start training\n",
    "with tf.Session() as sess:\n",
    "    # Run the initializer\n",
    "    # Initialize the variables (i.e. assign their default value)\n",
    "    init = tf.global_variables_initializer()\n",
    "    sess.run(init)\n",
    "    for epoch in range(epochs):\n",
    "        perm = np.arange(train_size)\n",
    "        np.random.shuffle(perm)\n",
    "        for i in range(0, train_size, batch_size):\n",
    "            randidx = perm[i:i+batch_size]\n",
    "            batch_x = X_train2[randidx, :]\n",
    "            batch_y = y_train2[randidx, :]\n",
    "            # Run optimization op (backprop)\n",
    "            sess.run(train_op, feed_dict={X: batch_x, Y: batch_y, dropout_keep_prob: 0.8})\n",
    "        if epoch % display_epoch == 0 or epoch == 1:\n",
    "            # Calculate batch loss and accuracy\n",
    "            loss, acc = sess.run([loss_op, accuracy], feed_dict={X: batch_x, Y: batch_y, dropout_keep_prob: 1.})\n",
    "            train_loss.append(loss)\n",
    "            loss2, acc2 = sess.run([loss_op, accuracy], feed_dict={X: X_test2, Y: y_test2, dropout_keep_prob: 1.})\n",
    "            val_loss.append(loss2)\n",
    "            \n",
    "            print(\"Epoch \" + str(epoch) + \", Minibatch Loss= \" + \\\n",
    "                  \"{:.4f}\".format(loss) + \", Training Acc= \" + \\\n",
    "                  \"{:.3f}\".format(acc) + \", Test Acc= \" + \"{:.3f}\".format(acc2))\n",
    "\n",
    "    print(\"Optimization Finished!\")\n",
    "\n",
    "    # Calculate accuracy for MNIST test images\n",
    "    print(\"Testing Accuracy:\", \\\n",
    "        sess.run(accuracy, feed_dict={X: X_test2, Y: y_test2, dropout_keep_prob: 1.}))"
   ]
  },
  {
   "cell_type": "markdown",
   "metadata": {},
   "source": [
    "\n",
    "sigmoid, learning_rate =0.1, batch_size = 2048, hidden_units = 512, epochs = 35,   accuracy = 0.9589\n",
    "\n",
    "training已经到极限了吧， 现在看一下泛化能力。与testing accuracy差距还是有点大。 \n",
    "\n",
    "dropout_keep_prob = 0.9,  能提高 一些  0.9671\n",
    "dropout_keep_prob = 0.8,  epochs = 50,  0.9699\n",
    "\n",
    "\n",
    "尝试 加了一层 128，但是效果不怎么好。感觉是近了一些。 训练变慢\n",
    "Epoch 47, Minibatch Loss= 0.1719, Training Accuracy= 0.959\n",
    "Epoch 48, Minibatch Loss= 0.1620, Training Accuracy= 0.962\n",
    "Epoch 49, Minibatch Loss= 0.1903, Training Accuracy= 0.954\n",
    "Optimization Finished!\n",
    "Testing Accuracy: 0.9452， \n",
    "\n",
    "3层，epochs = 100， keep_prob = 0.8， 最终得分： 0.91...\n",
    "\n",
    "keep_prob = 0.8 使用relu单元， 最终是0.96 ， 与训练集相差还是大一些\n"
   ]
  },
  {
   "cell_type": "code",
   "execution_count": 168,
   "metadata": {
    "scrolled": false
   },
   "outputs": [
    {
     "data": {
      "image/png": "[encoded data removed]",
      "text/plain": [
       "<matplotlib.figure.Figure at 0x12fe62f60>"
      ]
     },
     "metadata": {},
     "output_type": "display_data"
    }
   ],
   "source": [
    "cut = 2\n",
    "t = np.arange(len(train_loss)-cut)\n",
    "plt.plot(t, train_loss[cut:], 'r-', t, val_loss[cut:], '-')\n",
    "plt.show()"
   ]
  },
  {
   "cell_type": "code",
   "execution_count": 146,
   "metadata": {},
   "outputs": [
    {
     "data": {
      "image/png": "[encoded data removed]",
      "text/plain": [
       "<matplotlib.figure.Figure at 0x1318c5a20>"
      ]
     },
     "metadata": {},
     "output_type": "display_data"
    }
   ],
   "source": [
    "cut = 2\n",
    "t = np.arange(len(train_loss)-cut)\n",
    "plt.plot(t, train_loss[cut:], 'r-', t, val_loss[cut:], '-')\n",
    "plt.show()"
   ]
  },
  {
   "cell_type": "code",
   "execution_count": 74,
   "metadata": {
    "collapsed": true
   },
   "outputs": [],
   "source": [
    "# hyperparamters\n",
    "learning_rate = 0.01\n",
    "\n",
    "# tf Graph input\n",
    "X = tf.placeholder(\"float\", [None, n_input])\n",
    "Y = tf.placeholder(\"float\", [None, n_classes])\n",
    "\n",
    "# Hidden fully connected layer with 256 neurons\n",
    "# layer_1 = tf.nn.relu(tf.add(tf.matmul(X, parameters['W1']), parameters['b1']))\n",
    "# # Hidden fully connected layer with 256 neurons\n",
    "# layer_2 = tf.nn.relu(tf.add(tf.matmul(layer_1, parameters['W2']), parameters['b2']))\n",
    "# Output fully connected layer with a neuron for each class\n",
    "# y_prediction = tf.nn.softmax(tf.add(tf.matmul(X, parameters['W1']), parameters['b1']))\n",
    "\n",
    "# Hidden fully connected layer with 256 neurons\n",
    "layer_1 = tf.nn.tanh(tf.matmul(X, parameters['W1']) + parameters['b1'])\n",
    "# Hidden fully connected layer with 256 neurons\n",
    "layer_2 = tf.nn.tanh(tf.matmul(layer_1, parameters['W2']) + parameters['b2'])\n",
    "# Output fully connected layer with a neuron for each class\n",
    "logits = tf.matmul(layer_2, parameters['W3']) + parameters['b3']\n",
    "\n"
   ]
  },
  {
   "cell_type": "code",
   "execution_count": null,
   "metadata": {
    "collapsed": true
   },
   "outputs": [],
   "source": []
  }
 ],
 "metadata": {
  "kernelspec": {
   "display_name": "Python 3",
   "language": "python",
   "name": "python3"
  },
  "language_info": {
   "codemirror_mode": {
    "name": "ipython",
    "version": 3
   },
   "file_extension": ".py",
   "mimetype": "text/x-python",
   "name": "python",
   "nbconvert_exporter": "python",
   "pygments_lexer": "ipython3",
   "version": "3.6.4"
  },
  "varInspector": {
   "cols": {
    "lenName": 16,
    "lenType": 16,
    "lenVar": 40
   },
   "kernels_config": {
    "python": {
     "delete_cmd_postfix": "",
     "delete_cmd_prefix": "del ",
     "library": "var_list.py",
     "varRefreshCmd": "print(var_dic_list())"
    },
    "r": {
     "delete_cmd_postfix": ") ",
     "delete_cmd_prefix": "rm(",
     "library": "var_list.r",
     "varRefreshCmd": "cat(var_dic_list()) "
    }
   },
   "types_to_exclude": [
    "module",
    "function",
    "builtin_function_or_method",
    "instance",
    "_Feature"
   ],
   "window_display": false
  }
 },
 "nbformat": 4,
 "nbformat_minor": 2
}
