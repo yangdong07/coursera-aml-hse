{
 "cells": [
  {
   "cell_type": "markdown",
   "metadata": {},
   "source": [
    "# MLP by numpy\n",
    "\n",
    "用numpy实现一个NN"
   ]
  },
  {
   "cell_type": "code",
   "execution_count": 77,
   "metadata": {},
   "outputs": [],
   "source": [
    "from __future__ import print_function\n",
    "import numpy as np\n",
    "import matplotlib.pyplot as plt\n",
    "from IPython.display import clear_output\n",
    "%matplotlib inline"
   ]
  },
  {
   "cell_type": "markdown",
   "metadata": {},
   "source": [
    "## 0. 数据"
   ]
  },
  {
   "cell_type": "code",
   "execution_count": 78,
   "metadata": {},
   "outputs": [
    {
     "data": {
      "image/png": "[encoded data removed]",
      "text/plain": [
       "<Figure size 432x432 with 4 Axes>"
      ]
     },
     "metadata": {},
     "output_type": "display_data"
    }
   ],
   "source": [
    "from preprocessed_mnist import load_dataset\n",
    "X_train, y_train, X_val, y_val, X_test, y_test = load_dataset(flatten=True)\n",
    "\n",
    "plt.figure(figsize=[6,6])\n",
    "for i in range(4):\n",
    "    plt.subplot(2,2,i+1)\n",
    "    plt.title(\"Label: %i\"%y_train[i])\n",
    "    plt.imshow(X_train[i].reshape([28,28]),cmap='gray');"
   ]
  },
  {
   "cell_type": "markdown",
   "metadata": {},
   "source": [
    "\n",
    "\n",
    "## 1. 设计 Layer"
   ]
  },
  {
   "cell_type": "code",
   "execution_count": 79,
   "metadata": {},
   "outputs": [],
   "source": [
    "class Layer:\n",
    "    def __init__(self):\n",
    "        # no parameters\n",
    "        pass\n",
    "    \n",
    "    def forward(self, input):\n",
    "        return input\n",
    "\n",
    "    def backward(self, input, grad_output):\n",
    "        # The gradient of a dummy layer is precisely grad_output, but we'll write it more explicitly\n",
    "        num_units = input.shape[1]        \n",
    "        d_layer_d_input = np.eye(num_units)\n",
    "        \n",
    "        return np.dot(grad_output, d_layer_d_input) # chain rule"
   ]
  },
  {
   "cell_type": "markdown",
   "metadata": {},
   "source": [
    "### Dense"
   ]
  },
  {
   "cell_type": "code",
   "execution_count": 136,
   "metadata": {},
   "outputs": [],
   "source": [
    "class Dense(Layer):\n",
    "    def __init__(self, input_units, output_units, learning_rate=0.1):\n",
    "        self.learning_rate = learning_rate\n",
    "        # xavier : http://bit.ly/2vTlmaJ\n",
    "        self.W = np.random.randn(input_units, output_units) * 0.01\n",
    "        self.b = np.zeros(output_units)\n",
    "        \n",
    "    def forward(self, X):\n",
    "        return np.dot(X, self.W) + self.b\n",
    "    \n",
    "    def backward(self, X, dY):        \n",
    "        # use dim to calcualte\n",
    "        dX = np.dot(dY, self.W.T)\n",
    "        \n",
    "        # no 1/ m here, why???\n",
    "        dW = np.dot(X.T, dY)\n",
    "        db = np.sum(dY, axis=0)\n",
    "        \n",
    "        # Here we perform a stochastic gradient descent step. \n",
    "        # Later on, you can try replacing that with something better.\n",
    "        self.W = self.W - self.learning_rate * dW\n",
    "        self.b = self.b - self.learning_rate * db\n",
    "        \n",
    "        return dX"
   ]
  },
  {
   "cell_type": "markdown",
   "metadata": {},
   "source": [
    "### ReLU"
   ]
  },
  {
   "cell_type": "code",
   "execution_count": 144,
   "metadata": {},
   "outputs": [],
   "source": [
    "class ReLU(Layer):\n",
    "    def __init__(self):\n",
    "        \"\"\"ReLU layer simply applies elementwise rectified linear unit to all inputs\"\"\"\n",
    "        pass\n",
    "    \n",
    "    def forward(self, X):\n",
    "        \"\"\"Apply elementwise ReLU to [batch, input_units] matrix\"\"\"\n",
    "        return np.maximum(X, 0)\n",
    "    \n",
    "    def backward(self, X, dY):\n",
    "        \"\"\"Compute gradient of loss w.r.t. ReLU input\"\"\"\n",
    "        return dY * (X > 0)"
   ]
  },
  {
   "cell_type": "markdown",
   "metadata": {},
   "source": [
    "### The loss function\n",
    "\n",
    "#### softmax\n",
    "计算公式\n",
    "$$ p_i = \\frac{e^{a_i}}{\\sum_k^{n\\_classes}{e^{a_k}}}$$\n",
    "如果需要数值稳定性，需要同时除以 $e^{a_{max}}$\n",
    "\n",
    "\n",
    "#### cross-entropy\n",
    "先看一个样本的 cross-entropy\n",
    "$$ H(y, p) = - \\sum_c^{n\\_classes}y_c \\log{p_c} = - \\log{p_{c'}}$$\n",
    "其中 $c'$ 是 $y_{c'} = 1$ 的那个 。\n",
    "\n",
    "如果多个样本：\n",
    "$$ H(y, p) = - \\frac{1}{m} \\sum_i \\log{p_{c'}} $$\n",
    "\n",
    "#### derivative of cross-entropy\n",
    "\n",
    "有两个导数：\n",
    "\n",
    "- loss相对于 softmax输出的导数\n",
    "- loss相对于 softmax输入的导数\n",
    "\n",
    "其实后者的形式更简单：\n",
    "$$L = - \\sum_c^{n\\_classes}y_c \\log{p_c} \\\\ \\space\n",
    "\\frac{\\partial L}{\\partial a_i} = p_i - y_i$$\n"
   ]
  },
  {
   "cell_type": "code",
   "execution_count": 145,
   "metadata": {},
   "outputs": [],
   "source": [
    "def softmax(x):\n",
    "    \"\"\"Compute the softmax of vector x in a numerically stable way.\"\"\"\n",
    "    shiftx = x - np.max(x)\n",
    "    exps = np.exp(shiftx)\n",
    "    return exps / np.sum(exps, axis=-1, keepdims=True)\n",
    "\n",
    "def softmax_crossentropy_with_logits(logits, y):\n",
    "    m = y.shape[0]\n",
    "    p = softmax(logits)\n",
    "    log_likelihood = -np.log(p[range(m), y])  # 每个样本，选择正确的那个p，输出(m,)\n",
    "    loss = np.sum(log_likelihood) / m\n",
    "    return loss\n",
    "\n",
    "def grad_softmax_crossentropy_with_logits(logits, y):\n",
    "    m = y.shape[0]\n",
    "    grad = softmax(logits)\n",
    "    grad[range(m), y] -= 1  # 用了一点技巧，这里y是labels，只对y 减 1， 其他相当于减 0\n",
    "    return grad / m"
   ]
  },
  {
   "cell_type": "code",
   "execution_count": 146,
   "metadata": {},
   "outputs": [],
   "source": [
    "logits = np.linspace(-1,1,500).reshape([50,10])\n",
    "answers = np.arange(50)%10\n",
    "\n",
    "from util import eval_numerical_gradient\n",
    "softmax_crossentropy_with_logits(logits,answers)\n",
    "grads = grad_softmax_crossentropy_with_logits(logits,answers)\n",
    "numeric_grads = eval_numerical_gradient(lambda l: softmax_crossentropy_with_logits(l,answers).mean(),logits)\n",
    "\n",
    "assert np.allclose(numeric_grads,grads,rtol=1e-3,atol=0), \"The reference implementation has just failed. Someone has just changed the rules of math.\""
   ]
  },
  {
   "cell_type": "markdown",
   "metadata": {},
   "source": [
    "## 2. 设计 MLP\n"
   ]
  },
  {
   "cell_type": "code",
   "execution_count": 147,
   "metadata": {},
   "outputs": [],
   "source": [
    "from tqdm import trange\n",
    "\n",
    "def next_batch(X, y, batch_size, shuffle=False):\n",
    "    assert len(X) == len(y)\n",
    "    if shuffle:\n",
    "        indices = np.random.permutation(len(X))\n",
    "    for i in trange(0, len(X) - batch_size + 1, batch_size):\n",
    "        if shuffle:\n",
    "            idx = indices[i : i + batch_size]\n",
    "        else:\n",
    "            idx = slice(i, i + batch_size)\n",
    "        yield X[idx], y[idx]"
   ]
  },
  {
   "cell_type": "code",
   "execution_count": 155,
   "metadata": {},
   "outputs": [],
   "source": [
    "\n",
    "class Model(object):\n",
    "    def __init__(self):\n",
    "        self.network = []\n",
    "        self.history = {}\n",
    "    \n",
    "    def add(self, layer):\n",
    "        \"\"\"like keras sequential\"\"\"\n",
    "        self.network.append(layer)\n",
    "        \n",
    "#     def compile(self, loss_func, grad_loss_func):\n",
    "#         \"\"\"set loss fucntion, gradient, like keras model...\"\"\"\n",
    "#         pass\n",
    "\n",
    "    def init_paramters(self, method=None):\n",
    "        for layer in self.network:\n",
    "            if layer.__class__.__name__ == 'Dense':\n",
    "                shape = layer.W.shape\n",
    "                if method == 'xavier':\n",
    "                    layer.W = np.random.randn(*shape) * np.sqrt(1. / shape[0])\n",
    "                else:\n",
    "                    layer.W = np.random.randn(*shape)\n",
    "    \n",
    "    def forward(self, X):\n",
    "        activations = []\n",
    "        _X = X\n",
    "        for layer in self.network:\n",
    "            _X = layer.forward(_X)\n",
    "            activations.append(_X)\n",
    "#         assert len(activations) == len(network)\n",
    "        return activations\n",
    "    \n",
    "    def predict(self, X):\n",
    "        logits = self.forward(X)[-1]\n",
    "        return logits.argmax(axis=-1)\n",
    "    \n",
    "    def accuracy(self, X, y):\n",
    "        return np.mean(self.predict(X) == y)\n",
    "    \n",
    "    def optimize(self, X, y):\n",
    "        # Get the layer activations\n",
    "        layer_activations = self.forward(X)\n",
    "        layer_inputs = [X] + layer_activations  #layer_input[i] is an input for network[i]\n",
    "        logits = layer_activations[-1]\n",
    "\n",
    "        # Compute the loss and the initial gradient\n",
    "        loss = softmax_crossentropy_with_logits(logits,y)\n",
    "        loss_grad = grad_softmax_crossentropy_with_logits(logits,y)\n",
    "\n",
    "        grad_output = loss_grad\n",
    "        num_layers = len(self.network)\n",
    "        for i in range(num_layers - 1, -1, -1):\n",
    "            layer = self.network[i]\n",
    "            layer_input = layer_inputs[i]\n",
    "            grad_output = layer.backward(layer_input, grad_output)\n",
    "        return np.mean(loss)\n",
    "    \n",
    "    def train(self, X_train, y_train, validation_data, epochs=25, batch_size=32, shuffle=True):\n",
    "        \n",
    "        train_log = self.history.get('train_log', [])\n",
    "        val_log = self.history.get('val_log', [])\n",
    "        \n",
    "        X_val, y_val = validation_data\n",
    "        \n",
    "        last_epoch = len(train_log)\n",
    "        \n",
    "        for epoch in range(last_epoch, last_epoch + epochs):\n",
    "            for x_batch, y_batch in next_batch(X_train, y_train, batch_size=batch_size, shuffle=shuffle):\n",
    "                self.optimize(x_batch, y_batch)\n",
    "                \n",
    "            train_log.append(self.accuracy(X_train, y_train))\n",
    "            val_log.append(self.accuracy(X_val, y_val))\n",
    "\n",
    "            clear_output(wait=True)\n",
    "            print(\"Epoch\",epoch)\n",
    "            print(\"Train accuracy:\",train_log[-1])\n",
    "            print(\"Val accuracy:\",val_log[-1])\n",
    "\n",
    "            plt.plot(train_log, label=\"Train Acc\")\n",
    "            plt.plot(val_log, label=\"Val Acc\")\n",
    "            plt.legend(loc='best')\n",
    "            plt.xlabel('Iterations')\n",
    "            plt.ylabel('Percent (%)')\n",
    "            plt.show()\n",
    "        self.history['train_log'] = train_log\n",
    "        self.history['val_log'] = val_log\n",
    "        "
   ]
  },
  {
   "cell_type": "code",
   "execution_count": 175,
   "metadata": {},
   "outputs": [],
   "source": [
    "def create_mlp_model(layers, activation=ReLU):\n",
    "    model = Model()\n",
    "    for i in range(len(layers)-2):\n",
    "        model.add(Dense(layers[i], layers[i+1]))\n",
    "        model.add(activation())\n",
    "    model.add(Dense(layers[-2], layers[-1]))\n",
    "    return model"
   ]
  },
  {
   "cell_type": "code",
   "execution_count": 176,
   "metadata": {
    "scrolled": false
   },
   "outputs": [
    {
     "name": "stdout",
     "output_type": "stream",
     "text": [
      "Epoch 24\n",
      "Train accuracy: 1.0\n",
      "Val accuracy: 0.9813\n"
     ]
    },
    {
     "data": {
      "image/png": "[encoded data removed]",
      "text/plain": [
       "<Figure size 432x288 with 1 Axes>"
      ]
     },
     "metadata": {},
     "output_type": "display_data"
    }
   ],
   "source": [
    "model = create_mlp_model([X_train.shape[1], 100, 200, 10])\n",
    "model.init_paramters(method='xavier')\n",
    "model.train(X_train, y_train, (X_val, y_val))"
   ]
  },
  {
   "cell_type": "code",
   "execution_count": 159,
   "metadata": {
    "scrolled": true
   },
   "outputs": [
    {
     "data": {
      "text/plain": [
       "0.981"
      ]
     },
     "execution_count": 159,
     "metadata": {},
     "output_type": "execute_result"
    }
   ],
   "source": [
    "model.accuracy(X_test, y_test)"
   ]
  },
  {
   "cell_type": "markdown",
   "metadata": {},
   "source": [
    "\n",
    "## 3. Initialization\n",
    "\n",
    "Implement Dense layer with Xavier initialization as explained [here](http://bit.ly/2vTlmaJ)"
   ]
  },
  {
   "cell_type": "code",
   "execution_count": null,
   "metadata": {
    "scrolled": false
   },
   "outputs": [
    {
     "name": "stdout",
     "output_type": "stream",
     "text": [
      "Epoch 13\n",
      "Train accuracy: 0.99984\n",
      "Val accuracy: 0.9828\n"
     ]
    },
    {
     "data": {
      "image/png": "[encoded data removed]",
      "text/plain": [
       "<Figure size 432x288 with 1 Axes>"
      ]
     },
     "metadata": {},
     "output_type": "display_data"
    },
    {
     "name": "stderr",
     "output_type": "stream",
     "text": [
      "  6%|▌         | 94/1562 [00:00<00:03, 461.90it/s]"
     ]
    }
   ],
   "source": [
    "model = create_mlp_model([X_train.shape[1], 500, 300, 10])\n",
    "model.init_paramters(method='xavier')\n",
    "model.train(X_train, y_train, (X_val, y_val))"
   ]
  },
  {
   "cell_type": "code",
   "execution_count": null,
   "metadata": {},
   "outputs": [],
   "source": [
    "model = create_mlp_model([X_train.shape[1], 500, 300, 10])\n",
    "model.init_paramters()\n",
    "model.train(X_train, y_train, (X_val, y_val))"
   ]
  },
  {
   "cell_type": "markdown",
   "metadata": {},
   "source": [
    "\n",
    "## 4. Regularization"
   ]
  },
  {
   "cell_type": "code",
   "execution_count": null,
   "metadata": {},
   "outputs": [],
   "source": []
  },
  {
   "cell_type": "markdown",
   "metadata": {},
   "source": [
    "### Peer-reviewed assignment\n",
    "\n",
    "Congradulations, you managed to get this far! There is just one quest left undone, and this time you'll get to choose what to do.\n",
    "\n",
    "\n",
    "#### Option I: initialization\n",
    "* Implement Dense layer with Xavier initialization as explained [here](http://bit.ly/2vTlmaJ)\n",
    "\n",
    "To pass this assignment, you must conduct an experiment showing how xavier initialization compares to default initialization on deep networks (5+ layers).\n",
    "\n",
    "\n",
    "#### Option II: regularization\n",
    "* Implement a version of Dense layer with L2 regularization penalty: when updating Dense Layer weights, adjust gradients to minimize\n",
    "\n",
    "$$ Loss = Crossentropy + \\alpha \\cdot \\underset i \\sum {w_i}^2 $$\n",
    "\n",
    "To pass this assignment, you must conduct an experiment showing if regularization mitigates overfitting in case of abundantly large number of neurons. Consider tuning $\\alpha$ for better results.\n",
    "\n",
    "#### Option III: optimization\n",
    "* Implement a version of Dense layer that uses momentum/rmsprop or whatever method worked best for you last time.\n",
    "\n",
    "Most of those methods require persistent parameters like momentum direction or moving average grad norm, but you can easily store those params inside your layers.\n",
    "\n",
    "To pass this assignment, you must conduct an experiment showing how your chosen method performs compared to vanilla SGD.\n",
    "\n",
    "### General remarks\n",
    "_Please read the peer-review guidelines before starting this part of the assignment._\n",
    "\n",
    "In short, a good solution is one that:\n",
    "* is based on this notebook\n",
    "* runs in the default course environment with Run All\n",
    "* its code doesn't cause spontaneous eye bleeding\n",
    "* its report is easy to read.\n",
    "\n",
    "_Formally we can't ban you from writing boring reports, but if you bored your reviewer to death, there's noone left alive to give you the grade you want._\n",
    "\n",
    "\n",
    "### Bonus assignments\n",
    "\n",
    "As a bonus assignment (no points, just swag), consider implementing Batch Normalization ([guide](https://gab41.lab41.org/batch-normalization-what-the-hey-d480039a9e3b)) or Dropout ([guide](https://medium.com/@amarbudhiraja/https-medium-com-amarbudhiraja-learning-less-to-learn-better-dropout-in-deep-machine-learning-74334da4bfc5)). Note, however, that those \"layers\" behave differently when training and when predicting on test set.\n",
    "\n",
    "* Dropout:\n",
    "  * During training: drop units randomly with probability __p__ and multiply everything by __1/(1-p)__\n",
    "  * During final predicton: do nothing; pretend there's no dropout\n",
    "  \n",
    "* Batch normalization\n",
    "  * During training, it substracts mean-over-batch and divides by std-over-batch and updates mean and variance.\n",
    "  * During final prediction, it uses accumulated mean and variance.\n"
   ]
  },
  {
   "cell_type": "code",
   "execution_count": null,
   "metadata": {},
   "outputs": [],
   "source": []
  }
 ],
 "metadata": {
  "kernelspec": {
   "display_name": "Python 3",
   "language": "python",
   "name": "python3"
  },
  "language_info": {
   "codemirror_mode": {
    "name": "ipython",
    "version": 3
   },
   "file_extension": ".py",
   "mimetype": "text/x-python",
   "name": "python",
   "nbconvert_exporter": "python",
   "pygments_lexer": "ipython3",
   "version": "3.6.4"
  },
  "toc": {
   "colors": {
    "hover_highlight": "#DAA520",
    "navigate_num": "#000000",
    "navigate_text": "#333333",
    "running_highlight": "#FF0000",
    "selected_highlight": "#FFD700",
    "sidebar_border": "#EEEEEE",
    "wrapper_background": "#FFFFFF"
   },
   "moveMenuLeft": true,
   "nav_menu": {
    "height": "264px",
    "width": "252px"
   },
   "navigate_menu": true,
   "number_sections": true,
   "sideBar": true,
   "threshold": 4,
   "toc_cell": false,
   "toc_section_display": "block",
   "toc_window_display": false,
   "widenNotebook": false
  }
 },
 "nbformat": 4,
 "nbformat_minor": 2
}
