{
 "cells": [
  {
   "cell_type": "markdown",
   "metadata": {},
   "source": [
    "# Getting deeper with Keras\n",
    "* Tensorflow is a powerful and flexible tool, but coding large neural architectures with it is tedious.\n",
    "* There are plenty of deep learning toolkits that work on top of it like Slim, TFLearn, Sonnet, Keras.\n",
    "* Choice is matter of taste and particular task\n",
    "* We'll be using Keras"
   ]
  },
  {
   "cell_type": "code",
   "execution_count": 2,
   "metadata": {},
   "outputs": [],
   "source": [
    "import sys\n",
    "sys.path.append(\"..\")\n",
    "import grading"
   ]
  },
  {
   "cell_type": "code",
   "execution_count": 3,
   "metadata": {},
   "outputs": [],
   "source": [
    "# use preloaded keras datasets and models\n",
    "! mkdir -p ~/.keras/datasets\n",
    "! mkdir -p ~/.keras/models\n",
    "! ln -s $(realpath ../readonly/keras/datasets/*) ~/.keras/datasets/\n",
    "! ln -s $(realpath ../readonly/keras/models/*) ~/.keras/models/"
   ]
  },
  {
   "cell_type": "code",
   "execution_count": 4,
   "metadata": {},
   "outputs": [
    {
     "name": "stderr",
     "output_type": "stream",
     "text": [
      "/home/yangdong/Applications/miniconda3/envs/DL3/lib/python3.6/site-packages/h5py/__init__.py:36: FutureWarning: Conversion of the second argument of issubdtype from `float` to `np.floating` is deprecated. In future, it will be treated as `np.float64 == np.dtype(float).type`.\n",
      "  from ._conv import register_converters as _register_converters\n",
      "Using TensorFlow backend.\n"
     ]
    }
   ],
   "source": [
    "import numpy as np\n",
    "from preprocessed_mnist import load_dataset\n",
    "import keras\n",
    "X_train, y_train, X_val, y_val, X_test, y_test = load_dataset()\n",
    "y_train,y_val,y_test = map(keras.utils.np_utils.to_categorical,[y_train,y_val,y_test])"
   ]
  },
  {
   "cell_type": "code",
   "execution_count": 5,
   "metadata": {},
   "outputs": [
    {
     "name": "stdout",
     "output_type": "stream",
     "text": [
      "(50000, 28, 28)\n",
      "(10000, 28, 28)\n",
      "(10000, 28, 28)\n"
     ]
    }
   ],
   "source": [
    "print(X_train.shape)\n",
    "print(X_val.shape)\n",
    "print(X_test.shape)"
   ]
  },
  {
   "cell_type": "code",
   "execution_count": 6,
   "metadata": {
    "scrolled": true
   },
   "outputs": [
    {
     "data": {
      "image/png": "[encoded data removed]",
      "text/plain": [
       "<Figure size 432x288 with 1 Axes>"
      ]
     },
     "metadata": {},
     "output_type": "display_data"
    }
   ],
   "source": [
    "import matplotlib.pyplot as plt\n",
    "%matplotlib inline\n",
    "plt.imshow(X_train[0]);"
   ]
  },
  {
   "cell_type": "markdown",
   "metadata": {},
   "source": [
    "## The pretty keras"
   ]
  },
  {
   "cell_type": "code",
   "execution_count": 7,
   "metadata": {},
   "outputs": [],
   "source": [
    "import tensorflow as tf\n",
    "s = tf.InteractiveSession()"
   ]
  },
  {
   "cell_type": "code",
   "execution_count": 8,
   "metadata": {},
   "outputs": [],
   "source": [
    "import keras\n",
    "from keras.models import Sequential\n",
    "import keras.layers as ll\n",
    "\n",
    "model = Sequential(name=\"mlp\")\n",
    "\n",
    "model.add(ll.InputLayer([28, 28]))\n",
    "model.add(ll.Flatten())\n",
    "# network body\n",
    "model.add(ll.Dense(500))\n",
    "model.add(ll.Activation('relu'))\n",
    "\n",
    "model.add(ll.Dense(300))\n",
    "model.add(ll.Activation('relu'))\n",
    "\n",
    "# output layer: 10 neurons for each class with softmax\n",
    "model.add(ll.Dense(10, activation='softmax'))\n",
    "\n",
    "# categorical_crossentropy is your good old crossentropy\n",
    "# but applied for one-hot-encoded vectors\n",
    "model.compile(\"adam\", \"categorical_crossentropy\", metrics=[\"accuracy\"])"
   ]
  },
  {
   "cell_type": "code",
   "execution_count": 9,
   "metadata": {},
   "outputs": [
    {
     "name": "stdout",
     "output_type": "stream",
     "text": [
      "_________________________________________________________________\n",
      "Layer (type)                 Output Shape              Param #   \n",
      "=================================================================\n",
      "input_1 (InputLayer)         (None, 28, 28)            0         \n",
      "_________________________________________________________________\n",
      "flatten_1 (Flatten)          (None, 784)               0         \n",
      "_________________________________________________________________\n",
      "dense_1 (Dense)              (None, 500)               392500    \n",
      "_________________________________________________________________\n",
      "activation_1 (Activation)    (None, 500)               0         \n",
      "_________________________________________________________________\n",
      "dense_2 (Dense)              (None, 300)               150300    \n",
      "_________________________________________________________________\n",
      "activation_2 (Activation)    (None, 300)               0         \n",
      "_________________________________________________________________\n",
      "dense_3 (Dense)              (None, 10)                3010      \n",
      "=================================================================\n",
      "Total params: 545,810\n",
      "Trainable params: 545,810\n",
      "Non-trainable params: 0\n",
      "_________________________________________________________________\n"
     ]
    }
   ],
   "source": [
    "model.summary()"
   ]
  },
  {
   "cell_type": "markdown",
   "metadata": {},
   "source": [
    "### Model interface\n",
    "\n",
    "Keras models follow __Scikit-learn__'s interface of fit/predict with some notable extensions. Let's take a tour."
   ]
  },
  {
   "cell_type": "code",
   "execution_count": 10,
   "metadata": {
    "scrolled": true
   },
   "outputs": [
    {
     "name": "stdout",
     "output_type": "stream",
     "text": [
      "Train on 50000 samples, validate on 10000 samples\n",
      "Epoch 1/50\n",
      "50000/50000 [==============================] - 3s 57us/step - loss: 0.2029 - acc: 0.9382 - val_loss: 0.1055 - val_acc: 0.9673\n",
      "Epoch 2/50\n",
      "50000/50000 [==============================] - 3s 53us/step - loss: 0.0846 - acc: 0.9739 - val_loss: 0.0898 - val_acc: 0.9724\n",
      "Epoch 3/50\n",
      "50000/50000 [==============================] - 3s 53us/step - loss: 0.0547 - acc: 0.9823 - val_loss: 0.0919 - val_acc: 0.9734\n",
      "Epoch 4/50\n",
      "50000/50000 [==============================] - 3s 53us/step - loss: 0.0437 - acc: 0.9864 - val_loss: 0.0919 - val_acc: 0.9769\n",
      "Epoch 5/50\n",
      "50000/50000 [==============================] - 3s 53us/step - loss: 0.0344 - acc: 0.9888 - val_loss: 0.0898 - val_acc: 0.9766\n",
      "Epoch 6/50\n",
      "50000/50000 [==============================] - 3s 53us/step - loss: 0.0290 - acc: 0.9903 - val_loss: 0.0825 - val_acc: 0.9797\n",
      "Epoch 7/50\n",
      "50000/50000 [==============================] - 3s 53us/step - loss: 0.0242 - acc: 0.9921 - val_loss: 0.0803 - val_acc: 0.9804\n",
      "Epoch 8/50\n",
      "50000/50000 [==============================] - 3s 53us/step - loss: 0.0223 - acc: 0.9930 - val_loss: 0.1076 - val_acc: 0.9766\n",
      "Epoch 9/50\n",
      "50000/50000 [==============================] - 3s 53us/step - loss: 0.0196 - acc: 0.9938 - val_loss: 0.1045 - val_acc: 0.9756\n",
      "Epoch 10/50\n",
      "50000/50000 [==============================] - 3s 53us/step - loss: 0.0174 - acc: 0.9944 - val_loss: 0.0996 - val_acc: 0.9810\n",
      "Epoch 11/50\n",
      "50000/50000 [==============================] - 3s 53us/step - loss: 0.0159 - acc: 0.9947 - val_loss: 0.1158 - val_acc: 0.9765\n",
      "Epoch 12/50\n",
      "50000/50000 [==============================] - 3s 53us/step - loss: 0.0154 - acc: 0.9955 - val_loss: 0.1300 - val_acc: 0.9780\n",
      "Epoch 13/50\n",
      "50000/50000 [==============================] - 3s 53us/step - loss: 0.0144 - acc: 0.9955 - val_loss: 0.1177 - val_acc: 0.9800\n",
      "Epoch 14/50\n",
      "50000/50000 [==============================] - 3s 53us/step - loss: 0.0146 - acc: 0.9957 - val_loss: 0.1117 - val_acc: 0.9802\n",
      "Epoch 15/50\n",
      "50000/50000 [==============================] - 3s 53us/step - loss: 0.0128 - acc: 0.9959 - val_loss: 0.1268 - val_acc: 0.9794\n",
      "Epoch 16/50\n",
      "50000/50000 [==============================] - 3s 53us/step - loss: 0.0117 - acc: 0.9966 - val_loss: 0.1199 - val_acc: 0.9809\n",
      "Epoch 17/50\n",
      "50000/50000 [==============================] - 3s 53us/step - loss: 0.0152 - acc: 0.9963 - val_loss: 0.1171 - val_acc: 0.9796\n",
      "Epoch 18/50\n",
      "50000/50000 [==============================] - 3s 53us/step - loss: 0.0087 - acc: 0.9976 - val_loss: 0.1156 - val_acc: 0.9802\n",
      "Epoch 19/50\n",
      "50000/50000 [==============================] - 3s 53us/step - loss: 0.0124 - acc: 0.9965 - val_loss: 0.1138 - val_acc: 0.9808\n",
      "Epoch 20/50\n",
      "50000/50000 [==============================] - 3s 53us/step - loss: 0.0110 - acc: 0.9968 - val_loss: 0.1395 - val_acc: 0.9768\n",
      "Epoch 21/50\n",
      "50000/50000 [==============================] - 3s 53us/step - loss: 0.0133 - acc: 0.9963 - val_loss: 0.1143 - val_acc: 0.9802\n",
      "Epoch 22/50\n",
      "50000/50000 [==============================] - 3s 53us/step - loss: 0.0089 - acc: 0.9977 - val_loss: 0.1222 - val_acc: 0.9789\n",
      "Epoch 23/50\n",
      "50000/50000 [==============================] - 3s 53us/step - loss: 0.0080 - acc: 0.9978 - val_loss: 0.1346 - val_acc: 0.9804\n",
      "Epoch 24/50\n",
      "50000/50000 [==============================] - 3s 53us/step - loss: 0.0121 - acc: 0.9970 - val_loss: 0.1422 - val_acc: 0.9781\n",
      "Epoch 25/50\n",
      "50000/50000 [==============================] - 3s 53us/step - loss: 0.0084 - acc: 0.9977 - val_loss: 0.1472 - val_acc: 0.9793\n",
      "Epoch 26/50\n",
      "50000/50000 [==============================] - 3s 53us/step - loss: 0.0149 - acc: 0.9964 - val_loss: 0.1434 - val_acc: 0.9781\n",
      "Epoch 27/50\n",
      "50000/50000 [==============================] - 3s 53us/step - loss: 0.0090 - acc: 0.9975 - val_loss: 0.1738 - val_acc: 0.9773\n",
      "Epoch 28/50\n",
      "50000/50000 [==============================] - 3s 53us/step - loss: 0.0078 - acc: 0.9982 - val_loss: 0.1369 - val_acc: 0.9815\n",
      "Epoch 29/50\n",
      "50000/50000 [==============================] - 3s 53us/step - loss: 0.0091 - acc: 0.9977 - val_loss: 0.1615 - val_acc: 0.9770\n",
      "Epoch 30/50\n",
      "50000/50000 [==============================] - 3s 53us/step - loss: 0.0133 - acc: 0.9969 - val_loss: 0.1511 - val_acc: 0.9788\n",
      "Epoch 31/50\n",
      "50000/50000 [==============================] - 3s 53us/step - loss: 0.0112 - acc: 0.9975 - val_loss: 0.1450 - val_acc: 0.9813\n",
      "Epoch 32/50\n",
      "50000/50000 [==============================] - 3s 53us/step - loss: 0.0073 - acc: 0.9981 - val_loss: 0.1670 - val_acc: 0.9780\n",
      "Epoch 33/50\n",
      "50000/50000 [==============================] - 3s 53us/step - loss: 0.0077 - acc: 0.9985 - val_loss: 0.1587 - val_acc: 0.9808\n",
      "Epoch 34/50\n",
      "50000/50000 [==============================] - 3s 53us/step - loss: 0.0098 - acc: 0.9980 - val_loss: 0.1695 - val_acc: 0.9808\n",
      "Epoch 35/50\n",
      "50000/50000 [==============================] - 3s 53us/step - loss: 0.0097 - acc: 0.9977 - val_loss: 0.1966 - val_acc: 0.9775\n",
      "Epoch 36/50\n",
      "50000/50000 [==============================] - 3s 53us/step - loss: 0.0126 - acc: 0.9973 - val_loss: 0.1715 - val_acc: 0.9793\n",
      "Epoch 37/50\n",
      "50000/50000 [==============================] - 3s 54us/step - loss: 0.0080 - acc: 0.9982 - val_loss: 0.1768 - val_acc: 0.9782\n",
      "Epoch 38/50\n",
      "50000/50000 [==============================] - 3s 53us/step - loss: 0.0105 - acc: 0.9978 - val_loss: 0.1631 - val_acc: 0.9803\n",
      "Epoch 39/50\n",
      "50000/50000 [==============================] - 3s 54us/step - loss: 0.0091 - acc: 0.9982 - val_loss: 0.1693 - val_acc: 0.9801\n",
      "Epoch 40/50\n",
      "50000/50000 [==============================] - 3s 53us/step - loss: 0.0075 - acc: 0.9981 - val_loss: 0.1702 - val_acc: 0.9803\n",
      "Epoch 41/50\n",
      "50000/50000 [==============================] - 3s 53us/step - loss: 0.0090 - acc: 0.9982 - val_loss: 0.1679 - val_acc: 0.9816\n",
      "Epoch 42/50\n",
      "50000/50000 [==============================] - 3s 53us/step - loss: 0.0090 - acc: 0.9982 - val_loss: 0.1810 - val_acc: 0.9808\n",
      "Epoch 43/50\n",
      "50000/50000 [==============================] - 3s 54us/step - loss: 0.0118 - acc: 0.9976 - val_loss: 0.1959 - val_acc: 0.9783\n",
      "Epoch 44/50\n",
      "50000/50000 [==============================] - 3s 53us/step - loss: 0.0079 - acc: 0.9983 - val_loss: 0.1833 - val_acc: 0.9805\n",
      "Epoch 45/50\n",
      "50000/50000 [==============================] - 3s 53us/step - loss: 0.0105 - acc: 0.9982 - val_loss: 0.1783 - val_acc: 0.9811\n",
      "Epoch 46/50\n",
      "50000/50000 [==============================] - 3s 53us/step - loss: 0.0062 - acc: 0.9987 - val_loss: 0.2294 - val_acc: 0.9769\n",
      "Epoch 47/50\n",
      "50000/50000 [==============================] - 3s 54us/step - loss: 0.0095 - acc: 0.9981 - val_loss: 0.2068 - val_acc: 0.9780\n",
      "Epoch 48/50\n",
      "50000/50000 [==============================] - 3s 53us/step - loss: 0.0132 - acc: 0.9979 - val_loss: 0.2245 - val_acc: 0.9783\n",
      "Epoch 49/50\n",
      "50000/50000 [==============================] - 3s 53us/step - loss: 0.0084 - acc: 0.9985 - val_loss: 0.1989 - val_acc: 0.9809\n",
      "Epoch 50/50\n",
      "50000/50000 [==============================] - 3s 53us/step - loss: 0.0085 - acc: 0.9982 - val_loss: 0.1711 - val_acc: 0.9813\n"
     ]
    }
   ],
   "source": [
    "# fit(X,y) ships with a neat automatic logging.\n",
    "#          Highly customizable under the hood.\n",
    "model.fit(X_train, y_train,\n",
    "          validation_data=(X_val, y_val), epochs=50);"
   ]
  },
  {
   "cell_type": "code",
   "execution_count": 11,
   "metadata": {},
   "outputs": [
    {
     "data": {
      "text/plain": [
       "array([[0.0000000e+00, 0.0000000e+00, 1.3475698e-35, 1.0000000e+00,\n",
       "        0.0000000e+00, 2.5999478e-35, 0.0000000e+00, 0.0000000e+00,\n",
       "        1.3232567e-34, 0.0000000e+00],\n",
       "       [2.7541878e-30, 8.7785021e-38, 2.7892424e-19, 4.1205290e-22,\n",
       "        0.0000000e+00, 2.4518983e-29, 1.4288369e-38, 2.3203559e-30,\n",
       "        1.0000000e+00, 2.3689260e-33]], dtype=float32)"
      ]
     },
     "execution_count": 11,
     "metadata": {},
     "output_type": "execute_result"
    }
   ],
   "source": [
    "# estimate probabilities P(y|x)\n",
    "model.predict_proba(X_val[:2])"
   ]
  },
  {
   "cell_type": "code",
   "execution_count": 12,
   "metadata": {},
   "outputs": [],
   "source": [
    "# Save trained weights\n",
    "model.save(\"weights.h5\")"
   ]
  },
  {
   "cell_type": "code",
   "execution_count": 13,
   "metadata": {
    "scrolled": true
   },
   "outputs": [
    {
     "name": "stdout",
     "output_type": "stream",
     "text": [
      "10000/10000 [==============================] - 0s 25us/step\n",
      "\n",
      "Loss, Accuracy =  [0.18614354888076362, 0.9801]\n"
     ]
    }
   ],
   "source": [
    "print(\"\\nLoss, Accuracy = \", model.evaluate(X_test, y_test))"
   ]
  },
  {
   "cell_type": "markdown",
   "metadata": {},
   "source": [
    "之前CPU是 1s多， 使用GPU只需要25us。。。"
   ]
  },
  {
   "cell_type": "markdown",
   "metadata": {},
   "source": [
    "### Whoops!\n",
    "So far our model is staggeringly inefficient. There is something wring with it. Guess, what?"
   ]
  },
  {
   "cell_type": "code",
   "execution_count": 14,
   "metadata": {},
   "outputs": [
    {
     "name": "stdout",
     "output_type": "stream",
     "text": [
      "\n",
      "Test accuracy: 98.00999999999999 %\n",
      "Great job!\n"
     ]
    }
   ],
   "source": [
    "# Test score...\n",
    "test_predictions = model.predict_proba(X_test).argmax(axis=-1)\n",
    "test_answers = y_test.argmax(axis=-1)\n",
    "\n",
    "test_accuracy = np.mean(test_predictions==test_answers)\n",
    "\n",
    "print(\"\\nTest accuracy: {} %\".format(test_accuracy*100))\n",
    "\n",
    "assert test_accuracy>=0.92,\"Logistic regression can do better!\"\n",
    "assert test_accuracy>=0.975,\"Your network can do better!\"\n",
    "print(\"Great job!\")"
   ]
  },
  {
   "cell_type": "code",
   "execution_count": 23,
   "metadata": {
    "collapsed": true
   },
   "outputs": [],
   "source": [
    "answer_submitter = grading.Grader(\"0ybD9ZxxEeea8A6GzH-6CA\")\n",
    "answer_submitter.set_answer(\"N56DR\", test_accuracy)"
   ]
  },
  {
   "cell_type": "code",
   "execution_count": 24,
   "metadata": {},
   "outputs": [
    {
     "name": "stdout",
     "output_type": "stream",
     "text": [
      "Submitted to Coursera platform. See results on assignment page!\n"
     ]
    }
   ],
   "source": [
    "answer_submitter.submit('yangdong07@gmail.com', 'QB0HCaQQLde6d8Ha')"
   ]
  },
  {
   "cell_type": "markdown",
   "metadata": {},
   "source": [
    "## Keras + tensorboard\n",
    "\n",
    "Remember the interactive graphs from Tensorboard one notebook ago? \n",
    "\n",
    "Thing is, Keras can use tensorboard to show you a lot of useful information about the learning progress. Just take a look!"
   ]
  },
  {
   "cell_type": "code",
   "execution_count": 39,
   "metadata": {},
   "outputs": [
    {
     "name": "stdout",
     "output_type": "stream",
     "text": [
      "rm: /tmp/tboard/**: No such file or directory\r\n"
     ]
    }
   ],
   "source": [
    "! rm -r /tmp/tboard/**"
   ]
  },
  {
   "cell_type": "code",
   "execution_count": 40,
   "metadata": {},
   "outputs": [
    {
     "name": "stdout",
     "output_type": "stream",
     "text": [
      "Train on 50000 samples, validate on 10000 samples\n",
      "Epoch 1/10\n",
      "50000/50000 [==============================] - 23s 459us/step - loss: 0.0100 - acc: 0.9983 - val_loss: 0.1651 - val_acc: 0.9836\n",
      "Epoch 2/10\n",
      "50000/50000 [==============================] - 23s 461us/step - loss: 0.0094 - acc: 0.9985 - val_loss: 0.1868 - val_acc: 0.9812\n",
      "Epoch 3/10\n",
      "50000/50000 [==============================] - 23s 461us/step - loss: 0.0078 - acc: 0.9986 - val_loss: 0.1988 - val_acc: 0.9797\n",
      "Epoch 4/10\n",
      "50000/50000 [==============================] - 24s 478us/step - loss: 0.0126 - acc: 0.9978 - val_loss: 0.1797 - val_acc: 0.9812\n",
      "Epoch 5/10\n",
      "50000/50000 [==============================] - 24s 488us/step - loss: 0.0050 - acc: 0.9990 - val_loss: 0.1841 - val_acc: 0.9826\n",
      "Epoch 6/10\n",
      "50000/50000 [==============================] - 24s 487us/step - loss: 0.0107 - acc: 0.9983 - val_loss: 0.2232 - val_acc: 0.9786\n",
      "Epoch 7/10\n",
      "50000/50000 [==============================] - 24s 488us/step - loss: 0.0102 - acc: 0.9982 - val_loss: 0.2185 - val_acc: 0.9790\n",
      "Epoch 8/10\n",
      "50000/50000 [==============================] - 24s 485us/step - loss: 0.0122 - acc: 0.9980 - val_loss: 0.2085 - val_acc: 0.9807\n",
      "Epoch 9/10\n",
      "50000/50000 [==============================] - 25s 495us/step - loss: 0.0106 - acc: 0.9985 - val_loss: 0.2042 - val_acc: 0.9808\n",
      "Epoch 10/10\n",
      "50000/50000 [==============================] - 24s 489us/step - loss: 0.0119 - acc: 0.9983 - val_loss: 0.2403 - val_acc: 0.9766\n"
     ]
    },
    {
     "data": {
      "text/plain": [
       "<keras.callbacks.History at 0x139cbfda0>"
      ]
     },
     "execution_count": 40,
     "metadata": {},
     "output_type": "execute_result"
    }
   ],
   "source": [
    "from keras.callbacks import TensorBoard\n",
    "model.fit(X_train, y_train, validation_data=(X_val, y_val), \n",
    "          epochs=10,\n",
    "          callbacks=[TensorBoard(\"/tmp/tboard\")])"
   ]
  },
  {
   "cell_type": "markdown",
   "metadata": {},
   "source": [
    "# Tips & tricks\n",
    "\n",
    "Here are some tips on what you could do. Don't worry, to reach the passing threshold you don't need to try all the ideas listed here, feel free to stop once you reach the 0.975 accuracy mark.\n",
    "\n",
    " * __Network size__\n",
    "   * More neurons, \n",
    "   * More layers, ([docs](https://keras.io/))\n",
    "\n",
    "   * Nonlinearities in the hidden layers\n",
    "     * tanh, relu, leaky relu, etc\n",
    "   * Larger networks may take more epochs to train, so don't discard your net just because it could didn't beat the baseline in 5 epochs.\n",
    "\n",
    "\n",
    " * __Early Stopping__\n",
    "   * Training for 100 epochs regardless of anything is probably a bad idea.\n",
    "   * Some networks converge over 5 epochs, others - over 500.\n",
    "   * Way to go: stop when validation score is 10 iterations past maximum\n",
    "     \n",
    "\n",
    " * __Faster optimization__\n",
    "   * rmsprop, nesterov_momentum, adam, adagrad and so on.\n",
    "     * Converge faster and sometimes reach better optima\n",
    "     * It might make sense to tweak learning rate/momentum, other learning parameters, batch size and number of epochs\n",
    "\n",
    "\n",
    " * __Regularize__ to prevent overfitting\n",
    "   * Add some L2 weight norm to the loss function, theano will do the rest\n",
    "     * Can be done manually or via - https://keras.io/regularizers/\n",
    "   \n",
    "   \n",
    " * __Data augmemntation__ - getting 5x as large dataset for free is a great deal\n",
    "   * https://keras.io/preprocessing/image/\n",
    "   * Zoom-in+slice = move\n",
    "   * Rotate+zoom(to remove black stripes)\n",
    "   * any other perturbations\n",
    "   * Simple way to do that (if you have PIL/Image): \n",
    "     * ```from scipy.misc import imrotate,imresize```\n",
    "     * and a few slicing\n",
    "   * Stay realistic. There's usually no point in flipping dogs upside down as that is not the way you usually see them."
   ]
  }
 ],
 "metadata": {
  "kernelspec": {
   "display_name": "Python 3",
   "language": "python",
   "name": "python3"
  },
  "language_info": {
   "codemirror_mode": {
    "name": "ipython",
    "version": 3
   },
   "file_extension": ".py",
   "mimetype": "text/x-python",
   "name": "python",
   "nbconvert_exporter": "python",
   "pygments_lexer": "ipython3",
   "version": "3.6.4"
  },
  "toc": {
   "colors": {
    "hover_highlight": "#DAA520",
    "navigate_num": "#000000",
    "navigate_text": "#333333",
    "running_highlight": "#FF0000",
    "selected_highlight": "#FFD700",
    "sidebar_border": "#EEEEEE",
    "wrapper_background": "#FFFFFF"
   },
   "moveMenuLeft": true,
   "nav_menu": {
    "height": "120px",
    "width": "252px"
   },
   "navigate_menu": true,
   "number_sections": true,
   "sideBar": true,
   "threshold": 4,
   "toc_cell": false,
   "toc_section_display": "block",
   "toc_window_display": false,
   "widenNotebook": false
  },
  "varInspector": {
   "cols": {
    "lenName": 16,
    "lenType": 16,
    "lenVar": 40
   },
   "kernels_config": {
    "python": {
     "delete_cmd_postfix": "",
     "delete_cmd_prefix": "del ",
     "library": "var_list.py",
     "varRefreshCmd": "print(var_dic_list())"
    },
    "r": {
     "delete_cmd_postfix": ") ",
     "delete_cmd_prefix": "rm(",
     "library": "var_list.r",
     "varRefreshCmd": "cat(var_dic_list()) "
    }
   },
   "types_to_exclude": [
    "module",
    "function",
    "builtin_function_or_method",
    "instance",
    "_Feature"
   ],
   "window_display": false
  }
 },
 "nbformat": 4,
 "nbformat_minor": 1
}
