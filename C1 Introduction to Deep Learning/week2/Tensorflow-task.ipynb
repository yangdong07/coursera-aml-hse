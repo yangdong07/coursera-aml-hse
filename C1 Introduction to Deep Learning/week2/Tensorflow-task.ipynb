{
 "cells": [
  {
   "cell_type": "markdown",
   "metadata": {
    "slideshow": {
     "slide_type": "slide"
    }
   },
   "source": [
    "# Going deeper with Tensorflow\n",
    "\n",
    "In this video, we're going to study the tools you'll use to build deep learning models. Namely, [Tensorflow](https://www.tensorflow.org/).\n",
    "\n",
    "If you're running this notebook outside the course environment, you'll need to install tensorflow:\n",
    "* `pip install tensorflow` should install cpu-only TF on Linux & Mac OS\n",
    "* If you want GPU support from offset, see [TF install page](https://www.tensorflow.org/install/)"
   ]
  },
  {
   "cell_type": "code",
   "execution_count": 61,
   "metadata": {
    "collapsed": true
   },
   "outputs": [],
   "source": [
    "import sys\n",
    "sys.path.append(\"..\")\n",
    "import grading"
   ]
  },
  {
   "cell_type": "markdown",
   "metadata": {},
   "source": [
    "# Visualization"
   ]
  },
  {
   "cell_type": "markdown",
   "metadata": {},
   "source": [
    "Plase note that if you are running on the Coursera platform, you won't be able to access the tensorboard instance due to the network setup there. If you run the notebook locally, you should be able to access TensorBoard on http://127.0.0.1:7007/"
   ]
  },
  {
   "cell_type": "code",
   "execution_count": 2,
   "metadata": {},
   "outputs": [
    {
     "name": "stdout",
     "output_type": "stream",
     "text": [
      "No matching processes belonging to you were found\r\n"
     ]
    }
   ],
   "source": [
    "! killall tensorboard\n",
    "import os\n",
    "os.system(\"tensorboard --logdir=/tmp/tboard --port=7007 &\");"
   ]
  },
  {
   "cell_type": "code",
   "execution_count": 3,
   "metadata": {
    "collapsed": true
   },
   "outputs": [],
   "source": [
    "import tensorflow as tf\n",
    "s = tf.InteractiveSession()"
   ]
  },
  {
   "cell_type": "markdown",
   "metadata": {},
   "source": [
    "# Warming up\n",
    "For starters, let's implement a python function that computes the sum of squares of numbers from 0 to N-1."
   ]
  },
  {
   "cell_type": "code",
   "execution_count": 4,
   "metadata": {
    "collapsed": true
   },
   "outputs": [],
   "source": [
    "import numpy as np\n",
    "def sum_sin(N):\n",
    "    return np.sum(np.arange(N)**2)"
   ]
  },
  {
   "cell_type": "code",
   "execution_count": 6,
   "metadata": {},
   "outputs": [
    {
     "name": "stdout",
     "output_type": "stream",
     "text": [
      "CPU times: user 663 ms, sys: 732 ms, total: 1.4 s\n",
      "Wall time: 1.54 s\n"
     ]
    },
    {
     "data": {
      "text/plain": [
       "662921401752298880"
      ]
     },
     "execution_count": 6,
     "metadata": {},
     "output_type": "execute_result"
    }
   ],
   "source": [
    "%%time\n",
    "sum_sin(10**8)"
   ]
  },
  {
   "cell_type": "markdown",
   "metadata": {},
   "source": [
    "# Tensoflow teaser\n",
    "\n",
    "Doing the very same thing"
   ]
  },
  {
   "cell_type": "code",
   "execution_count": 7,
   "metadata": {
    "collapsed": true
   },
   "outputs": [],
   "source": [
    "# An integer parameter\n",
    "N = tf.placeholder('int64', name=\"input_to_your_function\")\n",
    "\n",
    "# A recipe on how to produce the same result\n",
    "result = tf.reduce_sum(tf.range(N)**2)"
   ]
  },
  {
   "cell_type": "code",
   "execution_count": 8,
   "metadata": {},
   "outputs": [
    {
     "data": {
      "text/plain": [
       "<tf.Tensor 'Sum:0' shape=() dtype=int64>"
      ]
     },
     "execution_count": 8,
     "metadata": {},
     "output_type": "execute_result"
    }
   ],
   "source": [
    "result"
   ]
  },
  {
   "cell_type": "code",
   "execution_count": 10,
   "metadata": {},
   "outputs": [
    {
     "name": "stdout",
     "output_type": "stream",
     "text": [
      "CPU times: user 757 ms, sys: 364 ms, total: 1.12 s\n",
      "Wall time: 769 ms\n"
     ]
    },
    {
     "data": {
      "text/plain": [
       "662921401752298880"
      ]
     },
     "execution_count": 10,
     "metadata": {},
     "output_type": "execute_result"
    }
   ],
   "source": [
    "%%time\n",
    "result.eval({N: 10**8})"
   ]
  },
  {
   "cell_type": "code",
   "execution_count": 11,
   "metadata": {
    "collapsed": true
   },
   "outputs": [],
   "source": [
    "writer = tf.summary.FileWriter(\"/tmp/tboard\", graph=s.graph)"
   ]
  },
  {
   "cell_type": "markdown",
   "metadata": {},
   "source": [
    "# How does it work?\n",
    "1. Define placeholders where you'll send inputs\n",
    "2. Make symbolic graph: a recipe for mathematical transformation of those placeholders\n",
    "3. Compute outputs of your graph with particular values for each placeholder\n",
    "  * `output.eval({placeholder:value})`\n",
    "  * `s.run(output, {placeholder:value})`\n",
    "\n",
    "So far there are two main entities: \"placeholder\" and \"transformation\"\n",
    "* Both can be numbers, vectors, matrices, tensors, etc.\n",
    "* Both can be int32/64, floats, booleans (uint8) of various size.\n",
    "\n",
    "* You can define new transformations as an arbitrary operation on placeholders and other transformations\n",
    " * `tf.reduce_sum(tf.arange(N)**2)` are 3 sequential transformations of placeholder `N`\n",
    " * There's a tensorflow symbolic version for every numpy function\n",
    "   * `a+b, a/b, a**b, ...` behave just like in numpy\n",
    "   * `np.mean` -> `tf.reduce_mean`\n",
    "   * `np.arange` -> `tf.range`\n",
    "   * `np.cumsum` -> `tf.cumsum`\n",
    "   * If if you can't find the op you need, see the [docs](https://www.tensorflow.org/api_docs/python).\n",
    "   \n",
    "`tf.contrib` has many high-level features, may be worth a look."
   ]
  },
  {
   "cell_type": "code",
   "execution_count": 12,
   "metadata": {
    "collapsed": true
   },
   "outputs": [],
   "source": [
    "with tf.name_scope(\"Placeholders_examples\"):\n",
    "    # Default placeholder that can be arbitrary float32\n",
    "    # scalar, vertor, matrix, etc.\n",
    "    arbitrary_input = tf.placeholder('float32')\n",
    "\n",
    "    # Input vector of arbitrary length\n",
    "    input_vector = tf.placeholder('float32', shape=(None,))\n",
    "\n",
    "    # Input vector that _must_ have 10 elements and integer type\n",
    "    fixed_vector = tf.placeholder('int32', shape=(10,))\n",
    "\n",
    "    # Matrix of arbitrary n_rows and 15 columns\n",
    "    # (e.g. a minibatch your data table)\n",
    "    input_matrix = tf.placeholder('float32', shape=(None, 15))\n",
    "    \n",
    "    # You can generally use None whenever you don't need a specific shape\n",
    "    input1 = tf.placeholder('float64', shape=(None, 100, None))\n",
    "    input2 = tf.placeholder('int32', shape=(None, None, 3, 224, 224))\n",
    "\n",
    "    # elementwise multiplication\n",
    "    double_the_vector = input_vector*2\n",
    "\n",
    "    # elementwise cosine\n",
    "    elementwise_cosine = tf.cos(input_vector)\n",
    "\n",
    "    # difference between squared vector and vector itself plus one\n",
    "    vector_squares = input_vector**2 - input_vector + 1"
   ]
  },
  {
   "cell_type": "code",
   "execution_count": 13,
   "metadata": {
    "collapsed": true
   },
   "outputs": [],
   "source": [
    "my_vector =  tf.placeholder('float32', shape=(None,), name=\"VECTOR_1\")\n",
    "my_vector2 = tf.placeholder('float32', shape=(None,))\n",
    "my_transformation = my_vector * my_vector2 / (tf.sin(my_vector) + 1)"
   ]
  },
  {
   "cell_type": "code",
   "execution_count": 14,
   "metadata": {},
   "outputs": [
    {
     "name": "stdout",
     "output_type": "stream",
     "text": [
      "Tensor(\"truediv:0\", shape=(?,), dtype=float32)\n"
     ]
    }
   ],
   "source": [
    "print(my_transformation)"
   ]
  },
  {
   "cell_type": "code",
   "execution_count": 15,
   "metadata": {},
   "outputs": [
    {
     "name": "stdout",
     "output_type": "stream",
     "text": [
      "[ 0.  1.  2.  3.  4.]\n"
     ]
    },
    {
     "data": {
      "text/plain": [
       "array([ 0.        ,  1.62913239,  2.09501147,  2.62899613,  0.        ], dtype=float32)"
      ]
     },
     "execution_count": 15,
     "metadata": {},
     "output_type": "execute_result"
    }
   ],
   "source": [
    "dummy = np.arange(5).astype('float32')\n",
    "print(dummy)\n",
    "my_transformation.eval({my_vector:dummy, my_vector2:dummy[::-1]})"
   ]
  },
  {
   "cell_type": "code",
   "execution_count": 16,
   "metadata": {
    "collapsed": true
   },
   "outputs": [],
   "source": [
    "writer.add_graph(my_transformation.graph)\n",
    "writer.flush()"
   ]
  },
  {
   "cell_type": "markdown",
   "metadata": {},
   "source": [
    "TensorBoard allows writing scalars, images, audio, histogram. You can read more on tensorboard usage [here](https://www.tensorflow.org/get_started/graph_viz)."
   ]
  },
  {
   "cell_type": "markdown",
   "metadata": {},
   "source": [
    "# Summary\n",
    "* Tensorflow is based on computation graphs\n",
    "* The graphs consist of placehlders and transformations"
   ]
  },
  {
   "cell_type": "markdown",
   "metadata": {},
   "source": [
    "# Mean squared error\n",
    "\n",
    "Your assignment is to implement mean squared error in tensorflow."
   ]
  },
  {
   "cell_type": "code",
   "execution_count": 64,
   "metadata": {
    "collapsed": true
   },
   "outputs": [],
   "source": [
    "with tf.name_scope(\"MSE\"):\n",
    "    y_true = tf.placeholder(\"float32\", shape=(None,), name=\"y_true\")\n",
    "    y_predicted = tf.placeholder(\"float32\", shape=(None,), name=\"y_predicted\")\n",
    "    # Your code goes here\n",
    "    # You want to use tf.reduce_mean\n",
    "    mse = tf.reduce_mean((y_predicted - y_true)**2)\n",
    "def compute_mse(vector1, vector2):\n",
    "    return mse.eval({y_true: vector1, y_predicted: vector2})"
   ]
  },
  {
   "cell_type": "code",
   "execution_count": 65,
   "metadata": {
    "collapsed": true
   },
   "outputs": [],
   "source": [
    "writer.add_graph(mse.graph)\n",
    "writer.flush()"
   ]
  },
  {
   "cell_type": "markdown",
   "metadata": {},
   "source": [
    "Tests and result submission. Please use the credentials obtained from the Coursera assignment page."
   ]
  },
  {
   "cell_type": "code",
   "execution_count": 66,
   "metadata": {
    "collapsed": true
   },
   "outputs": [],
   "source": [
    "import submit"
   ]
  },
  {
   "cell_type": "code",
   "execution_count": 67,
   "metadata": {},
   "outputs": [
    {
     "name": "stdout",
     "output_type": "stream",
     "text": [
      "Submitted to Coursera platform. See results on assignment page!\n"
     ]
    }
   ],
   "source": [
    "submit.submit_mse(compute_mse, 'yangdong07@gmail.com', 'SQXGVUUKtatyEsaG')"
   ]
  },
  {
   "cell_type": "markdown",
   "metadata": {},
   "source": [
    "# Variables\n",
    "\n",
    "The inputs and transformations have no value outside function call. This isn't too comfortable if you want your model to have parameters (e.g. network weights) that are always present, but can change their value over time.\n",
    "\n",
    "Tensorflow solves this with `tf.Variable` objects.\n",
    "* You can assign variable a value at any time in your graph\n",
    "* Unlike placeholders, there's no need to explicitly pass values to variables when `s.run(...)`-ing\n",
    "* You can use variables the same way you use transformations \n",
    " "
   ]
  },
  {
   "cell_type": "code",
   "execution_count": 19,
   "metadata": {
    "collapsed": true
   },
   "outputs": [],
   "source": [
    "# Creating a shared variable\n",
    "shared_vector_1 = tf.Variable(initial_value=np.ones(5),\n",
    "                              name=\"example_variable\")"
   ]
  },
  {
   "cell_type": "code",
   "execution_count": 20,
   "metadata": {},
   "outputs": [
    {
     "name": "stdout",
     "output_type": "stream",
     "text": [
      "Initial value [ 1.  1.  1.  1.  1.]\n"
     ]
    }
   ],
   "source": [
    "# Initialize variable(s) with initial values\n",
    "s.run(tf.global_variables_initializer())\n",
    "\n",
    "# Evaluating shared variable (outside symbolicd graph)\n",
    "print(\"Initial value\", s.run(shared_vector_1))\n",
    "\n",
    "# Within symbolic graph you use them just\n",
    "# as any other inout or transformation, not \"get value\" needed"
   ]
  },
  {
   "cell_type": "code",
   "execution_count": 21,
   "metadata": {},
   "outputs": [
    {
     "name": "stdout",
     "output_type": "stream",
     "text": [
      "New value [ 0.  1.  2.  3.  4.]\n"
     ]
    }
   ],
   "source": [
    "# Setting a new value\n",
    "s.run(shared_vector_1.assign(np.arange(5)))\n",
    "\n",
    "# Getting that new value\n",
    "print(\"New value\", s.run(shared_vector_1))"
   ]
  },
  {
   "cell_type": "markdown",
   "metadata": {},
   "source": [
    "# tf.gradients - why graphs matter\n",
    "* Tensorflow can compute derivatives and gradients automatically using the computation graph\n",
    "* True to its name it can manage matrix derivatives\n",
    "* Gradients are computed as a product of elementary derivatives via the chain rule:\n",
    "\n",
    "$$ {\\partial f(g(x)) \\over \\partial x} = {\\partial f(g(x)) \\over \\partial g(x)}\\cdot {\\partial g(x) \\over \\partial x} $$\n",
    "\n",
    "It can get you the derivative of any graph as long as it knows how to differentiate elementary operations"
   ]
  },
  {
   "cell_type": "code",
   "execution_count": 22,
   "metadata": {
    "collapsed": true
   },
   "outputs": [],
   "source": [
    "my_scalar = tf.placeholder('float32')\n",
    "\n",
    "scalar_squared = my_scalar**2\n",
    "\n",
    "# A derivative of scalar_squared by my_scalar\n",
    "derivative = tf.gradients(scalar_squared, [my_scalar, ])"
   ]
  },
  {
   "cell_type": "code",
   "execution_count": 23,
   "metadata": {},
   "outputs": [
    {
     "data": {
      "text/plain": [
       "[<tf.Tensor 'gradients/pow_1_grad/Reshape:0' shape=<unknown> dtype=float32>]"
      ]
     },
     "execution_count": 23,
     "metadata": {},
     "output_type": "execute_result"
    }
   ],
   "source": [
    "derivative"
   ]
  },
  {
   "cell_type": "code",
   "execution_count": 24,
   "metadata": {},
   "outputs": [
    {
     "data": {
      "image/png": "[encoded data removed]",
      "text/plain": [
       "<matplotlib.figure.Figure at 0x1236ae470>"
      ]
     },
     "metadata": {},
     "output_type": "display_data"
    }
   ],
   "source": [
    "import matplotlib.pyplot as plt\n",
    "%matplotlib inline\n",
    "\n",
    "x = np.linspace(-3, 3)\n",
    "x_squared, x_squared_der = s.run([scalar_squared, derivative[0]],\n",
    "                                 {my_scalar:x})\n",
    "\n",
    "plt.plot(x, x_squared,label=\"$x^2$\")\n",
    "plt.plot(x, x_squared_der, label=r\"$\\frac{dx^2}{dx}$\")\n",
    "plt.legend();"
   ]
  },
  {
   "cell_type": "markdown",
   "metadata": {},
   "source": [
    "# Why that rocks"
   ]
  },
  {
   "cell_type": "code",
   "execution_count": 25,
   "metadata": {
    "collapsed": true
   },
   "outputs": [],
   "source": [
    "my_vector = tf.placeholder('float32', [None])\n",
    "# Compute the gradient of the next weird function over my_scalar and my_vector\n",
    "# Warning! Trying to understand the meaning of that function may result in permanent brain damage\n",
    "weird_psychotic_function = tf.reduce_mean(\n",
    "    (my_vector+my_scalar)**(1+tf.nn.moments(my_vector,[0])[1]) + \n",
    "    1./ tf.atan(my_scalar))/(my_scalar**2 + 1) + 0.01*tf.sin(\n",
    "    2*my_scalar**1.5)*(tf.reduce_sum(my_vector)* my_scalar**2\n",
    "                      )*tf.exp((my_scalar-4)**2)/(\n",
    "    1+tf.exp((my_scalar-4)**2))*(1.-(tf.exp(-(my_scalar-4)**2)\n",
    "                                    )/(1+tf.exp(-(my_scalar-4)**2)))**2\n",
    "\n",
    "der_by_scalar = tf.gradients(weird_psychotic_function, my_scalar)\n",
    "der_by_vector = tf.gradients(weird_psychotic_function, my_vector)"
   ]
  },
  {
   "cell_type": "code",
   "execution_count": 26,
   "metadata": {},
   "outputs": [
    {
     "data": {
      "image/png": "[encoded data removed]",
      "text/plain": [
       "<matplotlib.figure.Figure at 0x12372c630>"
      ]
     },
     "metadata": {},
     "output_type": "display_data"
    }
   ],
   "source": [
    "# Plotting the derivative\n",
    "scalar_space = np.linspace(1, 7, 100)\n",
    "\n",
    "y = [s.run(weird_psychotic_function, {my_scalar:x, my_vector:[1, 2, 3]})\n",
    "     for x in scalar_space]\n",
    "\n",
    "plt.plot(scalar_space, y, label='function')\n",
    "\n",
    "y_der_by_scalar = [s.run(der_by_scalar,\n",
    "                         {my_scalar:x, my_vector:[1, 2, 3]})\n",
    "                   for x in scalar_space]\n",
    "\n",
    "plt.plot(scalar_space, y_der_by_scalar, label='derivative')\n",
    "plt.grid()\n",
    "plt.legend();"
   ]
  },
  {
   "cell_type": "markdown",
   "metadata": {},
   "source": [
    "# Almost done - optimizers\n",
    "\n",
    "While you can perform gradient descent by hand with automatic grads from above, tensorflow also has some optimization methods implemented for you. Recall momentum & rmsprop?"
   ]
  },
  {
   "cell_type": "code",
   "execution_count": 33,
   "metadata": {
    "collapsed": true
   },
   "outputs": [],
   "source": [
    "y_guess = tf.Variable(np.zeros(2, dtype='float32'))\n",
    "y_true = tf.range(1, 3, dtype='float32')\n",
    "# loss = tf.reduce_mean((y_guess - y_true + tf.random_normal([2]))**2) \n",
    "loss = tf.reduce_mean((y_guess - y_true)**2) \n",
    "optimizer = tf.train.MomentumOptimizer(0.01, 0.5).minimize(\n",
    "    loss, var_list=y_guess)"
   ]
  },
  {
   "cell_type": "code",
   "execution_count": 34,
   "metadata": {},
   "outputs": [
    {
     "data": {
      "image/png": "[encoded data removed]",
      "text/plain": [
       "<matplotlib.figure.Figure at 0x129711470>"
      ]
     },
     "metadata": {},
     "output_type": "display_data"
    }
   ],
   "source": [
    "from matplotlib import animation, rc\n",
    "import matplotlib_utils\n",
    "from IPython.display import HTML, display_html\n",
    "\n",
    "fig, ax = plt.subplots()\n",
    "y_true_value = s.run(y_true)\n",
    "level_x = np.arange(0, 2, 0.02)\n",
    "level_y = np.arange(0, 3, 0.02)\n",
    "X, Y = np.meshgrid(level_x, level_y)\n",
    "Z = (X - y_true_value[0])**2 + (Y - y_true_value[1])**2\n",
    "ax.set_xlim(-0.02, 2)\n",
    "ax.set_ylim(-0.02, 3)\n",
    "s.run(tf.global_variables_initializer())\n",
    "ax.scatter(*s.run(y_true), c='red')\n",
    "contour = ax.contour(X, Y, Z, 10)\n",
    "ax.clabel(contour, inline=1, fontsize=10)\n",
    "line, = ax.plot([], [], lw=2)\n",
    "\n",
    "def init():\n",
    "    line.set_data([], [])\n",
    "    return (line,)\n",
    "\n",
    "guesses = [s.run(y_guess)]\n",
    "\n",
    "def animate(i):\n",
    "    s.run(optimizer)\n",
    "    guesses.append(s.run(y_guess))\n",
    "    line.set_data(*zip(*guesses))\n",
    "    return (line,)\n",
    "\n",
    "anim = animation.FuncAnimation(fig, animate, init_func=init,\n",
    "                               frames=400, interval=20, blit=True)"
   ]
  },
  {
   "cell_type": "code",
   "execution_count": 35,
   "metadata": {},
   "outputs": [
    {
     "data": {
      "text/html": [
       "<img src=\"data:image/jpeg;base64,/9j/4AAQSkZJRgABAQAAAQABAAD/2wBDAAIBAQEBAQIBAQECAgICAgQDAgICAgUEBAMEBgUGBgYFBgYGBwkIBgcJBwYGCAsICQoKCgoKBggLDAsKDAkKCgr/2wBDAQICAgICAgUDAwUKBwYHCgoKCgoKCgoKCgoKCgoKCgoKCgoKCgoKCgoKCgoKCgoKCgoKCgoKCgoKCgoKCgoKCgr/wAARCAEgAbADASIAAhEBAxEB/8QAHwAAAQUBAQEBAQEAAAAAAAAAAAECAwQFBgcICQoL/8QAtRAAAgEDAwIEAwUFBAQAAAF9AQIDAAQRBRIhMUEGE1FhByJxFDKBkaEII0KxwRVS0fAkM2JyggkKFhcYGRolJicoKSo0NTY3ODk6Q0RFRkdISUpTVFVWV1hZWmNkZWZnaGlqc3R1dnd4eXqDhIWGh4iJipKTlJWWl5iZmqKjpKWmp6ipqrKztLW2t7i5usLDxMXGx8jJytLT1NXW19jZ2uHi4%2BTl5ufo6erx8vP09fb3%2BPn6/8QAHwEAAwEBAQEBAQEBAQAAAAAAAAECAwQFBgcICQoL/8QAtREAAgECBAQDBAcFBAQAAQJ3AAECAxEEBSExBhJBUQdhcRMiMoEIFEKRobHBCSMzUvAVYnLRChYkNOEl8RcYGRomJygpKjU2Nzg5OkNERUZHSElKU1RVVldYWVpjZGVmZ2hpanN0dXZ3eHl6goOEhYaHiImKkpOUlZaXmJmaoqOkpaanqKmqsrO0tba3uLm6wsPExcbHyMnK0tPU1dbX2Nna4uPk5ebn6Onq8vP09fb3%2BPn6/9oADAMBAAIRAxEAPwD9/KKKKACiiigAooooAKKKKACiiigAooooAKKKKACiiigAooooAKKKKACiiigAooooAKKKKACiiigAooooAKKKKACiiigAooooAKKKKACiiigAooooAKKKKACiiigAooooAKKKKACiiigAooooAKKKKACiiigAorj/AAR%2B0J8A/iZ431n4Z/Dj44eD/EHiTw5JJH4h8P6J4ltbu%2B0t0kMTrcQRSNJAVkBQh1GGG088VZtfjb8Gb74p3PwLsvi54Ym8b2dgL288HRa/btqsFqQpE72gfzljIdPnK7fmXnkUAdPRRRQAUUUUAFFFFABRRRQAUUUUAFFFFABRRRQAUUUUAFFFFABRRRQAUUUUAFFFFABRRRQAUUUUAFFFFABRRRQAUUUUAFFFFABRRRQAUUUUAFFFFABRRRQAUUUUAFFFFABRRRQAUUUUAfIz%2BIrvxH/wUT0j40aVp3xZ1nw/4Z8I6/pWr2XiP4WX%2Bn6b4Ukmn0yMNpUo06CbVWu5bUtJiS%2BRUQyxvbxjbLy/g74f/EGL9qTw98N5fhR4oh17Qf2nfEnj3WvGcvhq6TSpvDt5oWp29tImpmP7NPIVvbDT/sqyGZPszMYxHCr19w0UAeIftr%2BO/wBp34WeFtF8bfAPx94D022ufF/hzw/qFj4v8B3uqyO%2Bq67Y6X9ojlttVsxGIkvDJ5ZR95jA3oDkWf8AhB/%2BChf/AEdB8Gf/AAw%2Brf8AzUUft4f8kQ0P/ss3w4/9TXRK9moA8Z/4Qf8A4KF/9HQfBn/ww%2Brf/NRVbWdA/bz8OaRdeIPEP7W3wQsLCyt3nvb29%2BB2qRQ28SAs0ju3ikKigAkkkAAZrtvhz8ddL%2BIPxC8S/DO58F65oGp%2BHTHIkWuxQx/2nZvJNEt5biOVy0JlglTLBW4UlQHUnwnxj4Y%2BMnh7SfE/w8%2BNujX%2BsaZ8RPFEvhqz8ZS%2BM3nuFS8eQ2EkOlRwrDawQsyQuY2EpCNOwKqSOulhHOfLN2emnVp9tbOyu/6dsZ1Uo3Svv/X3lHxB8b/27NYt/Cy/AD9pj4A%2BOLnxXqV3bWWPhRqtnboLWBp58y/8JHKfNCqAsRUFtwJKoC47H4Paz%2B3j8Zfh1p3xD0P9pT4RWkd4JYrqwvPgJqyz2V1DK8FxbSj/AISjiSKaOSNscbkOOKzfC3wc%2BK/xk%2BI914s8Z%2BCNU8Aatplhpl2de32sscviW1M0TXVtHHI3m272k8sT7wm%2BO5ZPvLlPb/gn8K5vhL4RuNG1LxGNX1PUtYvNV1nU0sVtUuLu5lMkjJCpYRoMgBdzHC5LMSSdcTTwtKlyxfvffvfqtNrbWflrpNKVWUrvb%2BvmeEeBx/wWR8RfFHWNF8XeKPgJ4e8H2FxPDpniCf4dapc32qbWxHMlnF4gKRRuAW/eThxkZTOcegf8IP8A8FC/%2BjoPgz/4YfVv/mor2aiuKclN3UUvS/6tm0U0tXc8Z/4Qf/goX/0dB8Gf/DD6t/8ANRR/wg//AAUL/wCjoPgz/wCGH1b/AOaivZqw/iF8T/ht8JPDsni/4qfEDRPDWlQ/63Ute1SGzgXjODJKyrn8amMZSdoq7K3PNf8AhB/%2BChf/AEdB8Gf/AAw%2Brf8AzUUf8IP/AMFC/wDo6D4M/wDhh9W/%2BaiuQn/4Kh/BjxncPpn7Lfwu%2BInxlulcx/afAPhOX%2BzEkzgB9SvDBaBf9pZH78HFNHiv/gqv8XOfD3wo%2BFXwe0%2BX5Wl8V65ceJtVjH98QWQgtVb2M7jPr1rs/s/ER/i2h/iaT%2B7WX/kpfJLrodj/AMIP/wAFC/8Ao6D4M/8Ahh9W/wDmorK8XH9tXwBpZ1vx5%2B2j8BNEsl%2B9eav8F9Stoh/wOTxUB%2BtYn/DB3xr%2BIH779or/AIKJfFfXc8PpvgZ7TwnYsvdStjGbgj63BODyTWt4R/4JZ/sB%2BE9UGv3H7NOh%2BItT6vqnjiWfX7h267i%2BoyTHOeeMY7Yo9lgYfHVcv8Mf1k1%2BQWgup4x4q/4KMP4T1I6Kf%2BCo37O2tXwyBZeD/gRrmuzE%2BgTTvEs5J7YxWb/w3d%2B3rr//ACSnwjrXi1H/AOPe8tP2O9a022l9CJdT8W2w2%2B/P0r7m8K%2BCvBvgTTRovgjwlpmjWa/dtNKsI7eIf8BjUD9K06Pa4CPw0pP1lb8Ix/ULw7HwPH8av%2BDgjxA4bwj%2BzN8I7OBz8k3jHRfsJx6lLTxNeMv0IzXffCy1/wCC7ev%2BI7T/AIW94p/ZT8N6I%2B77ZLo/hPxHqd9F8jbdsTalBE3z7QcyjAJPJAB%2BuqKieIpSjaNKK/8AAm/xl%2BgnJdjxn/hB/wDgoX/0dB8Gf/DD6t/81FH/AAg//BQv/o6D4M/%2BGH1b/wCaivZqK5STxn/hB/8AgoX/ANHQfBn/AMMPq3/zUUf8IP8A8FC/%2BjoPgz/4YfVv/mor2aigDxn/AIQf/goX/wBHQfBn/wAMPq3/AM1FH/CD/wDBQv8A6Og%2BDP8A4YfVv/mor2aigDxn/hB/%2BChf/R0HwZ/8MPq3/wA1FH/CD/8ABQvt%2B1B8Gf8Aww%2Brf/NRXs1FAHxJ4k1P/g4i8P7pdK0j9kfX0H3E0%2Bw8RW8jD3E96qg/8CNYI/aJ/wCC63hg%2Bd8Sv2XvBot1/wBZP4J8CQ6wf%2BAxyeMLaRv%2B%2BRX3zRXZHE0bWlRi/wDwJflJ/kVzLsfK/wCz98Sv%2BChPx%2B0zUr9/GnhvwRNpk8cU1j8Qf2YtX06WYspO6EjxY6TKMYLIxAJA71pfEvxF/wAFBvh74t8EeC7f9oL4M6he%2BNvEj6Xbr/wpTVYRaxRWNzeTXJ/4qZt4VLbbs%2BXLSKNwr6Wrzbx/%2BzPoHjv4y6D8dU%2BI/jDSdb8O288NhbafrKyaeVmiaKQtZ3EcsIYqeXRVf5R83XMU5Yd13Jq0bOy1lrZ27PfW/QFy3PBf2g/jh/wUO%2BCWpXmmaH8V/hH4kfQPDMniXxhJD8GdStk0nR42kDT5fxOTNKfJmKQqAWELfMOM60Hxz/aoufinb/CGL9rP4VnUrm7SyS7/AOGbde%2BwrfvaC8Wxa6/4SXyluTbETeUWB2%2B4xXb/ABj/AGSvHXxJ8U31xpHxXtLTR/Fvh6w0bx8l1ope9u7e1mkk3WsiSpHCZlkeGRWjZQrFkw2c8PqP7PH7SK6v4g8LaD4b06z0/TfFeu%2BL9B8S/wBqKf7Sv5bcppVsIBmSLySyrK78MLddmRIQnXTo4GpSScrO3e333XR9F038qSg0dT4Q179rv4gavqvh/wACftzfs%2Ba1qGhXAg1ux0r4O6hcTafISQEnRPFZaIkq2AwGcH0rf/4Qf/goX/0dB8Gf/DD6t/8ANRXF/sZeCtWfxvoXiLRPBHiDw54Z8GfCDTvCaQeJdBm0271HUzMJrl3imVXkEIiTE2NjyXc5RnBLH0f4l/ttfsqfBj4q2/wW%2BMHxs0fwr4gu7OO5s4vEbPZW1wjlgoS7mVbdnypygk3jIyBuGeethJKu6dFOVlfRXfntfyfW1yXHWyMz/hB/%2BChf/R0HwZ/8MPq3/wA1FH/CD/8ABQv/AKOg%2BDP/AIYfVv8A5qK9f0vVdM1zTodX0XUoLy0uYxJb3VrMskcqHoyspIYH1FT1x7EnjP8Awg//AAUL/wCjoPgz/wCGH1b/AOaivP8AwGP%2BCyGo/FLVfB/xL8UfATSfDkFvLNo3i/R/h1ql9HeYlVUhltpPEEMsEpRi5wHjGxhvPy5%2BpqKuM1FNOKd/XTzWv53Jaba1Pmf48eIv%2BCh/wV%2BHFx41sPjv8F9d1F7q3sdG0I/BrV7RtRvriVYbeBZB4jl2lpHUE7DhdzHhTV/4ieI/2wPhBo9pr3xY/ba%2BAnh2zvb2Ozgu9W%2BCmqQwtcPnam9/FIAzg8nA47V6B8VvgFqvxB%2BJ3hf4raX8TdStJfCt2bq28M30Edzo93N9nuIVmki2rKkyi5YrIkgA2qSjEDHC/tNQ/EnxB4m8NL4X%2BFfixvF2g3kEnhzWNKeCbQLk3Pl29/HeCQsUiSCSfJliRyozCxc7R10aVCqoQv3bezXZa6WVt9d3poZTnUhzO3a39I2bTwl/wUAv7WK/sP2qvgrPBPGskM0PwK1VkkQjIZSPFOCCDkEVJ/wg/wDwUL/6Og%2BDP/hh9W/%2BaivNdS%2BMuueHtf0z4uRfEy50Hw1a%2BK9StLHwjZ20MenQeGNKW4TULuaLZv377d3VwRtCRqnDkN7F8G/j74n%2BIXjWbwN47%2BFzeFr2Xw3a6/pVrLq4uZ3sppHj23MYjX7NOrpgx5cfNw5KsqzVwVWnHmWq/L/O11e2g4V4SdjjNS8Y/tm/CX40/Crw18Ufi38MPEvh/wAeeNbvQdTtNA%2BF2o6ReW4j8P6vqcc0VxNrl2gPm6dGjK0JysjYKkA19A14z%2B1B/wAlv/Zx/wCyzX3/AKhXiivZq4zYKKKKACiiigAooooAKKKKACiiigDxn9vD/kiGh/8AZZvhx/6muiV0/gH9pT4cfFD4t%2BIvhB4Dg1jUbnwoGj17Wo9HlXS7a8V1VrEXTAJJcru3MibtoByQRiuY/bw/5Ihof/ZZvhx/6muiV7KiJGCI0CgkkgDHJ5Jq4umovmV301tb/P00Jak2rM8u%2BLvwe%2BKHi/41eDviZ8MfGOkeHP7Ds72013Ubqwe8ub%2BynMTGzSHckajfEsgmdm2OgxGwZs9XafB34fJ4nsPHus%2BHrbV/EemWrW9l4i1W2jlvIUZmLBH2gR53EHYFyMA8AV09FW69VxUb2sraaaeb3e//AABKnFNvuFVtY1nSPD2lXOva/qttY2NnA015e3k6xRQRqMs7uxAVQASSTgAVT8bjxq3hHUV%2BHEulprptWGlPrUUj2izY%2BUyrGyuyDuFZSemR1rxI634q/ae/ZI8b/C/4i32k6V430d7vw94oxGYLAalAUeGULIzMltcxtbTKCzER3O3cWXNOlR9ouZvS6T7q/W3b9TRK50PxC/a50a2t/C6/s/aJp3xJufFUeoXGm/2P4khjtpYLKBZpglwFkR52EkYjh%2BXduLFkVGYeLeI/2k/G2seIvHnx48DfE3XI38H2eka/o3gW/mt4dP1fwsSseoRLGU3C/W5ttShLl2MU0duufLlUHV8I/Br4i/Gf40%2BIfGll4M1/4Z3UA0vV5dQ1PTY2iTxVbyPb3Eluqybby2ubGOGOZl2hl2bX3l9nr/gL9kj4Z6b4G0zw78X/AA5oHjjU7DXb3WhqeqeG4hFDfXVzJcubaGQym3iV5SI497lAifMSoNelfA4RWau9L7N66vvHbTRp63NPcid/418PXXjjwNqfhfTfFeqaDNqumy28GtaQUjvLBpEKrPF5qMqyoSGG9CARyp6V4z8Pf%2BCZ37IngzxFH498YeA7r4ieK05bxb8UtVl8QX5bsym7LRwkdvJjjA7CvfaK82nicRRg405OKe9tPxWvyvbyM1KSWgy3t4LSBLW1gSOKNAsccahVVQMAADoBT6KKwEFFFc/8SPiv8Lfg34bk8ZfF34k6B4V0iLPm6p4j1iCxt04zzJMyqPzpqMpOyV2NJydktToKK%2BVbz/gsN%2Byj4lvJdI/Zo8N/Eb4330LlJYvhD4AvNTtUYcfNfyrDYgZ4z5%2BB37UwftEf8FW/iv8Au/hN/wAE/PB3w9tZPmg1f4x/FJJZdnYtY6NDclWxztadT2OOtdX1HEr40o/4mo/g3f8AA6fqWIXxpR/xNL8G7/gfVtFfKY/Z0/4KwfEX/S/iR/wUZ8HeBkk4l0v4VfByGTYO4W61i5ujn38ketL/AMOsh4k/efF//goR%2B0x4saTm5th8UTo1rJ6jydIgtcL/ALJJ%2BtH1fDx%2BKsvkpP8ASKD2FCPxVV8lJ/okfVTukal3YKoGSScACuR8S/tBfAXwYzJ4w%2BN3hDSSn3xqXiW1gK/XfIMV4Kn/AARR/wCCal2wm8Xfs%2BXXimbOZJ/GfjjWtZaRvUi8vJF/IAV13hr/AIJX/wDBNPwkqjRP2BvhAGT7st18PdPuJB/wOWJm/WjlwC%2B1J/8AbsV%2BcmHLgl9qT%2BSX5yZtar/wUO/YB0Jimt/ty/B6zK/eF18TNKjI/wC%2BrgVjzf8ABUv/AIJoQNtf/goJ8Fyf9j4m6W38p67DSv2Nf2QdCULon7Knw2swv3Ra%2BBtPjx/3zCK2If2d/wBn%2B3XZB8DPByD0TwzaD%2BUdF8v7T/8AJP8AIP8AYe0//Jf8jzq2/wCCon/BNS7YJD/wUE%2BCuT0D/FDSl/8AQrgVvaN%2B3p%2Bwz4iYJ4f/AGz/AIT3xb7os/iLpkuf%2B%2BZzXSXX7N/7O96uy9%2BAnguYHqJfC1ow/WOsHWP2HP2KfEKlNf8A2PvhbfBvvC8%2BH%2Bmy5/76hNH/AAn/AN//AMkD/Yf7/wD5Kdn4X%2BK3wu8blV8F/EnQNXLfdGl6xBcZ%2Bnlsa36%2BdPFH/BIn/gl74vDDVv2B/hVFu6nS/BtrYn8DbIhFYB/4Iv8A7BGknz/hr4P8beBrkf6u68DfFnxDphj/AN1Ir7yx/wB8UcmAe05L1in%2BUg5cE9pyXrFP8pH1VRXyp/w7X%2BLPg7/Svgj/AMFR/wBojQrhf9VD4n1/TvE9qvplNTspZG/GWk/4Vb/wWO%2BGf/Im/tY/Bf4oQdfI%2BIPw3vNBuSPT7Rpd1LGD/tfZ8f7NP6tRl8FaPzUo/mmvxD6vRl8NVfNSj%2Baa/E%2BrKK%2BUT%2B2h%2B338Kv8Ak4f/AIJda/qljD8s%2Bu/BXx3p/iFXP95bK7%2BxXQHsFc8dzgVreB/%2BCvP7BfiXxDD4G8efF24%2BGfiWY7T4Z%2BL2gXnhe7V%2BmwHUY4opGyQP3bvycUngcVa8Y8y/utS/Jt/gDweJteMeZf3Wpfk2/wAD6YoqtpGsaR4g0yDW9B1W2vrK5jEltd2c6yxSoejK6khh7g1Zrk2OXYKzfFng3wh4%2B0Kfwt468K6brWmXK4udO1axjuYJR6NHICrfiK0qKabi7oD5r1P/AIJe/A3wrqVx4o/ZU8aeMPglrM8hmkk%2BHGuNDps8nUedpdwJbKRAf4REv1FV28af8FL/ANnH/kffh14Z%2BPfhuD7%2BseCGXQPEiRjlnfT7l2tLlsdFhmiJ7L2P05RXasfWnpWSqL%2B9q/8AwJWl%2BLL5299Txv4E/t6/s0fH/wARv8PNA8ZT6B40gH%2Bm/D/xrp8mka5btjJH2S5CtKB3eLzE/wBqvZK4T48fsxfAD9p3w4nhb48/CjSPEltCd1nLfW%2BLmyf/AJ6W9whWW3f/AG43VvevFn%2BCH7cf7JP%2Bn/syfFR/i/4Og5b4a/FHVNmr28Y/g0/W9uWPQLHeK6gDHmjrR7LCYj%2BFLkl2lt8p/wDySXqFoy20PqSivHP2eP24fgz%2B0D4hufhkU1Twd8QdNi36x8N/Gtl9g1i1UdZEjYlbqHjImgaSMgg5GcV7HXLVo1aE%2BSorP%2BvvXmm15ktNOzPOPHX7K3wb8WeG/GGmaH4K0nQNT8a2jRazrul6TCtxNIWDrLJ8uJT5gV2DcOR82au/CL4O6j4C1zXPH3jbxmfEfirxILWPVdXWw%2ByQrb2yOsFtBAHfyokaWeTBdiXnkJY547qiqeIrOm4OV0/%2BB13totPJGfs4KV7HjH7TrF/jb%2BzkShX/AIvPfjB9vBXijmvZ68Z/ag/5Lf8As4/9lmvv/UK8UV7NWJYUUUUAFFFFABRRRQAUUUUAeD%2BFPjN%2B0Fof7Z9v%2Bzp8QvEHgjxJpes%2BEdV8RLF4V8OXlje%2BFbaC9toLFb6Wa9uI7oXQmuFR1jtSXsZiiSKshiwvhX%2B1P8Xdd/bS8V/A34seJtE8M6Lb%2BJ7nTfAGgX/wn1u0ufE9tFpdvdm4tdenuxp93IrtdlreCBpBHauSAEZx0Xwm/YlvPg58QvG/xG8OftZfE27uvH2uT6rrcGrW3h2cLO7IIljm/sgXHlW8KLbwxPK6RxcBS3z1v337LUHiL45aL8a/Hvxv8a%2BIofC2tXOr%2BEfB2pHTI9J0W%2Bms7iyaeL7NZRXUxW2u7qNBc3EyqJ2IG5UZQDjP%2BChfxc%2BFHhrwf4M%2BFHiP4neHtP8AFPiD4w/D2XQfDV7rUEWoakkfjPRmka3t2cSTBVVixRSAFJOMGvoevGf28P8AkiGh/wDZZvhx/wCprolezUAFcT8ff2h/hD%2BzH8PZviZ8Z/F8OlaakqwWsexpbm/uX4jtraFAXuJnPCxoCx5PQEjH/an/AGpPBn7LXge11zV9Ivde8Ra7fLpvgvwXowD6h4h1Fx8ltAvYD7zyt8kaAs3YHhP2dv2RfGep/EGD9rX9tPVbLxL8UXiYaDpFsS%2Bj%2BBbZ%2BtppyNw05GBLeN%2B8kIwpVOG7KOHgqftq7tDolvJ9l2S6yei2V3oqUVa72PRP2afih8YvjD4JuvHvxb%2BBs3w%2BjvdRZvDWhanqaz6kdO2J5ct9Gi7LWdm3kwB3KKVViGBFJo37LXwo0z40678ftSt9Q1bxJrwgSWTVdQaS1tYoVVYo4bVdsClduRKyNNyQZCOK9GorF1pKcnT91S0sr7dtdenz/AV9dAooorEQUUV4H%2B1B/wAFAfh78BfGlt8Bfhr4M1b4o/F/VbYTaR8L/BpRrtIjgC6v53Pk6ZaZK5nnIyD8iuQRWlKlUrT5YK7/AK1fRLzdkaU6VStLlgrv%2Bt%2By82e9SyxQRNNNIqIilndjgKB1JPYV8w%2BP/wDgqp8FLjxfe/CX9kbwN4l%2BP3jayk8m70n4YWyT6bpsx6LfavKyWNoM5BBlZ1I5SsC0/YK%2BP/7YEi%2BKf%2BCnXxm%2B3aJMwktvgR8Nr%2Bew8M2y9Vj1G6UpdazIMKWDtHb7gcRFTX1L8Pfhx8PvhL4Qsvh/8LfA%2BkeHNC06Ly7DR9D06O0tbdfRIolVV/AV08uEofE%2BeXZaR%2B/d/JJeZvy4Wh8T532Wkfv3fySXmfMq/CH/AIKp/tN/6R8Z/wBofwz8AvDVx97wp8IrJdZ19om6xzazqEfkQyD%2B9bWp9nrovht/wSX/AGGvAviSP4g%2BMfhTN8S/Fy8yeMvi7q8/ifUXfOd6tftJHCfTyUjA7CvpKipljcRblg%2BRdo6fe1q/nITxle1oPlXaOn4rV/NkVlZWWm2cWn6daRW9vCgSGCCMIkagYCqo4AA7CpaKK5DlCiiigAooooAKKKKACiiigAooooAKKKKACsjxx8PvAXxO8OzeEPiV4I0jxDpNwMXGl65psV3by/70cqsrfiK16Kabi7oabTuj5W1n/gkN%2BzT4Z1OfxV%2ByV4t8cfAPXJpDK9x8JPE0llp88nUedpUwlsJUz1XyFyO44Ipv4k/4K0/stjd4r8JeDf2lvC0H%2Bs1DwwE8K%2BLI4%2BpdrSZ30%2B8YD%2BGOW3Zj0XkCvrWiutY2tLSraa/vav8A8C0l%2BLOlYyrLSraa/vav79Jfizwn9nX/AIKOfst/tH%2BLX%2BFWk%2BKdQ8I/EG3TN98MviJpUmieILfgk4tLjBuFwM%2BZA0seP4q92rzr9o79kr9nD9rfwmngv9or4QaP4otIH8ywnvYCl3p8uQRLa3MZWa1kBA%2BeJ0b3rwGb4c/8FBP2BR/afwV8Wap%2B0Z8LLUZuPAfjDUI08aaNAOT/AGfqb7Y9VVRki3u9sxCqqzMTT9lhq/8ACfLLtJ6fKWn3SS9R%2Bzw9f%2BG%2BV9pPT5S/%2BSS9T7DorzL9lz9r/wCA/wC2F4MuPF/wU8WvcTaZc/ZPEfh7VLR7PVtBvBndaX1nKBLbSqQwwww20lSy816bXLOnOlNxmrNdGc04TpycZKzQUUUVBJ5z%2B0Z%2Byj8Dv2p/D1tonxd8ICe702Xz9B8Q6dcNaarotwMFZ7O7iIlgcEA/Kdp2gMGHFeKj42/tJfsAzppH7W9/efEf4So4js/jJp2n/wDE18Px5wq65aQjEsQHH26BccZljUtur6wplxb293bva3UCSxSoUkjkUMrqRggg8EEdq66OLcIeyqrmh2fTzi94v8H1T3KUrKz2KvhvxL4d8Y6BZeK/CWu2eqaXqNslxp%2Bo6fcrNBcwuMrJG6Eq6kEEEEg1dr5I8Y/CT4if8E5NevfjV%2Byv4bvtf%2BEF3cveePvg5YL5kuhhjum1TQkP3ccvLYjCONxj2tgD6a%2BGPxN8A/GbwBpPxT%2BF3im01vw/rlkl1pWqWUm6OeJu47gg5BUgMrAqQCCKWIw6pxVSm%2BaD2fVPtJdH%2BDWqdtiUbarY82/ag/5Lf%2Bzj/wBlmvv/AFCvFFezV4z%2B1B/yW/8AZx/7LNff%2BoV4or2auUkKKKKACiiigAooooAKKKKACiiigDxn9vD/AJIhof8A2Wb4cf8Aqa6JXoXxh%2BLfgP4D/C7XvjH8T9cTTtA8OabLfapduMlY0GdqjqzscKqjlmZVHJFee/t4f8kQ0P8A7LN8OP8A1NdErg/2h7YftXfts%2BDv2S5P3/gz4c2Nv4%2B%2BJUA5ivrzzmj0XTpexXzYp7x42BDC2iz1rpwtGNar7%2BkUm5ei3t5vRLzfkVFXepe/Y4%2BC3jz4i%2BNLj9vT9qPQXtvHXiayMPgrwrd/Mvgbw%2B53RWaKeBeTLtkuZcBizCIbVQg/SlFFTiK8sRU5notklsktkvJfjq3q2KTcmFFFFYCCiivnH/goV%2B0B8UPCGmeE/wBlX9mPUYrb4t/GPUZtL8MalJF5ieG9OhQPqWuyp0ZbWFhsUn555YVw2SK1o0pV6ihHr9yW7b8ktTSlSlWqKC/4ZdW/JLU539oD9qD42/tFfGTVf2I/%2BCf2r21hq2iMsPxY%2BMdzai5sPA6uM/YrWM/JeauyHIiJ8uAENLydo9e/ZT/Y7%2BCH7HXgq48KfCXRLmW/1a5%2B2eKfFuuXRvNZ8R3xyXu7%2B7f57iViWPOFXcQiqvFaX7L/AOzR8Lf2Rvgro/wM%2BEemSxaZpaM9ze3kvm3eqXkh33F9dSnma4mkLO7nqTgYAAHoFbVq8eX2VHSH4yfd/otl5u7Nq1ePL7KlpD8Zeb/RbLzd2FFFFchyhRRRQAUUUUAFFFFABRRRQAUUUUAFFFFABRRRQAUUUUAFFFFABRRRQAUUUUAfPH7WH7BenfF/xlB%2B0r%2Bzv42f4ZfHDRbby9H8faXbhotVhXBGnavbDC6hZNtA2v8AvIsBo2UjBt/saftoX/x31XXPgJ8efAyeA/jV4HijPjPwS1yZILm3Y7YtW0yVsG60%2BYj5XHzRMfLkAYAt75Xzz%2B31%2Byj4t%2BMugaP8ff2c7230b43fDCSTUvh1rcnyx34I/wBI0W8OR5lleIDE4JGxykikFDntpVY14qjWf%2BGX8vk/7vdfZ3XVPspVY1oqlVfpL%2BXyf93y6brqn9DUV5t%2ByJ%2B0x4R/a%2B/Z48N/H7wfp9xp6a1asup6LejFzpGoQu0N3YzggESwTxyRNkDOzI4Ir0muScJ05uElZrRnLOEqc3GSs1oFFFFSSFfI/iuw/wCHa3x9X4m%2BHl%2Bz/Aj4na/HB4y0teLfwT4huXCRapEOkVldSFY514WOVkkBAZlr64rB%2BKHw08GfGT4c658KPiLoseo6F4i0ubT9VspRxLBKhRgD/C2DkMOQQCOQK6sLXVGbjNXhLSS8u681un302bKi7PXY83/ag/5Ld%2Bzj/wBlmvv/AFCvFFezV8vz/DTx98G7X9kv4U/Ez4jDxbq/h74qXthJ4iNoYXvYYvBnipYGkUsxMohEau%2BfndWbA3YH1BWFSMYTcYu6T37%2BfzE9GFFFFQIKKKKACiiigAooooA5DwL%2B0H8A/ih4y1n4dfDT43%2BEPEXiHw67J4g0LQvEtrd3mmMrmNluIIpGeEhwVIcDDAjrVi1%2BNvwZvvinc/Auy%2BLnhibxvZ2AvbzwdFr9u2qwWpCkTvaB/OWMh0%2Bcrt%2BZeeRXzX8NfivpnxY/bf1b4p%2BLPhJ8RfCWk/CzSda8L%2BBdNuPg14hh/tr7VeWZ1HVmuhYfZ3gkltIEtYIpGZ41muXB3xiHmfB3w/8AiDF%2B1J4e%2BG8vwo8UQ69oP7TviTx7rXjOXw1dJpU3h280LU7e2kTUzH9mnkK3thp/2VZDMn2ZmMYjhV6APe/28P8AkiGh/wDZZvhx/wCprolch/wTui/4TbxD8c/2ir8ebd%2BMvjTqthaXX97TNHCaVaoP9kG2nce8pq9/wUL034rz%2BD/Bmo%2BHPGnh618LQ/GH4ejXtGvfDE9xqF458Z6N5bW94t7HHbBW2lg9tMWAIBTIIr/8EsZo4v2X9R8OvbJDeaL8UvGVhqUSFjtuE8QXzNncSdxDqx578ADArto6YGs11cF8ryf5pFr4H8j6PoooriICiiigAr5L/ZFs2%2BOv/BRL9of9qbWWFxbeCL7T/hT4I3jmzhtLaHUdWK/9db29iUt1ItFGeMD60r5U/wCCW7LYah%2B0l4Uu/lv9O/al8VS3cbcNsuks7yByPQwzx4P%2Bz7V2Yf3cNWkt7RXyctfySOqh7uHqyW9kvk5a/kkfVdFFFcZyhRRRQAUUUUAFFFFABRRRQAUUUUAFFNmmhtoXuLiZY441LSSOwCqoGSST0Fflr/wVw%2BK/xp/b08I/8Id%2BxX8NfGXjfwD4J1KWLxdqPhi2eW013UH2CGOGOP8AeXcduFkLGMMuZlbAUI7aewryw1SvFLlpq8pO6jFedlJt9oxjKcnpGO7XdlFDCZjnmFy2rUcZV5ckVFRcnJ7Jc9SlBK9rzqVKdKCvKc0klL9TKK%2BTv%2BCLvwy/ab%2BE37EGneE/2pINStNUGt3M3h7SdZdjd6bpLRwiK3lVvmjIkWdxG3KrIoIGNo%2Bsa4cDiZYzB068oODkk%2BV7q/R/0t1oj0eKslocN8S4vKqOJhiI0KkoKrT1hUUWvejq1bW2jaupWlJWbKKKK6jwAooooAKKKKACiiigAooooAKKKKAPk39mC1X4Af8ABTL46/s16ePK0D4gaFpXxW8PWUf%2Brtry4kl03WMe8lxa2s5H964Y/wAVfWVfKk7Lqn/Bb20%2Bwnd/Yn7K9yuplf4Te%2BJLc24b3IsbkgfWvquuzGazhJ7uEW/WzX5JHVi9ZQk93GLf3NfkkFFFFcZyhRRRQB4z%2B1B/yW/9nH/ss19/6hXiivZq8Z/ag/5Lf%2Bzj/wBlmvv/AFCvFFezUAFFFFABRRRQAUUUUAFFFFABRRRQB4z%2B3h/yRDQ/%2ByzfDj/1NdErjP2Tph8G/wBs/wCO37Mmo/uodf1i2%2BJfhMP1ubXUYkttQ2%2B0d/asSP8Ap6U/xV2f7eH/ACRDQ/8Ass3w4/8AU10SuX/b98CeNPCR8KftvfBvQZ9S8V/CG5nuNV0WzX97r/hq4VV1OwUfxyhES5hBziW3AAJeu3BNTlKhJ251Zf4k7x/HT/t4uGunc%2BjqKxPht8RvBfxe8AaP8Ufhz4gg1XQtf06K%2B0rULZspPBIoZW9QcHBB5BBBAIIrbrjlGUZOLVmiNgooopAFfIt9fj9j/wD4Kpy6vrTfZ/BH7T%2Bi2lpDfScRWfjXSIGjjgY8KhvdNChM8vJp%2B0ZLCvrqvNv2s/2YfAX7X/wM1f4IePrm6skvDFdaNrumyeXe6HqUDiW01C1kHMc8Mqq6kHnBU5VmB6cNVhTm4z%2BGSs/8/k0n966nRh6kITcZ/DJWf%2BfyaT%2B/uek0V80/sTftc%2BO9f8U337F/7YsFro3xy8G2QkumiTyrLxtpanZHr2mZwHjkwPOhX5reXcjKo219LVnWozoVOWX/AAGujXdP%2BtbpZ1aU6M%2BWX/Aa6NeT/rqgooorIzCiiigAooooAKKKKACs/wAV%2BK/DPgXw3e%2BMfGWvWml6Vpts1xf6hfTiOGCJRkszNwBWL8aPjX8Mv2fPh5f/ABS%2BLniu30jRtPTMtxOctI5ztijQfNJI2MBFBJ/A181eFPhF8W/%2BCjXiSx%2BLv7UWg3vhb4R2Vwt14N%2BFU7lLjWyDmO%2B1XB%2B6eGSDpg%2BmWl9LBYBVqbxFeXJRjo5dW/5YL7UvwitZNLR%2BXjsxdCosPh489aSuo9Ev5pv7Mfxk9Ipu7Va41L4sf8FS9Uk0zw/Pq3gr9nq3nKXepBWttT8ebWw0cWcNBYkjBY8uOOSSsX1j4D8BeDPhf4P0/wAAfD3w1aaRo2l24gsNOsYgkcKD0Hck5JJySSSSSSa0rCwsdKsYdM0yyitra2iWK3t4IwiRIowqqo4UAAAAcACpaWNx7xMVRpR5KUfhiv8A0qT%2B1J9ZP0ilHQrA5csLKVarLnrS%2BKT/APSYr7MF0ivWTlJ3CiiivOPSCiiigAooooAKKKKACiiigAooooAKg1XVNM0PTLnW9a1CC0s7OB57u7uZQkcMSKWZ3Y8KoAJJPAAqeviv4/eN9Y/4KffFbU/2HvgPrFzH8HvDepC3/aA%2BImnTFItUZCGbwpp8y/6ySTgXkqHEMRMW7fIVrfD0HWlq7RWrfZf5vZLq/nbehRdaWrtFat9l/n0S6v526H/gmVDqXx28T/FT/go1rtjNBb/GTX7e1%2BHsF1EUePwhpSSW2nTbWG6M3Uj3d4V7rcRnpivrOquhaFovhfRLPw14c0q3sNO060jtbCxtIRHFbwxqESNFXhVVQAAOAABVqliKvt6zmlZbJdktEvuX33FXq%2B2quSVl0XZLRL7l%2BYUUUViYhRRXkX7af7Sdz%2BzX8HW1Twfo66z458S30ehfDnw0py%2Bq61cZWBCO0UfM0rEgLFE5JHFaUaU69VU4LV/193Vvok2NJt2RW/ag/wCS3/s4/wDZZr7/ANQrxRXs1fL0/wAKPEnwPtf2S/hf4z%2BIOpeK9b0v4qXo1vxFq15JPNf3sngzxVLPIGkJZY/NdwidEjCIMBRX1DSqRjGbUXdJ79/P5g9GFFFFQIKKKKACiiigAooooAKK8X/Y5%2BLvxw%2BJV18UvB3x%2BvfCl3rPw/8AiY3h62vvB%2Bi3Nha3Fq2jaVqSForm6uXMitqDxlw4VxGrBEyRXJfsT/tT/F340fELxH4I%2BPfibRNH121udYl0n4fn4T634f1BNNtdWktIb%2BO%2B1G7kh1eBofsrPLaQrGr3UeWXeqkA6/8Abw/5Ihof/ZZvhx/6muiV7NXzx/wUL%2BLnwo8NeD/Bnwo8R/E7w9p/inxB8Yfh7LoPhq91qCLUNSSPxnozSNb27OJJgqqxYopACknGDX0PQB8hX8l5/wAEufinea8LaV/2cvG%2BstcagIYyy/DbWbiT55to%2B5pVzI2Wx8tvM5OFR%2BfriyvbPUrOHUdOu4ri3uIlkgngkDpIjDKsrDgggggjgg1HrWi6P4k0e68PeIdKtr%2BwvrZ7e9sryBZYbiJ1KvG6MCGVlJBBGCDivk5vC/xj/wCCY93Jf/DLQNZ8f/s%2BNK0l34Tsw93rfw%2BUklpLFSS99pq5Ja3yZYB8yb1DLXo%2B7mC1dqv4T%2BfSfrpLupfFfx%2Bv5/8ABPrqiud%2BFPxb%2BGnxy8Baf8UPhD4207xD4f1WHzLHVNMuBJHIO4PdWB4ZGAZSCGAIIroq4JRlCTjJWaI2CiiipA8k/a5/Y2%2BF37YHhHT9N8XXeo6D4m8N3h1DwN4%2B8N3H2fWPDN/jAuLWYDgEACSJsxyr8rqcAjxzwP8At0/Fj9kjxLY/An/gqRYWOkC5uFs/Cvx80a1MXhbxKScRpfdRot8w%2B9FKfIdg5ikxha%2BvqzvFvhHwp4%2B8M33gvx14Z0/WdH1O2a31LStVs0uLa6iYYaOSOQFXU9wQQa6qWISh7KquaPTuv8L/ADT0fk9Tpp10oezqrmj%2BK9H%2Baej8nqXbW6tb61jvbK5jmhmjDwzROGV1IyGBHBBHIIqSvkKT9gr9oX9kK5k8Qf8ABMj422%2Bm%2BHxIZZ/gX8TZri%2B8Mtk5ZdOulLXejk5YhEMsG5h%2B6AFafhL/AIKr/DXwb4htPhr%2B3f8AC3xB%2Bz34rupRBbv452TeHdRl/wCnLXYM2co6cStDJzygqng3Nc1B867L4l6x3%2Ba5kU8K5q9B867faXrHf5q6Pqqiq%2Bk6vpOv6Zb63oWp297ZXUSy2t3aTrJFMhGQyOpIZSOQQcGrFcexybBRRRQAV5t%2B05%2B1P8Lv2VPA6eK/H91Pc31/N9m8O%2BG9Mj83UNZuzgLBbxDliSVBb7q7hk5IB5/9q79sjw9%2Bzy2n/Dvwb4bn8Y/EvxLmPwn4F0psz3DHI8%2Bcj/UW64JaRsZCtjhWZcL9mP8AY38QaD44f9qH9q/xJB4v%2BLGow7Yp1XOn%2BGYDnFnp8Z4QAEhpfvNlsfedn9fDYGjRorFY26g/hitJVPT%2BWF95teUVKW3jYrH161d4TA2dRfFJ6xp37/zTttBPzm4x%2BLA%2BC/7K/wAUf2g/iJYftV/t4WsD6lZP53gX4XRSeZp3hdDgrLOOlxeHAJYghSPUIsX1LRRXJjcdWx1ROdlFaRitIxXZL83q29W2zswOAoYCm4wu5Sd5SespPvJ/ktElpFJIKKKK4ztCiiigAooooAKKKKACiiigAoorm/it8Y/hL8CfB1x8QvjT8S9C8J6Faj9/q3iHVYrO3U4zt3ysoLHHCjk9gacYyk7RV2NRlJ2SuzpK534rfFz4YfAvwFqPxS%2BMnj7SfDPh3SoTLqGs61fJb28K9gWcgFieAoyWJAAJIFfM83/BRL41ftPk6H/wTQ/Zkv8AxbYzHYvxe%2BJUNxoPhGAf89YBIgvdVAIIxbxKh4Pm45rY%2BGH/AATT0nXvHunfHv8Abv8Aixe/HHx/ps32jRo9csUtfDXhuXsdM0dCYY3XgfaJjLOdobeprs%2Bqxo64iXL/AHVrL7to/wDbz/7dOr6tGlrXfL5LWX3bL/t5/I42%2B8aftPf8FUFPh/4RJ4k%2BDn7PV1xqXjy8t3sfFXjy2PWLS4HAfS7GRet5KBPIrL5aICzV9XfBz4NfC79nz4Z6P8HPgv4IsPDnhnQbQW2laRpsWyKFASSe5d2YlmdiWdmZmJYknpqKyrYh1IqEVywWy/Vvq/N%2BiSRnVrupFQiuWK6fq31fn9ySCiiiucwCiivMv2mP2tPhJ%2Byx4fs7zx3eXeoa5rUxtvCvgzQLY3esa/ddoLS2X5nOcbnOETILMoq6dKpWmoQV2%2Bg0m3ZHQ/HD44fDD9nL4Yar8YPjB4ph0jQtIh33NzLlnkYnCQxIPmlldiFSNQWZiABzXiv7LPwg%2BJ3xp%2BLJ/by/an8MTaPrk1hJZfCzwBekM3g3R5cb5Zh0GpXQCmZhzGgWEHhhTfg7%2BzJ8Wvjr8TNL/as/butrRdW0iY3Pw8%2BFFjdC40vwcSPluZ3Hy32p7Tgz48uIkiIdGH0xXbOdPCU3Spu83pKS2S/li%2Bv96XXZaXcqbUVZbnjP7UH/ACW/9nH/ALLNff8AqFeKK9mrxn9qD/kt/wCzj/2Wa%2B/9QrxRXs1eeQFFFFABRRRQAUUUUAFFFFAHi/wJ/Y81j4E%2BNPF/jW0/ay%2BJXiOTxx4rh8Qa9Y%2BIbTw6IHu0tbezIT7JpEDpG9vaW0TAPnEIZSrs7NqfD/8AZag8J/Ghfjz42%2BN/jXx1r1lod9o3h3/hKjpkcGiWN5cW1xdQ28en2VrvMj2VmDJcGaQLbqA43Pv9UooA8Z/bw/5Ihof/AGWb4cf%2BprolezV4z%2B3h/wAkQ0P/ALLN8OP/AFNdErU8M/tgfBrWvjTqP7PPiK9v/C3jC0u5I9N0jxXZGyOuQqcC50%2BRj5d3E3OAjFxg7kXFaQpVKqbgr21dui7/ANfOxMpxja7tc9SooorMo%2Bcfih%2Bw54h8HePdQ/aB/YT8f2vw48bajN9o8Q%2BHrq1abwx4sk7m/s0IMMzdPtdvtlGWLCTNS/C//goJ4ct/Gdp8EP2v/Ad18HfiDdP5VhZeILpZNG15xxu0zUwBDcZyv7lzHMCwUxkjNfRNYHxM%2BFfw2%2BM/g27%2BHnxa8CaV4j0O/Tbd6VrNilxBJ6Ha4IDDqGGCDyCDXdHFwqxUMSua20l8S%2Be0l5S%2BUkXzJ6SN%2Bivl1f2QP2mv2Xf9M/YR%2BPQvPDkPK/CP4sXM%2BoaZEg/5Z2GogteWAAGFRzPHk8qAKvaF/wAFKfA/gfVrfwV%2B2t8LPEHwO12eUQw3nixVuPD15Ie1trNvm2YY5xMYXGeVFDwMqivh5e0XZaSXrF6/%2BA8yDkv8Op9KUVV0TXNE8TaTb6/4b1i11Cwu4hJa3tjcLLDMh6MjqSrA%2BoOKtVwtNOzICs/xT4U8LeOfD934S8beGtP1jSr%2BExX2marZpcW9xGeqSRyAq6%2BxBFaFFNNp3QJtO6Pm7wR/wS6/Z7%2BCfxT034ofsueKfGvwohttXS%2B1jwZ4H8TyReG9bAfLw3GlziW2jVhlc26wuM5DA11n7cvi3XfD3wg0vw1oPim90FvGHjbRfDl3r2nymKbTra7u0SaVJB/qmMYZA/G0yAgg4r2Ws3xd4O8IfEDw3d%2BDfHvhXTdb0i/j8u%2B0rV7GO5trlMg7ZIpAVcZAOCD0ro%2Bs1J1ozqtyt33%2B/r877djo%2BsTnVjOq%2Ba33/wDB%2Bdz5p%2BCHjP4meGP2Qviz4k%2BAzeIPGSaLrmtp8Ikv9Sm1e5vreKFBBHFPeSs9zGtyJUTzJTkIV3YAA8w1b/gpf8Zk0fQf2ZPgFrWi/Fr46eKby4so1u/CU/ha38JLbxyG6n1uGWe58qWIxsREgUsGQ7CGTzeh%2BO3jPU/2mfF9/wDshf8ABPWW60Cawms4fG/xV8OancWWn%2BFYrYFY7W0%2BzuqTXGwsnlJ%2B7x8rA7S0XQ%2BF/wDglV4c%2BBvhLQ7f9lf4rSeHPFVnHrS%2BJPGnirSG1q%2B1%2BXVY41ur2ZhPBtvFaJHhkO%2BKPdIphcSNXuqlhMHH2mMiueXvRg91orOpbaL3UVaUt2lF68EMww%2BbTnTw7tFS96dtHZNOMZLd3tzSirJ3Su/h5D9jz4ofs3fs%2BeFtF%2BLnxDl8V%2BKPiZ8RNGs9X%2BI/jW70druTQIrm4a2jW8kT5bGzFzDLEoXIxbMzAJGCn3JXx14t/YM%2BI9hrXib4HfDzRdNb4c/EG28L2mu%2BKbzXmXUNN0vSdi3Om/ZhDib7SqTEShwA9/cFlAC5%2BlPjtovx0134b3enfs4%2BO/D3hzxWZ4nsdT8U6DLqVkqBwZEeCKeFzuXKhg42k5wcYrzcxrRxmIVVzu5dW9Euisl7qWyilolt36oYHL8FShRwiUY69b763b1d7t3bu3u3dnY0V8q/bf8Agtt4c%2BabQP2XvFsafe%2Bz6j4h0OWQeytHeqD9WxUlr%2B0d/wAFWtJkNt4k/wCCZngvUwkbsbvw38f4cSMFJCiO602IjJAAy2OecAVzfU5v4Zwf/by/Wxv9Uk9pxf8A28v1sfU1FfKv/DaP/BQuxP8AxOf%2BCPHjNlHV9K%2BL3ha4H4B7yNv0pf8Ahvf9sCEYu/8AgkH8YlbuIfFnheQfmNTo%2Bo4jpy/%2BBQ/%2BSD6nX8v/AAKP/wAkfVNFfK3/AA3j%2B2ZcfLp3/BID4uM3YXPjTwtCPzOpGk/4bF/4KPX3/IK/4I%2B%2BIIQfutrPxr8NQD8fJmmI/Kj6jX68v/gcP/kg%2Bp1%2Btv8AwKP/AMkfVVFfKp%2BO/wDwV58T/ufD/wDwT1%2BFnhknhZ/FPx4lugPcpZaS35BjR/ZP/BbPxR%2B4vfGn7Mfg2J/vy6doniDXZox/smWazQn6rR9TkvinBf8Abyf5Jh9Ua%2BKcV/28n%2BSZ9VUV8p/8MY/8FC/Gf7n4r/8ABWnxDa2sn%2Bvs/hr8KNF0UgeiT3a3sq49d3vig/8ABH39m7xbz%2B0N8XPjT8Wx/wA%2B/wAQ/i9qktrn/r0s5La3wf7vl7fan7DCx%2BKrf/DGT/PlQexw0fiq/dFv8%2BVHqHxz/b5/Yn/Zojm/4Xv%2B1T4E8M3EH39O1HxJb/bSe4W2VjM59lQ15X/w9Rt/iiPsv7GP7F/xk%2BLbTcWWup4UPhvQZT6nUNaNsCvvHHJ7A5GfXfgj%2Bw7%2Bxx%2BzZ5UnwG/Zd8B%2BFLiIfLf6N4XtobpvdrgJ5rn3Zia9To58DT%2BGDl/idl90df8AyYfPg4fDBy9XZfdHX8T5NPgn/grx%2B0Oc%2BNfi38N/2fNBn%2BY6d4F05/FXiEIeDG99fJDZQtj%2BKO2lx1B9Oh%2BFf/BKj9kjwL4xt/it8TNF1v4ueObbmLxv8Y9bk8QXsJzkGCOf/RrTB6fZ4Y8dB0FfSNFKWNr25YWgu0Vb73u/nITxda3LC0V/dVvve7%2BbEVVVQqgAAYAHaloorkOUKK848XftZ/ADwpoPjHV4PiTpes3PgTT5rvxJo2hahDc3tsIgNyGMONrgsqncVCs67yuc1514w/an%2BIvjPWfDPwi8KWEnwy8Wax4uOj66fFOmQam2mZ027vrYRiC4EMv2kWkiJIHZQY5E27yldNPB4ip0svPTpf127J9O5Si2fRlUvEfiTw74P0K78UeLdestL0ywgaa%2B1HUbpIILeMdXeRyFRR3JIFch%2Bzf8WtY%2BMfwyHiDxXo1vpuv6ZrGoaL4j061ctFBf2V3LaymMtz5bmISx5JJjlQ5Oc1594l/4J/eAPjB8V7z4n/tR/EHxB8TbOPVWuvC/gfxDLHF4e0OPdmNRYQKsd3IoO3zrnzSRjgHmiFGlGrKNeXLbsrt%2BS2XzbtbvsCSvqcxqP7afxg/anvJvBn/BOjwDDqWl%2BY0GofGvxjaSw%2BHLLB2ubCL5ZtXmXDAeXtgDBd0pBxXffs3fsU/D/wCAviC8%2BK/ibxFqfj34m6zAI9f%2BJPisrJfzp1Nvbqo8uxtQSdtvCFUDG4uQDXsNlZWem2cWnadaRW9vBGscEEEYRI0UYCqo4AAGAB0qWrqYu0HTox5Ivfq3/il%2BitHyYOWlloFFFMubm2sreS8vLhIoYkLyyyuFVFAySSeAAO9cZJ45%2B1B/yW/9nH/ss19/6hXiivZq8K%2BPHirwx43%2BKH7NHivwZ4isdW0u9%2BMd%2B9nqOmXaTwTr/wAIX4pG5JEJVhkEZB7V7rTaadmCaYUUUUgCiiigAooooAKKKKACiuZ%2BFnxp%2BDnxz0S78TfBP4s%2BGfGOm2GpSadfah4W1631CC3vIwrSW8kkDuqSqHQtGSGAdSRyKTwd8bfgz8RPF%2Bu/D34f/Fzwxruv%2BFpxD4m0PR9ft7q80iQlgEuoY3Z7diVYASBTlT6GgDgP28P%2BSIaH/wBlm%2BHH/qa6JXc/Gb4EfCD9oXwfJ4D%2BM/w/07xBpjtvjhvYvnt5O0sMikPDIO0kbKw7GuG/bw/5Ihof/ZZvhx/6muiV7NVQnOnJSi7NdUJpSVmtD5sX4X/tqfsqfvfgZ40/4XF4Lh%2B74I8eamLfXrKP%2B5Z6qRsuQO0d2ucKB51dh8G/25vgR8W/E4%2BGep3%2BoeCvHKgef4D8eWJ0zVAT/wA8kkOy6U4yHgeRSOc17HXJfGL4DfBn9oLwwfB3xq%2BGmkeJdPBLRQ6pZq7QMf44pPvwv/toVYetdn1mjX/jx1/mjZP5r4X/AOSvzMfZzh/DenZ7fJ7r8UdbRXziv7K37TnwF/f/ALIn7Tc99pMX%2Bq%2BH/wAXfN1axVegjt9QQi9tlA4UMZ1H93HFPH7eutfCY/Yf2zf2bvFfw5WPiTxVpkJ17w8w6BzeWamS3B64nhjwOp4JpfUpVNaElPyWkv8AwF6/c5D9so/xFy/l96/Wx9F1V1vQ9E8S6TcaB4j0e11Cwu4jHdWV7brLDMh6q6MCrA%2BhGKx/hn8XvhV8Z/D6%2BK/hJ8R9E8S6a2P9N0PU4rqNSf4WMbHa3%2BycEdxXRVySjOnKzTTXyf6Gqaauj5t1r/gmT8IfC%2Br3Hi/9kz4g%2BLfgfrU8hmkHw81MJpFzL2M%2Bk3CyWUij0WND/tVXHin/AIKi/Ag%2BT4o%2BG/gT466LD8o1HwpfnwzrpUdXe0u2ks5Wx/DHPFn0Hf6aorrWPrSVqyVRf3ld/wDgStL8Wac766nzfpP/AAVM/Zg0vUofDn7QFv4t%2BDmrzvsjsfiv4Xn0qFz3KXuHs3X3Wc5/Ove/BvjrwR8RdDj8T/D7xlpWu6bN/qdQ0bUYrqB/pJGzKfwNXdV0jSte06bR9c0y3vbS4QpcWt3CskcqnqGVgQw9jXzb8cf%2BCff/AATu8IaTqnxw17wJZ/C2XTrcz3vjDwDrdz4amt8fx50%2BSJZHJOAGRyzMAASRVRjgcRJRjGUZPZL31f00l%2BZM50YRcpPlS1b6JfOx9KajqOn6Pp8%2BratfQ2trawtLc3NxKEjijUEs7McBVABJJ4AFfInij4rfFv8A4KQeI734Ufsz65f%2BFfg7ZXLWvi/4oQoY7rXypxJZaXuHCHlXnxjr2%2BWXxPwN%2Byx%2B2N%2B3N4J1qy8LftV%2BPNM%2BCs91DN4StfjBBHql94lEbZ3TfZBZ3K2T/wAIkmcnCMAx5X6K8L6v/wAFNvgJ4dsvCUH7LfwY8b6HptstvYWnw88X3Xh2SGJRhQttfwSwrx/CJ8e4r2o4PD5Q3y1ITxC2TdlT82pJqVRdr8sHvzS0Xgfvs%2B0g3DDd9Yyq%2BmzjTffSU1tyxd5e9/Bv4MfDT4A/D2w%2BF3wl8KW2j6Lp0e2G2t15dj96SRj80kjHlnYkk9TXUV81/wDDwfxv4R/0f41/8E%2Bfjp4cmT/j4udE8NW3iKzQdyJdLuZnIHr5Y4qaw/4K0/8ABP8Aku00zxP8e18K3jna1n438O6jojo390/breJePYke9eNUwWZVpupKLm3q2vev53Tke7Tw6o01TpxtFKyS2SXRJH0dRXnvgz9rf9lT4jBD8P8A9pj4f64X%2B6uk%2BMbK4J9sRyk59q7%2B3ube8gW5tLhJY3GUkjcMrD1BHWuKdOpTdpxa9U1%2BaRTTW4%2BiiioEFFFFABRRRQAUUUUAFFVNY17Q/DtodQ8Qa1aWMC9Z7y5WJB%2BLECvMvG37eP7Evw5Djxv%2B1x8N9OkT71vP40svO/CMSlz%2BArSnRrVXanFv0Tf5JjSb2PWKK%2BbG/wCCsv7F%2BsE2/wALvE3izx/dH/V2vgD4dazqpk/3ZIbUxH/vukP7cP7RnjX5fgj/AME0vipfj/n68d6hpfhmD64nuZJ8f9sd3%2BzXT/Z2NXxQ5f8AE1H/ANKa/Irkl2PpSivmrf8A8FZ/iT923%2BCPwssp%2B7vqXijUbcfQCyty3/fQPtSH9gb4s/EL95%2B0j/wUG%2BLPiZW4l0rwhc2vhTT5F7oyadGLhl7c3BOOpNH1SlD%2BJWivS8n%2BCS/EOVLdn0oJY2kaJZFLKAWUHkZ6Z/KvFvhX4r%2BIHwu%2BPfi/4P8Axo%2BLF54hsb7RoPFPhTWtZtLS1EFsJDa3tkDBFFGI4H%2ByOCwLkXnzMxrqP2fP2VPgH%2ByxpOo6P8Cvh%2BmiprFwk%2Br3EmoXF3c30qKVWSae5kkllYAkZZj1rQ8Sfs8fBLxn8U9O%2BNfjP4babrHifRrQ22i6rq0RuTpqEksbZJSyW7tn5pI1V2AAZiAAIjPDwlOOri1o7K99LdXbW99dhJxVz5otvgl4m8T%2BKfCXwcuPh3ql/p1n4j8QyS%2BOLPY2l6j4S1dbqeVTcoSBctcfYn8vad0kW/G0lh6R4D/Y58Xa3Pqc/wC0n4103XJT4f0jSNHvfDcFxY3SSac8kkWrNKZC0V6ZJAf3Z2J5Yxnewr6C6dKK1qZjXkrR0/Pe979L9loNzZzvwu%2BF/hb4QeEIvBnhI30lutxNc3F3qmoy3d1d3E0jSSzzTSszyO7szEk4GcAAAAdFRXnnxr/ax/Zw/Z1jUfGX4xaJol1Lj7PpUlz5t/cZ6CK0iDTyk%2BiIeorljGtiKlopyk%2B2r/AzlOMVeTseh1HdXVtY20l7e3EcMMSF5ZZXCqigZLEngADvXzu37UX7VfxwH2X9lb9lG70jTpeI/G/xjkfSLQDs8WnR7r24UjkbxAD6jrTrb9ge5%2BK1zHrf7bPx1174oyK4kXwrGP7I8NQMDlQNPtmzcbTxuuZJcjqBXR9UjS1rzUfJe9L7k7L5y%2BRj7Zy/hxv57L8dX8kWfFP/AAUB8H%2BI9eufh5%2ByJ4A1T4x%2BJraQxXTeGJVi0TTpP%2BnvVpP9Hj7/ACxmWTjGzNZ8H7HHxY/aJuI9e/b0%2BK8etadvEkPwq8EvNZeHYSDkC6kJFxqZBAP70pFkH91g19BeGPCvhjwToNt4V8GeHLDSNMsoxHZ6dplmkEECf3UjQBVHsBV%2Bn9bjR0w0eX%2B89ZfftH/t1X/vB7Jz/iO/lsv%2BD8/uPDPj94c8PeEPil%2BzP4Y8J6FZ6Zptj8YL2Gy0/T7ZIYLeMeCfFGEREAVVHoABXudeM/tQf8lv/Zx/7LNff%2BoV4or2auJtt3ZvsFFFFIAooooAKKKKACiiigD5V/YW%2BKXhqH4s/HbTofhf8RdCtPEHxlt77w2%2Bt/B7xDpNrdWTeHdEsVmjkurCKMRi4sblCcgIIwzYR0ZuI/YU%2BH/xB0v4w/Cnwxq3wo8UaHqHwn%2BGfjHQfiVr2s%2BGrqys9T1O/wBZ0uaFrW6ljWLU1uXs7u%2B863eVYw48wpJMVr7hooA%2BeP8AgoXpvxXn8H%2BDNR8OeNPD1r4Wh%2BMPw9GvaNe%2BGJ7jULxz4z0by2t7xb2OO2CttLB7aYsAQCmQRteOU/bn%2BGXjHUvFnw/l8L/E7wvd3bzw%2BEdQA0XVtOjJ4htrtd0Fwqj/AJ7qjHpv71P%2B3h/yRDQ/%2ByzfDj/1NdEr2atKVT2b2TT6Nf8ADNfJmNej7aKSk4tbNO3%2Bafo00eJeDf2%2BfgVqevw%2BBfiwdW%2BGPieY7U0D4jWB00zN0/cXLE21wCeAY5WJ9BnFe1wzQ3EK3FvKrxuoZHRshgehBHUVm%2BMfBHgz4h6DN4V8feEtM1vTLgYn07V7GO5gk/3kkBU/lXi0v7BOh%2BAJn1L9lH40%2BLvhXPuLrpOlXv8AaOiM56ltOvN8ag/9MjF7EVtbCVdm4Pz95feveX3M5r5hQ3SqLy92X3O8X8nE99oIBGCMg9RXgI%2BIf7fXwg/d/EL4JeGfijpcXXWPh7qn9makEHVnsL5jG7kc4juPoO1X/Df/AAUL/ZkvtXi8LfETxLqPw61yU4Gi/ErR5tFlz6LJcAQSZ7bJGz26ih4Ou1eC5l/dd/wWv4DWY4VO1RuD7TXL%2BL91/KRY%2BJX/AAT%2B/ZW%2BJPiBvHMPw5PhbxQclPFvgO/m0TUlc/xmazaPzT/10Dj24rnR8Df29PhCM/BX9rLSvHenR8Q6B8YfD4M4T0Gp6cI5C3vJBJ75r6B0rVtK13T4tW0TU7e8tZ03QXNrMskci%2BqspII%2BlWKqONxMVyzfMl0kub89V8mjo9jSfvR081p%2BWj%2B4%2Bdx%2B2N8f/ht%2B5/aN/YV8a2US8Nrvw3uofE9kwHWQxw%2BXdxr3wYCR79a990DW7LxLoNl4j01J1t9QtI7m3W6tnhlCOoZQ8bgMjYIyrAEHggEVbryb9rP9rLwB%2BzB4PhGrG91TxTrxa08IeEtCjEupardt8qiKMq2FDEbpGUqOBhiQjOFN4%2BtGlh6Vpvom2n8ntbdu9kt7JGdavSwNGVavUtBdX/wN29krXbskm2c/qn7aOk/B7TfiZ4o/aQ1DRNN0bwV4rTSdFuNFeV59VeSyhu0tVhk5e5VbiNSEO0ncx2KpI8I%2BEi%2BL/wDgoH4/n/aF/bU8Daz4b%2BFfhZrq%2B8GeDdRES6O32V2Sa81SXzNzzRlJAYpERF2OPu7w%2B9%2ByN/wTz%2BMNh42X9qj9r3xdpnijx1eXlzqeneGdSsla00C5mXKyBoCkLXOUhVpBEQojATJRGHVeMf2Yfi5L4c8fa5pXws8JeH08QaPY2974K8C6kZYddmTUBcXt67S21qn2iS3aWFEZfmZm3y4YEe8qmX5fKVPDTXtXZOoto7KSp9bvW9TzsuWPvPxfq%2BLzRqpiotUlrGm95dVKp%2BFqfS15cz91e%2B%2BBPjR8JfHnhG48XeDfGNk2kadP9lu551a1W0cBcI6zKhj4ZCMgAhlIyCDXUxSxTxLNDIro6hkdTkMD0IPcV8i%2BN7GSDx5pXxl/aI8EXej%2BCPEvjS81DWNA1TTftZza6YbTTEvYYBIpaXMsuDuVWhtkJ3bQPcv2SfDXirwP%2BzX4W0Xxzpb6ffw6c88mlGPnTYpJZJYrMKOnkRPHCF7eVivCxOFp0qanGW78n6q63ae/TVHu0qspS5Wv6/4J6VUN/p9hqlo9hqdjDcwSDEkM8QdGHoQeDXgcX/BUb9ii0kW18ZfFDUPCdznD23jLwhqmlFD6Frm2RPyY12/hP9s79kPx2FHg79qL4fai79IbXxhZNIPYp5m4H2IrOWCxtNXlTkvk/wA0n%2BZSr0ZPSS%2B9EPjP9iH9jP4iF38dfsn/AA31aR/vT33gqxklz6hzFuB9wa4G4/4JG/8ABO15nudK/ZsstGkc5L%2BGtd1HSjn2%2Bx3EWPwr6F0nW9F161F7oer2t7Cek1pcLIp/FSRVqnDG46krRqyX/b0vyv8AobqcraM%2Bbf8Ah1z8DNN48DfGX43eGFH3U0L4266ir9BLcv8ArR/w7lv7bjR/%2BCgX7SVmB0H/AAsaC5x/4FWcufxr6Soqv7Rx3Wd/VRf5xY%2Befc%2Bbf%2BGDPjNacaR/wU1%2BOyAdPts%2BhXB/NtMGaP8Ahib9ptOIP%2BConxaA/wCmmg%2BHmP5/2dX0lRR/aGK7r/wGH/yAc8v6t/kfNv8AwxH%2B0pLxd/8ABUL4usO/k6L4ejP5jTqP%2BGAvilejGt/8FL/2gZPUWOq6JbZ/750s4r6Soo/tDF9Gv/AYf/IBzy/q3%2BR82n/gm9Bdf8hv9uz9pK9B%2B8P%2BFrPa5/8AASGLH4Yo/wCHVP7Luqf8j54l%2BKvirP3v%2BEi%2BM/iGUN9Ql4gNfSVFH9o47pUa9LL8ooOefc%2Bd9H/4JN/8E5dHuxft%2ByV4X1Kcf8tvECTamx%2Bpu5JM/jXpvgn9lz9mb4aMjfDn9nbwLoBj/wBW2i%2BErO1K/QxRLXd1l%2BI/HPgnwfEZ/FvjDStLQDJfUdQjgGPq7Coni8bX0lUlLyvJ/hf9CXOVtWagAUBVAAA4AoryLxd%2B39%2BxB4GDDxL%2B1p8PYZE%2B/bweK7WeUf8AbOJ2f9K5g/8ABTn9lvWP3fwyHjnxzN/DD4L%2BGusX276SC2EZ/B6I4HGzV1Tlb0aX3uy/ExdegnZyX3/8OfQlFfPf/DZH7QHi3j4R/wDBO34mXg/5%2BPGeo6X4fi%2BuJrmSXH/bPPtSHV/%2BConjr57Dwb8Gfh7bS8Eanq2o%2BIbyEeu2GO0hJH%2B%2BR7VX1GrH45Rj6yj%2BS5mL28H8Kb9E/wBbH0LVLxB4k8O%2BE9Lk1zxVr1lpllCMzXmoXSQxIPd3IA/E14P/AMMi/tNeOOPjV/wUK8bSwHk2Hw80DT/DsYPceaEnuMf9tQfQirmgf8E0P2NtP1SPxF4x%2BFkvjjVkOW1b4ja1d6/M7f3iL6WSMH/dQCj2ODh8dW/%2BGL/OXKvwDnrS2jb1f%2BVxfEv/AAUq/Y/0vVZPDPgj4kT%2BPtaThdE%2BGujXOvzu393dZI8an/edRWef2hf24visfK%2BB/wCxhD4Uspf9T4g%2BMPiaO0Kj1OnWHnzk%2BzvH%2BHb3nw34W8M%2BDtJj0Hwh4csNKsYRiKy02zSCJPoiAAfgKv0/b4Sn/DpX85O/4R5V%2BLDkqy%2BKVvRfq7s%2Bdj%2ByJ%2B0b8V/337Tf7bHiSW0k%2BaTwv8LbFPDdiM/eja4Vpb2ZMcf65M%2BnXPoXwV/ZD/Zo/Z4ka8%2BD/wAGtF0i/lz9o1o25uNQnJ6mS7mLzyZ5%2B856n1r0evPL/wCN%2Bv6J8UtO8EeJPhPqGn6PrWsSaVo/iGfUbZvtV2tvLcf8e6MXWJkgl2uTuJQ5RRg0nicXXi4J2j2Vor7la/zuRJYeg1KW7dru7/HW34HodZXjDxv4X8BeGr/xd4r1UW1hpsYe9lSJ5WQEgABIwzsxLABVBJJAAOa8N%2BIfxa%2BJXhT4keLPGo%2BIE8Ol%2BDvEukWd34SltoPss2kXkVukl2HEfneaJZ/MD%2BZtVYWTZ1J8u8MfDc6lHa/A74b7dI8djSb6PxhGbYxK%2BpaZeLdabq92FAEhnuAp8/B85JZVyduBdPBJrmnLTT/N3%2BTWuu5xVszcZOFOF3qter1St31T0bTsvu%2BvfAPxF8I/E3RG1/wdqTzwxztBcxT2slvPbTKAWhmhlVZIZAGUlHUMMjI5rzf4nftWeItG8cX/AMJfgf8As8eLvHnibTmRL6RLX%2BzNHsndFkUTajdBYydjq2IVlODjGeK1PgR4c8dx%2BP8Ax18SPF3ge68MReJ7zT5I9EutSt7ktcW9oLeW7DQOyqJFSCMAkMVt1ZlUsVHp9YP2NGq7rmXr187b220aOpfWMRh1aXI7u7tra7WiltfR6p27bHgPxhuPHl148/Zhufifpml2evv8Xr06pa6JdyT2sUv/AAhXin5Y5JERmGMclRzmvfq8Z/ag/wCS3/s4/wDZZr7/ANQrxRXs1YN3dzriuWKV7hRRRSGFFFFABRRRQAUUUUAFFFFAHjP7eH/JEND/AOyzfDj/ANTXRKm8ZWv7bHgjxXqHiP4f6n4N8d%2BH7i6ea38MaxDJo%2BoWcRPEEN3H5sUuB/FLGpPdvWH9vD/kiGh/9lm%2BHH/qa6JXskcsUoJikVtrFTtOcEdR9auE%2BR7J%2BpzYrDLExS55Qa1Ti7P8mmvJpo8Rh/bp8D%2BEZV079o34a%2BLvhjdbgjXXiTSDPpjv6JqFp5sBHu7J9OleteDfHngf4iaOniHwB4x0vXLCT7l7pGoR3MR/4HGxFak0MVxE0E8SujqVdHXIYHqCD1FeS%2BMf2Gv2Z/FesP4q0v4f/wDCLa62Suv%2BB76bRrxW/vF7RkDn/fDVd6Et04/ivxs/xZxcmc4f4ZQqr%2B8vZy%2B%2BPNB/OMT1yqPiPwv4Z8Y6RLoHi7w7Y6rYTjE1lqVok8Mg/wBpHBU/iK8c/wCFIftd/Dj5vhF%2B1dF4is4/9TovxR8PJdkj0N9ZmCb8WV/x7%2Bk/CTVPi/qvhiR/jb4Q0TR9ZhvHiWPw9q8l5a3MIVSsytJFG8eWLDYwJG0HPOApQ5FzRkn96f3bm1DGTrz9lWoTg7dUpRf/AG9FtfJpX7HmWqf8E6/2bbbUJdd%2BEtn4g%2BGepzNue%2B%2BGviO40lSfe3RjbMPZoiO3SoR8H/28vhx83w1/as8PeNLVPli0z4m%2BEBHKF9De6a0RJ/2mhb3zXReNNe8Qy/H3Q9I%2BGPjzWL26%2B2RjxZoaLFLpdhpyxSFpJWMe6Gdn8sIqyb2JyUKKxHjf7Sv7cfxn1b9pM/sbfscQeGdR8RXNiINS8RajIWh8P3JDtI0jbtjPHGuRFtdi2QQdpQ%2Bjho47FzUE1JWu3PVRXdtq6Xz12Sbsn5GLxWU4GEpuMoPnUF7N6zk9UoqLUW%2B94%2B6/ifah8Yf%2BCj/7S3wb8UH4Bap%2ByNY698TdQ0uS40Ow8EeLf7Wt2x/y3uIBBHcwRAEsAwG8KQGHLDm/2Tvil%2By78IfGNx8bf2yfifrUHxq15Nmqax8R/CF/pMOlRnOLKwNxCsMMKgldysGcZOFB216f%2Bxh4X%2BCv7PlzqcMlprmoa94hTUb3Xfi74paAnxJJYy%2BXeOH81pIIY3yyI6qrIC4ZyGavfPA/xI%2BHvxi0i8k8MXT3tvbyiC9ttQ0ua3ZSyK67oriNGKsjKytgqwOQSK7cTjcJhqUsNhabUXZSmm4ufkk%2Bblhf7N7u159IrmwVCvjq0MRXxEZTTfJTklJRt105OaaX27NJP3NPeb/Avxf%2BE3xQtxd/DT4n%2BHvEMRXcJND1qC7GPXMTtXRV5P46/YU/Y5%2BJFwb7xX%2Bzb4Re7Lbjf2Ojx2dyT6%2BdbhJM%2B%2B6ud/4d/eBtA%2BX4T/Hz4veCol/1VponxEurm2Q/9cb/AO0Jj8K8bkwctptesb/jF/ofRe0zGHxU4y/wya/CUf1PeqK8GHwB/bY8M8%2BC/wBvBdTij/1Vp41%2BG9jdbh6NNZvbP%2BOCaPt//BTHw589z4c%2BCniuJOq2eparo80g9hJHcoD/AMCxR9Wi/hqRfza/NfqH12cfjozXolL/ANJl%2Bh7vLFHNG0M0aujDDKwyCPQiuI8Wfsxfs1%2BPSx8c/s9%2BB9ZL/fOq%2BE7O4J/GSM15/wD8NFftmaLz4q/4J931zGv%2Bsm8LfEnS7z8Qlx9mc/TFH/Dc2oad8niz9i3456ay/wCsaHwRHqCD6GyuJiR%2BFXDD4uDvTf8A4DJfpJCeYYJr37r/ABQkvzgw1b/gmB%2BwDq1yb3/hlrwzYzHpLokUunsPobV48fhVX/h2V%2BzLp3PgzU/iN4bI6HQfi1r0O36BrtgPwFW/%2BHj/AOzPYfJ4vXxz4dfvHr3ww1uDb9SLRlH4mpLX/gpf%2BwjdTC3l/aW8P2kh/wCWep%2BdaMPqJo1Iro587S3m/vf/AMkZfW8mv8cF80vz5SgP%2BCfVpa8aL%2B2d%2B0FZAfdA%2BKEtzj/wKil/Wj/hh/4nWP8AyA/%2BCiHxwi9BfX%2Bj3WP%2B%2B9OFdfpv7c/7FurgfYf2s/hwSeiyeNLKNj%2BDyg1t2X7T/wCzVqQB079obwNPnp5Pi2zbP5S1DxGZr4k/nBfrTNo1Mul8M4/Ka/8Akzzb/hkf9p%2B3407/AIKT/EVQOn2nwt4fm/nYik/4ZZ/bGXiL/gpl4wA/2/h34cb/ANs69cg%2BNvwYuhm1%2BLvhiQf9M9ftj/J6sL8Vvhc4yvxJ0A/TWIP/AIqo%2Bt4xbxX/AIBH/wCQNFHCvaX/AJN/9seN/wDDK37YMnFx/wAFMfGZH/TP4f8Ah1P5WdL/AMMf/tIXXGqf8FI/ic4PX7JoOgwfysDivYn%2BLXwriGZPiZ4fUerazAP/AGeqlz8d/gfZgm8%2BMvhSIDqZPEVsv83oWKxr2iv/AACP/wAgDWFW8v8Ayb/7Y8n/AOGFfHF582t/8FBvjzOe62uv6Xaqf%2B/WnAj86P8Ah3j4avOPEH7WHx91NT96Of4t3sKN9VtvKFeiX37V37LelgnUv2k/AFuB18/xjYpj85awtU/b6/Yi0gE3f7Wfw9bHUW3iy1mP/kN2q1XzSXwp/KC/SmZSq5bD4qkfnNf/ACZzH/Dr79j%2B%2B%2BfxX4b8W%2BIJD95/EHxL1263fVWvNh/75rU8Of8ABNf9gbwvKJtO/ZH8CzuDnfqmgx3zE%2BpNwHyarv8A8FNP2GC5jsP2gLDUWBxt0fS729P4CCF803/h4n8DtS48EeBfij4mJ%2B7/AGF8KNZfd9DJbIKtyzpqzc0vVr9YmSxeTp6Tg/Sz/JSPU/CPwV%2BDfgAqfAfwl8M6IU%2B4dI0G3ttv08tBiumrwY/tqeOtY/deCP2E/jPfyH7japo1hpcR%2BrXV4rD8Vo/4Xh%2B3drv7rw9%2Bwvpekb/u3Hir4qWi7Pdo7KC4z9A1c0sNiZO82vnJf/JNmqzDCJWgpP0hN/8AtqR7zRXg39m/8FMPEv7q78UfBbwnE/V7HTNU1ieMexkktkJ%2Bq0n/AAy9%2B1J4o/dfEn/goH4q8hvv2/gnwjpej4/3ZHjuJR/32an6vTXxVYr0u/yX6j%2BuVZfBQm/Xlj%2Bcr/ge9VwnxE/ah/Zu%2BEgkHxM%2BPHhHQ5I87rbUfEFvHMT6CMvvY%2BwBNcB/w7n%2BAWufP8WPEnxA8fP/ANTn8Q9SuY/%2B/McscOPbZj2ru/h3%2Byn%2BzN8JTHJ8NfgD4P0WaPG26sPD1uk%2BR3Muzex9yTRy4OO8pS9El%2Bbf5Bz5lPaEY%2BsnJ/dFJficGf8Agon8GPEfyfBXwD8RfiO3QSeDPAl49vntm5uVhgx/teZj3o/4W3%2B318Qv3fw//ZT8MeCrduY9S%2BI/jQXEm31NppqSYPsZl9Dive6KPbUI/BTX/bzb/D3UH1bF1P4lZ%2BkUo/i%2BZnDfBHwt8ffD1nqF18ffizoviW9vZY3s7bQPDJ06201QG3xoWmlkmDEg7nII29Oayvid8K/i/wCMfjd4b8deFfGXhzTdF8P6XcJHHqWjT3l0LueRFlljCzxRqfs6GNXbft82Q7DkV2Hjn4qfDH4Y2f8AaHxI%2BIuh6BBt3CXWdWhtVI9jIwzXl8/7fvwK1iVrP4Rab4t%2BItyjFWi8CeE7q8iB97llS3A9zJilB15TdSMd/LTt5L8TDE4nK8LBUK9ZJpp2c7zdnfZc03/4Cd3rHwF%2BG/izWNL8T%2BO9GGt6vpEvmWmqXmI5DiQSorrAESVEdVZVdWClQevNdnXh5%2BJv7cnxD%2BTwD%2Bzn4b8EWrcpqPxD8Tfapyp7/Y9PDYb2adffFIf2WfjP4/8A3nx6/a/8V30LctovgW2i8PWeD1Rni33Mi9uZhn9KUoNpe0mtPn%2BC0/Ezhj3Jv6phpyv1aVNP1c7Sf/gDPQ/il8ffgn8E7P7b8WfinoegArujh1HUUSaX/rnFnfIfZVJrzr/hr7xt8Rv3H7NH7MvizxRE/wDqvEPiSL%2BwNJKnpIsl2vnzL7RwnPr6dh8Lv2Tv2cvgzef2t8PPhDo9pqRbc%2Bs3MBur927lrqcvMT9Xr0Op5qEdk366fgv8y/Y5xiP4lWNJdoLml/4HPRfKB4J8aJPG8vxB/Zjk%2BJFrpcGut8X706nFok0klokv/CFeKciJpVV2XGOWANe914z%2B1B/yW/8AZx/7LNff%2BoV4or2asm7u56kI8kFG7dur3frtr8gooopFBRRRQAUUUUAFFFFAHy78Bv2xvjb8QPjF4Wk8baZ4WXwH8TNa8XaZ4Ks9L025i1XS5NFu5YoZLy4e5eK6W7t7a5mKxwwG3by48z5Mgu/Cv9qf4u67%2B2l4r%2BBvxY8TaJ4Z0W38T3Om%2BANAv/hPrdpc%2BJ7aLS7e7Nxa69PdjT7uRXa7LW8EDSCO1ckAIzjovB37BngbwF8SZviN4X%2BLvjeAW11rN14U0J59OlsPC0%2BrXq3mpS2KPZF2aeUOP9JecQpNLHAIVfFb99%2By1B4i%2BOWi/Gvx78b/ABr4ih8La1c6v4R8HakdMj0nRb6azuLJp4vs1lFdTFba7uo0FzcTKonYgblRlAOM/wCChfxc%2BFHhrwf4M%2BFHiP4neHtP8U%2BIPjD8PZdB8NXutQRahqSR%2BM9GaRre3ZxJMFVWLFFIAUk4wa7Xxf8Ash/CnxD4lvfHXhe/8Q%2BD/EGoTtNfa14P1%2BaykuJDyWkjy0MpJ674znvWX%2B3h/wAkQ0P/ALLN8OP/AFNdErpvEXxW%2BJ/g/XbuLWfgHquo6NHOwtNV8NahDdyvHn5We2YxyKcdQu/8ayrV6dBJzvbyTf32Tt9x5uZUsuq0orGU%2BaKej5ZPldt7x96OnVNdrnOf8IX%2B2h8PufCXxe8MeO7Neln4y0dtPuwo/hF1ZZRm92h%2BvrR/w1D4%2B8Hfu/jV%2By14z0ZV%2B/qXhtI9dslXuxa1PnKP96Ee9dFon7UfwO1e9XSL/wAbR6JqB4bTvEttJp0yn0xcKgJ%2BhNd7aXlpqFsl5YXUc8MgzHLC4ZWHqCODSpYihXV6c1L0af8AwV80jgoYWFRXy/Gy06OUasV6qfvr/wADRwHgb9rD9m/4jXX9neFfjHoj3u7adNvrr7Hdg%2BhguAkmf%2BA16EZIxH5pcBQMls8Y9c1yvxY8D/BPxH4au9a%2BNnhPw3eaVYWrzXl74jsoHitYlBLOXlGIwBk7sjFfEHhX4DQ/t0eNLvT/ANl7/hKfhh8BoDLaaz4g0/Xr6GTxkclXhs7SWQxRWw5BkaPB6bc7kHq4LATxfNUlLkpx%2BKb2Xkl9qT6RWr8km1nisyzjL6kKMoU605/CoOUJPu3GSnFRX2pcyS2V20jqvFWtXP7T/wAZtf8AhX/wTvSfwzp8uoSf8LR%2BMml6jdRWCzOwMsNlDHKsN3eMBzPtyoPDAMHr2n4N/sD/AA6%2BB0Gj%2BHPBvi7U28O6RrKa0NJurS1M15qaRsi3NxdJEs03Ls%2B1icNtAKqoSovh1%2BzT%2B0N%2Bzr4NsfAPwC%2BNnhm50DS4vL07QfFHgmOJY1zk5nsZImZiSSXZGZiSzEkmtv8A4Wj%2B2B4U/deL/wBmHSPECJzJe%2BCvGkYJHqIL6OE/hvJrfGZnz0/q%2BGTjSXfWUn/NN9X2S92K0j1k/NwlHD0J%2B2zHDVFVbvpBypx1vyw9lKWl9ZNxvNq8ukVyGtfsq/Fa5%2BFt54S1jUdM1JdE8PPpfhyx02Zkl1SN7kS3TzvKESGaeBfI2glFMjsXwQF9P%2BDfhvxZL4x8XfFnxloNzo8/iW6tIdP0W8nikmtLO1hKJ5phd4/MeWSd8I7AKyDccVz/APw2f4M0X/kpfwl%2BI/hJV/1lxrHgq4mgU/8AXWzEyH65rZ8LftgfsueMpBBoXx68LmYnAtrzVo7WbPp5cxR8%2B2K8%2BVec4tM7sJW4cpYmLp4lKS%2BzKSi20mlpNQlom0la3q1d1fiN8fPir8OfGV5pY/ZN8Y%2BIvD8Pl/ZPEPha/wBPuWuMxqz/AOiyXEcqbWLL0OduR1rD/wCG/fgjo/y/Enwx4/8ABjf9TR8PNShQf9tI4ZI8e%2B7HvXs2m6rpes2q3%2Bj6lb3cD/dmtplkQ/QqSKsUlOlazh9zf/BPWlh8xcnOjidHqlKEZL0TjKLt239WeXeFv22/2QfGTCPQf2lPBjSMcLBda/Bbyk%2BmyZlbP4V6FoXinwx4og%2B1eGvEdhqMWM%2BZY3iTLj6oSKpeKfhh8NfHAZfGvw80PWAwww1TSYbjP18xTXnuu/sCfsYeIJ/tV1%2Bzb4VtZc5Euk6cLFgfUG2KEfhT/wBnfdfc/wDIm%2BeQ6Up/OpB/lNHr1FeJD9gL4G6Zz4H8S/ELwwe3/CP/ABL1eID6B7hwPpjFH/DHXinTvn8L/to/GOzYfdW81%2BzvkH1FzaOx/wC%2BqOSi9p/en%2BjYfWs2j8WFT/w1Y/8At0Ys9tqK7srO/iNvfWkU0Z6pLGGH5GvF/wDhn79rOw%2BXRv29dWdB91dY%2BH2k3GPqY0iJ/Oj/AIVj%2B3lpnNh%2B1b4K1PHQan8MHiz9TDf/ANKPZQ6TX4/5B/aOKXxYSp8vZv8AKoj0nUvg58ItZJOr/Cvw3dE9ftOh275/76Q1iXv7KP7LepEnUf2bPAFwT187wdYvn84q5H%2By/wDgozafLF40%2BC98B0abw7q0DH/vm7cfpR5//BRyH/mF/BK4/wC3/WIc/wDkJ60XtY7VV/4EzGWNoS%2BPCVP/AAVF/wDtzNyf9iD9jC5O6b9kj4ZknqR4F08H9Iart%2BwZ%2BxK5yf2Sfhz%2BHg6zH8o6y/7b/wCCi8P%2Bs%2BHHwam/65eLtVX/ANCsaP8AhKf%2BChi8H4N/CdvdfHGoD%2BdhV8%2BKX/L7/wAnf%2BZm8Rlz3wc//BBqx/sH/sTRnK/sk/Dg/wC94Msj/OOrdt%2BxT%2BxvZnda/smfDSMj%2BJfAmng/n5Nc/wD8JP8A8FDn4X4P/CVPd/G%2Bon%2BVhR/a3/BRmb7ngP4LQf8AXTxTqzn9LIfzoc8U963/AJO/8wWIy9bYOf8A4IR2lj%2BzD%2BzVpZB039nnwNb46eR4Ss0x%2BUVbumfDH4baIQdG%2BHuh2hHQ2ukwx4/75UV5du/4KOzf8sfglbf9tdYnx/46lH9g/wDBRO/%2BW5%2BJnwe08H%2BKz8I6nOw/7%2BXqg/lUNVJfFUX/AIE2axxtGPwYSp/4Liv/AG9HtiRpEgjjQKoGAqjAFLXiX/Co/wBubUPmv/2x/DVhnqml/CtGx9GmvW/lR/wzh%2B0zqfyeJf29vFRjPVNG8H6NZ/kxt5GH5ms/ZQ6zX4/5Gv8AaGLfw4Sp83TX5zZ7bRXiR/YtuL3nxJ%2B138atQLfeVfGyWSn6CzgiIH41Th/YU/ZI1jV5tD8TvrnifU7eNZLq21/4japeTIjdGeJrrAB9SvNHJQW8/uX%2BbJeLzV2Sw8Y3/mqx/wDbYM9d8TfE34b%2BClZvGXxB0PSQv3jqerQwY%2Bu9hXnmvft9/saeHrn7FcftF%2BGr2fOBBol4dRcn0C2okJPsKrfC79l39gi9hmvfhb8Fvhvqwsrgwz3VrplpftDKACVMjByrYPrmvWdB8K%2BF/Ctt9j8L%2BG7DTYcY8qws0hX8kAFH%2Bzru/uX%2BYqc85xEFKEqKT6rnqfjeMWeQf8N1eCdZ5%2BG/wP8Aiv4tRv8AV3Gj/D26ghb/ALa3ogQfiaP%2BF5fth%2BKPl8EfsVjS4pP9Ve%2BNvHtnbbR6tDaLcv8AhkGvbqzfEXjHwh4Qt/tfizxVpulxYz5uo30cC4%2BrkCj2lJbQ%2B9t/5Dnhcdy81fFuK/uxpwX3y53%2BJ5F/wiH/AAUD8YjZr3xm%2BHHgqI848MeFbnVZx7eZeTRp%2BPlfgaP%2BGMtU8UfvPjF%2B1X8UfE5f/j4srbX00azlHp5OnRwnHsXNbet/tu/spaJd/wBnj426RqVz2tvD5k1ORj6BbRZCapf8Na3%2Bv/u/hn%2BzP8TNeZ/9Rcz%2BH10u2f382%2BkiOPcKaPb1F8Nl6Jf8FnlSq8NOXLUxDrPt7SdX/wAlp3X4Gh4H/Yo/ZQ%2BHd5/anhr4DeHmvt27%2B0tUs/t91u9fPujJJn33V6fDDDbxLBbxKiIoVERcBQOgAHSvIP8AhLv24PFv/IB%2BDngbwhF/z08TeJ5tSmx6%2BVZxImfbzfxpP%2BFEftGeLf8AkpP7XeqWsD8yWHgbw7a6YF9hPMJ5ce4IrOU5zd5Nv1OzD4ujQhyYDBTt5QjSj983F/8AkrZ65qGpadpFnJqOq38NrbxLmWe4lCIg9SxIArzHxD%2B2p%2BzZomotoWl/EeLxFqY4XSvCFpNq07N/dxaLIFP%2B8RVGx/Yv/Znj1mF/HOj3PjDWCpkSbxx4guNUlkA6sIriRo8fRAK7v4faz8KIZrnwV8NodNs/7PYiXT9OsBbRrtYoxQBVVwGG0lMgHgkGsnUgpJNq7NHWzqrJRbpUb6K7dSXpZezhe3qcH/wvT9ovx0Nnwm/ZWv7CCTiPVviJrEWmIh9TbQ%2BdOR7FUP8AKg/Bb9pr4gfP8WP2mm0W1k/1mj/DfR0sse32y5Msx%2BqhP8PVdf8AE3hvwrZHUvFHiCx022HW4v7tIUH/AAJyBXCXP7Vnwou53sfAf9seL7pGw0HhPRprxR9ZQBCB7l6yq4rDUHapNJ9r6/dq/wADCvhcJTdswxcpt/Z5lBP0hStJ/fI5D44eFrPwV8R/2ZfCmn6hf3cNj8YL2NLnVL57m4k/4orxQd0kshLOxz1Jr3ivC/j3q17rvxQ/Zo1jUdAutLnuPjDfPJp96yGWA/8ACFeKPlbYzLn6E17pW8ZKUU11PfpKnGlFU1aNlbfa2m%2Bu3fXuFFFFM0CiiigAooooAKKKKACiiigDxn9vD/kiGh/9lm%2BHH/qa6JXqVl438Hajqs2hWPinT5b63lMU9ml2nmo4OCCmc/pXlv7eH/JEND/7LN8OP/U10SvTfEvw78CeMAf%2BEo8IadfMR/rbi0UuPo%2BNw/A1xY3%2B0VBPB8jd9VPmSa8nC7Tv1aa8iZc3Qu634e0DxNZNpniPQ7PULZvvW99bJKh%2BqsCK8h%2BMfws/ZW%2BBfgvU/i94m1ab4e6fp8fmXer%2BHtan0/B7IsUTbJHY8KgRixIABziof2gNa%2BFP7Lngz/hL5PH3ivSbi4kMOheG9BvXvbjVrrGRb21pNv8AMY98YVRyxUCvHPhx%2By5%2B1T%2B034m0L9pb9sX%2Bxr6PTWNz4O%2BFGtFltNMU8pc3YgQJLdkdmQhc8gH5EzwsfbRnXzfCcsIJP93KnVnPW1qcU6dXe95SShFJ%2B9KVoPwM0nTrVFQp4dVK3dq8YL%2BaUkk13UVLml0SV5HN%2BFvgF%2B1N/wAFBtKTxb8R/H2saL8IbfUI7zwf4K8b26yXniaNDlJ9RNp5DrA2AyRlmJ6jjbI31Ho%2BtftGfDvSrbw%2BfgP4Y1TT7KBIbWPwdrws1giQAKiW9zGqqABgKHwMYFb4%2BIvxF0cY8UfBXUSi8GfQtQhvFPuEYxv%2BlLH8fvhrC4g1%2B/vdFmJwYtb0ue2x/wACdNv61zY/irJsVyU3XeFhDSMJ89OK9fbQtKT6yc235JJJYPJaGCTnGvNVGlzSb3tsrTUkoq/uxTsl3d28j/hp3QtJ48ffC/xv4cC8SXF94akuIFP/AF1tfNXHvxWr4c/aR%2BAnitxDovxc0FpicC3uNQSCXPp5cpVv0rpNF8ZeEfEgB8PeKdOvs9Psd6kn/oJNM8R%2BBPBHjCMxeLfB2laopGCuo6fHOMf8DU10UZ4itTU6FaFSPeyt/wCBQk0egqeaQXuVYTX96LX4wl%2Bho2t3a3sC3VlcxzROMrJE4ZT9COtZXin4dfD7xxGYfGvgTRtYQjBXVNLiuAR6YkU1yN1%2ByV8AXna80nwKdHnY5E%2BgalcWDKfUCCRR%2BYqP/hnnXdK/eeD/ANojx7YMv3I73U4dQiH/AAG5idj/AN9Vr7XHR%2BKkn/hkvykl%2BZNSeOlDlrYeM15Ti1904oo6l%2Bwx%2Byhf3bX9p8GrDSrhv%2BW/h65n01h9DayR4qD/AIY%2BsdM/5Ev9oj4raGq/6qCDxm93EnsEvEmGPatX/hCP2odG%2BfSPjroOr46Ra74P8vP1e2nT9FFH9tftbaR8974D8C60o7adr11Zu34SwOB/30aPrjXx0pr5X/8ASZP8jy3gMmTvLASg%2B8YW/GjUj%2BRlf8KS/aj0n5fDf7Zt1PGv3IvEXgWwuuPQvB5DH65o/sz9vPSP3dt4s%2BFOtovR7zR9RsJG%2BpjmmUfgtav/AAuD416d83iD9lvWNg%2B8%2Bj%2BIrC7/ACVpI2P5Uv8Aw0rb23/Ia%2BB3xHsQPvM/hRp1X8bd5BR/aGFXxNr1jJf%2B2i9llMPhr1qf/b9Zf%2BlwmjJ/4T79tjRfl1T9nTwZrOOr6L8QJIM/QXFmP1Io/wCF%2BftFaf8ANr/7E/iIIOr6T4s0q6/IGaNj%2BQrW/wCGt/gbB8ur65qumv3TU/DF/Bj6loMfrVmx/au/Zu1A7YfjT4fQ%2BlzfrDj6%2BZjFNZhgG7e1j/4El%2BbQ1PDXtTzNrylKi/8A0qEWYH/DWWr2vy6x%2Byb8XLYj7xi8N21yv4GC5cn8qX/hs7wTb/8AIa%2BEHxT04dzefDbUcD8UjYH8K7ex%2BN3wY1PB074u%2BGLjPTydft2/k9a1p4z8H3%2BDY%2BK9Nmz08q%2BjbP5Gt416E/hmn6NP8mdUIY%2Bf8PHxl/3DpP8A9JqI8y/4bp/Z1h41PVvEti3dbzwDrCY/H7KRR/w3p%2Bygv%2Bv%2BKbQ/9fOgX8X/AKHAK9dinhnXfBMrj1RgadWpt7DPemIpv/uE/wBKp4//AMN9fsfD7/x10pP%2BusM6/wA4xSj9vn9jg/8ANwWgfjK4/wDZa9fpCqnqAfrQHsc//wCf1L/wXP8A%2BWnkJ/b6/Y4HT9oHQT7LJIf5LR/w3x%2ByEf8AV/G7TpP%2BuVpcP/6DGa9fAA6CigPY5/8A8/qX/guf/wAtPIP%2BG8/2Vm/1HxIup/8Ar28MalL/AOgW5o/4bk%2BA0/8AyCF8X6gewsvh7q7Z/wC%2BrYV6/UVxfWVoM3V5FEPWSQL/ADobS3B0M9triaa9KT/Wqc38LPi1o3xb0661TRPDHiPTYrWYRkeI/D1xp7S5Gd0azqpdfccZ4riPjlZXvhf4leGviHpGpSQxDW7SDWPL8TXRnkWRvJWCKwJNuytvBdhtf5SQCea9JvPiB4D0/P2/xtpEGOvnalEuPzauT1f4h/sqQeJY/Gmt%2BNfAH9tQIEh1SfULI3aKM4VZCd4AyeAe59axliMPD4pperS/UzxsY1cFGlVrw500%2BZtQ2d7pKT9LXs9btXPNP2hL7w8fHGsa7qdzbS6zJpOnP8NbqJ1aWWeO6/fwWb9TM7EK6odzI5ByoOIJvCd5qXjy98Dafot1beLJ/EOutd6mLKRQ%2Bm3do5SUz42mPeY0Rd2VaMAABcj0x/2r/wBmXS1WztfixorBBhIdPLTYHsIlP6Un/DWHwjuvl0CLxLq7dl0zwdqEmfoTCAfzrF5jgP8An7H5NP8AK541XC5TVxEqk8XDV3aVm9d9U2%2BbpGVrqOmpjfAbT/Ed34%2Bg1u48KanpEOm%2BArHRdZj1DTZLZJdQglb/AFO5QJkVd48xMqQyYPp1XxT%2BFHjb4i6tbTaJ8fPE3hTT4rby7iw8O29mGnfcT5nnTQSOpwQMDjjOM5rO/wCGi9QvPl0L9nn4jXbH7pm0KO1U/U3EyEflSf8AC0f2hNQ/5A/7MMkCt92TWfGFpDj3KwiU/hS%2Bv4Z/C2/SMn/7aj0aP9mRwX1aUp1E3d8saivt/Io2WiulKz1b3ssr/hi3wDqny%2BPPil8SfE6H70Os%2BPr1Yj/wC2aJR%2BAFaPh79i39lLwxP9r0/wCAnhuefOftGqWAvZM%2Bu%2B43tn3zmpPtH7XuqfNFpvw80ZG6Ca5vb6RfwVYVJ/Gj/hWv7Rmq/Nrn7SUNkrffh0Dwhbx4HoHuHlP44FH1ucvgozfyUf8A0qX6EQwOUqXNTy9yfeUI3%2B%2BrObO/0Tw74f8ADVoLDw5oVnp8A6Q2VqkSD8FAFW9y7tm4biMgZ5xXmv8AwzTZaj/yN/xl%2BIGsq3%2Bshm8TPbRP7bLVYhit/wCH/wADfhX8LtSm1rwP4SS0vbmDybi9kuZZ5pI9wba0krsxGQD17VcKmLnNc1NRXnK7%2B5K34nsUKmNclH2MYQ/xptLyUY2/FFL41%2BIPiB4R0qPxN4QvGkhtyPO0%2BHRDcmQjLM0sgfMUQQHJVC2cYJyFqD4o%2BH9f8V3GieK/Dd/a3Wl21vNJeWlz4jubC2mVgjRykwAiXBXgPhcMeaufFaXTdT1DSPB2o32rxQ6lO0d2NLvBCDE2IwJTgsVZmC4Ug5PXFZnjrTtHs2udIg8G6Pe6ZomnQ6jc2GrWRuA6rujAi3tti2pGxztOSMYGc142OzHC0nX5pNqLimldtSs57duVNy30TVm9DDEYerVqVU37r5bavSS10snZd117HG32sWuv6zH45Tw5dxaz4gOian4Vkezd5U3L5U1t5gHyrGu5pFJAIkLYO6ul8DeCfF%2BkeLfD2h3OgXUNv4Vl1NDrLSxmC8sp2PkRKA28v/qS2VwDCeTuFaUfiHxSl/Ne2OtERPq8mlW%2Bm%2BRGsUAMQaB1AXduGQzZJBBOAAKd8K9QX%2B1LG30zUJpodQ8OpealBPdvM9veBkVtxckqW3OCOBmI8V5uGzTDVMfClyyvKW/uq/vOzsr3vKLb1UoRtdNXtjRy2MaqnKbbunokr63133kr33SstjqPE3w98CeNbyz1Dxh4O0zVZtO3mxfUbJJvIL7dxXeDgnavPsK1IYbTT7UQwRRwQxLhURQqoo9hwBWL4w0LxD4int7LQPiDPoqorG7js7WGSWYHG0hpAfLxzyAc5HTHOQnwF8D3bibxbdat4hkByG1zVZZlH/bMFY//AB2vbr4rMViZwweFUujnKpCMW7LpFTqO22qj91met7NQqOUYJN7vRX9dLv5nF/tMXFvd/Gj9m%2B5tZ0ljf4y3xSSNgysP%2BEK8UdCOte014l%2B0dpmm6N8YP2bdL0iwhtbaD4yXyw29vEERB/whXijgKOBXttevT9p7Ne0tzWV7Xtfra%2Btr7X17myuFFFFWAUUUUAFFFFABRRRQBzHhz42/Bjxj8QdZ%2BEnhH4u%2BGNV8V%2BHEV/EPhnTdftp9Q0tWxta4tkcyQA7lwXUZyPWi1%2BNvwZvvinc/Auy%2BLnhibxvZ2AvbzwdFr9u2qwWpCkTvaB/OWMh0%2Bcrt%2BZeeRXxx%2Bzx4e8Z%2BC/jV4D0PxB8IPGunal8MfE/xJv8Ax/4mPgfUWtdSttY1iSS0FrcpAV1I3rz2t6yW5lMItG88RPGFq74O%2BH/xBi/ak8PfDeX4UeKIde0H9p3xJ491rxnL4auk0qbw7eaFqdvbSJqZj%2BzTyFb2w0/7KshmT7MzGMRwq9AHvf7eH/JEND/7LN8OP/U10Sq37UP7Ungb9lqe207R7HVfFfj/AMVEw%2BE/h5pd20s%2BoTseJSnPkQgg7pSMABsAkEBP22fg/wDtP/GHwpoul/ADxV4CW20nxh4b13UPDnjDTb2F9VbS9esdTMceqW0sgsQyWhXLWF1uYgfIG3L4F%2Bw54F/a0sLjxV%2B0Va/s6fDbxT4z1nxn4g0XVvF/jD466ib4Lpmr3emvbwLF4YKQ2%2B%2BzYqE2712FlTCxR60cHk9erHEY6HO6T5oRV03KzXxJrljb4tJNrRK%2BseLGzzLkVHCNR59JTdnyryj9qT%2BztFPWV1o/T/gz%2Byf8Xzrtx%2B0l%2B1HrWn%2BJviTrNuIINOgV/sPha1dhttLIDcPlyS8mPmbnLFd7e8%2BM5dNn0%2B2ae%2Bs0%2Bz7phZXRI8/apXavKnIPQ4PIHHNeff8ACcf8FC/%2BjX/gz/4fjVv/AJl6R/Gn/BQeQASfst/BdgDkbvjvqxwf/CWr5bPMgeb4jGV/ae9iYwi4yTcIKDvFQSs1FOz5G5Q0s1aU79%2BX%2Byy%2BhTpQWkW3e/vSb3cm92%2Br0faySS7%2B41G%2BMzS2V1NbraPawwWe4EOzgMyvnJJ2sB14xmrOna9f6hfWxuhC9nqLTiCDyjuVEzhyxOCGA6Y/iFeXyeIP295dRXVpP2UfgsblBhZT8d9WyOCP%2BhX64J596g03Vf2/NLujdw/sx/B9yFZYUk%2BPerFYVY5KoP8AhFuASB69AK8ijkfEWHx8ZRr3pud3aTS5U1ZuLTWsL0/ZwtBPlk72Vu6VfDSptOOtu36%2But3ruj1PWvhB8LfELGTV/h/pMrnrMtkiSf8AfSgN%2BtZv/CifC1l/yLPiLxHow7JpviCfZ/3xIzr%2BGK8Ym%2BOX7dnjL4y638Drb9mj4Z2Oq%2BGPDGk67dXlr8ftUjglg1K41K3hRT/wjBLOraVOWDKABJHgsSwXr9M8Wf8ABRCwsY7Of9m74P3TIDmef48arvfknnHhYD26dq9WeS5dicynGrl0FG11VTgnJ6XTUFTqRe%2Brk07eaOCVGg4KV1ftZr8djuP%2BFffFDTuND%2BN926D7ser6Nb3H5sgjb9aNv7Qun8CTwhqar3Zbm0dvy8wZrjv%2BE4/4KF/9Gv8AwZ/8Pxq3/wAy9H/Ccf8ABQv/AKNf%2BDP/AIfjVv8A5l66P9XsND%2BBWrU/8NabX3T9ojL2a6N/f/w52P8AwnHxesv%2BQl8EjMB959M8QwSZ9wsojNH/AAuWS241f4T%2BMbUj7zLo4nUfjC71x3/Ccf8ABQv/AKNf%2BDP/AIfjVv8A5l65fVv2jv27dH%2BM%2BgfA64/ZQ%2BEjap4i8L6vrtncp8ddU8iODTrnTbeZHJ8Mbg7NqkBUBSCEkyVIUMf2Xm1P%2BFj5/wDb9OjP8lTYcs%2BkvyPWv%2BGgvhdF8up6te2Dd11DRrqHH1LR4/Wtrwp8RPA3jlpU8IeKbPUGhUNMltMGZAehI6ivM/8AhOP%2BChf/AEa/8Gf/AA/Grf8AzL0xPF//AAUCilaeP9lf4LK7j5nX466qCfqf%2BEWrfDUc9p117evTnDranKMvk1UlH70NKonq193/AAT0Px7421Lw7JBY%2BH9PjurgzQG780NshhklEYJx/ExJCj254qD4g65Da3DWFv4UsNTkgsJL29F/gKkCZGF%2BRsucHAOBxyRXk/i7S/22PGs0V5rf7IfwQe5jmif7X/wvDVPNZY3DBCx8LZ2nGCPQnFQeJYP%2BCi/iAiSL4B/Bu3kmsZLG/kX426oxntnOdq/8UwAjAEgNzjceDXnY2lxFzYl03dSceTlauklK6tNWTb5G23JNc1rWScTjOSaeq/rud/eaX8J9a1aOK4%2BB/h66sGuLe3ub26023LpLMgZAEMZDKNyhjuBBPAPJqlo/wp/Zw8W6pFZzfs9%2BG7eC%2Bill0u7XR7ZRdpGwDkKigp94HnqDXknxe%2BJP7eXwXsLTxxrf7Nfwil0W%2B8b%2BHdP/ALMsvjXqjTfbb/ULPSbZvMbw2qiFZrmGWQbS2EcrnhD1Phe1/wCCh3h6702Wf9nf4L3EOj2E1pp0S/G7V0ZUkZCS7f8ACMncwEajIC9z345aWFzyWKj7anFw5tbxpWteztpdQ5dY/a59HocssDhaj9%2BlB%2BsYf/Inokv7IX7NMrb/APhTukIfWGNo/wD0FhTf%2BGQf2dh/qvh55f8A1x1a7T/0GUVxfi67/wCCiHiyKCOH4GfDHSTAzHfpH7QOqRmTOOG3eFGyBjj6msP/AIRz/gpNH/qPBfggf9dP2gL1v5%2BD69DFUp0a7jSy6NSP8ylRjf8A7dkk1bbciWU5ZfTDQ/8AAYr9Eeof8Mi/AIfc8Kagn/XPxRqK/wArij/hkb4E9vD%2BsD6eMNU/%2BSa8v/sb/gp0v%2Br8IfD0f73xzu2/91CuX%2BNvxC/4KTfAf4MeLvjj4p8CeA7rS/Bnhi/13UrWw%2BNNw1xNb2ltJcSJGH8JqpcrGQoZlGSMkDmufmr/APQqf/gdD/5JE/2Vlv8A0DR%2B6J7x/wAMjfAjv4d1c/Xxfqh/9uaP%2BGRPgB0fwfev/wBdPEuoN/OevL/7K/4Khn73hP4c/h8bbof%2B6jR/Yn/BTZv9b4P%2BH5/3Pjrdr/7qFHNXe2VP/wADof8AyTD%2Byst/6Bo/dE9Q/wCGQP2cm/1vw0hl/wCu%2BoXMn/oUpqW3/ZI/ZptTmP4MaGx/6a2u/wD9CJryr/hGf%2BCkL8z%2BCPBTeyftC3yfy8IUf8Ij/wAFC3/1/wANfBr/APdyurJ/6B4UFC%2BudMqj86lD/wCQY1lWWrbCw/8AAYf/ACLPZrP9nL9n6wwbb4I%2BFAR0ZvD9ux/MoTWvY/DD4aaXj%2BzPh5oVvjp5GkQpj8lrwL/hBv265P8Aj9%2BCHgW59RP%2B1B4g/p4ZFcv8Eb39pv49/Bjwh8ctB/Y7%2BGg03xn4X0/XdOt9Z/aT19p4re7to7iNJVXw8yBwsgDBSwyDgkc1tGWcr%2BHgKUfWrH/2ygzeGEw9P4KMF6KK/KB9dImlaPDtRbe1jHYBUX%2BlUL34geA9Nz/aPjbSLfHXz9SiTH5tXz/B8Nv2o4H8wfsNfAiRvW4%2BOmryn/x/wwa07LRv2v8ATsGw/Yc/Z9hI7x/GPUAfz/4RWtlPieW1OhD1nVl%2BUIHSvaJWSS%2B89WvPj18GrJtknxI0qQ9hb3IlJ%2BmzOagPx88AXHGjRa1qTdl0/wAPXcmfofLAP51w9n4m/b509dth%2Byf8EoB6Q/HPVV/l4Wqf/hOP%2BChf/Rr/AMGf/D8at/8AMvR9X4lqfFiKUf8ADSlL8Z1V%2BKC1Xuvu/wCCdj/wtzWrz5NE%2BDPiydj0N1aw2qn8ZZQR%2BVH/AAlnxt1D5NP%2BEdhZZ6Sap4jU4%2Bqwxv8AzrybwD%2B0d%2B3b8RPFfjfwho/7KHwkhuPAfiiLQtVkufjrqgSeeTStP1MPFt8MElPJ1GFSWCnejjGAGbqP%2BE4/4KF/9Gv/AAZ/8Pxq3/zL0f2VmdT%2BLj6n/bkKUP8A2yb/ABDkk95fkdj/AGf%2B0DqXyXXiXwtpSnvZ6bPdOPxkkQH8q1/CPhrxho13Ld%2BKfiJcaz5ke1IG06G3jiOc7gEG4ntyxrzf/hOP%2BChf/Rr/AMGf/D8at/8AMvR/wnH/AAUL/wCjX/gz/wCH41b/AOZet8PkuHoVo1pVas5Lbnqza/8AAVywfzixqCTvd/ed743%2BGMfi%2B7fUofEuo2c7C3wkFxti/cyF0JCgNkFmxhhgnNRfEDwl/aOnvdG/n%2B2TRvaKlrtQXMDEkwSBg%2BVC7iWGG%2B8QRk159e%2BKf%2BCiN3c288f7OXwggWByzxQ/HjVNs3s2fCpOPpjrXLD46ftt%2BMvjHrnwJuf2SfhK2peGvDWka/c3L/HnVlt3g1G41O2hRCvhncXVtMnLgqFxJHgsSwXzczyRYvC4yGHoqFSpZKTnpJ2%2BJJc3K480krx1etnFtPanChGpGU9V1Wv%2Ba/Cx7XqvhSwvW07xhoWlTLds0LyG1ddxQx7Q22Q%2BWXCkKHI3BeAaguf7JN1JqVq7WTmylkMgxG73MMmHMmzAkbtzkY6da880/Uv2/dO0pNGt/wBmb4QLAibVWL4%2B6vGRyTkFPCwIPOOtTx67%2B3pFaJY/8MnfBR4o33osvx21Z8NnO7LeFySc9%2BteJX4XzPHLnfJTlOMHNXbj7WMUm48nLKKbcpSkmnJxhpozsp18NRfuq9m7aJOz73vrbT0uegxCQaqjSWxTUZdUinjcRHL27Iu8FsfdUbxgnqorptUs7q/sHtLTU5bSRsYuIVUsozzjcCORx%2BNeRf8ACcf8FCh0/Ze%2BDP8A4fjVv/mXo/4Tj/goX/0a/wDBn/w/Grf/ADL19FlXD1PLsPXozqOcau9rwe0rtuMk%2Bd8zvNOLdo9Y3eNXEupKMkrW%2Bf59NNtepD%2B0jaNY/GL9m20e7muDH8ZL4GadgXf/AIorxRySABn8K9sr5X%2BJ/iX9q3V/2k/2dLX41/Bf4e%2BH9HHxc1Fo77wt8Tr7WLkz/wDCF%2BJtqGCfRbJQhBYl/NJBAGw5JX6or3qVKFGlGnBWUUkt3olZattv1bb7tvU523J3YUUUVoIKKKKACiiigAooooAKo%2BKPENh4S8Naj4r1UObXTLGa7uREuW8uNC7YHc4U1eqO7tLW/tZbG9t0mhmjaOaKVQyupGCpB4II4xQB83/sa/tS/Hz4qeMNG8K/H/TfCSP43%2BE%2BnfEDwuvhPT7m3/su3uJQk%2BmXTT3EwupIRNabbuMQLKXl/cRbBu8rsP8Ago98Zfh18MD8afEvw/8ABl14b8d/C/xX46%2BGegaFp1xY3NlLY3toLe01K4eeVLl7xdThnknihg8l0mUpNuV695%2BAH7C/hD9nTVbfV/Cfxl8danLp2i6doGhjX7nTrgaV4fsnleDRoStkhNvmX55pC95IIot9y3lrjG0n/gmd8Bra08QeHvEnirxbr/h7VvCWueGND8MatqNstp4W0nV7hLi/tdOa3t4p0DyQ25R55Z5IVtokieNV2kA6b9mT4ufGPxH4%2B8f/AAL%2BP934Z1DxN4FutMmXXPCGj3GnWOoWN/aebE32a4ubl4ZUliuYmHnOGWOOQbN5jT2KvO/gB%2BznpXwGPiHWLj4keJvGniLxXqMN34g8WeMJLM3135FtHbQRbbK2treOKOKMBVjiXLPI7bnkdm9EoAK%2BXfgN%2B2N8bfiB8YvC0njbTPCy%2BA/iZrXi7TPBVnpem3MWq6XJot3LFDJeXD3LxXS3dvbXMxWOGA27eXHmfJkH1FXhng79gzwN4C%2BJM3xG8L/F3xvALa61m68KaE8%2BnS2HhafVr1bzUpbFHsi7NPKHH%2BkvOIUmljgEKvigCnrnxU%2BOPw8/bU8I/DPWtR8A67pXxEbU0XSND8L3Vtrug6PYWs08Wo3d695LHdW4unitSgt4As2qR7GbD7sj/gnD%2B1P8Xf2j/AvnftF%2BJ9EsvHf/AAjOkarrPw8t/hPrfhS%2B8ONdRymRZF1e7mfUYDKjxR3UCRxFraXlycJ1vgb9jT/hAf2lPFn7S%2BnftKfEK7vfGk6nWfD2pRaHNYrbxW7w2tlDL/ZgvYLW3MjzRwpchfOeSR95ll8zY%2BDf7L9t8LfiLqnxf8W/Gnxl8QfFOpaJb6Mmt%2BMjpsb2enwyyTC3hi02ytIFDSys7u0bSMQgL7UVQAeo0UUUAfLv7TX7Y3xt%2BFfxT8Yv8PNM8LN4N%2BE2i%2BG9T8d22s6bczajrEeqX1xFNHYzR3Mcdo1ta2/nhpIrgTySiLEIUyGb9sj9pX4mfAr9oXwdZ22r%2BHvCXgaTwjqV54l%2BIviP4Raz4ittNkW9sEW0lvbC7t4NIhkjaWV57tvK/wBGUnhK7b4z/sQ/Dj43fFI/EzXPHPirS4tRtdItfF/hrRrq1TTvFMGl3sl7YxXyy28kwWOaaXP2eWAyxyGKYyxhUE/x0/ZJuv2hPBMvwx8eftLfEOLwxqmj3Gk%2BLtB0xdFhi8SWU5cTQ3Mv9mmeENE7QFrSS3byz13/AD0Aeeal%2B2N8bbX9oC7lg0zwt/wrHT/jNZ/DS5sH025Oty3lxpsE41Nbr7T5CxLeXMVt9lNuWMavP54OIa%2Boq8XuP2HfhrP8e/8AheA8beKY7R/FMPiifwHHc2g0ObXotOXTotTZPs32nzVtkjAiFwLfzIkmMJlHmV7RQAV89fteftE/tAeA/iBB8Lv2cLXwiup6f8Ndd8b6zceMtNubqG6gsJLWKHTYRb3EBgkuHuJM3TGVYBCP3Exkwv0LXkf7S/7Hng/9pnULLWtR%2BJPi/wAI6hb%2BH9T8P32o%2BDby1hm1LRdQ8g3mnzG5tpwscjW0LCWIR3ERQmKaPe%2B4A5r9pz47%2BMoP2K/%2BGuvhf4s8J6Ho2m%2BCx4yvLPxr4DuNea6hS1S9toIIrfUrIx3PmBAhzITJsCqGwa4a9/ax/at%2BH3x18B/DT9obXPB/gjSLv4feELzxbrv/AAqHXtR0vUfEuoXt7bajpVvq0V%2BtnpAVoLRIPthmYvex/wCt4Q%2B4%2BPP2YfBfxH%2BGll8H/E/iTWW8Oad4o0nV7TSrUWkMaw6beW93a6YQluN1kJLWIMjZkdAUaQqxFVPjp%2By1B%2B0Frlsnjb43%2BNbfwks1jNqfw90w6ZHpWqyWtytzGZ5WsmvgGkSPekV1GjrGFK4Zw4B6pRRRQB4v/wAFBfi78cP2fv2R/Gnx6%2BAV74Uj1jwToV3rl1B4w0W5vra7tLW2lme3RLa6tmSV2RFEhcqgLEo/Aq7%2B2D8T/F3gTwd4a8C/D3TNBuNe%2BI/jK18KabL4q02S90y1WeGe4uZrm2jlha5RbS1ucQiWPzHKKXUEkan7WP7ONl%2B1p8CNe/Z91r4q%2BKfCOk%2BJ7KWx1y/8ILp32u5spYnimtt1/aXUaI6vyyIsgKja685zvG/7K0nxK%2BHVn4I8eftBeOtR1PSdT07VNA8YmLR4NT0nUrMkreQiDTktmeQM6yJLBJCySOnlhWKkA8Ek/bu/at8ZaH/whnwz0bwBbeNvCeheOtS8cXOs6RezabqT%2BHNYGlR21lHHdpJaC%2BbdOJpJLj7IoCGO5J3D62%2BF/j3TPip8NPDvxP0S2lhsvEmhWmqWkM%2BN6RXEKSorY7gOAfevEPEP/BNL4T6x4F0nwfo3xc%2BIGg3lnpviHTtd8T6LqViupeJLTXbtb3WIr15bN4wbm6UTeZbRwSwNkW7wKSp%2BgtD0TSPDOiWfhvw/p8VpYafax21laQLtSGGNQqIo7AKAAPQUAWq5r4xSfE2H4ZaxP8HNa0HTvEsVrv0y98TaVNfWMRVgXMsEE9vJKPLD4VZY/mK5bGa6WsL4meDtU%2BIPgPU/BejfEHWfCtxqNv5KeIPD8NnJeWYJBZolvbe4tySAVPmQuMMcAHBABwXwE%2BKPxg/aG/Yj%2BH/xr8P3PhrR/Gvjj4caJrjS3mlXFxpdneXllBcSn7Mtwk0kSmR9sfnqxAUGTq1eAXv7Zn7UWg/BzT18B6R4VuoNH%2BOd34E1Dx54O%2BDWu6/o8mhWeiXVy%2Bo2miabetdRrFqMKaS5FzLEksErZ2lQvsXhL9hqfwZ%2ByWn7Hmk/tb/FddBtfBCeFdK1%2BGfRLbWNNsY0SKJ4Li20uNVmSBBCspQnaS5zLiUaPg/9kbxN8PfghpPwN8A/tefEbRLXQrhF0nV9L0TwrDcWtglusEempCuifY1tk2h1It/ODHHm7MIAD0L4O%2BN9N%2BJXwn8NfEDSPHGkeJrfWdDtbtPEPh%2B0a3sdSLxKxuIInllaGNySyxtJIyAhWdiCT0lcv8FfhD4N%2BAfwp0H4OfD%2BK5XSPD2npaWbX1y008oGS0ssjcvI7FnZu7MTgdK6igArxf8AY5%2BLvxw%2BJV18UvB3x%2BvfCl3rPw/%2BJjeHra%2B8H6Lc2FrcWraNpWpIWiubq5cyK2oPGXDhXEasETJFe0V4v8Cf2PNY%2BBPjTxf41tP2sviV4jk8ceK4fEGvWPiG08OiB7tLW3syE%2ByaRA6Rvb2ltEwD5xCGUq7OzAHhngj9v/4q%2BDfhv8YviJ8XoPDVt4u8NaX4g1jRPhg3wo1rwzfX8dlfvp9leNqV/dSRatbyRrp6yXNrDsi%2B0xcgbEPvP7Mnxc%2BMfiPx94/%2BBfx/u/DOoeJvAt1pky654Q0e406x1Cxv7TzYm%2BzXFzcvDKksVzEw85wyxxyDZvMaZmufsEeBviJqviDVfj18YPHPxDOueCdX8JWkHiSfTrZNF0nU5IHvYbT%2BzbK1PmObS0xPMZZk%2BzJtdSXLdj8AP2c9K%2BAx8Q6xcfEjxN408ReK9Rhu/EHizxhJZm%2Bu/Ito7aCLbZW1tbxxRxRgKscS5Z5Hbc8jswB6JRRRQB4v8Ffi78cNa/a4%2BLPwF%2BKl74UutH8MaF4e1zwhP4f0W5tbmK01K51mH7PePNdTLcSoumRN5kaQLmVxsOAa5/xJ8RP2lvCv7fngv4QaZ4q%2BHOq%2BHPF2kaxrHiGzg%2BH15b6zpeg6ciRW%2B/Uf7VeKWQ6hqNuqq1oqsjXRVVKk10Gi/seaxoH7RfjD9pLTv2sviUNQ8Z6VZaZe6E9p4dOn2dpZz3U1pFAP7I88eUb26UNJNIzLMd5cqhXtNL%2BBfhXS/jh4l/aBTVtTm1/xJ4Y03QG8%2BaMw6dZWUt3Mi2yiMFGeW9leRmL7ykQ4EagAHjv/AATh/an%2BLv7R/gXzv2i/E%2BiWXjv/AIRnSNV1n4eW/wAJ9b8KX3hxrqOUyLIur3cz6jAZUeKO6gSOItbS8uThPpavLvg3%2By/bfC34i6p8X/Fvxp8ZfEHxTqWiW%2BjJrfjI6bG9np8Mskwt4YtNsrSBQ0srO7tG0jEIC%2B1FUeo0AFeD/ta/Gb9oL4DeJPC/i7wZ4g8EXvh7WvF2heHbbwLfeHLyTXNcub2%2BWG5a0vY71YoTBatJdbGtJh5dpMzvGgLx%2B8V4z8Sf2OV%2BIn7TuiftTW/7R3xA0LVfD%2BhjStM0DTIdEuNLggebzblo0vtMuJoZbkCOOaWKVHaOGNFZAOQDhf22P2ofjN8LfGXiCz%2BDXhzwddJ8J/hTdfErxMPFmlT3M2owq11DFp9hJFcQixnlhtdQU3bidU3Rr5Lq7kVY/wBtn4xah8azr2lad4XPwri%2BL1h8OnsZdLuf7clubvTLe4XVFuftPkpEt5dRWxtTbljGrzeeDiGu4%2BOn7CPgr9oNopvG3xg8cW0134Xu/DHi%2BfSLjToG8V6FczCWTTL4fYiqxffRZLYW86JNKFlHmOTan/Yc%2BGk3x6/4XevjXxRFaN4ph8UT%2BAorm0Ghza9Dpy6dFqbJ9m%2B0iVbZIwIhcC38yJJjCZR5lAHtFFFFABRRRQAUUUUAFFFFABRRRQAUUUUAFFFFABRRRQAUUUUAFFFFABRRRQAUUUUAFFFFABRRRQAUUUUAFFFFABRRRQAUUUUAFFFFABRRRQAUUUUAFFFFABRRRQAUUUUAFFFFABRRRQAUUUUAFFFFABRRRQB//9k%3D\">"
      ]
     },
     "metadata": {},
     "output_type": "display_data"
    }
   ],
   "source": [
    "try:\n",
    "    display_html(HTML(anim.to_html5_video()))\n",
    "# In case the build-in renderers are unaviable, fall back to\n",
    "# a custom one, that doesn't require external libraries\n",
    "except RuntimeError:\n",
    "    anim.save(None, writer=matplotlib_utils.SimpleMovieWriter(0.001))"
   ]
  },
  {
   "cell_type": "markdown",
   "metadata": {},
   "source": [
    "# Logistic regression\n",
    "Your assignment is to implement the logistic regression\n",
    "\n",
    "Plan:\n",
    "* Use a shared variable for weights\n",
    "* Use a matrix placeholder for `X`\n",
    " \n",
    "We shall train on a two-class MNIST dataset\n",
    "* please note that target `y` are `{0,1}` and not `{-1,1}` as in some formulae"
   ]
  },
  {
   "cell_type": "code",
   "execution_count": 68,
   "metadata": {},
   "outputs": [
    {
     "name": "stdout",
     "output_type": "stream",
     "text": [
      "y [shape - (360,)]: [0 1 0 1 0 1 0 0 1 1]\n",
      "X [shape - (360, 64)]:\n"
     ]
    }
   ],
   "source": [
    "from sklearn.datasets import load_digits\n",
    "mnist = load_digits(2)\n",
    "\n",
    "X, y = mnist.data, mnist.target\n",
    "\n",
    "print(\"y [shape - %s]:\" % (str(y.shape)), y[:10])\n",
    "print(\"X [shape - %s]:\" % (str(X.shape)))"
   ]
  },
  {
   "cell_type": "code",
   "execution_count": 69,
   "metadata": {},
   "outputs": [
    {
     "name": "stdout",
     "output_type": "stream",
     "text": [
      "X:\n",
      " [[  0.   0.   5.  13.   9.   1.   0.   0.   0.   0.]\n",
      " [  0.   0.   0.  12.  13.   5.   0.   0.   0.   0.]\n",
      " [  0.   0.   1.   9.  15.  11.   0.   0.   0.   0.]]\n",
      "y:\n",
      " [0 1 0 1 0 1 0 0 1 1]\n"
     ]
    },
    {
     "data": {
      "image/png": "[encoded data removed]",
      "text/plain": [
       "<matplotlib.figure.Figure at 0x12acf4a20>"
      ]
     },
     "metadata": {},
     "output_type": "display_data"
    }
   ],
   "source": [
    "print('X:\\n',X[:3,:10])\n",
    "print('y:\\n',y[:10])\n",
    "plt.imshow(X[0].reshape([8,8]));"
   ]
  },
  {
   "cell_type": "markdown",
   "metadata": {},
   "source": [
    "It's your turn now!\n",
    "Just a small reminder of the relevant math:\n",
    "\n",
    "$$\n",
    "P(y=1|X) = \\sigma(X \\cdot W + b)\n",
    "$$\n",
    "$$\n",
    "\\text{loss} = -\\log\\left(P\\left(y_\\text{predicted} = 1\\right)\\right)\\cdot y_\\text{true} - \\log\\left(1 - P\\left(y_\\text{predicted} = 1\\right)\\right)\\cdot\\left(1 - y_\\text{true}\\right)\n",
    "$$\n",
    "\n",
    "$\\sigma(x)$ is available via `tf.nn.sigmoid` and matrix multiplication via `tf.matmul`"
   ]
  },
  {
   "cell_type": "code",
   "execution_count": 70,
   "metadata": {
    "collapsed": true
   },
   "outputs": [],
   "source": [
    "from sklearn.model_selection import train_test_split\n",
    "X_train, X_test, y_train, y_test = train_test_split(\n",
    "    X, y, random_state=42)"
   ]
  },
  {
   "cell_type": "markdown",
   "metadata": {},
   "source": [
    "__Your code goes here.__ For the training and testing scaffolding to work, please stick to the names in comments."
   ]
  },
  {
   "cell_type": "code",
   "execution_count": 71,
   "metadata": {
    "collapsed": true
   },
   "outputs": [],
   "source": [
    "# Model parameters - weights and bias\n",
    "weights = tf.Variable(np.zeros((X.shape[1], 1), dtype='float32')) #shape should be (X.shape[1], 1)\n",
    "b = tf.Variable(0.0, dtype='float32')"
   ]
  },
  {
   "cell_type": "code",
   "execution_count": 72,
   "metadata": {
    "collapsed": true
   },
   "outputs": [],
   "source": [
    "# Placeholders for the input data\n",
    "input_X = tf.placeholder(tf.float32, shape=(None, X.shape[1]))\n",
    "input_y = tf.placeholder(tf.float32, shape=(None, ))"
   ]
  },
  {
   "cell_type": "code",
   "execution_count": 73,
   "metadata": {
    "collapsed": true
   },
   "outputs": [],
   "source": [
    "# The model code\n",
    "\n",
    "# Compute a vector of predictions, resulting shape should be [input_X.shape[0],]\n",
    "# This is 1D, if you have extra dimensions, you can  get rid of them with tf.squeeze .\n",
    "# Don't forget the sigmoid.\n",
    "predicted_y = tf.sigmoid(tf.squeeze(tf.matmul(input_X, weights) + b))\n",
    "\n",
    "# Loss. Should be a scalar number - average loss over all the objects\n",
    "# tf.reduce_mean is your friend here\n",
    "loss = tf.reduce_mean(-input_y * tf.log(predicted_y) - (1- input_y) * tf.log(1 - predicted_y))\n",
    "\n",
    "# See above for an example. tf.train.*Optimizer\n",
    "optimizer = tf.train.AdamOptimizer().minimize(\n",
    "    loss, var_list=[weights, b])"
   ]
  },
  {
   "cell_type": "markdown",
   "metadata": {},
   "source": [
    "A test to help with the debugging"
   ]
  },
  {
   "cell_type": "code",
   "execution_count": 74,
   "metadata": {},
   "outputs": [],
   "source": [
    "validation_weights = 1e-3 * np.fromiter(map(lambda x:\n",
    "        s.run(weird_psychotic_function, {my_scalar:x, my_vector:[1, 0.1, 2]}),\n",
    "                                   0.15 * np.arange(1, X.shape[1] + 1)),\n",
    "                                   count=X.shape[1], dtype=np.float32)[:, np.newaxis]\n",
    "# Compute predictions for given weights and bias\n",
    "prediction_validation = s.run(\n",
    "    predicted_y, {\n",
    "    input_X: X,\n",
    "    weights: validation_weights,\n",
    "    b: 1e-1})\n",
    "\n",
    "# Load the reference values for the predictions\n",
    "validation_true_values = np.loadtxt(\"validation_predictons.txt\")\n",
    "\n",
    "assert prediction_validation.shape == (X.shape[0],),\\\n",
    "       \"Predictions must be a 1D array with length equal to the number \" \\\n",
    "       \"of examples in input_X\"\n",
    "assert np.allclose(validation_true_values, prediction_validation)\n",
    "loss_validation = s.run(\n",
    "        loss, {\n",
    "            input_X: X[:100],\n",
    "            input_y: y[-100:],\n",
    "            weights: validation_weights+1.21e-3,\n",
    "            b: -1e-1})\n",
    "assert np.allclose(loss_validation, 0.728689)"
   ]
  },
  {
   "cell_type": "code",
   "execution_count": 75,
   "metadata": {},
   "outputs": [
    {
     "name": "stdout",
     "output_type": "stream",
     "text": [
      "loss at iter 0:0.6393\n",
      "train auc: 1.0\n",
      "test auc: 1.0\n",
      "loss at iter 1:0.5895\n",
      "train auc: 1.0\n",
      "test auc: 1.0\n",
      "loss at iter 2:0.5433\n",
      "train auc: 1.0\n",
      "test auc: 1.0\n",
      "loss at iter 3:0.5007\n",
      "train auc: 1.0\n",
      "test auc: 1.0\n",
      "loss at iter 4:0.4614\n",
      "train auc: 1.0\n",
      "test auc: 1.0\n"
     ]
    }
   ],
   "source": [
    "from sklearn.metrics import roc_auc_score\n",
    "s.run(tf.global_variables_initializer())\n",
    "for i in range(5):\n",
    "    s.run(optimizer, {input_X: X_train, input_y: y_train})\n",
    "    loss_i = s.run(loss, {input_X: X_train, input_y: y_train})\n",
    "    print(\"loss at iter %i:%.4f\" % (i, loss_i))\n",
    "    print(\"train auc:\", roc_auc_score(y_train, s.run(predicted_y, {input_X:X_train})))\n",
    "    print(\"test auc:\", roc_auc_score(y_test, s.run(predicted_y, {input_X:X_test})))"
   ]
  },
  {
   "cell_type": "markdown",
   "metadata": {},
   "source": [
    "### Coursera submission"
   ]
  },
  {
   "cell_type": "code",
   "execution_count": 76,
   "metadata": {
    "collapsed": true
   },
   "outputs": [],
   "source": [
    "grade_submitter = grading.Grader(\"BJCiiY8sEeeCnhKCj4fcOA\")"
   ]
  },
  {
   "cell_type": "code",
   "execution_count": 77,
   "metadata": {
    "collapsed": true
   },
   "outputs": [],
   "source": [
    "test_weights = 1e-3 * np.fromiter(map(lambda x:\n",
    "    s.run(weird_psychotic_function, {my_scalar:x, my_vector:[1, 2, 3]}),\n",
    "                               0.1 * np.arange(1, X.shape[1] + 1)),\n",
    "                               count=X.shape[1], dtype=np.float32)[:, np.newaxis]"
   ]
  },
  {
   "cell_type": "markdown",
   "metadata": {},
   "source": [
    "First, test prediction and loss computation. This part doesn't require a fitted model."
   ]
  },
  {
   "cell_type": "code",
   "execution_count": 78,
   "metadata": {
    "collapsed": true
   },
   "outputs": [],
   "source": [
    "prediction_test = s.run(\n",
    "    predicted_y, {\n",
    "    input_X: X,\n",
    "    weights: test_weights,\n",
    "    b: 1e-1})"
   ]
  },
  {
   "cell_type": "code",
   "execution_count": 79,
   "metadata": {
    "collapsed": true
   },
   "outputs": [],
   "source": [
    "assert prediction_test.shape == (X.shape[0],),\\\n",
    "       \"Predictions must be a 1D array with length equal to the number \" \\\n",
    "       \"of examples in X_test\""
   ]
  },
  {
   "cell_type": "code",
   "execution_count": 80,
   "metadata": {
    "collapsed": true
   },
   "outputs": [],
   "source": [
    "grade_submitter.set_answer(\"0ENlN\", prediction_test)"
   ]
  },
  {
   "cell_type": "code",
   "execution_count": 81,
   "metadata": {
    "collapsed": true
   },
   "outputs": [],
   "source": [
    "loss_test = s.run(\n",
    "    loss, {\n",
    "        input_X: X[:100],\n",
    "        input_y: y[-100:],\n",
    "        weights: test_weights+1.21e-3,\n",
    "        b: -1e-1})\n",
    "# Yes, the X/y indices mistmach is intentional"
   ]
  },
  {
   "cell_type": "code",
   "execution_count": 82,
   "metadata": {
    "collapsed": true
   },
   "outputs": [],
   "source": [
    "grade_submitter.set_answer(\"mMVpM\", loss_test)"
   ]
  },
  {
   "cell_type": "code",
   "execution_count": 83,
   "metadata": {
    "collapsed": true
   },
   "outputs": [],
   "source": [
    "grade_submitter.set_answer(\"D16Rc\", roc_auc_score(y_test, s.run(predicted_y, {input_X:X_test})))"
   ]
  },
  {
   "cell_type": "markdown",
   "metadata": {},
   "source": [
    "Please use the credentials obtained from the Coursera assignment page."
   ]
  },
  {
   "cell_type": "code",
   "execution_count": 85,
   "metadata": {},
   "outputs": [
    {
     "name": "stdout",
     "output_type": "stream",
     "text": [
      "Submitted to Coursera platform. See results on assignment page!\n"
     ]
    }
   ],
   "source": [
    "grade_submitter.submit('yangdong07@gmail.com', 'Ib4Cpow2kN7SKdef')"
   ]
  },
  {
   "cell_type": "code",
   "execution_count": null,
   "metadata": {
    "collapsed": true
   },
   "outputs": [],
   "source": []
  }
 ],
 "metadata": {
  "kernelspec": {
   "display_name": "Python 3",
   "language": "python",
   "name": "python3"
  },
  "language_info": {
   "codemirror_mode": {
    "name": "ipython",
    "version": 3
   },
   "file_extension": ".py",
   "mimetype": "text/x-python",
   "name": "python",
   "nbconvert_exporter": "python",
   "pygments_lexer": "ipython3",
   "version": "3.6.2"
  },
  "varInspector": {
   "cols": {
    "lenName": 16,
    "lenType": 16,
    "lenVar": 40
   },
   "kernels_config": {
    "python": {
     "delete_cmd_postfix": "",
     "delete_cmd_prefix": "del ",
     "library": "var_list.py",
     "varRefreshCmd": "print(var_dic_list())"
    },
    "r": {
     "delete_cmd_postfix": ") ",
     "delete_cmd_prefix": "rm(",
     "library": "var_list.r",
     "varRefreshCmd": "cat(var_dic_list()) "
    }
   },
   "types_to_exclude": [
    "module",
    "function",
    "builtin_function_or_method",
    "instance",
    "_Feature"
   ],
   "window_display": false
  }
 },
 "nbformat": 4,
 "nbformat_minor": 1
}
