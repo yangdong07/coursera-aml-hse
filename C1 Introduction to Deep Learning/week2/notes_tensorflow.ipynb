{
 "cells": [
  {
   "cell_type": "markdown",
   "metadata": {
    "slideshow": {
     "slide_type": "slide"
    }
   },
   "source": [
    "# Going deeper with Tensorflow\n",
    "\n",
    "熟悉tensorflow\n",
    "1. 观察 tensorflow 与 numpy 计算效率的比较\n",
    "2. 熟悉 tensorboard，可以看到一些流程，非常赞\n",
    "3. 熟悉 tf.gradients\n",
    "4. 熟悉 tensorflow 的optimizer，了解它是怎样声明和使用的。并且可以用图形显示优化过程。\n",
    "5. 实战：使用tensorflow 做 logistic regression\n",
    "\n",
    "\n",
    "小结：\n",
    "1. 都是一些基本用法。但是 tensorboard 对我来说还比较新鲜， 有些用法还是不习惯\n",
    "2. 画图很有意义\n",
    "3. 知道怎么用optimizer手动实现 一个 logistic regression。\n",
    "\n",
    "> 机器学习的配方是 准备数据，设计模型、代价函数、优化过程"
   ]
  },
  {
   "cell_type": "code",
   "execution_count": 3,
   "metadata": {},
   "outputs": [
    {
     "name": "stdout",
     "output_type": "stream",
     "text": [
      "No matching processes belonging to you were found\r\n"
     ]
    }
   ],
   "source": [
    "! killall tensorboard"
   ]
  },
  {
   "cell_type": "code",
   "execution_count": 19,
   "metadata": {},
   "outputs": [
    {
     "name": "stdout",
     "output_type": "stream",
     "text": [
      "No matching processes belonging to you were found\r\n"
     ]
    }
   ],
   "source": [
    "import sys\n",
    "sys.path.append(\"..\")\n",
    "\n",
    "! killall tensorboard\n",
    "import os\n",
    "os.system(\"tensorboard --logdir=/tmp/tboard --port=7007 &\");\n",
    "\n",
    "import tensorflow as tf"
   ]
  },
  {
   "cell_type": "markdown",
   "metadata": {},
   "source": [
    "## tensorflow计算速度"
   ]
  },
  {
   "cell_type": "code",
   "execution_count": 5,
   "metadata": {
    "collapsed": true
   },
   "outputs": [],
   "source": [
    "import numpy as np\n",
    "def sum_sin(N):\n",
    "    return np.sum(np.arange(N)**2)"
   ]
  },
  {
   "cell_type": "code",
   "execution_count": 6,
   "metadata": {},
   "outputs": [
    {
     "name": "stdout",
     "output_type": "stream",
     "text": [
      "CPU times: user 879 ms, sys: 1.92 s, total: 2.79 s\n",
      "Wall time: 3.86 s\n"
     ]
    },
    {
     "data": {
      "text/plain": [
       "662921401752298880"
      ]
     },
     "execution_count": 6,
     "metadata": {},
     "output_type": "execute_result"
    }
   ],
   "source": [
    "%%time\n",
    "sum_sin(10**8)"
   ]
  },
  {
   "cell_type": "code",
   "execution_count": 20,
   "metadata": {},
   "outputs": [
    {
     "data": {
      "text/plain": [
       "<tf.Tensor 'Sum:0' shape=() dtype=int64>"
      ]
     },
     "execution_count": 20,
     "metadata": {},
     "output_type": "execute_result"
    }
   ],
   "source": [
    "\n",
    "tf.reset_default_graph()\n",
    "s = tf.InteractiveSession()\n",
    "\n",
    "# An integer parameter\n",
    "N = tf.placeholder('int64', name=\"input_to_your_function\")\n",
    "# A recipe on how to produce the same result\n",
    "result = tf.reduce_sum(tf.range(N)**2)\n",
    "result"
   ]
  },
  {
   "cell_type": "code",
   "execution_count": 21,
   "metadata": {
    "scrolled": true
   },
   "outputs": [
    {
     "name": "stdout",
     "output_type": "stream",
     "text": [
      "CPU times: user 834 ms, sys: 460 ms, total: 1.29 s\n",
      "Wall time: 1.29 s\n"
     ]
    },
    {
     "data": {
      "text/plain": [
       "662921401752298880"
      ]
     },
     "execution_count": 21,
     "metadata": {},
     "output_type": "execute_result"
    }
   ],
   "source": [
    "%%time\n",
    "result.eval({N: 10**8})"
   ]
  },
  {
   "cell_type": "markdown",
   "metadata": {},
   "source": [
    "可以观察到 tensorflow的速度 快于 numpy计算速度。  尤其是sys部分。\n",
    "\n",
    "上面用到了几个概念：\n",
    "- InteractiveSession， 大概是交互式Session，可以实时运算\n",
    "- [placeholder](https://www.tensorflow.org/versions/master/api_docs/python/tf/placeholder)，占位符，参数有 dtype 、shape 和name，一般用作 训练数据的输入输出\n",
    "- reduce_sum， 等同于 numpy的 sum\n",
    "- range，等同于 numpy的 arange"
   ]
  },
  {
   "cell_type": "markdown",
   "metadata": {},
   "source": [
    "## 熟悉tensorflow 和tensorboard"
   ]
  },
  {
   "cell_type": "code",
   "execution_count": 23,
   "metadata": {
    "collapsed": true
   },
   "outputs": [],
   "source": [
    "# 将 session 中的 graph 写入 tensorboard 的log\n",
    "writer = tf.summary.FileWriter(\"/tmp/tboard\", graph=s.graph)\n"
   ]
  },
  {
   "cell_type": "code",
   "execution_count": 27,
   "metadata": {
    "collapsed": true
   },
   "outputs": [],
   "source": [
    "# 理解为命名空间： name_scope\n",
    "\n",
    "# 重置 graph 和 session\n",
    "tf.reset_default_graph()\n",
    "s = tf.InteractiveSession()\n",
    "writer = tf.summary.FileWriter(\"/tmp/tboard\", graph=s.graph)\n",
    "\n",
    "with tf.name_scope(\"Placeholders_examples\"):\n",
    "    # Default placeholder that can be arbitrary float32\n",
    "    # scalar, vertor, matrix, etc.\n",
    "    arbitrary_input = tf.placeholder('float32')\n",
    "\n",
    "    # Input vector of arbitrary length\n",
    "    input_vector = tf.placeholder('float32', shape=(None,))\n",
    "\n",
    "    # Input vector that _must_ have 10 elements and integer type\n",
    "    fixed_vector = tf.placeholder('int32', shape=(10,))\n",
    "\n",
    "    # Matrix of arbitrary n_rows and 15 columns\n",
    "    # (e.g. a minibatch your data table)\n",
    "    input_matrix = tf.placeholder('float32', shape=(None, 15))\n",
    "    \n",
    "    # You can generally use None whenever you don't need a specific shape\n",
    "    input1 = tf.placeholder('float64', shape=(None, 100, None))\n",
    "    input2 = tf.placeholder('int32', shape=(None, None, 3, 224, 224))\n",
    "\n",
    "    # elementwise multiplication\n",
    "    double_the_vector = input_vector*2\n",
    "\n",
    "    # elementwise cosine\n",
    "    elementwise_cosine = tf.cos(input_vector)\n",
    "\n",
    "    # difference between squared vector and vector itself plus one\n",
    "    vector_squares = input_vector**2 - input_vector + 1"
   ]
  },
  {
   "cell_type": "code",
   "execution_count": 28,
   "metadata": {},
   "outputs": [
    {
     "name": "stdout",
     "output_type": "stream",
     "text": [
      "Tensor(\"truediv:0\", shape=(?,), dtype=float32)\n"
     ]
    }
   ],
   "source": [
    "my_vector =  tf.placeholder('float32', shape=(None,), name=\"VECTOR_1\")\n",
    "my_vector2 = tf.placeholder('float32', shape=(None,))\n",
    "my_transformation = my_vector * my_vector2 / (tf.sin(my_vector) + 1)\n",
    "print(my_transformation)"
   ]
  },
  {
   "cell_type": "code",
   "execution_count": 29,
   "metadata": {},
   "outputs": [
    {
     "name": "stdout",
     "output_type": "stream",
     "text": [
      "[ 0.  1.  2.  3.  4.]\n"
     ]
    },
    {
     "data": {
      "text/plain": [
       "array([ 0.        ,  1.62913239,  2.09501147,  2.62899613,  0.        ], dtype=float32)"
      ]
     },
     "execution_count": 29,
     "metadata": {},
     "output_type": "execute_result"
    }
   ],
   "source": [
    "dummy = np.arange(5).astype('float32')\n",
    "print(dummy)\n",
    "\n",
    "# 计算输出的方法： 给placeholder赋值， eval计算输出\n",
    "my_transformation.eval({my_vector:dummy, my_vector2:dummy[::-1]})"
   ]
  },
  {
   "cell_type": "code",
   "execution_count": 31,
   "metadata": {
    "collapsed": true
   },
   "outputs": [],
   "source": [
    "# 添加 my_transformation（输出）的图，刷新日志\n",
    "writer.add_graph(my_transformation.graph)\n",
    "writer.flush()"
   ]
  },
  {
   "cell_type": "markdown",
   "metadata": {},
   "source": [
    "TensorBoard allows writing scalars, images, audio, histogram. You can read more on tensorboard usage [here](https://www.tensorflow.org/get_started/graph_viz)."
   ]
  },
  {
   "cell_type": "markdown",
   "metadata": {},
   "source": [
    "### Mean squared error\n"
   ]
  },
  {
   "cell_type": "code",
   "execution_count": 34,
   "metadata": {
    "collapsed": true
   },
   "outputs": [],
   "source": [
    "\n",
    "with tf.name_scope(\"MSE\"):\n",
    "    y_true = tf.placeholder(\"float32\", shape=(None,), name=\"y_true\")\n",
    "    y_predicted = tf.placeholder(\"float32\", shape=(None,), name=\"y_predicted\")\n",
    "    # Your code goes here\n",
    "    # You want to use tf.reduce_mean\n",
    "    mse = tf.reduce_mean((y_predicted - y_true)**2)\n",
    "    \n",
    "def compute_mse(vector1, vector2):\n",
    "    return mse.eval({y_true: vector1, y_predicted: vector2})"
   ]
  },
  {
   "cell_type": "code",
   "execution_count": 35,
   "metadata": {
    "collapsed": true
   },
   "outputs": [],
   "source": [
    "writer.add_graph(mse.graph)\n",
    "writer.flush()"
   ]
  },
  {
   "cell_type": "markdown",
   "metadata": {},
   "source": [
    "### Variables\n",
    "\n",
    "variable 可以用作设计参数，是在operation中变化的量\n",
    "\n",
    "- 初始化值和shape\n",
    "- 使用 `global_variables_initializer` 初始化\n",
    "- 使用 `assign` 赋值"
   ]
  },
  {
   "cell_type": "code",
   "execution_count": 36,
   "metadata": {
    "collapsed": true
   },
   "outputs": [],
   "source": [
    "# Creating a shared variable\n",
    "shared_vector_1 = tf.Variable(initial_value=np.ones(5),\n",
    "                              name=\"example_variable\")"
   ]
  },
  {
   "cell_type": "code",
   "execution_count": 37,
   "metadata": {},
   "outputs": [
    {
     "name": "stdout",
     "output_type": "stream",
     "text": [
      "Initial value [ 1.  1.  1.  1.  1.]\n"
     ]
    }
   ],
   "source": [
    "# Initialize variable(s) with initial values\n",
    "s.run(tf.global_variables_initializer())\n",
    "\n",
    "# Evaluating shared variable (outside symbolicd graph)\n",
    "print(\"Initial value\", s.run(shared_vector_1))\n",
    "\n",
    "# Within symbolic graph you use them just\n",
    "# as any other inout or transformation, not \"get value\" needed"
   ]
  },
  {
   "cell_type": "code",
   "execution_count": 38,
   "metadata": {},
   "outputs": [
    {
     "name": "stdout",
     "output_type": "stream",
     "text": [
      "New value [ 0.  1.  2.  3.  4.]\n"
     ]
    }
   ],
   "source": [
    "# Setting a new value\n",
    "s.run(shared_vector_1.assign(np.arange(5)))\n",
    "\n",
    "# Getting that new value\n",
    "print(\"New value\", s.run(shared_vector_1))"
   ]
  },
  {
   "cell_type": "markdown",
   "metadata": {},
   "source": [
    "### tf.gradients \n",
    "\n",
    "tensorflow 可以计算每个operatoin的梯度值"
   ]
  },
  {
   "cell_type": "code",
   "execution_count": 39,
   "metadata": {
    "collapsed": true
   },
   "outputs": [],
   "source": [
    "my_scalar = tf.placeholder('float32')\n",
    "\n",
    "scalar_squared = my_scalar**2\n",
    "\n",
    "# A derivative of scalar_squared by my_scalar\n",
    "derivative = tf.gradients(scalar_squared, [my_scalar, ])"
   ]
  },
  {
   "cell_type": "code",
   "execution_count": 40,
   "metadata": {},
   "outputs": [
    {
     "data": {
      "text/plain": [
       "[<tf.Tensor 'gradients/pow_grad/Reshape:0' shape=<unknown> dtype=float32>]"
      ]
     },
     "execution_count": 40,
     "metadata": {},
     "output_type": "execute_result"
    }
   ],
   "source": [
    "derivative"
   ]
  },
  {
   "cell_type": "code",
   "execution_count": 41,
   "metadata": {},
   "outputs": [
    {
     "data": {
      "image/png": "[encoded data removed]",
      "text/plain": [
       "<matplotlib.figure.Figure at 0x11a4dad68>"
      ]
     },
     "metadata": {},
     "output_type": "display_data"
    }
   ],
   "source": [
    "import matplotlib.pyplot as plt\n",
    "%matplotlib inline\n",
    "\n",
    "x = np.linspace(-3, 3)\n",
    "x_squared, x_squared_der = s.run([scalar_squared, derivative[0]],\n",
    "                                 {my_scalar:x})\n",
    "\n",
    "plt.plot(x, x_squared,label=\"$x^2$\")\n",
    "plt.plot(x, x_squared_der, label=r\"$\\frac{dx^2}{dx}$\")\n",
    "plt.legend();"
   ]
  },
  {
   "cell_type": "markdown",
   "metadata": {},
   "source": [
    "#### 更复杂的梯度\n",
    "\n",
    "下面这个例子不用理解意思。就是知道经过若干复杂缠绕的（无回路）的操作后，也能计算梯度"
   ]
  },
  {
   "cell_type": "code",
   "execution_count": 42,
   "metadata": {
    "collapsed": true
   },
   "outputs": [],
   "source": [
    "my_vector = tf.placeholder('float32', [None])\n",
    "# Compute the gradient of the next weird function over my_scalar and my_vector\n",
    "# Warning! Trying to understand the meaning of that function may result in permanent brain damage\n",
    "weird_psychotic_function = tf.reduce_mean(\n",
    "    (my_vector+my_scalar)**(1+tf.nn.moments(my_vector,[0])[1]) + \n",
    "    1./ tf.atan(my_scalar))/(my_scalar**2 + 1) + 0.01*tf.sin(\n",
    "    2*my_scalar**1.5)*(tf.reduce_sum(my_vector)* my_scalar**2\n",
    "                      )*tf.exp((my_scalar-4)**2)/(\n",
    "    1+tf.exp((my_scalar-4)**2))*(1.-(tf.exp(-(my_scalar-4)**2)\n",
    "                                    )/(1+tf.exp(-(my_scalar-4)**2)))**2\n",
    "\n",
    "der_by_scalar = tf.gradients(weird_psychotic_function, my_scalar)\n",
    "der_by_vector = tf.gradients(weird_psychotic_function, my_vector)"
   ]
  },
  {
   "cell_type": "code",
   "execution_count": 43,
   "metadata": {},
   "outputs": [
    {
     "data": {
      "image/png": "[encoded data removed]",
      "text/plain": [
       "<matplotlib.figure.Figure at 0x11f5c2dd8>"
      ]
     },
     "metadata": {},
     "output_type": "display_data"
    }
   ],
   "source": [
    "# Plotting the derivative\n",
    "scalar_space = np.linspace(1, 7, 100)\n",
    "\n",
    "y = [s.run(weird_psychotic_function, {my_scalar:x, my_vector:[1, 2, 3]})\n",
    "     for x in scalar_space]\n",
    "\n",
    "plt.plot(scalar_space, y, label='function')\n",
    "\n",
    "y_der_by_scalar = [s.run(der_by_scalar,\n",
    "                         {my_scalar:x, my_vector:[1, 2, 3]})\n",
    "                   for x in scalar_space]\n",
    "\n",
    "plt.plot(scalar_space, y_der_by_scalar, label='derivative')\n",
    "plt.grid()\n",
    "plt.legend();"
   ]
  },
  {
   "cell_type": "markdown",
   "metadata": {},
   "source": [
    "## optimizer\n",
    "\n",
    "比如 momentum 或者 RMSProp 或者 Adam"
   ]
  },
  {
   "cell_type": "code",
   "execution_count": 46,
   "metadata": {
    "collapsed": true
   },
   "outputs": [],
   "source": [
    "# y_guess 是变量，是需要优化的量，初始化为一个 (2,) 的零向量\n",
    "y_guess = tf.Variable(np.zeros(2, dtype='float32'))\n",
    "# y_true 是目标值，固定坐标 (1, 3)\n",
    "y_true = tf.range(1, 3, dtype='float32')\n",
    "\n",
    "# loss 是y_true 和y_guess的 MSE， 加上一个 (2,) 正态分布的噪声\n",
    "loss = tf.reduce_mean((y_guess - y_true + tf.random_normal([2]))**2) \n",
    "# loss = tf.reduce_mean((y_guess - y_true)**2) \n",
    "\n",
    "# 定义一个MomentumOptimizer，目标是优化 loss，变量列表是 y_guess\n",
    "optimizer = tf.train.MomentumOptimizer(0.01, 0.5).minimize(loss, var_list=y_guess)"
   ]
  },
  {
   "cell_type": "code",
   "execution_count": 47,
   "metadata": {},
   "outputs": [
    {
     "data": {
      "image/png": "[encoded data removed]",
      "text/plain": [
       "<matplotlib.figure.Figure at 0x11f99bda0>"
      ]
     },
     "metadata": {},
     "output_type": "display_data"
    }
   ],
   "source": [
    "from matplotlib import animation, rc\n",
    "import matplotlib_utils\n",
    "from IPython.display import HTML, display_html\n",
    "\n",
    "# 基本图形\n",
    "fig, ax = plt.subplots()\n",
    "y_true_value = s.run(y_true)\n",
    "level_x = np.arange(0, 2, 0.02)\n",
    "level_y = np.arange(0, 3, 0.02)\n",
    "X, Y = np.meshgrid(level_x, level_y)\n",
    "Z = (X - y_true_value[0])**2 + (Y - y_true_value[1])**2\n",
    "ax.set_xlim(-0.02, 2)\n",
    "ax.set_ylim(-0.02, 3)\n",
    "s.run(tf.global_variables_initializer())\n",
    "# 目标位置\n",
    "ax.scatter(*s.run(y_true), c='red')\n",
    "# loss的 cotour图\n",
    "contour = ax.contour(X, Y, Z, 10)\n",
    "ax.clabel(contour, inline=1, fontsize=10)\n",
    "line, = ax.plot([], [], lw=2)\n",
    "\n",
    "def init():\n",
    "    line.set_data([], [])\n",
    "    return (line,)\n",
    "\n",
    "guesses = [s.run(y_guess)]\n",
    "\n",
    "# 每次 run(optimizer) 将y_guess 结果添加到 guesses， 其坐标放到line中\n",
    "def animate(i):\n",
    "    s.run(optimizer)\n",
    "    guesses.append(s.run(y_guess))\n",
    "    line.set_data(*zip(*guesses))\n",
    "    return (line,)\n",
    "\n",
    "anim = animation.FuncAnimation(fig, animate, init_func=init,\n",
    "                               frames=400, interval=20, blit=True)"
   ]
  },
  {
   "cell_type": "code",
   "execution_count": 48,
   "metadata": {},
   "outputs": [
    {
     "data": {
      "text/html": [
       "<img src=\"data:image/jpeg;base64,/9j/4AAQSkZJRgABAQAAAQABAAD/2wBDAAIBAQEBAQIBAQECAgICAgQDAgICAgUEBAMEBgUGBgYFBgYGBwkIBgcJBwYGCAsICQoKCgoKBggLDAsKDAkKCgr/2wBDAQICAgICAgUDAwUKBwYHCgoKCgoKCgoKCgoKCgoKCgoKCgoKCgoKCgoKCgoKCgoKCgoKCgoKCgoKCgoKCgoKCgr/wAARCAEgAbADASIAAhEBAxEB/8QAHwAAAQUBAQEBAQEAAAAAAAAAAAECAwQFBgcICQoL/8QAtRAAAgEDAwIEAwUFBAQAAAF9AQIDAAQRBRIhMUEGE1FhByJxFDKBkaEII0KxwRVS0fAkM2JyggkKFhcYGRolJicoKSo0NTY3ODk6Q0RFRkdISUpTVFVWV1hZWmNkZWZnaGlqc3R1dnd4eXqDhIWGh4iJipKTlJWWl5iZmqKjpKWmp6ipqrKztLW2t7i5usLDxMXGx8jJytLT1NXW19jZ2uHi4%2BTl5ufo6erx8vP09fb3%2BPn6/8QAHwEAAwEBAQEBAQEBAQAAAAAAAAECAwQFBgcICQoL/8QAtREAAgECBAQDBAcFBAQAAQJ3AAECAxEEBSExBhJBUQdhcRMiMoEIFEKRobHBCSMzUvAVYnLRChYkNOEl8RcYGRomJygpKjU2Nzg5OkNERUZHSElKU1RVVldYWVpjZGVmZ2hpanN0dXZ3eHl6goOEhYaHiImKkpOUlZaXmJmaoqOkpaanqKmqsrO0tba3uLm6wsPExcbHyMnK0tPU1dbX2Nna4uPk5ebn6Onq8vP09fb3%2BPn6/9oADAMBAAIRAxEAPwD9/KKKKACiiigAooooAKKKKACiiigAooooAKKKKACiiigAooooAKKKKACiiigAooooAKKKKACiiigAooooAKKKKACiiigAooooAKKKKACiiigAooooAKKKKACiiigAooooAKKKKACiiigAooooAKKKKACiiigAorj/AAR%2B0J8A/iZ431n4Z/Dj44eD/EHiTw5JJH4h8P6J4ltbu%2B0t0kMTrcQRSNJAVkBQh1GGG088VZtfjb8Gb74p3PwLsvi54Ym8b2dgL288HRa/btqsFqQpE72gfzljIdPnK7fmXnkUAdPRRRQAUUUUAFFFFABRRRQAUUUUAFFFFABRRRQAUUUUAFFFFABRRRQAUUUUAFFFFABRRRQAUUUUAFFFFABRRRQAUUUUAFFFFABRRRQAUUUUAFFFFABRRRQAUUUUAFFFFABRRRQAUUUUAfIz%2BIrvxH/wUT0j40aVp3xZ1nw/4Z8I6/pWr2XiP4WX%2Bn6b4Ukmn0yMNpUo06CbVWu5bUtJiS%2BRUQyxvbxjbLy/g74f/EGL9qTw98N5fhR4oh17Qf2nfEnj3WvGcvhq6TSpvDt5oWp29tImpmP7NPIVvbDT/sqyGZPszMYxHCr19w0UAeIftr%2BO/wBp34WeFtF8bfAPx94D022ufF/hzw/qFj4v8B3uqyO%2Bq67Y6X9ojlttVsxGIkvDJ5ZR95jA3oDkWf8AhB/%2BChf/AEdB8Gf/AAw%2Brf8AzUUft4f8kQ0P/ss3w4/9TXRK9moA8Z/4Qf8A4KF/9HQfBn/ww%2Brf/NRVbWdA/bz8OaRdeIPEP7W3wQsLCyt3nvb29%2BB2qRQ28SAs0ju3ikKigAkkkAAZrtvhz8ddL%2BIPxC8S/DO58F65oGp%2BHTHIkWuxQx/2nZvJNEt5biOVy0JlglTLBW4UlQHUnwnxj4Y%2BMnh7SfE/w8%2BNujX%2BsaZ8RPFEvhqz8ZS%2BM3nuFS8eQ2EkOlRwrDawQsyQuY2EpCNOwKqSOulhHOfLN2emnVp9tbOyu/6dsZ1Uo3Svv/X3lHxB8b/27NYt/Cy/AD9pj4A%2BOLnxXqV3bWWPhRqtnboLWBp58y/8JHKfNCqAsRUFtwJKoC47H4Paz%2B3j8Zfh1p3xD0P9pT4RWkd4JYrqwvPgJqyz2V1DK8FxbSj/AISjiSKaOSNscbkOOKzfC3wc%2BK/xk%2BI914s8Z%2BCNU8Aatplhpl2de32sscviW1M0TXVtHHI3m272k8sT7wm%2BO5ZPvLlPb/gn8K5vhL4RuNG1LxGNX1PUtYvNV1nU0sVtUuLu5lMkjJCpYRoMgBdzHC5LMSSdcTTwtKlyxfvffvfqtNrbWflrpNKVWUrvb%2BvmeEeBx/wWR8RfFHWNF8XeKPgJ4e8H2FxPDpniCf4dapc32qbWxHMlnF4gKRRuAW/eThxkZTOcegf8IP8A8FC/%2BjoPgz/4YfVv/mor2aiuKclN3UUvS/6tm0U0tXc8Z/4Qf/goX/0dB8Gf/DD6t/8ANRR/wg//AAUL/wCjoPgz/wCGH1b/AOaivZqw/iF8T/ht8JPDsni/4qfEDRPDWlQ/63Ute1SGzgXjODJKyrn8amMZSdoq7K3PNf8AhB/%2BChf/AEdB8Gf/AAw%2Brf8AzUUf8IP/AMFC/wDo6D4M/wDhh9W/%2BaiuQn/4Kh/BjxncPpn7Lfwu%2BInxlulcx/afAPhOX%2BzEkzgB9SvDBaBf9pZH78HFNHiv/gqv8XOfD3wo%2BFXwe0%2BX5Wl8V65ceJtVjH98QWQgtVb2M7jPr1rs/s/ER/i2h/iaT%2B7WX/kpfJLrodj/AMIP/wAFC/8Ao6D4M/8Ahh9W/wDmorK8XH9tXwBpZ1vx5%2B2j8BNEsl%2B9eav8F9Stoh/wOTxUB%2BtYn/DB3xr%2BIH779or/AIKJfFfXc8PpvgZ7TwnYsvdStjGbgj63BODyTWt4R/4JZ/sB%2BE9UGv3H7NOh%2BItT6vqnjiWfX7h267i%2BoyTHOeeMY7Yo9lgYfHVcv8Mf1k1%2BQWgup4x4q/4KMP4T1I6Kf%2BCo37O2tXwyBZeD/gRrmuzE%2BgTTvEs5J7YxWb/w3d%2B3rr//ACSnwjrXi1H/AOPe8tP2O9a022l9CJdT8W2w2%2B/P0r7m8K%2BCvBvgTTRovgjwlpmjWa/dtNKsI7eIf8BjUD9K06Pa4CPw0pP1lb8Ix/ULw7HwPH8av%2BDgjxA4bwj%2BzN8I7OBz8k3jHRfsJx6lLTxNeMv0IzXffCy1/wCC7ev%2BI7T/AIW94p/ZT8N6I%2B77ZLo/hPxHqd9F8jbdsTalBE3z7QcyjAJPJAB%2BuqKieIpSjaNKK/8AAm/xl%2BgnJdjxn/hB/wDgoX/0dB8Gf/DD6t/81FH/AAg//BQv/o6D4M/%2BGH1b/wCaivZqK5STxn/hB/8AgoX/ANHQfBn/AMMPq3/zUUf8IP8A8FC/%2BjoPgz/4YfVv/mor2aigDxn/AIQf/goX/wBHQfBn/wAMPq3/AM1FH/CD/wDBQv8A6Og%2BDP8A4YfVv/mor2aigDxn/hB/%2BChf/R0HwZ/8MPq3/wA1FH/CD/8ABQvt%2B1B8Gf8Aww%2Brf/NRXs1FAHxJ4k1P/g4i8P7pdK0j9kfX0H3E0%2Bw8RW8jD3E96qg/8CNYI/aJ/wCC63hg%2Bd8Sv2XvBot1/wBZP4J8CQ6wf%2BAxyeMLaRv%2B%2BRX3zRXZHE0bWlRi/wDwJflJ/kVzLsfK/wCz98Sv%2BChPx%2B0zUr9/GnhvwRNpk8cU1j8Qf2YtX06WYspO6EjxY6TKMYLIxAJA71pfEvxF/wAFBvh74t8EeC7f9oL4M6he%2BNvEj6Xbr/wpTVYRaxRWNzeTXJ/4qZt4VLbbs%2BXLSKNwr6Wrzbx/%2BzPoHjv4y6D8dU%2BI/jDSdb8O288NhbafrKyaeVmiaKQtZ3EcsIYqeXRVf5R83XMU5Yd13Jq0bOy1lrZ27PfW/QFy3PBf2g/jh/wUO%2BCWpXmmaH8V/hH4kfQPDMniXxhJD8GdStk0nR42kDT5fxOTNKfJmKQqAWELfMOM60Hxz/aoufinb/CGL9rP4VnUrm7SyS7/AOGbde%2BwrfvaC8Wxa6/4SXyluTbETeUWB2%2B4xXb/ABj/AGSvHXxJ8U31xpHxXtLTR/Fvh6w0bx8l1ope9u7e1mkk3WsiSpHCZlkeGRWjZQrFkw2c8PqP7PH7SK6v4g8LaD4b06z0/TfFeu%2BL9B8S/wBqKf7Sv5bcppVsIBmSLySyrK78MLddmRIQnXTo4GpSScrO3e333XR9F038qSg0dT4Q179rv4gavqvh/wACftzfs%2Ba1qGhXAg1ux0r4O6hcTafISQEnRPFZaIkq2AwGcH0rf/4Qf/goX/0dB8Gf/DD6t/8ANRXF/sZeCtWfxvoXiLRPBHiDw54Z8GfCDTvCaQeJdBm0271HUzMJrl3imVXkEIiTE2NjyXc5RnBLH0f4l/ttfsqfBj4q2/wW%2BMHxs0fwr4gu7OO5s4vEbPZW1wjlgoS7mVbdnypygk3jIyBuGeethJKu6dFOVlfRXfntfyfW1yXHWyMz/hB/%2BChf/R0HwZ/8MPq3/wA1FH/CD/8ABQv/AKOg%2BDP/AIYfVv8A5qK9f0vVdM1zTodX0XUoLy0uYxJb3VrMskcqHoyspIYH1FT1x7EnjP8Awg//AAUL/wCjoPgz/wCGH1b/AOaivP8AwGP%2BCyGo/FLVfB/xL8UfATSfDkFvLNo3i/R/h1ql9HeYlVUhltpPEEMsEpRi5wHjGxhvPy5%2BpqKuM1FNOKd/XTzWv53Jaba1Pmf48eIv%2BCh/wV%2BHFx41sPjv8F9d1F7q3sdG0I/BrV7RtRvriVYbeBZB4jl2lpHUE7DhdzHhTV/4ieI/2wPhBo9pr3xY/ba%2BAnh2zvb2Ozgu9W%2BCmqQwtcPnam9/FIAzg8nA47V6B8VvgFqvxB%2BJ3hf4raX8TdStJfCt2bq28M30Edzo93N9nuIVmki2rKkyi5YrIkgA2qSjEDHC/tNQ/EnxB4m8NL4X%2BFfixvF2g3kEnhzWNKeCbQLk3Pl29/HeCQsUiSCSfJliRyozCxc7R10aVCqoQv3bezXZa6WVt9d3poZTnUhzO3a39I2bTwl/wUAv7WK/sP2qvgrPBPGskM0PwK1VkkQjIZSPFOCCDkEVJ/wg/wDwUL/6Og%2BDP/hh9W/%2BaivNdS%2BMuueHtf0z4uRfEy50Hw1a%2BK9StLHwjZ20MenQeGNKW4TULuaLZv377d3VwRtCRqnDkN7F8G/j74n%2BIXjWbwN47%2BFzeFr2Xw3a6/pVrLq4uZ3sppHj23MYjX7NOrpgx5cfNw5KsqzVwVWnHmWq/L/O11e2g4V4SdjjNS8Y/tm/CX40/Crw18Ufi38MPEvh/wAeeNbvQdTtNA%2BF2o6ReW4j8P6vqcc0VxNrl2gPm6dGjK0JysjYKkA19A14z%2B1B/wAlv/Zx/wCyzX3/AKhXiivZq4zYKKKKACiiigAooooAKKKKACiiigDxn9vD/kiGh/8AZZvhx/6muiV0/gH9pT4cfFD4t%2BIvhB4Dg1jUbnwoGj17Wo9HlXS7a8V1VrEXTAJJcru3MibtoByQRiuY/bw/5Ihof/ZZvhx/6muiV7KiJGCI0CgkkgDHJ5Jq4umovmV301tb/P00Jak2rM8u%2BLvwe%2BKHi/41eDviZ8MfGOkeHP7Ds72013Ubqwe8ub%2BynMTGzSHckajfEsgmdm2OgxGwZs9XafB34fJ4nsPHus%2BHrbV/EemWrW9l4i1W2jlvIUZmLBH2gR53EHYFyMA8AV09FW69VxUb2sraaaeb3e//AABKnFNvuFVtY1nSPD2lXOva/qttY2NnA015e3k6xRQRqMs7uxAVQASSTgAVT8bjxq3hHUV%2BHEulprptWGlPrUUj2izY%2BUyrGyuyDuFZSemR1rxI634q/ae/ZI8b/C/4i32k6V430d7vw94oxGYLAalAUeGULIzMltcxtbTKCzER3O3cWXNOlR9ouZvS6T7q/W3b9TRK50PxC/a50a2t/C6/s/aJp3xJufFUeoXGm/2P4khjtpYLKBZpglwFkR52EkYjh%2BXduLFkVGYeLeI/2k/G2seIvHnx48DfE3XI38H2eka/o3gW/mt4dP1fwsSseoRLGU3C/W5ttShLl2MU0duufLlUHV8I/Br4i/Gf40%2BIfGll4M1/4Z3UA0vV5dQ1PTY2iTxVbyPb3Eluqybby2ubGOGOZl2hl2bX3l9nr/gL9kj4Z6b4G0zw78X/AA5oHjjU7DXb3WhqeqeG4hFDfXVzJcubaGQym3iV5SI497lAifMSoNelfA4RWau9L7N66vvHbTRp63NPcid/418PXXjjwNqfhfTfFeqaDNqumy28GtaQUjvLBpEKrPF5qMqyoSGG9CARyp6V4z8Pf%2BCZ37IngzxFH498YeA7r4ieK05bxb8UtVl8QX5bsym7LRwkdvJjjA7CvfaK82nicRRg405OKe9tPxWvyvbyM1KSWgy3t4LSBLW1gSOKNAsccahVVQMAADoBT6KKwEFFFc/8SPiv8Lfg34bk8ZfF34k6B4V0iLPm6p4j1iCxt04zzJMyqPzpqMpOyV2NJydktToKK%2BVbz/gsN%2Byj4lvJdI/Zo8N/Eb4330LlJYvhD4AvNTtUYcfNfyrDYgZ4z5%2BB37UwftEf8FW/iv8Au/hN/wAE/PB3w9tZPmg1f4x/FJJZdnYtY6NDclWxztadT2OOtdX1HEr40o/4mo/g3f8AA6fqWIXxpR/xNL8G7/gfVtFfKY/Z0/4KwfEX/S/iR/wUZ8HeBkk4l0v4VfByGTYO4W61i5ujn38ketL/AMOsh4k/efF//goR%2B0x4saTm5th8UTo1rJ6jydIgtcL/ALJJ%2BtH1fDx%2BKsvkpP8ASKD2FCPxVV8lJ/okfVTukal3YKoGSScACuR8S/tBfAXwYzJ4w%2BN3hDSSn3xqXiW1gK/XfIMV4Kn/AARR/wCCal2wm8Xfs%2BXXimbOZJ/GfjjWtZaRvUi8vJF/IAV13hr/AIJX/wDBNPwkqjRP2BvhAGT7st18PdPuJB/wOWJm/WjlwC%2B1J/8AbsV%2BcmHLgl9qT%2BSX5yZtar/wUO/YB0Jimt/ty/B6zK/eF18TNKjI/wC%2BrgVjzf8ABUv/AIJoQNtf/goJ8Fyf9j4m6W38p67DSv2Nf2QdCULon7Knw2swv3Ra%2BBtPjx/3zCK2If2d/wBn%2B3XZB8DPByD0TwzaD%2BUdF8v7T/8AJP8AIP8AYe0//Jf8jzq2/wCCon/BNS7YJD/wUE%2BCuT0D/FDSl/8AQrgVvaN%2B3p%2Bwz4iYJ4f/AGz/AIT3xb7os/iLpkuf%2B%2BZzXSXX7N/7O96uy9%2BAnguYHqJfC1ow/WOsHWP2HP2KfEKlNf8A2PvhbfBvvC8%2BH%2Bmy5/76hNH/AAn/AN//AMkD/Yf7/wD5Kdn4X%2BK3wu8blV8F/EnQNXLfdGl6xBcZ%2Bnlsa36%2BdPFH/BIn/gl74vDDVv2B/hVFu6nS/BtrYn8DbIhFYB/4Iv8A7BGknz/hr4P8beBrkf6u68DfFnxDphj/AN1Ir7yx/wB8UcmAe05L1in%2BUg5cE9pyXrFP8pH1VRXyp/w7X%2BLPg7/Svgj/AMFR/wBojQrhf9VD4n1/TvE9qvplNTspZG/GWk/4Vb/wWO%2BGf/Im/tY/Bf4oQdfI%2BIPw3vNBuSPT7Rpd1LGD/tfZ8f7NP6tRl8FaPzUo/mmvxD6vRl8NVfNSj%2Baa/E%2BrKK%2BUT%2B2h%2B338Kv8Ak4f/AIJda/qljD8s%2Bu/BXx3p/iFXP95bK7%2BxXQHsFc8dzgVreB/%2BCvP7BfiXxDD4G8efF24%2BGfiWY7T4Z%2BL2gXnhe7V%2BmwHUY4opGyQP3bvycUngcVa8Y8y/utS/Jt/gDweJteMeZf3Wpfk2/wAD6YoqtpGsaR4g0yDW9B1W2vrK5jEltd2c6yxSoejK6khh7g1Zrk2OXYKzfFng3wh4%2B0Kfwt468K6brWmXK4udO1axjuYJR6NHICrfiK0qKabi7oD5r1P/AIJe/A3wrqVx4o/ZU8aeMPglrM8hmkk%2BHGuNDps8nUedpdwJbKRAf4REv1FV28af8FL/ANnH/kffh14Z%2BPfhuD7%2BseCGXQPEiRjlnfT7l2tLlsdFhmiJ7L2P05RXasfWnpWSqL%2B9q/8AwJWl%2BLL5299Txv4E/t6/s0fH/wARv8PNA8ZT6B40gH%2Bm/D/xrp8mka5btjJH2S5CtKB3eLzE/wBqvZK4T48fsxfAD9p3w4nhb48/CjSPEltCd1nLfW%2BLmyf/AJ6W9whWW3f/AG43VvevFn%2BCH7cf7JP%2Bn/syfFR/i/4Og5b4a/FHVNmr28Y/g0/W9uWPQLHeK6gDHmjrR7LCYj%2BFLkl2lt8p/wDySXqFoy20PqSivHP2eP24fgz%2B0D4hufhkU1Twd8QdNi36x8N/Gtl9g1i1UdZEjYlbqHjImgaSMgg5GcV7HXLVo1aE%2BSorP%2BvvXmm15ktNOzPOPHX7K3wb8WeG/GGmaH4K0nQNT8a2jRazrul6TCtxNIWDrLJ8uJT5gV2DcOR82au/CL4O6j4C1zXPH3jbxmfEfirxILWPVdXWw%2ByQrb2yOsFtBAHfyokaWeTBdiXnkJY547qiqeIrOm4OV0/%2BB13totPJGfs4KV7HjH7TrF/jb%2BzkShX/AIvPfjB9vBXijmvZ68Z/ag/5Lf8As4/9lmvv/UK8UV7NWJYUUUUAFFFFABRRRQAUUUUAeD%2BFPjN%2B0Fof7Z9v%2Bzp8QvEHgjxJpes%2BEdV8RLF4V8OXlje%2BFbaC9toLFb6Wa9uI7oXQmuFR1jtSXsZiiSKshiwvhX%2B1P8Xdd/bS8V/A34seJtE8M6Lb%2BJ7nTfAGgX/wn1u0ufE9tFpdvdm4tdenuxp93IrtdlreCBpBHauSAEZx0Xwm/YlvPg58QvG/xG8OftZfE27uvH2uT6rrcGrW3h2cLO7IIljm/sgXHlW8KLbwxPK6RxcBS3z1v337LUHiL45aL8a/Hvxv8a%2BIofC2tXOr%2BEfB2pHTI9J0W%2Bms7iyaeL7NZRXUxW2u7qNBc3EyqJ2IG5UZQDjP%2BChfxc%2BFHhrwf4M%2BFHiP4neHtP8AFPiD4w/D2XQfDV7rUEWoakkfjPRmka3t2cSTBVVixRSAFJOMGvoevGf28P8AkiGh/wDZZvhx/wCprolezUAFcT8ff2h/hD%2BzH8PZviZ8Z/F8OlaakqwWsexpbm/uX4jtraFAXuJnPCxoCx5PQEjH/an/AGpPBn7LXge11zV9Ivde8Ra7fLpvgvwXowD6h4h1Fx8ltAvYD7zyt8kaAs3YHhP2dv2RfGep/EGD9rX9tPVbLxL8UXiYaDpFsS%2Bj%2BBbZ%2BtppyNw05GBLeN%2B8kIwpVOG7KOHgqftq7tDolvJ9l2S6yei2V3oqUVa72PRP2afih8YvjD4JuvHvxb%2BBs3w%2BjvdRZvDWhanqaz6kdO2J5ct9Gi7LWdm3kwB3KKVViGBFJo37LXwo0z40678ftSt9Q1bxJrwgSWTVdQaS1tYoVVYo4bVdsClduRKyNNyQZCOK9GorF1pKcnT91S0sr7dtdenz/AV9dAooorEQUUV4H%2B1B/wAFAfh78BfGlt8Bfhr4M1b4o/F/VbYTaR8L/BpRrtIjgC6v53Pk6ZaZK5nnIyD8iuQRWlKlUrT5YK7/AK1fRLzdkaU6VStLlgrv%2Bt%2By82e9SyxQRNNNIqIilndjgKB1JPYV8w%2BP/wDgqp8FLjxfe/CX9kbwN4l%2BP3jayk8m70n4YWyT6bpsx6LfavKyWNoM5BBlZ1I5SsC0/YK%2BP/7YEi%2BKf%2BCnXxm%2B3aJMwktvgR8Nr%2Bew8M2y9Vj1G6UpdazIMKWDtHb7gcRFTX1L8Pfhx8PvhL4Qsvh/8LfA%2BkeHNC06Ly7DR9D06O0tbdfRIolVV/AV08uEofE%2BeXZaR%2B/d/JJeZvy4Wh8T532Wkfv3fySXmfMq/CH/AIKp/tN/6R8Z/wBofwz8AvDVx97wp8IrJdZ19om6xzazqEfkQyD%2B9bWp9nrovht/wSX/AGGvAviSP4g%2BMfhTN8S/Fy8yeMvi7q8/ifUXfOd6tftJHCfTyUjA7CvpKipljcRblg%2BRdo6fe1q/nITxle1oPlXaOn4rV/NkVlZWWm2cWn6daRW9vCgSGCCMIkagYCqo4AA7CpaKK5DlCiiigAooooAKKKKACiiigAooooAKKKKACsjxx8PvAXxO8OzeEPiV4I0jxDpNwMXGl65psV3by/70cqsrfiK16Kabi7oabTuj5W1n/gkN%2BzT4Z1OfxV%2ByV4t8cfAPXJpDK9x8JPE0llp88nUedpUwlsJUz1XyFyO44Ipv4k/4K0/stjd4r8JeDf2lvC0H%2Bs1DwwE8K%2BLI4%2BpdrSZ30%2B8YD%2BGOW3Zj0XkCvrWiutY2tLSraa/vav8A8C0l%2BLOlYyrLSraa/vav79Jfizwn9nX/AIKOfst/tH%2BLX%2BFWk%2BKdQ8I/EG3TN98MviJpUmieILfgk4tLjBuFwM%2BZA0seP4q92rzr9o79kr9nD9rfwmngv9or4QaP4otIH8ywnvYCl3p8uQRLa3MZWa1kBA%2BeJ0b3rwGb4c/8FBP2BR/afwV8Wap%2B0Z8LLUZuPAfjDUI08aaNAOT/AGfqb7Y9VVRki3u9sxCqqzMTT9lhq/8ACfLLtJ6fKWn3SS9R%2Bzw9f%2BG%2BV9pPT5S/%2BSS9T7DorzL9lz9r/wCA/wC2F4MuPF/wU8WvcTaZc/ZPEfh7VLR7PVtBvBndaX1nKBLbSqQwwww20lSy816bXLOnOlNxmrNdGc04TpycZKzQUUUVBJ5z%2B0Z%2Byj8Dv2p/D1tonxd8ICe702Xz9B8Q6dcNaarotwMFZ7O7iIlgcEA/Kdp2gMGHFeKj42/tJfsAzppH7W9/efEf4So4js/jJp2n/wDE18Px5wq65aQjEsQHH26BccZljUtur6wplxb293bva3UCSxSoUkjkUMrqRggg8EEdq66OLcIeyqrmh2fTzi94v8H1T3KUrKz2KvhvxL4d8Y6BZeK/CWu2eqaXqNslxp%2Bo6fcrNBcwuMrJG6Eq6kEEEEg1dr5I8Y/CT4if8E5NevfjV%2Byv4bvtf%2BEF3cveePvg5YL5kuhhjum1TQkP3ccvLYjCONxj2tgD6a%2BGPxN8A/GbwBpPxT%2BF3im01vw/rlkl1pWqWUm6OeJu47gg5BUgMrAqQCCKWIw6pxVSm%2BaD2fVPtJdH%2BDWqdtiUbarY82/ag/5Lf%2Bzj/wBlmvv/AFCvFFezV4z%2B1B/yW/8AZx/7LNff%2BoV4or2auUkKKKKACiiigAooooAKKKKACiiigDxn9vD/AJIhof8A2Wb4cf8Aqa6JXoXxh%2BLfgP4D/C7XvjH8T9cTTtA8OabLfapduMlY0GdqjqzscKqjlmZVHJFee/t4f8kQ0P8A7LN8OP8A1NdErg/2h7YftXfts%2BDv2S5P3/gz4c2Nv4%2B%2BJUA5ivrzzmj0XTpexXzYp7x42BDC2iz1rpwtGNar7%2BkUm5ei3t5vRLzfkVFXepe/Y4%2BC3jz4i%2BNLj9vT9qPQXtvHXiayMPgrwrd/Mvgbw%2B53RWaKeBeTLtkuZcBizCIbVQg/SlFFTiK8sRU5notklsktkvJfjq3q2KTcmFFFFYCCiivnH/goV%2B0B8UPCGmeE/wBlX9mPUYrb4t/GPUZtL8MalJF5ieG9OhQPqWuyp0ZbWFhsUn555YVw2SK1o0pV6ihHr9yW7b8ktTSlSlWqKC/4ZdW/JLU539oD9qD42/tFfGTVf2I/%2BCf2r21hq2iMsPxY%2BMdzai5sPA6uM/YrWM/JeauyHIiJ8uAENLydo9e/ZT/Y7%2BCH7HXgq48KfCXRLmW/1a5%2B2eKfFuuXRvNZ8R3xyXu7%2B7f57iViWPOFXcQiqvFaX7L/AOzR8Lf2Rvgro/wM%2BEemSxaZpaM9ze3kvm3eqXkh33F9dSnma4mkLO7nqTgYAAHoFbVq8eX2VHSH4yfd/otl5u7Nq1ePL7KlpD8Zeb/RbLzd2FFFFchyhRRRQAUUUUAFFFFABRRRQAUUUUAFFFFABRRRQAUUUUAFFFFABRRRQAUUUUAfPH7WH7BenfF/xlB%2B0r%2Bzv42f4ZfHDRbby9H8faXbhotVhXBGnavbDC6hZNtA2v8AvIsBo2UjBt/saftoX/x31XXPgJ8efAyeA/jV4HijPjPwS1yZILm3Y7YtW0yVsG60%2BYj5XHzRMfLkAYAt75Xzz%2B31%2Byj4t%2BMugaP8ff2c7230b43fDCSTUvh1rcnyx34I/wBI0W8OR5lleIDE4JGxykikFDntpVY14qjWf%2BGX8vk/7vdfZ3XVPspVY1oqlVfpL%2BXyf93y6brqn9DUV5t%2ByJ%2B0x4R/a%2B/Z48N/H7wfp9xp6a1asup6LejFzpGoQu0N3YzggESwTxyRNkDOzI4Ir0muScJ05uElZrRnLOEqc3GSs1oFFFFSSFfI/iuw/wCHa3x9X4m%2BHl%2Bz/Aj4na/HB4y0teLfwT4huXCRapEOkVldSFY514WOVkkBAZlr64rB%2BKHw08GfGT4c658KPiLoseo6F4i0ubT9VspRxLBKhRgD/C2DkMOQQCOQK6sLXVGbjNXhLSS8u681un302bKi7PXY83/ag/5Ld%2Bzj/wBlmvv/AFCvFFezV8vz/DTx98G7X9kv4U/Ez4jDxbq/h74qXthJ4iNoYXvYYvBnipYGkUsxMohEau%2BfndWbA3YH1BWFSMYTcYu6T37%2BfzE9GFFFFQIKKKKACiiigAooooA5DwL%2B0H8A/ih4y1n4dfDT43%2BEPEXiHw67J4g0LQvEtrd3mmMrmNluIIpGeEhwVIcDDAjrVi1%2BNvwZvvinc/Auy%2BLnhibxvZ2AvbzwdFr9u2qwWpCkTvaB/OWMh0%2Bcrt%2BZeeRXzX8NfivpnxY/bf1b4p%2BLPhJ8RfCWk/CzSda8L%2BBdNuPg14hh/tr7VeWZ1HVmuhYfZ3gkltIEtYIpGZ41muXB3xiHmfB3w/8AiDF%2B1J4e%2BG8vwo8UQ69oP7TviTx7rXjOXw1dJpU3h280LU7e2kTUzH9mnkK3thp/2VZDMn2ZmMYjhV6APe/28P8AkiGh/wDZZvhx/wCprolch/wTui/4TbxD8c/2ir8ebd%2BMvjTqthaXX97TNHCaVaoP9kG2nce8pq9/wUL034rz%2BD/Bmo%2BHPGnh618LQ/GH4ejXtGvfDE9xqF458Z6N5bW94t7HHbBW2lg9tMWAIBTIIr/8EsZo4v2X9R8OvbJDeaL8UvGVhqUSFjtuE8QXzNncSdxDqx578ADArto6YGs11cF8ryf5pFr4H8j6PoooriICiiigAr5L/ZFs2%2BOv/BRL9of9qbWWFxbeCL7T/hT4I3jmzhtLaHUdWK/9db29iUt1ItFGeMD60r5U/wCCW7LYah%2B0l4Uu/lv9O/al8VS3cbcNsuks7yByPQwzx4P%2Bz7V2Yf3cNWkt7RXyctfySOqh7uHqyW9kvk5a/kkfVdFFFcZyhRRRQAUUUUAFFFFABRRRQAUV4t%2B23%2B214A/Yk8BaZ4q8WaLPq%2Bo69qgsdE0a3vIrczuBueR5ZSFiiQbdznOC6cYJIxv2V/8AgpH8AP2pvE158ONMj1Xwx4u020e5vfDniS3WNzEm3fJFMjNFKg3qR8wYqdwXaCR6MMozKpgfrkaTdLX3l5aN97Ju17Wv1PNnnGV08f8AUp1oqrp7r31V0trXaV7XvbofQVZ/ibxb4U8F6W%2Bt%2BMfE2n6TZR/fvNTvY4Il%2BruQB%2BdUvid4d8YeLfh/q/hr4f8Aj1/C%2BtXtk8WmeIY9OjuzYSnpL5MhCyY/ukj6jrX5Ff8ABQD/AIJK/thfDmyb466L4k1X416vrWrSHxMujaPN/aMO7HlzCJXledTypVAPLCoACvK3gaGTyozrZhivYxj0UJzk/lFPT731tZXOh0uIcfmVHL8owirVaraTlVpUYJ2bs5VJwV3Z2TlFN2SlzNI/SXxJ/wAFIf2E/Cs7W%2BqftSeEpGXr/Z2o/bB%2BduHBqvpH/BTP9grW5kgsv2ofDKNIQFN5PJbqPqZUUD8a/MH9nJPi98Jf2T/EHxC8F/tk/DLwfrmk39%2BZvhr4s0zS5dbkW3UArGbyGS4SZ2EipAFC5VfmBY7fHz%2B2X%2B0Fqmjt4K8V/ExL3SL1wNQnuvDFhfXKxuQX2yTxCQkZOF8xRxgMBzX3%2BF4DwGM5/ZVJNRdm2%2BV%2BtnSSfdWlJSVrS1PzHHcf5hl84RrU4JySkkrSWtrLmjVdnraSai4tNON0z9%2B/BPxC8A/EvR/%2BEh%2BHPjjR9f0/fs%2B3aJqcV1DuwDjfEzLnBBxnvWxXxn/wRM/Zr8R/An9m7WPF/jPw9qGnX/jTXVvbBdRIR5tKSBPskphWRxCzGSdiDhsMoOQqmvsyvz3NsJh8BmVXD0J88YOylprtfZtaO6%2BR%2BjZPjMRmGWUsTXp8k5q7jq7b23Seqs9V1CiiivOPSCiiigAooooAKKKKACiiigD5N/ZgtV%2BAH/BTL46/s16ePK0D4gaFpXxW8PWUf%2Brtry4kl03WMe8lxa2s5H964Y/xV9ZV8qTsuqf8FvbT7Cd39ifsr3K6mV/hN74ktzbhvcixuSB9a%2Bq67MZrOEnu4Rb9bNfkkdWL1lCT3cYt/c1%2BSQUUUVxnKFFFFAHjP7UH/Jb/ANnH/ss19/6hXiivZq8Z/ag/5Lf%2Bzj/2Wa%2B/9QrxRXs1ABRRRQAUUUUAFFFFABRRRQAUUUUAeM/t4f8AJEND/wCyzfDj/wBTXRK4z9k6YfBv9s/47fsyaj%2B6h1/WLb4l%2BEw/W5tdRiS21Db7R39qxI/6elP8Vdn%2B3h/yRDQ/%2ByzfDj/1NdErl/2/fAnjTwkfCn7b3wb0GfUvFfwhuZ7jVdFs1/e6/wCGrhVXU7BR/HKERLmEHOJbcAAl67cE1OUqEnbnVl/iTvH8dP8At4uGunc%2BjqKxPht8RvBfxe8AaP8AFH4c%2BIINV0LX9OivtK1C2bKTwSKGVvUHBwQeQQQQCCK2645RlGTi1ZojYKKKKQBXyLfX4/Y//wCCqcur6032fwR%2B0/otpaQ30nEVn410iBo44GPCob3TQoTPLyaftGSwr66rzb9rP9mHwF%2B1/wDAzV/gh4%2BubqyS8MV1o2u6bJ5d7oepQOJbTULWQcxzwyqrqQecFTlWYHpw1WFObjP4ZKz/AM/k0n966nRh6kITcZ/DJWf%2BfyaT%2B/uek0V80/sTftc%2BO9f8U337F/7YsFro3xy8G2QkumiTyrLxtpanZHr2mZwHjkwPOhX5reXcjKo219LVnWozoVOWX/Aa6Nd0/wCtbpZ1aU6M%2BWX/AAGujXk/66oKKKKyMwooooAKKKKACiiigDjPjl%2Bzz8Gf2k/Bx8CfGzwBY69pwZngS6UiS2kKlfMikUh4nwSNykGvxQ/b3/Yuj/Z0/aZ1z4N/Bjwd4tvNH0Xw1FrAvtcuIrma%2BtRGHuLyIQwxDyIiWRgA5T7PLIzBQdn7xV4R%2B2R/wT5%2BCH7ZduNc8Zrf6Z4pstFn0/RfEmm3kiPbJIGIWSMMEmjDO2VOCVdxkbs19fwlxLPI8Zy1py9i09NWk3a0uW/re1t72bR8ZxjwvDPsFzUIR9tFrXRNpXvHmt6Wvfa10mfkToX/AAUY/b98GaNp1vo/7SmsR2VxYm1sUlntZ1jiT91tIdW8l1ABBba4BVwcMrGXXv2zP2sfhHrejeIvDH7Y/wAVLrxE8CXWsaT4o89bezZ0jkiAiuLieO6jdXLKWiVShQgEPhfTtJ/Yquf2L/FEtz%2B31%2Bzd4k174WQvKt9r3hPxA9xbTXwBW2uBHBNC0MZDGMeeFbdKfm52jV0f9pv4VfBL4hx61/wSo0y411/H8Uem6/8ABzxt4VvNRnie3Vmt57eRWZpEA80shuGKlwdrrkQ/qUq%2BV1ZN4PCwqRab5lGmqcv7sp2lytK796MVe12rn5NChmtGKWNxc6ck0uRyqOrH%2B9CnzR5k3Ze7KTteydj4rubnX/iD4vm1DU9Shm1PWb95rm7vruK3SSeVyzu8khWNAWJJJIAz2r0Lw74Jk%2BGHxG8I%2BJ9b0z4e%2BILbR7%2B11DVtItvG%2BnzxaikU6vJaXDSzSw5dUKnYjx7X6NyK%2BlviB%2BxN8afi1aav8T/ij/wTh8X6FrevyTXN7rHgTxXZtFa3hGRJDosgaQxFsM8RmDMxbbInCjofgJ%2Bzd4b1X4ufDDQv2OPhN8WPDt5Y3K2vxa8XeO/BmNJukSPzJY5bW4kkjWYsGTywwCb02lm%2Bat8RxBhHh24tWSkpJODirRe841NFvGNott2sl058Nw5jI4lKSbblFxbU1J3ktoSp6vaUrySSvdvr%2BhH7GH7W/gX9tH4Kw/F/wJol7paR30mn6lpd8vzWl1GqMyK4AWVNsiMHXs2CFYFR6xVLQPDnh7wrpq6N4X0Gy02zRmZLSwtUhiUk5JCoAASeTxV2v5%2BxU8PUxM5UIuMG9E3dpdr6XP6MwkMTTw0I4ialNJczSsm%2B6WtvQKKKKwOgKKKKACiiigAooooAKg1XVNM0PTLnW9a1CC0s7OB57u7uZQkcMSKWZ3Y8KoAJJPAAqeviv4/eN9Y/4KffFbU/2HvgPrFzH8HvDepC3/aA%2BImnTFItUZCGbwpp8y/6ySTgXkqHEMRMW7fIVrfD0HWlq7RWrfZf5vZLq/nbehRdaWrtFat9l/n0S6v526H/AIJlQ6l8dvE/xU/4KNa7YzQW/wAZNft7X4ewXURR4/CGlJJbadNtYbozdSPd3hXutxGemK%2Bs6q6FoWi%2BF9Es/DXhzSrew07TrSO1sLG0hEcVvDGoRI0VeFVVAAA4AAFWqWIq%2B3rOaVlsl2S0S%2B5ffcVer7aq5JWXRdktEvuX5hRRRWJiFFFeRftp/tJ3P7NfwdbVPB%2BjrrPjnxLfR6F8OfDSnL6rrVxlYEI7RR8zSsSAsUTkkcVpRpTr1VTgtX/X3dW%2BiTY0m3ZFb9qD/kt/7OP/AGWa%2B/8AUK8UV7NXy9P8KPEnwPtf2S/hf4z%2BIOpeK9b0v4qXo1vxFq15JPNf3sngzxVLPIGkJZY/NdwidEjCIMBRX1DSqRjGbUXdJ79/P5g9GFFFFQIKKKKACiiigAooooAKK8X/AGOfi78cPiVdfFLwd8fr3wpd6z8P/iY3h62vvB%2Bi3Nha3Fq2jaVqSForm6uXMitqDxlw4VxGrBEyRXJfsT/tT/F340fELxH4I%2BPfibRNH121udYl0n4fn4T634f1BNNtdWktIb%2BO%2B1G7kh1eBofsrPLaQrGr3UeWXeqkA6/9vD/kiGh/9lm%2BHH/qa6JXs1fPH/BQv4ufCjw14P8ABnwo8R/E7w9p/inxB8Yfh7LoPhq91qCLUNSSPxnozSNb27OJJgqqxYopACknGDX0PQB8hX8l5/wS5%2BKd5rwtpX/Zy8b6y1xqAhjLL8NtZuJPnm2j7mlXMjZbHy28zk4VH5%2BuLK9s9Ss4dR067iuLe4iWSCeCQOkiMMqysOCCCCCOCDUetaLo/iTR7rw94h0q2v7C%2Btnt72yvIFlhuInUq8bowIZWUkEEYIOK%2BTm8L/GP/gmPdyX/AMMtA1nx/wDs%2BNK0l34Tsw93rfw%2BUklpLFSS99pq5Ja3yZYB8yb1DLXo%2B7mC1dqv4T%2BfSfrpLupfFfx%2Bv5/8E%2BuqK534U/Fv4afHLwFp/wAUPhD4207xD4f1WHzLHVNMuBJHIO4PdWB4ZGAZSCGAIIroq4JRlCTjJWaI2CiiipA8k/a5/Y2%2BF37YHhHT9N8XXeo6D4m8N3h1DwN4%2B8N3H2fWPDN/jAuLWYDgEACSJsxyr8rqcAjxzwP%2B3T8WP2SPEtj8Cf8AgqRYWOkC5uFs/Cvx80a1MXhbxKScRpfdRot8w%2B9FKfIdg5ikxha%2BvqzvFvhHwp4%2B8M33gvx14Z0/WdH1O2a31LStVs0uLa6iYYaOSOQFXU9wQQa6qWISh7KquaPTuv8AC/zT0fk9Tpp10oezqrmj%2BK9H%2Baej8nqXbW6tb61jvbK5jmhmjDwzROGV1IyGBHBBHIIqSvkKT9gr9oX9kK5k8Qf8EyPjbb6b4fEhln%2BBfxNmuL7wy2Tll066Utd6OTliEQywbmH7oAVp%2BEv%2BCq/w18G%2BIbT4a/t3/C3xB%2Bz34rupRBbv452TeHdRl/6ctdgzZyjpxK0MnPKCqeDc1zUHzrsviXrHf5rmRTwrmr0Hzrt9pesd/mro%2BqqKr6Tq%2Bk6/plvrehanb3tldRLLa3dpOskUyEZDI6khlI5BBwasVx7HJsFFFYXjb4o/DL4aWZ1D4jfEXQvD8AGTPrerw2qY9cysoqoQnUlywTb7JNv8LkznCnHmm0l3bSX3tozvjX8d/hH%2Bzr4Gm%2BI/xo8cWeg6RC4jFxdElppCCRFFGoLyyEKSEQE4UnGATXhlv/wUR%2BJXjrOr/An9gn4oeJ9C6Qa3qMMOlJdf7cKTktJH/tcfQVyv7ZvxJ8L/ABv/AGrvgN8Kvglb/wDCaa9oPii28WatBYCG40uDQXYwS3cs%2B/aJFwGjAz1BPLRhvsuvclQweW4OjOvR56lRN2lJxUUpWXuxtJ81m020uy0ueDGvjc0xtanh63JTptRvGKk5Nx5n70rxXLdJpJvu9Uj5i/4aS/4KReLfl8G/8E8dN0KJv9Xe%2BLPiZaNn3aGBN6/TNH2L/gr94p%2Be41r4D%2BFYW%2B6ttbape3CfXf8AuyfpX07RWH9q0ofw8LSXrGUv/Spv8jf%2Byas/4uLqy9JRh/6RBfmfK1/4a/4K%2BeFJWtdP8c/BjxvaXkTQP/a%2Bl3dg1szj/WMkQ2vGnI25LMD07jqP2I/2GNJ/ZbuPEfxE8X3%2Bh6x468X3ouNY1TRPDsOn2llGBxa2kMYxHHuLMzAKZDgsMqK%2BgaKVbOcVVw0qEYwgpW5uSKjzW1Sdm9E%2BiSv1uVRyTCUsTGvOU6koX5eeTly3Vm1dJ3a6tu3SwUUUV5J64UUUUAFFFFABRRRQAUUVzfxW%2BMfwl%2BBPg64%2BIXxp%2BJeheE9CtR%2B/1bxDqsVnbqcZ275WUFjjhRyewNOMZSdoq7Goyk7JXZ0lc78Vvi58MPgX4C1H4pfGTx9pPhnw7pUJl1DWdavkt7eFewLOQCxPAUZLEgAEkCvmeb/gol8av2nydD/4JofsyX/i2xmOxfi98SobjQfCMA/56wCRBe6qAQRi3iVDwfNxzWx8MP8AgmnpOvePdO%2BPf7d/xYvfjj4/02b7Ro0euWKWvhrw3L2OmaOhMMbrwPtExlnO0NvU12fVY0dcRLl/urWX3bR/7ef/AG6dX1aNLWu%2BXyWsvu2X/bz%2BRxt940/ae/4KoKfD/wAIk8SfBz9nq641Lx5eW72Pirx5bHrFpcDgPpdjIvW8lAnkVl8tEBZq%2Brvg58Gvhd%2Bz58M9H%2BDnwX8EWHhzwzoNoLbStI02LZFCgJJPcu7MSzOxLOzMzEsST01FZVsQ6kVCK5YLZfq31fm/RJIzq13UioRXLFdP1b6vz%2B5JBRRRXOYBRRXmX7TH7Wnwk/ZY8P2d547vLvUNc1qY23hXwZoFsbvWNfuu0FpbL8znONznCJkFmUVdOlUrTUIK7fQaTbsjofjh8cPhh%2Bzl8MNV%2BMHxg8Uw6RoWkQ77m5lyzyMThIYkHzSyuxCpGoLMxAA5rxX9ln4QfE740/Fk/t5ftT%2BGJtH1yawksvhZ4AvSGbwbo8uN8sw6DUroBTMw5jQLCDwwpvwd/Zk%2BLXx1%2BJml/tWft3W1ouraRMbn4efCixuhcaX4OJHy3M7j5b7U9pwZ8eXESREOjD6YrtnOnhKbpU3eb0lJbJfyxfX%2B9LrstLuVNqKstzxn9qD/AJLf%2Bzj/ANlmvv8A1CvFFezV4z%2B1B/yW/wDZx/7LNff%2BoV4or2avPICiiigAooooAKKKKACiiigDxf4E/seax8CfGni/xraftZfErxHJ448Vw%2BINesfENp4dED3aWtvZkJ9k0iB0je3tLaJgHziEMpV2dm1Ph/8AstQeE/jQvx58bfG/xr4616y0O%2B0bw7/wlR0yODRLG8uLa4uobePT7K13mR7KzBkuDNIFt1Acbn3%2BqUUAeM/t4f8AJEND/wCyzfDj/wBTXRK9mrxn9vD/AJIhof8A2Wb4cf8Aqa6JWp4Z/bA%2BDWtfGnUf2efEV7f%2BFvGFpdyR6bpHiuyNkdchU4Fzp8jHy7uJucBGLjB3IuK0hSqVU3BXtq7dF3/r52JlOMbXdrnqVFFFZlHzj8UP2HPEPg7x7qH7QP7Cfj%2B1%2BHHjbUZvtHiHw9dWrTeGPFknc39mhBhmbp9rt9soyxYSZqX4X/8ABQTw5b%2BM7T4Iftf%2BA7r4O/EG6fyrCy8QXSyaNrzjjdpmpgCG4zlf3LmOYFgpjJGa%2BiawPiZ8K/ht8Z/Bt38PPi14E0rxHod%2Bm270rWbFLiCT0O1wQGHUMMEHkEGu6OLhVioYlc1tpL4l89pLyl8pIvmT0kb9FfLq/sgftNfsu/6Z%2Bwj8eheeHIeV%2BEfxYuZ9Q0yJB/yzsNRBa8sAAMKjmePJ5UAVe0L/AIKU%2BB/A%2BrW/gr9tb4WeIPgdrs8ohhvPFirceHryQ9rbWbfNswxziYwuM8qKHgZVFfDy9ouy0kvWL1/8B5kHJf4dT6UoqromuaJ4m0m31/w3rFrqFhdxCS1vbG4WWGZD0ZHUlWB9QcVarhaadmQFZ/inwp4W8c%2BH7vwl428NafrGlX8JivtM1WzS4t7iM9UkjkBV19iCK0K4L9p/45ab%2BzZ8AvFPxu1Oziuh4f0qS4trKa6EIup/uxQ7znG5yq8AnngE8VrQpVa9aNOmryk0l6tpL8TOtXp4ajKtUdoxTbfZJXb/AAPz6/4KGfCPwt/wS7%2BI3w/%2BLn7BHiIfDZdc1u4k8QfDnS9f1D%2Bx9aZGhZW/slXa1SHDOkhiSJxvTyzuJI9S/a%2B8Yf8ABX3wx8K7PSda8SfA3SYPFnifTPDzX/hSbW4Lu0F3cKhcXEvy24IBQydV8zK4bBHpP7Kn7PHjv44eNtL/AG7P2udY0LXtc1Tw/bS/D/w1pFs7ab4asZ41mDoJhue5cMNznO0lgCRt2fSvi7wd4Q%2BIHhu78G%2BPfCum63pF/H5d9pWr2MdzbXKZB2yRSAq4yAcEHpX0%2BMzPDYONHDezhVqU7qpNx5ru/wAKbcW%2BTbmad3otEm/DwNPMcyx08wxVerGnJxdOHNZqKXxS92XxXUlFt2SV3dtL8v8Awprv/BWH4o/s6eJPBHwp8Naxp3gnT9W1y40jxh4X8dHWNUv4YLci30ywuL65%2B1SQm6Ro1lZmOGx5gWMqez%2BBX7N37NHgnwH4aNt8H/C/xt%2BJnizxLe6VE3jSx1DQZLW5sraSe%2BbWY72fUPszxeWqny4MsbiHbEVbzD9z%2BLP2fvAniHwtceFvD95rPhNJktEhu/BmsS6bLaLbArCsIiIREVSVKbdjLwysAMeV%2BLP2B7zR9L0K4/Z6%2BMk/hvX9MOv/ANp%2BIfE%2BltrU%2BqSaysX229cCeAJeh4Y3ik%2BaGMbk8hkIVcnn050/Z0rUYt7QvG%2B%2Bs2nzPW2ztpoluexSyjKKtWVXFr2s27p1EpcqUUrLSyV1d8sU3Jtt2tbz79mv4nfsBfs1afp3xD%2BFfwN1bwvqfxA0ex1Xxeum2VxqMfhW2uLmS3jF7MzMtlbG6juE%2BQBcwOxVUjBX7Nr468W/sGfEew1rxN8Dvh5oumt8OfiDbeF7TXfFN5rzLqGm6XpOxbnTfswhxN9pVJiJQ4Ae/uCygBc/Snx20X46a78N7vTv2cfHfh7w54rM8T2Op%2BKdBl1KyVA4MiPBFPC53LlQwcbSc4OMV5WOqRxVZVHUcpS3cm3ppa7d2rbW10V%2Bp2rB5fhYRpYSKhHXRaJXd9ktNW777XOxor5V%2B2/8FtvDnzTaB%2By94tjT732fUfEOhyyD2Vo71Qfq2Kktf2jv%2BCrWkyG28Sf8EzPBephI3Y3fhv4/w4kYKSFEd1psRGSABlsc84ArD6nN/DOD/wC3l%2BtjX6pJ7Ti/%2B3l%2Btj6mor5V/wCG0f8AgoXYn/ic/wDBHjxmyjq%2BlfF7wtcD8A95G36Uv/De/wC2BCMXf/BIP4xK3cQ%2BLPC8g/ManR9RxHTl/wDAof8AyQfU6/l/4FH/AOSPqmivlb/hvH9sy4%2BXTv8AgkB8XGbsLnxp4WhH5nUjSf8ADYv/AAUevv8AkFf8EffEEIP3W1n41%2BGoB%2BPkzTEflR9Rr9eX/wADh/8AJB9Tr9bf%2BBR/%2BSPqqivlU/Hf/grz4n/c%2BH/%2BCevws8Mk8LP4p%2BPEt0B7lLLSW/IMaP7J/wCC2fij9xe%2BNP2Y/BsT/fl07RPEGuzRj/ZMs1mhP1Wj6nJfFOC/7eT/ACTD6o18U4r/ALeT/JM%2BqqK%2BU/8AhjH/AIKF%2BM/3PxX/AOCtPiG1tZP9fZ/DX4UaLopA9Enu1vZVx67vfFB/4I%2B/s3eLef2hvi58afi2P%2Bff4h/F7VJbXP8A16Wcltb4P93y9vtT9hhY/FVv/hjJ/nyoPY4aPxVfui3%2BfKj1D45/t8/sT/s0Rzf8L3/ap8CeGbiD7%2Bnaj4kt/tpPcLbKxmc%2Byoa8r/4eo2/xRH2X9jH9i/4yfFtpuLLXU8KHw3oMp9TqGtG2BX3jjk9gcjPrvwR/Yd/Y4/Zs8qT4Dfsu%2BA/ClxEPlv8ARvC9tDdN7tcBPNc%2B7MTXqdHPgafwwcv8Tsvujr/5MPnwcPhg5ersvujr%2BJ8mnwT/AMFeP2hznxr8W/hv%2Bz5oM/zHTvAunP4q8QhDwY3vr5IbKFsfxR20uOoPp0Pwr/4JUfskeBfGNv8AFb4maLrfxc8c23MXjf4x63J4gvYTnIMEc/8Ao1pg9Ps8MeOg6CvpGilLG17csLQXaKt973fzkJ4utblhaK/uq33vd/NiKqqoVQAAMADtS0UVyHKFFeceLv2s/gB4U0Hxjq8HxJ0vWbnwJp8134k0bQtQhub22EQG5DGHG1wWVTuKhWdd5XOa868YftT/ABF8Z6z4Z%2BEXhSwk%2BGXizWPFx0fXT4p0yDU20zOm3d9bCMQXAhl%2B0i0kRJA7KDHIm3eUrpp4PEVOll56dL%2Bu3ZPp3KUWz6Mql4j8SeHfB%2BhXfijxbr1lpemWEDTX2o6jdJBBbxjq7yOQqKO5JArkP2b/AItax8Y/hkPEHivRrfTdf0zWNQ0XxHp1q5aKC/sruW1lMZbny3MQljySTHKhyc5rz7xL/wAE/vAHxg%2BK958T/wBqP4g%2BIPibZx6q114X8D%2BIZY4vD2hx7sxqLCBVju5FB2%2Bdc%2BaSMcA80Qo0o1ZRry5bdldvyWy%2Bbdrd9gSV9TmNR/bT%2BMH7U95N4M/4J0eAYdS0vzGg1D41%2BMbSWHw5ZYO1zYRfLNq8y4YDy9sAYLulIOK779m79in4f/AXxBefFfxN4i1Px78TdZgEev8AxJ8VlZL%2BdOpt7dVHl2NqCTtt4QqgY3FyAa9hsrKz02zi07TrSK3t4I1jgggjCJGijAVVHAAAwAOlS1dTF2g6dGPJF79W/wDFL9FaPkwctLLQKKKZc3NtZW8l5eXCRQxIXlllcKqKBkkk8AAd64yTxz9qD/kt/wCzj/2Wa%2B/9QrxRXs1eFfHjxV4Y8b/FD9mjxX4M8RWOraXe/GO/ez1HTLtJ4J1/4QvxSNySISrDIIyD2r3Wm007ME0wooopAFFFFABRRRQAUUUUAFFcz8LPjT8HPjnol34m%2BCfxZ8M%2BMdNsNSk06%2B1Dwtr1vqEFveRhWkt5JIHdUlUOhaMkMA6kjkUng742/Bn4ieL9d%2BHvw/8Ai54Y13X/AAtOIfE2h6Pr9vdXmkSEsAl1DG7PbsSrACQKcqfQ0AcB%2B3h/yRDQ/wDss3w4/wDU10Su5%2BM3wI%2BEH7Qvg%2BTwH8Z/h/p3iDTHbfHDexfPbydpYZFIeGQdpI2Vh2NcN%2B3h/wAkQ0P/ALLN8OP/AFNdEr2aqhOdOSlF2a6oTSkrNaHzYvwv/bU/ZU/e/Azxp/wuLwXD93wR481MW%2BvWUf8Acs9VI2XIHaO7XOFA86uw%2BDf7c3wI%2BLficfDPU7/UPBXjlQPP8B%2BPLE6ZqgJ/55JIdl0pxkPA8ikc5r2OuS%2BMXwG%2BDP7QXhg%2BDvjV8NNI8S6eCWih1SzV2gY/xxSffhf/AG0KsPWuz6zRr/x46/zRsn818L/8lfmY%2BznD%2BG9Oz2%2BT3X4o62ivnFf2Vv2nPgL%2B/wD2RP2m577SYv8AVfD/AOLvm6tYqvQR2%2BoIRe2ygcKGM6j%2B7jinj9vXWvhMfsP7Zv7N3iv4crHxJ4q0yE694eYdA5vLNTJbg9cTwx4HU8E0vqUqmtCSn5LSX/gL1%2B5yH7ZR/iLl/L71%2Btj6Lqrreh6J4l0m40DxHo9rqFhdxGO6sr23WWGZD1V0YFWB9CMVj/DP4vfCr4z%2BH18V/CT4j6J4l01sf6boepxXUak/wsY2O1v9k4I7iuirklGdOVmmmvk/0NU01dHzbrX/AATJ%2BEPhfV7jxf8AsmfEHxb8D9ankM0g%2BHmphNIuZexn0m4WSykUeixof9qq48U/8FRfgQfJ8UfDfwJ8ddFh%2BUaj4Uvz4Z10qOrvaXbSWcrY/hjniz6Dv9NUV1rH1pK1ZKov7yu//AlaX4s05311Pm/Sf%2BCpn7MGl6lD4c/aAt/Fvwc1ed9kdj8V/C8%2BlQue5S9w9m6%2B6znP51yH7ffij4Z/tBa3%2Bz14E8A%2BINE8Yxa98ZrK/FpZXsV7YX2m2cMj3rP5ZZJFSOVDjkYY54NfW%2Bq6RpWvadNo%2BuaZb3tpcIUuLW7hWSOVT1DKwIYexr4k/wCCin/BNP4KaZ8Ida/aN/ZZ8D/8K88d%2BEbWXVVn%2BHUJ0ttSjQAyo4szEyuIw7CSMq/LA7t2K9XJKuX/ANqU371OTuk780VKUZRjfaSV5K%2B9vxPF4hh7TKKqjFu3K2tG%2BWMoyla%2B75Yuye%2B3U%2B4Yoo4Y1hhjVERQqIowFA6ADtTq%2BQ/gv8CP2qde%2BEnhv4qfsy/8FLPEt9pWuaNb38GmfFDwpZeIYXZ0DNH9oUWt2gDZX5pWYYOckV0//Cf/APBVr4c8%2BKf2ePhF8Srcceb4K8bXmg3RHqYNQgmiz7efj3FebUwHLUcI1YtptNNuLunZ6SXl3PWpOnWpxnTkmmk16NJr8GfStFfNf/Dwfxv4R/0f41/8E%2Bfjp4cmT/j4udE8NW3iKzQdyJdLuZnIHr5Y4qaw/wCCtP8AwT/ku00zxP8AHtfCt452tZ%2BN/Duo6I6N/dP263iXj2JHvUf2djvs02/8Npf%2BkuRpyT7H0dRXnvgz9rf9lT4jBD8P/wBpj4f64X%2B6uk%2BMbK4J9sRyk59q7%2B3ube8gW5tLhJY3GUkjcMrD1BHWuWdOpTdpxa9U1%2BaRLTW4%2BiiioEFFFFABRRRQAUUUUAFFVNY17Q/DtodQ8Qa1aWMC9Z7y5WJB%2BLECvMvG37eP7Evw5Djxv%2B1x8N9OkT71vP40svO/CMSlz%2BArSnRrVXanFv0Tf5JjSb2PWKK%2BbG/4Ky/sX6wTb/C7xN4s8f3R/wBXa%2BAPh1rOqmT/AHZIbUxH/vukP7cP7RnjX5fgj/wTS%2BKl%2BP8An68d6hpfhmD64nuZJ8f9sd3%2BzXT/AGdjV8UOX/E1H/0pr8iuSXY%2BlKK%2Bat//AAVn%2BJP3bf4I/Cyyn7u%2BpeKNRtx9ALK3Lf8AfQPtSH9gb4s/EL95%2B0j/AMFBviz4mVuJdK8IXNr4U0%2BRe6MmnRi4Ze3NwTjqTR9UpQ/iVor0vJ/gkvxDlS3Z9KCWNpGiWRSygFlB5Gemfyrxb4V%2BK/iB8Lvj34v%2BD/xo%2BLF54hsb7RoPFPhTWtZtLS1EFsJDa3tkDBFFGI4H%2ByOCwLkXnzMxrqP2fP2VPgH%2ByxpOo6P8Cvh%2BmiprFwk%2Br3EmoXF3c30qKVWSae5kkllYAkZZj1rQ8Sfs8fBLxn8U9O%2BNfjP4babrHifRrQ22i6rq0RuTpqEksbZJSyW7tn5pI1V2AAZiAAIjPDwlOOri1o7K99LdXbW99dhJxVz5otvgl4m8T%2BKfCXwcuPh3ql/p1n4j8QyS%2BOLPY2l6j4S1dbqeVTcoSBctcfYn8vad0kW/G0lh6R4D/Y58Xa3Pqc/7SfjXTdclPh/SNI0e98NwXFjdJJpzySRas0pkLRXpkkB/dnYnljGd7CvoLp0orWpmNeStHT8973v0v2Wg3NnO/C74X%2BFvhB4Qi8GeEjfSW63E1zcXeqajLd3V3cTSNJLPNNKzPI7uzMSTgZwAAAB0VFeefGv9rH9nD9nWNR8ZfjFomiXUuPs%2BlSXPm39xnoIrSINPKT6Ih6iuWMa2IqWinKT7av8AAzlOMVeTseh1HdXVtY20l7e3EcMMSF5ZZXCqigZLEngADvXzu37UX7VfxwH2X9lb9lG70jTpeI/G/wAY5H0i0A7PFp0e69uFI5G8QA%2Bo6062/YHufitcx63%2B2z8dde%2BKMiuJF8Kxj%2ByPDUDA5UDT7Zs3G08brmSXI6gV0fVI0ta81HyXvS%2B5Oy%2BcvkY%2B2cv4cb%2Bey/HV/JFnxT/wUB8H%2BI9eufh5%2ByJ4A1T4x%2BJraQxXTeGJVi0TTpP%2BnvVpP9Hj7/LGZZOMbM1nwfscfFj9om4j179vT4rx61p28SQ/CrwS81l4dhIOQLqQkXGpkEA/vSkWQf3WDX0F4Y8K%2BGPBOg23hXwZ4csNI0yyjEdnp2mWaQQQJ/dSNAFUewFX6f1uNHTDR5f7z1l9%2B0f%2B3Vf%2B8HsnP%2BI7%2BWy/4Pz%2B48M%2BP3hzw94Q%2BKX7M/hjwnoVnpmm2PxgvYbLT9Ptkhgt4x4J8UYREQBVUegAFe514z%2B1B/yW/wDZx/7LNff%2BoV4or2auJtt3ZvsFFFFIAooooAKKKKACiiigD5V/YW%2BKXhqH4s/HbTofhf8AEXQrTxB8Zbe%2B8Nvrfwe8Q6Ta3Vk3h3RLFZo5LqwijEYuLG5QnICCMM2EdGbiP2FPh/8AEHS/jD8KfDGrfCjxRoeofCf4Z%2BMdB%2BJWvaz4aurKz1PU7/WdLmha1upY1i1Nbl7O7vvOt3lWMOPMKSTFa%2B4aKAPnj/goXpvxXn8H%2BDNR8OeNPD1r4Wh%2BMPw9GvaNe%2BGJ7jULxz4z0by2t7xb2OO2CttLB7aYsAQCmQRteOU/bn%2BGXjHUvFnw/l8L/E7wvd3bzw%2BEdQA0XVtOjJ4htrtd0Fwqj/nuqMem/vU/7eH/ACRDQ/8Ass3w4/8AU10SvZq0pVPZvZNPo1/wzXyZjXo%2B2ikpOLWzTt/mn6NNHiXg39vn4Fanr8PgX4sHVvhj4nmO1NA%2BI1gdNMzdP3FyxNtcAngGOVifQZxXtcM0NxCtxbyq8bqGR0bIYHoQR1FZvjHwR4M%2BIegzeFfH3hLTNb0y4GJ9O1exjuYJP95JAVP5V4tL%2BwTofgCZ9S/ZR%2BNPi74Vz7i66TpV7/aOiM56ltOvN8ag/wDTIxexFbWwlXZuD8/eX3r3l9zOa%2BYUN0qi8vdl9zvF/JxPfaCARgjIPUV4CPiH%2B318IP3fxC%2BCXhn4o6XF11j4e6p/ZmpBB1Z7C%2BYxu5HOI7j6DtV/w3/wUL/ZkvtXi8LfETxLqPw61yU4Gi/ErR5tFlz6LJcAQSZ7bJGz26ih4Ou1eC5l/dd/wWv4DWY4VO1RuD7TXL%2BL91/KRY%2BJX/BP79lb4k%2BIG8cw/Dk%2BFvFByU8W%2BA7%2BbRNSVz/GZrNo/NP/AF0Dj24rnR8Df29PhCM/BX9rLSvHenR8Q6B8YfD4M4T0Gp6cI5C3vJBJ75r6B0rVtK13T4tW0TU7e8tZ03QXNrMskci%2BqspII%2BlWKqONxMVyzfMl0kub89V8mjo9jSfvR081p%2BWj%2B4%2Bdx%2B2N8f8A4bfuf2jf2FfGtlEvDa78N7qHxPZMB1kMcPl3ca98GAke/WvdrHxZoV74Sg8cS3hs9Nn09L3z9Sja2MMLIH3SrKFMRCn5g4BXkEAil8XeLfDXgLwtqPjbxlrMGnaTpNnJd6jfXL7Y4IUUs7sfQAGvkHwN8IfEH/BUHXLv48/tBnXNK%2BEYJh%2BGfgFL17YapGrH/ib3yKfnLEAxRnI2%2Bq8y9dDDYfGU5V6i9lTh8UleV29oxi38T1fxWS1dla/Bi8bVwtSNCivaVZ7RdkklvKUknaK0W123aN3e1nRP%2BCoXjDxp8Q/Gfwn%2BBXwOb4t6vpGui28P6l4FnePRzbNEjhr2%2BnBjiZWfZuTcjlGIKjGeU8HRftrfteWniXXP2i/j9q/wq8IWceowTQ%2BC9EshpEltbSSQ3TNqMs7zHaUkVvMRV/duV4r6N/Zo/Zh8S/ss%2BFNT8FeDvHOj6ppl9rN1qUUE/hWLT5I3khRFjzaOsO1WjjGVgB2DGMgGvO/GP7MPxcl8OePtc0r4WeEvD6eINHsbe98FeBdSMsOuzJqAuL29dpba1T7RJbtLCiMvzMzb5cMCPSp47LqFSUcJTjHa05e9LpdpSXLH5RaT3lscU8txeJSljaspLX3Itwht1cXzy/7ektPsnqf7K1/8B/Av7PGkeDvhP8QRe%2BGvB1qmlyalq7fZ5Y3QKf34kSPYzb1YZVQQ6lcggn1OKWKeJZoZFdHUMjqchgehB7ivkXxvYyQePNK%2BMv7RHgi70fwR4l8aXmoaxoGqab9rObXTDaaYl7DAJFLS5llwdyq0NshO7aB7l%2ByT4a8VeB/2a/C2i%2BOdLfT7%2BHTnnk0ox86bFJLJLFZhR08iJ44QvbysV4%2BNop3ruV3J63s9XdvVbtO99Lao9fDONOKoxjaMUkvJKyWna1reh6VUN/p9hqlo9hqdjDcwSDEkM8QdGHoQeDXgcX/BUb9ii0kW18ZfFDUPCdznD23jLwhqmlFD6Frm2RPyY12/hP8AbO/ZD8dhR4O/ai%2BH2ou/SG18YWTSD2KeZuB9iKwlgsbTV5U5L5P80n%2BZsq9GT0kvvRD4z/Yh/Yz%2BIhd/HX7J/wAN9Wkf70994KsZJc%2BocxbgfcGuBuP%2BCRv/AATteZ7nSv2bLLRpHOS/hrXdR0o59vsdxFj8K%2BhdJ1vRdetRe6Hq9rewnpNaXCyKfxUkVapwxuOpK0asl/29L8r/AKG6nK2jPm3/AIdc/AzTePA3xl%2BN3hhR91NC%2BNuuoq/QS3L/AK0f8O5b%2B240f/goF%2B0lZgdB/wALGgucf%2BBVnLn8a%2BkqKr%2B0cd1nf1UX%2BcWPnn3Pm3/hgz4zWnGkf8FNfjsgHT7bPoVwfzbTBmj/AIYm/abTiD/gqJ8WgP8AppoPh5j%2Bf9nV9JUUf2hiu6/8Bh/8gHPL%2Brf5Hzb/AMMR/tKS8Xf/AAVC%2BLrDv5Oi%2BHoz%2BY06j/hgL4pXoxrf/BS/9oGT1FjquiW2f%2B%2BdLOK%2BkqKP7QxfRr/wGH/yAc8v6t/kfNp/4JvQXX/Ib/bs/aSvQfvD/haz2uf/AAEhix%2BGKP8Ah1T%2By7qn/I%2BeJfir4qz97/hIvjP4hlDfUJeIDX0lRR/aOO6VGvSy/KKDnn3PnfR/%2BCTf/BOXR7sX7fsleF9SnH/LbxAk2psfqbuSTP416b4J/Zc/Zm%2BGjI3w5/Z28C6AY/8AVtovhKztSv0MUS13dZfiPxz4J8HxGfxb4w0rS0AyX1HUI4Bj6uwqJ4vG19JVJS8ryf4X/QlzlbVmoAFAVQAAOAKK8i8Xft/fsQeBgw8S/tafD2GRPv28Hiu1nlH/AGzidn/SuYP/AAU5/Zb1j938Mh458czfww%2BC/hrrF9u%2BkgthGfweiOBxs1dU5W9Gl97svxMXXoJ2cl9//Dn0JRXz3/w2R%2B0B4t4%2BEf8AwTt%2BJl4P%2BfjxnqOl%2BH4vria5klx/2zz7Uh1f/gqJ46%2Bew8G/Bn4e20vBGp6tqPiG8hHrthjtISR/vke1V9Rqx%2BOUY%2Bso/kuZi9vB/Cm/RP8AWx9C1S8QeJPDvhPS5Nc8Va9ZaZZQjM15qF0kMSD3dyAPxNeD/wDDIv7TXjjj41f8FCvG0sB5Nh8PNA0/w7GD3HmhJ7jH/bUH0Iq5oH/BND9jbT9Uj8ReMfhZL441ZDltW%2BI2tXevzO394i%2BlkjB/3UAo9jg4fHVv/hi/zlyr8A560to29X/lcXxL/wAFKv2P9L1WTwz4I%2BJE/j7Wk4XRPhro1zr87t/d3WSPGp/3nUVnn9oX9uL4rHyvgf8AsYQ%2BFLKX/U%2BIPjD4mjtCo9Tp1h585Ps7x/h2958N%2BFvDPg7SY9B8IeHLDSrGEYistNs0giT6IgAH4Cr9P2%2BEp/w6V/OTv%2BEeVfiw5Ksvilb0X6u7PnY/siftG/Ff99%2B03%2B2x4kltJPmk8L/C2xTw3YjP3o2uFaW9mTHH%2BuTPp1z6F8Ff2Q/2aP2eJGvPg/8ABrRdIv5c/aNaNubjUJyepku5i88mefvOep9a9Hrzy/8Ajfr%2BifFLTvBHiT4T6hp%2Bj61rEmlaP4hn1G2b7Vdrby3H/HujF1iZIJdrk7iUOUUYNJ4nF14uCdo9laK%2B5Wv87kSWHoNSlu3a7u/x1t%2BB6HWV4w8b%2BF/AXhq/8XeK9VFtYabGHvZUieVkBIAASMM7MSwAVQSSQADmvDfiH8WviV4U%2BJHizxqPiBPDpfg7xLpFnd%2BEpbaD7LNpF5FbpJdhxH53miWfzA/mbVWFk2dSfLvDHw3OpR2vwO%2BG%2B3SPHY0m%2Bj8YRm2MSvqWmXi3Wm6vdhQBIZ7gKfPwfOSWVcnbgXTwSa5py00/zd/k1rrucVbM3GThThd6rXq9Urd9U9G07L7vr3wD8RfCPxN0Rtf8Hak88Mc7QXMU9rJbz20ygFoZoZVWSGQBlJR1DDIyOa83%2BJ37VniLRvHF/wDCX4H/ALPHi7x54m05kS%2BkS1/szR7J3RZFE2o3QWMnY6tiFZTg4xnitT4EeHPHcfj/AMdfEjxd4HuvDEXie80%2BSPRLrUre5LXFvaC3luw0DsqiRUgjAJDFbdWZVLFR6fWD9jRqu65l69fO29ttGjqX1jEYdWlyO7u7a2u1opbX0eqdu2x4D8Ybjx5dePP2Ybn4n6Zpdnr7/F69OqWuiXck9rFL/wAIV4p%2BWOSREZhjHJUc5r36vGf2oP8Akt/7OP8A2Wa%2B/wDUK8UV7NWDd3c64rlile4UUUUhhRRRQAUUUUAFFFFABRRRQB4z%2B3h/yRDQ/wDss3w4/wDU10SpvGVr%2B2x4I8V6h4j%2BH%2Bp%2BDfHfh%2B4unmt/DGsQyaPqFnETxBDdx%2BbFLgfxSxqT3b1h/bw/5Ihof/ZZvhx/6muiV7JHLFKCYpFbaxU7TnBHUfWrhPkeyfqc2KwyxMUueUGtU4uz/JpryaaPEYf26fA/hGVdO/aN%2BGvi74Y3W4I114k0gz6Y7%2BiahaebAR7uyfTpXrXg3x54H%2BImjp4h8AeMdL1ywk%2B5e6RqEdzEf%2BBxsRWpNDFcRNBPEro6lXR1yGB6gg9RXkvjH9hr9mfxXrD%2BKtL%2BH/8Awi2utkrr/ge%2Bm0a8Vv7xe0ZA5/3w1XehLdOP4r8bP8WcXJnOH%2BGUKq/vL2cvvjzQfzjE9cqj4j8L%2BGfGOkS6B4u8O2Oq2E4xNZalaJPDIP8AaRwVP4ivHP8AhSH7Xfw4%2Bb4RftXReIrOP/U6L8UfDyXZI9DfWZgm/Flf8e/pPwk1T4v6r4Ykf42%2BENE0fWYbx4lj8PavJeWtzCFUrMrSRRvHliw2MCRtBzzgKUORc0ZJ/en925tQxk68/ZVqE4O3VKUX/wBvRbXyaV%2Bx5lqn/BOv9m221CXXfhLZ%2BIPhnqczbnvvhr4juNJUn3t0Y2zD2aIjt0qEfB/9vL4cfN8Nf2rPD3jS1T5YtM%2BJvhARyhfQ3umtESf9poW981R/aO/af%2BGPwL%2BNvh9NW/aRi0iWe8QeI9B1O/t/7Pt9OSKQu7KyeYtwz%2BWEWNy7bslCgYjzLx5/wUk%2BIvx8%2BL0HwJ/4J7Q%2BH9dTUrLyZfHWu2s8Fnpd1h2dl83Z5zJGAyoEfccnDBSK9fD4XNcTBTavDrKa91espL8pNvor6HhYnM8hwdScLuNRSUVGnL3pN7WjGVvJ3iuV7s4b9ob41/tNftVfEyT9lj4i/s5X134R%2BH%2BsWV38YLf4U60mqyasHTz7WzT7T9lZY2K7pEXfINo6FcH6T0X/AIKIfsl%2BH4rbwz441fWPhxNCiQwaV468IXujLAoG1UDywiAAAYAV8YHpWL%2BxVbfCz9nXwtcfDtF1m5n1a41bWNa%2BJuvCBI/E97azbL%2B5JEzSRKjfcEihWjUurMd7H3HwP8SPh78YtIvJPDF097b28ogvbbUNLmt2Usiuu6K4jRirIysrYKsDkEirzLFYWbjh6dN%2Byp7NNq7duabT5tZNaXd1FRjpqVlEKzvXeITrVd1JKVlH4YJrkbUU1dpcspOUle6Y/wAC/F/4TfFC3F38NPif4e8QxFdwk0PWoLsY9cxO1dFXk/jr9hT9jn4kXBvvFf7NvhF7stuN/Y6PHZ3JPr51uEkz77q53/h394G0D5fhP8fPi94KiX/VWmifES6ubZD/ANcb/wC0Jj8K8rkwctptesb/AIxf6Hu%2B0zGHxU4y/wAMmvwlH9T3qivBh8Af22PDPPgv9vBdTij/ANVaeNfhvY3W4ejTWb2z/jgmj7f/AMFMfDnz3Phz4KeK4k6rZ6lqujzSD2EkdygP/AsUfVov4akX82vzX6h9dnH46M16JS/9Jl%2Bh7vLFHNG0M0aujDDKwyCPQiuI8Wfsxfs1%2BPSx8c/s9%2BB9ZL/fOq%2BE7O4J/GSM15//AMNFftmaLz4q/wCCfd9cxr/rJvC3xJ0u8/EJcfZnP0xR/wANzahp3yeLP2LfjnprL/rGh8ER6gg%2BhsriYkfhVww%2BLg703/4DJfpJCeYYJr37r/FCS/ODDVv%2BCYH7AOrXJvf%2BGWvDNjMekuiRS6ew%2BhtXjx%2BFVf8Ah2V%2BzLp3PgzU/iN4bI6HQfi1r0O36BrtgPwFW/8Ah4/%2BzPYfJ4vXxz4dfvHr3ww1uDb9SLRlH4mpLX/gpf8AsI3Uwt5f2lvD9pIf%2BWep%2BdaMPqJo1Iro587S3m/vf/yRl9bya/xwXzS/PlKA/wCCfVpa8aL%2B2d%2B0FZAfdA%2BKEtzj/wACopf1o/4Yf%2BJ1j/yA/wDgoh8cIvQX1/o91j/vvThXX6b%2B3P8AsW6uB9h/az%2BHBJ6LJ40so2P4PKDW3ZftP/s1akAdO/aG8DT56eT4ts2z%2BUtQ8Rma%2BJP5wX60zaNTLpfDOPymv/kzzb/hkf8Aaft%2BNO/4KT/EVQOn2nwt4fm/nYik/wCGWf2xl4i/4KZeMAP9v4d%2BHG/9s69cg%2BNvwYuhm1%2BLvhiQf9M9ftj/ACerC/Fb4XOMr8SdAP01iD/4qo%2Bt4xbxX/gEf/kDRRwr2l/5N/8AbHjf/DK37YMnFx/wUx8Zkf8ATP4f%2BHU/lZ0v/DH/AO0hdcap/wAFI/ic4PX7JoOgwfysDivYn%2BLXwriGZPiZ4fUerazAP/Z6qXPx3%2BB9mCbz4y%2BFIgOpk8RWy/zehYrGvaK/8Aj/APIA1hVvL/yb/wC2PJ/%2BGFfHF582t/8ABQb48znutrr%2Bl2qn/v1pwI/Oj/h3j4avOPEH7WHx91NT96Of4t3sKN9VtvKFeiX37V37LelgnUv2k/AFuB18/wAY2KY/OWsLVP2%2Bv2ItIBN3%2B1n8PWx1Ft4stZj/AOQ3arVfNJfCn8oL9KZlKrlsPiqR%2Bc1/8mcx/wAOvv2P775/Ffhvxb4gkP3n8QfEvXbrd9Va82H/AL5rU8Of8E1/2BvC8om079kfwLO4Od%2BqaDHfMT6k3AfJqu//AAU0/YYLmOw/aAsNRYHG3R9Lvb0/gIIXzTf%2BHifwO1LjwR4F%2BKPiYn7v9hfCjWX3fQyWyCrcs6as3NL1a/WJksXk6ek4P0s/yUj1Pwj8Ffg34AKnwH8JfDOiFPuHSNBt7bb9PLQYrpq8GP7anjrWP3Xgj9hP4z38h%2B42qaNYaXEfq11eKw/FaP8AheH7d2u/uvD37C%2Bl6Rv%2B7ceKvipaLs92jsoLjP0DVzSw2Jk7za%2Bcl/8AJNmqzDCJWgpP0hN/%2B2pHvNFeDf2b/wAFMPEv7q78UfBbwnE/V7HTNU1ieMexkktkJ%2Bq0n/DL37Unij918Sf%2BCgfiryG%2B/b%2BCfCOl6Pj/AHZHjuJR/wB9mp%2Br018VWK9Lv8l%2Bo/rlWXwUJv15Y/nK/wCB71XCfET9qH9m74SCQfEz48eEdDkjzuttR8QW8cxPoIy%2B9j7AE1wH/Duf4Ba58/xY8SfEDx8//U5/EPUrmP8A78xyxw49tmPau7%2BHf7Kf7M3wlMcnw1%2BAPg/RZo8bbqw8PW6T5Hcy7N7H3JNHLg47ylL0SX5t/kHPmU9oRj6ycn90Ul%2BJwZ/4KJ/BjxH8nwV8A/EX4jt0EngzwJePb57ZublYYMf7XmY96P8Ahbf7fXxC/d/D/wDZT8MeCrduY9S%2BI/jQXEm31NppqSYPsZl9Dive6KPbUI/BTX/bzb/D3UH1bF1P4lZ%2BkUo/i%2BZnDfBHwt8ffD1nqF18ffizoviW9vZY3s7bQPDJ06201QG3xoWmlkmDEg7nII29Oayvid8K/i/4x%2BN3hvx14V8ZeHNN0Xw/pdwkcepaNPeXQu55EWWWMLPFGp%2BzoY1dt%2B3zZDsORXYeOfip8MfhjZ/2h8SPiLoegQbdwl1nVobVSPYyMM15fP8At%2B/ArWJWs/hFpvi34i3KMVaLwJ4TuryIH3uWVLcD3MmKUHXlN1Ix38tO3kvxMMTicrwsFQr1kmmnZzvN2d9lzTf/AICd3rHwF%2BG/izWNL8T%2BO9GGt6vpEvmWmqXmI5DiQSorrAESVEdVZVdWClQevNdnXh5%2BJv7cnxD%2BTwD%2Bzn4b8EWrcpqPxD8Tfapyp7/Y9PDYb2adffFIf2WfjP4//efHr9r/AMV30LctovgW2i8PWeD1Rni33Mi9uZhn9KUoNpe0mtPn%2BC0/Ezhj3Jv6phpyv1aVNP1c7Sf/AIAz0P4pfH34J/BOz%2B2/Fn4p6HoAK7o4dR1FEml/65xZ3yH2VSa86/4a%2B8bfEb9x%2BzR%2BzL4s8URP/qvEPiSL%2BwNJKnpIsl2vnzL7RwnPr6dh8Lv2Tv2cvgzef2t8PPhDo9pqRbc%2Bs3MBur927lrqcvMT9Xr0Op5qEdk366fgv8y/Y5xiP4lWNJdoLml/4HPRfKB4J8aJPG8vxB/Zjk%2BJFrpcGut8X706nFok0klokv8AwhXinIiaVVdlxjlgDXvdeM/tQf8AJb/2cf8Ass19/wCoV4or2asm7u56kI8kFG7dur3frtr8gooopFBRRRQAUUUUAFFFFAHy78Bv2xvjb8QPjF4Wk8baZ4WXwH8TNa8XaZ4Ks9L025i1XS5NFu5YoZLy4e5eK6W7t7a5mKxwwG3by48z5Mgu/Cv9qf4u67%2B2l4r%2BBvxY8TaJ4Z0W38T3Om%2BANAv/AIT63aXPie2i0u3uzcWuvT3Y0%2B7kV2uy1vBA0gjtXJACM46Lwd%2BwZ4G8BfEmb4jeF/i743gFtdazdeFNCefTpbDwtPq16t5qUtij2RdmnlDj/SXnEKTSxwCFXxW/ffstQeIvjlovxr8e/G/xr4ih8La1c6v4R8HakdMj0nRb6azuLJp4vs1lFdTFba7uo0FzcTKonYgblRlAOM/4KF/Fz4UeGvB/gz4UeI/id4e0/wAU%2BIPjD8PZdB8NXutQRahqSR%2BM9GaRre3ZxJMFVWLFFIAUk4wa7Xxf%2ByH8KfEPiW98deF7/wAQ%2BD/EGoTtNfa14P1%2BaykuJDyWkjy0MpJ674znvWX%2B3h/yRDQ/%2ByzfDj/1NdErpvEXxW%2BJ/g/XbuLWfgHquo6NHOwtNV8NahDdyvHn5We2YxyKcdQu/wDGsq1enQSc728k399k7fcebmVLLqtKKxlPmino%2BWT5Xbe8fejp1TXa5zn/AAhf7aHw%2B58JfF7wx47s16WfjLR20%2B7Cj%2BEXVllGb3aH6%2BtH/DUPj7wd%2B7%2BNX7LXjPRlX7%2BpeG0j12yVe7FrU%2Bco/wB6Ee9dFon7UfwO1e9XSL/xtHomoHhtO8S20mnTKfTFwqAn6E15l%2B0N%2B078eNS/aA0v9kj9kPQPC1z4k1Dwh/wkup%2BLPE1%2B72Ol6f8AajbZWGEbpZS%2BMc4%2BZcqQSR05dTjmlVww84uybbcklFLdy6q110vrZK541WWGwlD2uDxk91FRTVa8ntFRn76bs/tq1ndqx6L4Z/bD/Ze8WQTzab8cvDtu1she5ttWvxYTwqBli0Vz5bqAOuV4rxO6/aL/AGlP25tauvCv7E8qeDPh5a3D22p/GPWtP8yXUGU7XTSrZ8bwDkec%2BB1wUZRuuWf/AATItPi34ig8d/tz/HTXfitqUHNvoyxjSdGtj1wttbEFyOm4sNwHzKc16LD%2Bw38IPDUSxfCDxF4w8AhBhIvCHiq4hgGOg%2BzzGSDHtsxXrKpl2Wq9JqtV6Nxfs4%2BaUtZvtzJRW/LIxkuK8ZTSrU4xp3d1Cfs6kl01fPGHmoz5nspR1Oa%2BFn/BLv8AZO%2BGsv8Awkeo%2BF77xR4smMkl/wCMvFGoveX1zPI26SUhyYlYtn5gm7k5JySfR9T%2BAr614x0vVdT%2BIN/JoGi6smqaX4WTTrSKC3uo1ZY9sscSyGNd7MEYk7tvzYGDgf8ACsP2wfCHz%2BDP2l9G8RxJxHZeOPCCBsehuLGSIk%2B5jP40f8LR/bA8KfuvF/7MOkeIETmS98FeNIwSPUQX0cJ/DeTXn1sbi8RPmqzcn59PRbL5JG9H%2By8HT9nLBTpK93aHMm1rq6Up82ur5k77vU5DWv2Vfitc/C288JaxqOmakuieHn0vw5Y6bMyS6pG9yJbp53lCJDNPAvkbQSimR2L4IC%2Bn/Bvw34sl8Y%2BLviz4y0G50efxLdWkOn6LeTxSTWlnawlE80wu8fmPLJO%2BEdgFZBuOK5//AIbP8GaL/wAlL%2BEvxH8JKv8ArLjWPBVxNAp/662YmQ/XNbPhb9sD9lzxlIINC%2BPXhczE4FteatHazZ9PLmKPn2xWcq85xaY8JW4cpYmLp4lKS%2BzKSi20mlpNQlom0la3q1d1fiN8fPir8OfGV5pY/ZN8Y%2BIvD8Pl/ZPEPha/0%2B5a4zGrP/oslxHKm1iy9Dnbkdaw/wDhv34I6P8AL8SfDHj/AMGN/wBTR8PNShQf9tI4ZI8e%2B7HvXs2m6rpes2q3%2Bj6lb3cD/dmtplkQ/QqSKsUlOlazh9zf/BPWlh8xcnOjidHqlKEZL0TjKLt239WeXeFv22/2QfGTCPQf2lPBjSMcLBda/Bbyk%2BmyZlbP4V6FoXinwx4og%2B1eGvEdhqMWM%2BZY3iTLj6oSKpeKfhh8NfHAZfGvw80PWAwww1TSYbjP18xTXnuu/sCfsYeIJ/tV1%2Bzb4VtZc5Euk6cLFgfUG2KEfhT/ANnfdfc/8ib55DpSn86kH%2BU0evUV4kP2AvgbpnPgfxL8QvDB7f8ACP8AxL1eID6B7hwPpjFH/DHXinTvn8L/ALaPxjs2H3VvNfs75B9Rc2jsf%2B%2BqOSi9p/en%2BjYfWs2j8WFT/wANWP8A7dGLPbaiu7Kzv4jb31pFNGeqSxhh%2BRrxf/hn79rOw%2BXRv29dWdB91dY%2BH2k3GPqY0iJ/Oj/hWP7eWmc2H7VvgrU8dBqfwweLP1MN/wD0o9lDpNfj/kH9o4pfFhKny9m/yqI9J1L4OfCLWSTq/wAK/Dd0T1%2B06Hbvn/vpDWJe/so/st6kSdR/Zs8AXBPXzvB1i%2Bfzirkf7L/4KM2nyxeNPgvfAdGm8O6tAx/75u3H6Uef/wAFHIf%2BYX8Erj/t/wBYhz/5CetF7WO1Vf8AgTMZY2hL48JU/wDBUX/7czcn/Yg/YwuTum/ZI%2BGZJ6keBdPB/SGq7fsGfsSucn9kn4c/h4Osx/KOsv8Atv8A4KLw/wCs%2BHHwam/65eLtVX/0Kxo/4Sn/AIKGLwfg38J2918cagP52FXz4pf8vv8Ayd/5mbxGXPfBz/8ABBqx/sH/ALE0Zyv7JPw4P%2B94Msj/ADjq3bfsU/sb2Z3Wv7Jnw0jI/iXwJp4P5%2BTXP/8ACT/8FDn4X4P/AAlT3fxvqJ/lYUf2t/wUZm%2B54D%2BC0H/XTxTqzn9LIfzoc8U963/k7/zBYjL1tg5/%2BCEdpY/sw/s1aWQdN/Z58DW%2BOnkeErNMflFW7pnwx%2BG2iEHRvh7odoR0NrpMMeP%2B%2BVFeXbv%2BCjs3/LH4JW3/AG11ifH/AI6lH9g/8FE7/wCW5%2BJnwe08H%2BKz8I6nOw/7%2BXqg/lUNVJfFUX/gTZrHG0Y/BhKn/guK/wDb0e2JGkSCONAqgYCqMAUteJf8Kj/bm1D5r/8AbH8NWGeqaX8K0bH0aa9b%2BVH/AAzh%2B0zqfyeJf29vFRjPVNG8H6NZ/kxt5GH5ms/ZQ6zX4/5Gv9oYt/DhKnzdNfnNnttFeJH9i24vefEn7Xfxq1At95V8bJZKfoLOCIgfjVOH9hT9kjWNXm0PxO%2BueJ9Tt41kurbX/iNql5MiN0Z4musAH1K80clBbz%2B5f5sl4vNXZLDxjf8Amqx/9tgz13xN8Tfhv4KVm8ZfEHQ9JC/eOp6tDBj672Feea9%2B33%2Bxp4eufsVx%2B0X4avZ84EGiXh1FyfQLaiQk%2Bwqt8Lv2Xf2CL2Ga9%2BFvwW%2BG%2BrCyuDDPdWumWl%2B0MoAJUyMHKtg%2Bua9Z0Hwr4X8K232Pwv4bsNNhxjyrCzSFfyQAUf7Ou7%2B5f5ipzznEQUoSopPquep%2BN4xZ5B/w3V4J1nn4b/A/4r%2BLUb/V3Gj/AA9uoIW/7a3ogQfiaP8AheX7Yfij5fBH7FY0uKT/AFV7428e2dttHq0Noty/4ZBr26s3xF4x8IeELf7X4s8VabpcWM%2BbqN9HAuPq5Ao9pSW0Pvbf%2BQ54XHcvNXxbiv7sacF98ud/ieRf8Ih/wUD8YjZr3xm%2BHHgqI848MeFbnVZx7eZeTRp%2BPlfgaP8AhjLVPFH7z4xftV/FHxOX/wCPiyttfTRrOUenk6dHCcexc1t63%2B27%2Bylol3/Z4%2BNukalc9rbw%2BZNTkY%2BgW0WQmqX/AA1rf6/%2B7%2BGf7M/xM15n/wBRcz%2BH10u2f382%2BkiOPcKaPb1F8Nl6Jf8ABZ5UqvDTly1MQ6z7e0nV/wDJad1%2BBoeB/wBij9lD4d3n9qeGvgN4ea%2B3bv7S1Sz%2B33W718%2B6MkmffdXp8MMNvEsFvEqIihURFwFA6AAdK8g/4S79uDxb/wAgH4OeBvCEX/PTxN4nm1KbHr5VnEiZ9vN/Gk/4UR%2B0Z4t/5KT%2B13qlrA/Mlh4G8O2umBfYTzCeXHuCKzlOc3eTb9Tsw%2BLo0IcmAwU7eUI0o/fNxf8A5K2euahqWnaRZyajqt/Da28S5lnuJQiIPUsSAK8x8Q/tqfs2aJqLaFpfxHi8RamOF0rwhaTatOzf3cWiyBT/ALxFUbH9i/8AZnj1mF/HOj3PjDWCpkSbxx4guNUlkA6sIriRo8fRAK7v4faz8KIZrnwV8NodNs/7PYiXT9OsBbRrtYoxQBVVwGG0lMgHgkGsnUgpJNq7NHWzqrJRbpUb6K7dSXpZezhe3qcH/wAL0/aL8dDZ8Jv2Vr%2Bwgk4j1b4iaxFpiIfU20PnTkexVD/Kg/Bb9pr4gfP8WP2mm0W1k/1mj/DfR0sse32y5Msx%2BqhP8PVdf8TeG/CtkdS8UeILHTbYdbi/u0hQf8CcgVwlz%2B1Z8KLud7HwH/bHi%2B6RsNB4T0aa8UfWUAQge5esquKw1B2qTSfa%2Bv3av8DCvhcJTdswxcpt/Z5lBP0hStJ/fI5D44eFrPwV8R/2ZfCmn6hf3cNj8YL2NLnVL57m4k/4orxQd0kshLOxz1Jr3ivC/j3q17rvxQ/Zo1jUdAutLnuPjDfPJp96yGWA/wDCFeKPlbYzLn6E17pW8ZKUU11PfpKnGlFU1aNlbfa2m%2Bu3fXuFFFFM0CiiigAooooAKKKKACiiigDxn9vD/kiGh/8AZZvhx/6muiV6lZeN/B2o6rNoVj4p0%2BW%2Bt5TFPZpdp5qODggpnP6V5b%2B3h/yRDQ/%2ByzfDj/1NdErzT9qP4v678c/jWn7H37Jej%2BEdR8WRWMt1448bazYi7t/CUAZUVBtBD3bEnEbHC4G4YLFJeDzfGtRwHs7xu5Oo5qKiurlBPl17xle6STbOHH46ngKSnLVtpRitZSb2UVdXf4JXbaSubP7S/wC0J8TviB8Yrj9jn9lj4ZeF/EviWz0hL/xbr/jFvM0nw3FKQIlkiCkzTup3rGOgKnaw3bXfs5/8E0vh18FtJvPEviDxvrN98QNbuHn1zxnoN5JpRO4gi3gghbyordMDCbT07Daq7X7Pv7DPgn9lzwNPB4X%2BLPiKPXL%2BY3ninxVNdRhtWuiSTLNHIHQKNxCrn5QepJZj6Mml/HjR1DaZ4y8P69ERkDU9Oe1kI/34WZfx2VzZpn0cPOeX0sFKVOy5p0/ZznUV/ilHnhWjBzT5YWt7qb5pXUfKo5R9bqLGZlT5qjvyrRxpp7JW5byS%2BKV27t8to2vk/wDCrPjz4Z58EftEy38Kf6uy8YaDDd7vYzQGGT8Tml/4TL9qLw38uv8Awa0DxCg63HhnxIbd8f8AXK7RRn28ytb/AIWN8RdI/wCRp%2BCuosg4M%2BhahDeA%2B4RjG/6Usfx%2B%2BGsLiDX7%2B90WYnBi1vS57bH/AAJ02/rXgLOcipu0sTKg%2B1Tnh/6ehy/dM7vqVKH8KtOH/bza%2B6akvxMj/hp3QtJ48ffC/wAb%2BHAvElxfeGpLiBT/ANdbXzVx78Vq%2BHP2kfgJ4rcQ6L8XNBaYnAt7jUEglz6eXKVb9K6TRfGXhHxIAfD3inTr7PT7HepJ/wCgk0zxH4E8EeMIzF4t8HaVqikYK6jp8c4x/wADU17FGeIrU1OhWhUj3srf%2BBQk0WqeaQXuVYTX96LX4wl%2Bho2t3a3sC3VlcxzROMrJE4ZT9COtZXin4dfD7xxGYfGvgTRtYQjBXVNLiuAR6YkU1yN1%2ByV8AXna80nwKdHnY5E%2BgalcWDKfUCCRR%2BYqP/hnnXdK/eeD/wBojx7YMv3I73U4dQiH/AbmJ2P/AH1WvtcdH4qSf%2BGS/KSX5k1J46UOWth4zXlOLX3TiijqX7DH7KF/dtf2nwasNKuG/wCW/h65n01h9DayR4qD/hj6x0z/AJEv9oj4raGq/wCqgg8ZvdxJ7BLxJhj2rV/4Qj9qHRvn0j466Dq%2BOkWu%2BD/Lz9Xtp0/RRR/bX7W2kfPe%2BA/AutKO2na9dWbt%2BEsDgf8AfRo%2BuNfHSmvlf/0mT/I8t4DJk7ywEoPvGFvxo1I/kZX/AApL9qPSfl8N/tm3U8a/ci8ReBbC649C8HkMfrmj%2BzP289I/d23iz4U62i9HvNH1Gwkb6mOaZR%2BC1q/8Lg%2BNenfN4g/Zb1jYPvPo/iKwu/yVpI2P5Uv/AA0rb23/ACGvgd8R7ED7zP4UadV/G3eQUf2hhV8Ta9YyX/tovZZTD4a9an/2/WX/AKXCaMn/AIT79tjRfl1T9nTwZrOOr6L8QJIM/QXFmP1Io/4X5%2B0Vp/za/wDsT%2BIgg6vpPizSrr8gZo2P5Ctb/hrf4GwfLq%2Buarpr901PwxfwY%2BpaDH61Zsf2rv2btQO2H40%2BH0Ppc36w4%2BvmYxTWYYBu3tY/%2BBJfm0NTw17U8za8pSov/wBKhFmB/wANZava/LrH7JvxctiPvGLw3bXK/gYLlyfypf8Ahs7wTb/8hr4QfFPTh3N58NtRwPxSNgfwrt7H43fBjU8HTvi74YuM9PJ1%2B3b%2BT1rWnjPwff4Nj4r02bPTyr6Ns/ka3jXoT%2BGafo0/yZ1Qhj5/w8fGX/cOk/8A0mojzL/hun9nWHjU9W8S2Ld1vPAOsJj8fspFH/Den7KC/wCv%2BKbQ/wDXzoF/F/6HAK9dinhnXfBMrj1RgadWpt7DPemIpv8A7hP9Kp4//wAN9fsfD7/x10pP%2BusM6/zjFKP2%2Bf2OD/zcFoH4yuP/AGWvX6Qqp6gH60B7HP8A/n9S/wDBc/8A5aeQn9vr9jgdP2gdBPsskh/ktH/DfH7IR/1fxu06T/rlaXD/APoMZr18ADoKKA9jn/8Az%2Bpf%2BC5//LTyD/hvP9lZv9R8SLqf/r28MalL/wCgW5o/4bk%2BA0//ACCF8X6gewsvh7q7Z/76thXr9RXF9ZWgzdXkUQ9ZJAv86G0twdDPba4mmvSk/wBapzfws%2BLWjfFvTrrVNE8MeI9NitZhGR4j8PXGntLkZ3RrOql19xxniuI%2BOVle%2BF/iV4a%2BIekalJDENbtINY8vxNdGeRZG8lYIrAk27K28F2G1/lJAJ5r0m8%2BIHgPT8/b/ABtpEGOvnalEuPzauT1f4h/sqQeJY/Gmt%2BNfAH9tQIEh1SfULI3aKM4VZCd4AyeAe59axliMPD4pperS/UzxsY1cFGlVrw500%2BZtQ2d7pKT9LXs9btXPNP2hL7w8fHGsa7qdzbS6zJpOnP8ADW6idWllnjuv38Fm/UzOxCuqHcyOQcqDiCbwneal48vfA2n6LdW3iyfxDrrXepiykUPpt3aOUlM%2BNpj3mNEXdlWjAAAXI9Mf9q/9mXS1WztfixorBBhIdPLTYHsIlP6Un/DWHwjuvl0CLxLq7dl0zwdqEmfoTCAfzrF5jgP%2Bfsfk0/yueNVwuU1cRKpPFw1d2lZvXfVNvm6Rla6jpqY3wG0/xHd%2BPoNbuPCmp6RDpvgKx0XWY9Q02S2SXUIJW/1O5QJkVd48xMqQyYPp1XxT%2BFHjb4i6tbTaJ8fPE3hTT4rby7iw8O29mGnfcT5nnTQSOpwQMDjjOM5rO/4aL1C8%2BXQv2efiNdsfumbQo7VT9TcTIR%2BVJ/wtH9oTUP8AkD/swyQK33ZNZ8YWkOPcrCJT%2BFL6/hn8Lb9Iyf8A7aj0aP8AZkcF9WlKdRN3fLGor7fyKNlorpSs9W97LK/4Yt8A6p8vjz4pfEnxOh%2B9DrPj69WI/wDALZolH4AVo%2BHv2Lf2UvDE/wBr0/4CeG5585%2B0apYC9kz677je2ffOak%2B0fte6p80Wm/DzRkboJrm9vpF/BVhUn8aP%2BFa/tGar82uftJQ2St9%2BHQPCFvHgege4eU/jgUfW5y%2BCjN/JR/8ASpfoRDA5Spc1PL3J95Qjf76s5s7/AETw74f8NWgsPDmhWenwDpDZWqRIPwUAVb3Lu2bhuIyBnnFea/8ADNNlqP8AyN/xl%2BIGsq3%2Bshm8TPbRP7bLVYhit/4f/A34V/C7Upta8D%2BEktL25g8m4vZLmWeaSPcG2tJK7MRkA9e1XCpi5zXNTUV5yu/uSt%2BJ7FCpjXJR9jGEP8abS8lGNvxRS%2BNfiD4geEdKj8TeELxpIbcjztPh0Q3JkIyzNLIHzFEEByVQtnGCchag%2BKPh/X/Fdxonivw3f2t1pdtbzSXlpc%2BI7mwtplYI0cpMAIlwV4D4XDHmrnxWl03U9Q0jwdqN9q8UOpTtHdjS7wQgxNiMCU4LFWZguFIOT1xWZ4607R7NrnSIPBuj3umaJp0Oo3Nhq1kbgOq7owIt7bYtqRsc7TkjGBnNeNjsxwtJ1%2BaTai4ppXbUrOe3blTct9E1ZvQwxGHq1alVN%2B6%2BW2r0ktdLJ2Xddexxt9rFrr%2Bsx%2BOU8OXcWs%2BIDomp%2BFZHs3eVNy%2BVNbeYB8qxruaRSQCJC2DurpfA3gnxfpHi3w9odzoF1Db%2BFZdTQ6y0sZgvLKdj5ESgNvL/AOpLZXAMJ5O4VpR%2BIfFKX817Y60RE%2BryaVb6b5EaxQAxBoHUBd24ZDNkkEE4AAp3wr1Bf7UsbfTNQmmh1Dw6l5qUE928z294GRW3FySpbc4I4GYjxXm4bNMNUx8KXLK8pb%2B6r%2B87Oyve8otvVShG101e2NHLYxqqcptu6eiSvrfXfeSvfdKy2Oo8TfD3wJ41vLPUPGHg7TNVm07ebF9Rskm8gvt3Fd4OCdq8%2BwrUhhtNPtRDBFHBDEuFRFCqij2HAFYvjDQvEPiKe3stA%2BIM%2BiqisbuOztYZJZgcbSGkB8vHPIBzkdMc5CfAXwPduJvFt1q3iGQHIbXNVlmUf9swVj/8dr26%2BKzFYmcMHhVLo5yqQjFuy6RU6jttqo/dZnrezUKjlGCTe70V/XS7%2BZxf7TFxb3fxo/ZvubWdJY3%2BMt8UkjYMrD/hCvFHQjrXtNeJftHaZpujfGD9m3S9IsIbW2g%2BMl8sNvbxBEQf8IV4o4CjgV7bXr0/aezXtLc1le17X62vra%2B19e5srhRRRVgFFFFABRRRQAUUUUAcx4c%2BNvwY8Y/EHWfhJ4R%2BLvhjVfFfhxFfxD4Z03X7afUNLVsbWuLZHMkAO5cF1Gcj1otfjb8Gb74p3PwLsvi54Ym8b2dgL288HRa/btqsFqQpE72gfzljIdPnK7fmXnkV8cfs8eHvGfgv41eA9D8QfCDxrp2pfDHxP8Sb/wAf%2BJj4H1FrXUrbWNYkktBa3KQFdSN689resluZTCLRvPETxhau%2BDvh/wDEGL9qTw98N5fhR4oh17Qf2nfEnj3WvGcvhq6TSpvDt5oWp29tImpmP7NPIVvbDT/sqyGZPszMYxHCr0Aeqf8ABVvxpN8OP2LdQ%2BIVtcwwy6F8QfA%2BoRS3P%2BrRofFukSAt/s5UZo/4JcfB7QPhz%2ByD4P8AFtnb3aav4t0gaz4huLokPfXVyxl86QEZYhWVVY/wAetWf%2BCiP7Nnx7/an%2BEMfwr%2BGOs%2BAbnQJte0K%2B8R%2BEvGVhfW761FY61ZX8kEeq2ssn9nhorZk3fYbkliBlM7187/AGEfEv7evh79nS28HaB8FPh1r1h4a8UeIPDtne%2BJ/jpqC3SJpesXmmmIeV4XIaJWtGEbMdxTaSE/1adkvqdXKXRn8aqwmt/sxkk7ppaOTdpXWt7NrTzZUK7ziFe14KnKN9NJOUW9H3irXWulno9fqbx7pGuanAP7PSGeIp5YtnDAh2IXzMjIOAT1HHJpnjOXTZ9PtmnvrNPs%2B6YWV0SPP2qV2rypyD0ODyBxzXn3/Ccf8FC/%2BjX/AIM/%2BH41b/5l6R/Gn/BQeQASfst/BdgDkbvjvqxwf/CWr4bMeFaWLljJ06nvYmMVJTvKK5HdNWtK17PlbcNLW5ZSv71PFuHImvhvt5/1vv8Agd/cajfGZpbK6mt1tHtYYLPcCHZwGZXzkk7WA68YzVnTtev9QvrY3Qhez1FpxBB5R3KiZw5YnBDAdMfxCvL5PEH7e8uorq0n7KPwWNygwsp%2BO%2BrZHBH/AEK/XBPPvUGm6r%2B35pd0buH9mP4PuQrLCknx71YrCrHJVB/wi3AJA9egFcNHI%2BIsPj4yjXvTc7u0mlypqzcWmtYXp%2BzhaCfLJ3sraSr4aVNpx1t2/X11u9d0ep618IPhb4hYyav8P9Jlc9ZlskST/vpQG/Ws3/hRPhay/wCRZ8ReI9GHZNN8QT7P%2B%2BJGdfwxXjE3xy/bs8ZfGXW/gdbfs0fDOx1Xwx4Y0nXbq8tfj9qkcEsGpXGpW8KKf%2BEYJZ1bSpywZQAJI8FiWC9fpniz/gohYWMdnP8As3fB%2B6ZAczz/AB41Xe/JPOPCwHt07V6s8ly7E5lONXLoKNrqqnBOT0umoKnUi99XJp280cEqNBwUrq/azX47Hcf8K%2B%2BKGncaH8b7t0H3Y9X0a3uPzZBG360bf2hdP4EnhDU1Xuy3No7fl5gzXHf8Jx/wUL/6Nf8Agz/4fjVv/mXo/wCE4/4KF/8ARr/wZ/8AD8at/wDMvXR/q9hofwK1an/hrTa%2B6ftEZezXRv7/APhzsf8AhOPi9Zf8hL4JGYD7z6Z4hgkz7hZRGaP%2BFyyW3Gr/AAn8Y2pH3mXRxOo/GF3rjv8AhOP%2BChf/AEa/8Gf/AA/Grf8AzL1y%2BrftHft26P8AGfQPgdcfsofCRtU8ReF9X12zuU%2BOuqeRHBp1zptvMjk%2BGNwdm1SAqApBCSZKkKGP7Lzan/Cx8/8At%2BnRn%2BSpsOWfSX5HrX/DQXwui%2BXU9WvbBu66ho11Dj6lo8frW14U%2BIngbxy0qeEPFNnqDQqGmS2mDMgPQkdRXmf/AAnH/BQv/o1/4M/%2BH41b/wCZemJ4v/4KBRStPH%2Byv8Fldx8zr8ddVBP1P/CLVvhqOe0669vXpzh1tTlGXyaqSj96GlUT1a%2B7/gnofj3xtqXh2SCx8P6fHdXBmgN35obZDDJKIwTj%2BJiSFHtzxUHxB1yG1uGsLfwpYanJBYSXt6L/AAFSBMjC/I2XODgHA45Iryfxdpf7bHjWaK81v9kP4IPcxzRP9r/4XhqnmssbhghY%2BFs7TjBHoTioPEsH/BRfxARJF8A/g3byTWMljfyL8bdUYz2znO1f%2BKYARgCQG5xuPBrzsbS4i5sS6bupOPJytXSSldWmrJt8jbbkmua1rJOJxnJNPVf13O/vNL%2BE%2BtatHFcfA/w9dWDXFvb3N7dabbl0lmQMgCGMhlG5Qx3AgngHk1S0f4U/s4eLdUis5v2e/DdvBfRSy6Xdro9sou0jYByFRQU%2B8Dz1BryT4vfEn9vL4L2Fp441v9mv4RS6LfeN/Dun/wBmWXxr1Rpvtt/qFnpNs3mN4bVRCs1zDLINpbCOVzwh6nwva/8ABQ7w9d6bLP8As7/Be4h0ewmtNOiX43aujKkjISXb/hGTuYCNRkBe578ctLC55LFR9tTi4c2t40rWvZ20uocusftc%2Bj0OWWBwtR%2B/Sg/WMP8A5E9El/ZC/Zplbf8A8Kd0hD6wxtH/AOgsKb/wyD%2BzsP8AVfDzy/8Arjq12n/oMori/F13/wAFEPFkUEcPwM%2BGOkmBmO/SP2gdUjMmccNu8KNkDHH1NYf/AAjn/BSaP/UeC/BA/wCun7QF638/B9ehiqU6NdxpZdGpH%2BZSoxv/ANuySattuRLKcsvphof%2BAxX6I9Q/4ZF%2BAQ%2B54U1BP%2BufijUV/lcUf8MjfAnt4f1gfTxhqn/yTXl/9jf8FOl/1fhD4ej/AHvjndt/7qFcv8bfiF/wUm%2BA/wAGPF3xx8U%2BBPAd1pfgzwxf67qVrYfGm4a4mt7S2kuJEjD%2BE1UuVjIUMyjJGSBzXPzV/wDoVP8A8Dof/JIn%2Byst/wCgaP3RPeP%2BGRvgR38O6ufr4v1Q/wDtzR/wyJ8AOj%2BD71/%2BuniXUG/nPXl/9lf8FQz97wn8Ofw%2BNt0P/dRo/sT/AIKbN/rfB/w/P%2B58dbtf/dQo5q72yp/%2BB0P/AJJh/ZWW/wDQNH7onqH/AAyB%2Bzk3%2Bt%2BGkMv/AF31C5k/9ClNS2/7JH7NNqcx/BjQ2P8A01td/wD6ETXlX/CM/wDBSF%2BZ/BHgpvZP2hb5P5eEKP8AhEf%2BChb/AOv%2BGvg1/wDu5XVk/wDQPCgoX1zplUfnUof/ACDGsqy1bYWH/gMP/kWezWf7OX7P1hg23wR8KAjozeH7dj%2BZQmtex%2BGHw00vH9mfDzQrfHTyNIhTH5LXgX/CDft1yf8AH78EPAtz6if9qDxB/TwyK5f4I3v7Tfx7%2BDHhD45aD%2Bx38NBpvjPwvp%2Bu6db6z%2B0nr7TxW93bR3EaSqvh5kDhZAGClhkHBI5raMs5X8PAUo%2BtWP8A7ZQZvDCYen8FGC9FFflA%2BukTStHh2otvaxjsAqL/AEqhe/EDwHpuf7R8baRb46%2BfqUSY/Nq%2Bf4Pht%2B1HA/mD9hr4ESN63Hx01eU/%2BP8Ahg1p2Wjftf6dg2H7Dn7PsJHeP4x6gD%2Bf/CK1sp8Ty2p0Ies6svyhA6V7RKySX3nq158evg1ZNsk%2BJGlSHsLe5EpP02ZzUB%2BPngC440aLWtSbsun%2BHruTP0PlgH864ez8Tft86eu2w/ZP%2BCUA9Ifjnqq/y8LVP/wnH/BQv/o1/wCDP/h%2BNW/%2BZej6vxLU%2BLEUo/4aUpfjOqvxQWq9193/AATsf%2BFua1efJonwZ8WTsehurWG1U/jLKCPyo/4Sz426h8mn/COwss9JNU8RqcfVYY3/AJ15N4B/aO/bt%2BInivxv4Q0f9lD4SQ3HgPxRFoWqyXPx11QJPPJpWn6mHi2%2BGCSnk6jCpLBTvRxjADN1H/Ccf8FC/wDo1/4M/wDh%2BNW/%2BZej%2ByszqfxcfU/7chSh/wC2Tf4hySe8vyOx/s/9oHUvkuvEvhbSlPez02e6cfjJIgP5Vr%2BEfDXjDRruW78U/ES41nzI9qQNp0NvHEc53AINxPbljXm//Ccf8FC/%2BjX/AIM/%2BH41b/5l6P8AhOP%2BChf/AEa/8Gf/AA/Grf8AzL1vh8lw9CtGtKrVnJbc9WbX/gK5YP5xY1BJ3u/vO98b/DGPxfdvqUPiXUbOdhb4SC42xfuZC6EhQGyCzYwwwTmoviB4S/tHT3ujfz/bJo3tFS12oLmBiSYJAwfKhdxLDDfeIIya8%2BvfFP8AwURu7m3nj/Zy%2BEECwOWeKH48aptm9mz4VJx9Mda5YfHT9tvxl8Y9c%2BBNz%2ByT8JW1Lw14a0jX7m5f486stu8Go3Gp20KIV8M7i6tpk5cFQuJI8FiWC%2BbmeSLF4XGQw9FQqVLJSc9JO3xJLm5XHmkleOr1s4tp7U4UI1Iynquq1/zX4WPa9V8KWF62neMNC0qZbtmheQ2rruKGPaG2yHyy4UhQ5G4LwDUFz/ZJupNStXayc2UshkGI3e5hkw5k2YEjducjHTrXnmn6l%2B37p2lJo1v%2BzN8IFgRNqrF8fdXjI5JyCnhYEHnHWp49d/b0itEsf%2BGTvgo8Ub70WX47as%2BGzndlvC5JOe/WvEr8L5njlzvkpynGDmrtx9rGKTceTllFNuUpSTTk4w00Z2U6%2BGov3VezdtEnZ9731tp6XPQYhINVRpLYpqMuqRTxuIjl7dkXeC2PuqN4wT1UV02qWd1f2D2lpqctpI2MXEKqWUZ5xuBHI4/GvIv%2BE4/4KFDp%2By98Gf8Aw/Grf/MvR/wnH/BQv/o1/wCDP/h%2BNW/%2BZevosq4ep5dh69GdRzjV3teD2ldtxknzvmd5pxbtHrG7xq4l1JRkla3z/Ppptr1If2kbRrH4xfs22j3c1wY/jJfAzTsC7/8AFFeKOSQAM/hXtlfK/wAT/Ev7Vur/ALSf7Olr8a/gv8PfD%2Bjj4uai0d94W%2BJ19rFyZ/8AhC/E21DBPotkoQgsS/mkggDYckr9UV71KlCjSjTgrKKSW70SstW236tt923qc7bk7sKKKK0EFFFFABRRRQAUUUUAFUfFHiGw8JeGtR8V6qHNrpljNd3IiXLeXGhdsDucKavVHd2lrf2stje26TQzRtHNFKoZXUjBUg8EEcYoA%2Bb/ANjX9qX4%2BfFTxho3hX4/6b4SR/G/wn074geF18J6fc2/9l29xKEn0y6ae4mF1JCJrTbdxiBZS8v7iLYN3ldh/wAFHvjL8OvhgfjT4l%2BH/gy68N%2BO/hf4r8dfDPQNC064sbmylsb20FvaalcPPKly94upwzyTxQweS6TKUm3K9e8/AD9hfwh%2Bzpqtvq/hP4y%2BOtTl07RdO0DQxr9zp1wNK8P2TyvBo0JWyQm3zL880he8kEUW%2B5by1xjaT/wTO%2BA1taeIPD3iTxV4t1/w9q3hLXPDGh%2BGNW1G2W08LaTq9wlxf2unNb28U6B5Ibco88s8kK20SRPGq7SAdN%2BzJ8XPjH4j8feP/gX8f7vwzqHibwLdaZMuueENHuNOsdQsb%2B082Jvs1xc3LwypLFcxMPOcMsccg2bzGnsVed/AD9nPSvgMfEOsXHxI8TeNPEXivUYbvxB4s8YSWZvrvyLaO2gi22VtbW8cUcUYCrHEuWeR23PI7N6JQAV8u/Ab9sb42/ED4xeFpPG2meFl8B/EzWvF2meCrPS9NuYtV0uTRbuWKGS8uHuXiulu7e2uZiscMBt28uPM%2BTIPqKvDPB37BngbwF8SZviN4X%2BLvjeAW11rN14U0J59OlsPC0%2BrXq3mpS2KPZF2aeUOP9JecQpNLHAIVfFAFPXPip8cfh5%2B2p4R%2BGetaj4B13SviI2poukaH4XurbXdB0ewtZp4tRu717yWO6txdPFalBbwBZtUj2M2H3ZH/BOH9qf4u/tH%2BBfO/aL8T6JZeO/%2BEZ0jVdZ%2BHlv8J9b8KX3hxrqOUyLIur3cz6jAZUeKO6gSOItbS8uThOt8Dfsaf8ID%2B0p4s/aX079pT4hXd740nU6z4e1KLQ5rFbeK3eG1soZf7MF7Ba25keaOFLkL5zySPvMsvmbHwb/Zftvhb8RdU%2BL/AIt%2BNPjL4g%2BKdS0S30ZNb8ZHTY3s9PhlkmFvDFptlaQKGllZ3do2kYhAX2oqgA9RooooA%2BXf2mv2xvjb8K/in4xf4eaZ4Wbwb8JtF8N6n47ttZ025m1HWI9UvriKaOxmjuY47Rra1t/PDSRXAnklEWIQpkM37ZH7SvxM%2BBX7Qvg6zttX8PeEvA0nhHUrzxL8RfEfwi1nxFbabIt7YItpLe2F3bwaRDJG0srz3beV/oyk8JXbfGf9iH4cfG74pH4ma5458VaXFqNrpFr4v8NaNdWqad4pg0u9kvbGK%2BWW3kmCxzTS5%2BzywGWOQxTGWMKgn%2BOn7JN1%2B0J4Jl%2BGPjz9pb4hxeGNU0e40nxdoOmLosMXiSynLiaG5l/s0zwhonaAtaSW7eWeu/56APPNS/bG%2BNtr%2B0BdywaZ4W/4Vjp/xms/hpc2D6bcnW5by402Ccamt19p8hYlvLmK2%2Bym3LGNXn88HENfUVeL3H7Dvw1n%2BPf/AAvAeNvFMdo/imHxRP4DjubQaHNr0WnLp0Wpsn2b7T5q2yRgRC4Fv5kSTGEyjzK9ooAK%2Bev2vP2if2gPAfxAg%2BF37OFr4RXU9P8AhrrvjfWbjxlptzdQ3UFhJaxQ6bCLe4gMElw9xJm6YyrAIR%2B4mMmF%2Bha8j/aX/Y88H/tM6hZa1qPxJ8X%2BEdQt/D%2Bp%2BH77UfBt5awzalouoeQbzT5jc204WORraFhLEI7iIoTFNHvfcAc1%2B058d/GUH7Ff/DXXwv8AFnhPQ9G03wWPGV5Z%2BNfAdxrzXUKWqXttBBFb6lZGO58wIEOZCZNgVQ2DXDXv7WP7Vvw%2B%2BOvgP4aftDa54P8ABGkXfw%2B8IXni3Xf%2BFQ69qOl6j4l1C9vbbUdKt9Wiv1s9ICtBaJB9sMzF72P/AFvCH3Hx5%2BzD4L%2BI/wANLL4P%2BJ/Emst4c07xRpOr2mlWotIY1h028t7u10whLcbrISWsQZGzI6Ao0hViKqfHT9lqD9oLXLZPG3xv8a2/hJZrGbU/h7ph0yPStVktblbmMzytZNfANIke9IrqNHWMKVwzhwD1SiiigDxf/goL8Xfjh%2Bz9%2ByP40%2BPXwCvfCkeseCdCu9cuoPGGi3N9bXdpa20sz26JbXVsySuyIokLlUBYlH4FXf2wfif4u8CeDvDXgX4e6ZoNxr3xH8ZWvhTTZfFWmyXumWqzwz3FzNc20csLXKLaWtziESx%2BY5RS6gkjU/ax/Zxsv2tPgRr37PutfFXxT4R0nxPZS2OuX/hBdO%2B13NlLE8U1tuv7S6jRHV%2BWRFkBUbXXnOd43/ZWk%2BJXw6s/BHjz9oLx1qOp6TqenapoHjExaPBqek6lZklbyEQaclszyBnWRJYJIWSR08sKxUgHgkn7d37VvjLQ/wDhDPhno3gC28beE9C8dal44udZ0i9m03Un8OawNKjtrKOO7SS0F826cTSSXH2RQEMdyTuH1t8L/HumfFT4aeHfifoltLDZeJNCtNUtIZ8b0iuIUlRWx3AcA%2B9eIeIf%2BCaXwn1jwLpPg/Rvi58QNBvLPTfEOna74n0XUrFdS8SWmu3a3usRXry2bxg3N0om8y2jglgbIt3gUlT9BaHomkeGdEs/Dfh/T4rSw0%2B1jtrK0gXakMMahURR2AUAAegoAtVzXxik%2BJsPwy1if4Oa1oOneJYrXfpl74m0qa%2BsYirAuZYIJ7eSUeWHwqyx/MVy2M10tYXxM8Hap8QfAep%2BC9G%2BIOs%2BFbjUbfyU8QeH4bOS8swSCzRLe29xbkkAqfMhcYY4AOCADgvgJ8UfjB%2B0N%2BxH8P8A41%2BH7nw1o/jXxx8ONE1xpbzSri40uzvLyyguJT9mW4SaSJTI%2B2Pz1YgKDJ1avAL39sz9qLQfg5p6%2BA9I8K3UGj/HO78Cah488HfBrXdf0eTQrPRLq5fUbTRNNvWuo1i1GFNJci5liSWCVs7SoX2Lwl%2Bw1P4M/ZLT9jzSf2t/iuug2vghPCula/DPoltrGm2MaJFE8FxbaXGqzJAghWUoTtJc5lxKNHwf%2ByN4m%2BHvwQ0n4G%2BAf2vPiNolroVwi6Tq%2Bl6J4VhuLWwS3WCPTUhXRPsa2ybQ6kW/nBjjzdmEAB6F8HfG%2Bm/Er4T%2BGviBpHjjSPE1vrOh2t2niHw/aNb2OpF4lY3EETyytDG5JZY2kkZAQrOxBJ6SuX%2BCvwh8G/AP4U6D8HPh/FcrpHh7T0tLNr65aaeUDJaWWRuXkdizs3dmJwOldRQAV4v%2Bxz8Xfjh8Srr4peDvj9e%2BFLvWfh/8TG8PW194P0W5sLW4tW0bStSQtFc3Vy5kVtQeMuHCuI1YImSK9orxf4E/seax8CfGni/xraftZfErxHJ448Vw%2BINesfENp4dED3aWtvZkJ9k0iB0je3tLaJgHziEMpV2dmAPDPBH7f/xV8G/Df4xfET4vQeGrbxd4a0vxBrGifDBvhRrXhm%2Bv47K/fT7K8bUr%2B6ki1a3kjXT1kubWHZF9pi5A2Ifef2ZPi58Y/Efj7x/8C/j/AHfhnUPE3gW60yZdc8IaPcadY6hY39p5sTfZri5uXhlSWK5iYec4ZY45Bs3mNMzXP2CPA3xE1XxBqvx6%2BMHjn4hnXPBOr%2BErSDxJPp1smi6TqckD3sNp/ZtlanzHNpaYnmMsyfZk2upLlux%2BAH7OelfAY%2BIdYuPiR4m8aeIvFeow3fiDxZ4wkszfXfkW0dtBFtsra2t44o4owFWOJcs8jtueR2YA9EooooA8X%2BCvxd%2BOGtftcfFn4C/FS98KXWj%2BGNC8Pa54Qn8P6Lc2tzFaalc6zD9nvHmupluJUXTIm8yNIFzK42HANc/4k%2BIn7S3hX9vzwX8INM8VfDnVfDni7SNY1jxDZwfD68t9Z0vQdORIrffqP9qvFLIdQ1G3VVa0VWRroqqlSa6DRf2PNY0D9ovxh%2B0lp37WXxKGoeM9KstMvdCe08OnT7O0s57qa0igH9keePKN7dKGkmkZlmO8uVQr2ml/Avwrpfxw8S/tApq2pza/4k8MaboDefNGYdOsrKW7mRbZRGCjPLeyvIzF95SIcCNQADx3/gnD%2B1P8Xf2j/AvnftF%2BJ9EsvHf/AAjOkarrPw8t/hPrfhS%2B8ONdRymRZF1e7mfUYDKjxR3UCRxFraXlycJ9LV5d8G/2X7b4W/EXVPi/4t%2BNPjL4g%2BKdS0S30ZNb8ZHTY3s9PhlkmFvDFptlaQKGllZ3do2kYhAX2oqj1GgArwf9rX4zftBfAbxJ4X8XeDPEHgi98Pa14u0Lw7beBb7w5eSa5rlze3yw3LWl7HerFCYLVpLrY1pMPLtJmd40BeP3ivGfiT%2BxyvxE/ad0T9qa3/aO%2BIGhar4f0MaVpmgaZDolxpcEDzebctGl9plxNDLcgRxzSxSo7RwxorIByAcL%2B2x%2B1D8Zvhb4y8QWfwa8OeDrpPhP8Kbr4leJh4s0qe5m1GFWuoYtPsJIriEWM8sNrqCm7cTqm6NfJdXcirH%2B2z8YtQ%2BNZ17StO8Ln4VxfF6w%2BHT2Mul3P9uS3N3plvcLqi3P2nyUiW8uorY2ptyxjV5vPBxDXcfHT9hHwV%2B0G0U3jb4weOLaa78L3fhjxfPpFxp0DeK9CuZhLJpl8PsRVYvvoslsLedEmlCyjzHJtT/sOfDSb49f8LvXxr4oitG8Uw%2BKJ/AUVzaDQ5teh05dOi1Nk%2BzfaRKtskYEQuBb%2BZEkxhMo8ygD2iiiigAooooAKKKKACiiigAooooAKKKKACiiigAooooAKKKKACiiigAooooAKKKKACiiigAooooAKKKKACiiigAooooAKKKKACiiigAooooAKKKKACiiigAooooAKKKKACiiigAooooAKKKKACiiigAooooA/9k%3D\">"
      ]
     },
     "metadata": {},
     "output_type": "display_data"
    }
   ],
   "source": [
    "try:\n",
    "    display_html(HTML(anim.to_html5_video()))\n",
    "# In case the build-in renderers are unaviable, fall back to\n",
    "# a custom one, that doesn't require external libraries\n",
    "except RuntimeError:\n",
    "    anim.save(None, writer=matplotlib_utils.SimpleMovieWriter(0.001))"
   ]
  },
  {
   "cell_type": "markdown",
   "metadata": {},
   "source": [
    "# Logistic regression\n",
    "\n"
   ]
  },
  {
   "cell_type": "code",
   "execution_count": 50,
   "metadata": {},
   "outputs": [
    {
     "name": "stdout",
     "output_type": "stream",
     "text": [
      "y [shape - (360,)]: [0 1 0 1 0 1 0 0 1 1]\n",
      "X [shape - (360, 64)]:\n",
      "X:\n",
      " [[  0.   0.   5.  13.   9.   1.   0.   0.   0.   0.]\n",
      " [  0.   0.   0.  12.  13.   5.   0.   0.   0.   0.]\n",
      " [  0.   0.   1.   9.  15.  11.   0.   0.   0.   0.]]\n",
      "y:\n",
      " [0 1 0 1 0 1 0 0 1 1]\n"
     ]
    },
    {
     "data": {
      "image/png": "[encoded data removed]",
      "text/plain": [
       "<matplotlib.figure.Figure at 0x11fb8f9b0>"
      ]
     },
     "metadata": {},
     "output_type": "display_data"
    }
   ],
   "source": [
    "# 准备数据 （sklearn.datasets）\n",
    "\n",
    "from sklearn.datasets import load_digits\n",
    "from sklearn.model_selection import train_test_split\n",
    "\n",
    "mnist = load_digits(2)\n",
    "\n",
    "X, y = mnist.data, mnist.target\n",
    "\n",
    "print(\"y [shape - %s]:\" % (str(y.shape)), y[:10])\n",
    "print(\"X [shape - %s]:\" % (str(X.shape)))\n",
    "\n",
    "print('X:\\n',X[:3,:10])\n",
    "print('y:\\n',y[:10])\n",
    "plt.imshow(X[0].reshape([8,8]));\n",
    "\n",
    "X_train, X_test, y_train, y_test = train_test_split(X, y, random_state=42)"
   ]
  },
  {
   "cell_type": "markdown",
   "metadata": {},
   "source": [
    "It's your turn now!\n",
    "Just a small reminder of the relevant math:\n",
    "\n",
    "$$\n",
    "P(y=1|X) = \\sigma(X \\cdot W + b)\n",
    "$$\n",
    "$$\n",
    "\\text{loss} = -\\log\\left(P\\left(y_\\text{predicted} = 1\\right)\\right)\\cdot y_\\text{true} - \\log\\left(1 - P\\left(y_\\text{predicted} = 1\\right)\\right)\\cdot\\left(1 - y_\\text{true}\\right)\n",
    "$$\n",
    "\n",
    "$\\sigma(x)$ is available via `tf.nn.sigmoid` and matrix multiplication via `tf.matmul`"
   ]
  },
  {
   "cell_type": "code",
   "execution_count": 52,
   "metadata": {
    "collapsed": true
   },
   "outputs": [],
   "source": [
    "# 准备模型、代价函数、优化过程\n",
    "\n",
    "# Model parameters - weights and bias\n",
    "weights = tf.Variable(np.zeros((X.shape[1], 1), dtype='float32')) #shape should be (X.shape[1], 1)\n",
    "b = tf.Variable(0.0, dtype='float32')\n",
    "\n",
    "# Placeholders for the input data\n",
    "input_X = tf.placeholder(tf.float32, shape=(None, X.shape[1]))\n",
    "input_y = tf.placeholder(tf.float32, shape=(None, ))\n",
    "\n",
    "# Compute a vector of predictions, resulting shape should be [input_X.shape[0],]\n",
    "predicted_y = tf.sigmoid(tf.squeeze(tf.matmul(input_X, weights) + b))\n",
    "\n",
    "# 代价函数\n",
    "loss = tf.reduce_mean(-input_y * tf.log(predicted_y) - (1- input_y) * tf.log(1 - predicted_y))\n",
    "\n",
    "# 优化器、优化目标、参数列表\n",
    "optimizer = tf.train.AdamOptimizer().minimize(loss, var_list=[weights, b])\n"
   ]
  },
  {
   "cell_type": "code",
   "execution_count": 54,
   "metadata": {},
   "outputs": [],
   "source": [
    "\n",
    "# 使用前面的 weird_psychotic_function 生成一个 weights\n",
    "validation_weights = 1e-3 * np.fromiter(\n",
    "    map(lambda x: s.run(weird_psychotic_function, {\n",
    "        my_scalar: x, \n",
    "        my_vector: [1, 0.1, 2]\n",
    "    }), 0.15 * np.arange(1, X.shape[1] + 1)), \n",
    "    count=X.shape[1], \n",
    "    dtype=np.float32\n",
    ")[:, np.newaxis]\n",
    "\n",
    "# 使用 weights 和b 计算 predicted_y\n",
    "prediction_validation = s.run(predicted_y, {\n",
    "    input_X: X,\n",
    "    weights: validation_weights,\n",
    "    b: 1e-1\n",
    "})\n",
    "\n",
    "# 验证一下\n",
    "validation_true_values = np.loadtxt(\"validation_predictons.txt\")\n",
    "\n",
    "assert prediction_validation.shape == (X.shape[0],),\\\n",
    "       \"Predictions must be a 1D array with length equal to the number \" \\\n",
    "       \"of examples in input_X\"\n",
    "assert np.allclose(validation_true_values, prediction_validation)\n",
    "\n",
    "# 计算loss并验证\n",
    "loss_validation = s.run(\n",
    "        loss, {\n",
    "            input_X: X[:100],\n",
    "            input_y: y[-100:],\n",
    "            weights: validation_weights+1.21e-3,\n",
    "            b: -1e-1})\n",
    "assert np.allclose(loss_validation, 0.728689)"
   ]
  },
  {
   "cell_type": "code",
   "execution_count": 55,
   "metadata": {},
   "outputs": [
    {
     "name": "stdout",
     "output_type": "stream",
     "text": [
      "loss at iter 0:0.6393\n",
      "train auc: 1.0\n",
      "test auc: 1.0\n",
      "loss at iter 1:0.5895\n",
      "train auc: 1.0\n",
      "test auc: 1.0\n",
      "loss at iter 2:0.5433\n",
      "train auc: 1.0\n",
      "test auc: 1.0\n",
      "loss at iter 3:0.5007\n",
      "train auc: 1.0\n",
      "test auc: 1.0\n",
      "loss at iter 4:0.4614\n",
      "train auc: 1.0\n",
      "test auc: 1.0\n"
     ]
    }
   ],
   "source": [
    "# 运行几次optimizer，就可以训练好数据（因为非常简单），得到 auc = 1\n",
    "\n",
    "from sklearn.metrics import roc_auc_score\n",
    "s.run(tf.global_variables_initializer())\n",
    "for i in range(5):\n",
    "    s.run(optimizer, {input_X: X_train, input_y: y_train})\n",
    "    loss_i = s.run(loss, {input_X: X_train, input_y: y_train})\n",
    "    print(\"loss at iter %i:%.4f\" % (i, loss_i))\n",
    "    print(\"train auc:\", roc_auc_score(y_train, s.run(predicted_y, {input_X:X_train})))\n",
    "    print(\"test auc:\", roc_auc_score(y_test, s.run(predicted_y, {input_X:X_test})))"
   ]
  },
  {
   "cell_type": "code",
   "execution_count": 56,
   "metadata": {},
   "outputs": [
    {
     "name": "stdout",
     "output_type": "stream",
     "text": [
      "[ 0.66401088  0.65641075  0.67593837  0.66138738  0.68129277  0.67558366\n",
      "  0.68500489  0.68207365  0.63350755  0.64254004  0.66639584  0.65949732\n",
      "  0.694121    0.66115284  0.64544779  0.68306303  0.67686367  0.67107213\n",
      "  0.66392851  0.64235556  0.64538926  0.65905392  0.6561361   0.65742481\n",
      "  0.63385147  0.68329191  0.64337552  0.66489387  0.68337435  0.66179073\n",
      "  0.66177893  0.64671141  0.69986385  0.67688763  0.68746978  0.66472566\n",
      "  0.69620609  0.66244704  0.69127142  0.68220872  0.65086454  0.67770666\n",
      "  0.68905181  0.67274594  0.6785143   0.64218765  0.65662456  0.6957922\n",
      "  0.66311967  0.67081583  0.69048113  0.67225158  0.68022954  0.66433567\n",
      "  0.66481322  0.63162178  0.67249894  0.67037082  0.67849028  0.68825996\n",
      "  0.66681451  0.65308052  0.65186304  0.67308062  0.67225862  0.66422528\n",
      "  0.6547932   0.65946996  0.68174976  0.67272311  0.63793045  0.63419807\n",
      "  0.65103573  0.64098734  0.64769876  0.66859394  0.6967169   0.65998185\n",
      "  0.673325    0.69064862  0.68462962  0.68061763  0.66689646  0.69550753\n",
      "  0.67596084  0.67701894  0.65879494  0.66605031  0.66640103  0.65572119\n",
      "  0.66028553  0.62114561  0.68480939  0.67029029  0.66783208  0.67923707\n",
      "  0.6605311   0.66873181  0.64275599  0.69814706  0.6902715   0.6493904\n",
      "  0.69543374  0.66648549  0.67307007  0.6472308   0.64091533  0.62373728\n",
      "  0.6748963   0.6405248   0.66849709  0.65591371  0.64792788  0.65384579\n",
      "  0.64712346  0.69161987  0.65315604  0.64499253  0.66163135  0.66178983\n",
      "  0.64436287  0.65366709  0.63588494  0.6595962   0.62806183  0.64986557\n",
      "  0.69454271  0.65782517  0.65908271  0.67110497  0.69081634  0.67283285\n",
      "  0.66090238  0.69377959  0.6927467   0.67678285  0.64720863  0.67946947\n",
      "  0.71442956  0.7064212   0.66066056  0.66074187  0.67672318  0.66533148\n",
      "  0.67524236  0.65938962  0.68307525  0.65453357  0.66923803  0.70490307\n",
      "  0.72366703  0.69458795  0.6784054   0.67324376  0.68667257  0.66533804\n",
      "  0.66306305  0.64276797  0.69214219  0.6492222   0.65584689  0.65747076\n",
      "  0.65656722  0.66706139  0.70098859  0.68557465  0.68555897  0.68853474\n",
      "  0.68657446  0.65047103  0.6812169   0.68151301  0.69785637  0.64822465\n",
      "  0.68084532  0.67110592  0.66054952  0.67403686  0.65375715  0.66620666\n",
      "  0.67659825  0.64181215  0.64296758  0.65018135  0.65404731  0.65454268\n",
      "  0.64973664  0.64603019  0.64733994  0.64921868  0.63774723  0.64433986\n",
      "  0.62275183  0.63955981  0.66021848  0.65827388  0.63929558  0.64323765\n",
      "  0.64233357  0.64955521  0.62024885  0.62486595  0.66680866  0.64400911\n",
      "  0.66094363  0.6454131   0.70616376  0.65418398  0.67260516  0.63924903\n",
      "  0.64658666  0.6444993   0.64202571  0.69357854  0.65783834  0.63249427\n",
      "  0.63619339  0.68770921  0.67456651  0.64805317  0.64172524  0.6788255\n",
      "  0.67867994  0.66365039  0.65442848  0.69534355  0.65893751  0.64046979\n",
      "  0.64385206  0.66134489  0.65133959  0.66203725  0.67426372  0.6544174\n",
      "  0.66120881  0.65772992  0.65893471  0.66903931  0.69680458  0.68164974\n",
      "  0.66750646  0.70809168  0.69353086  0.66106772  0.63279492  0.66583866\n",
      "  0.66526622  0.65941769  0.65905493  0.65386987  0.68406594  0.6598891\n",
      "  0.65752298  0.65772277  0.65499341  0.6544984   0.66793841  0.64126861\n",
      "  0.65395063  0.6515435   0.66016287  0.66251969  0.636392    0.68913156\n",
      "  0.67883867  0.6311276   0.62753987  0.67409015  0.6751923   0.69356698\n",
      "  0.66491491  0.64304489  0.64357269  0.66104829  0.68084133  0.655339\n",
      "  0.64121723  0.63558739  0.63938236  0.64696026  0.67628992  0.64120036\n",
      "  0.67794049  0.64946991  0.67608756  0.66541982  0.65633446  0.65914047\n",
      "  0.67275214  0.64275622  0.64971793  0.67611188  0.64582866  0.65816987\n",
      "  0.65198463  0.68903321  0.67061108  0.67795503  0.69165039  0.68356639\n",
      "  0.64267033  0.68350267  0.66515565  0.67552668  0.64766425  0.65016949\n",
      "  0.64104092  0.6891489   0.65445453  0.68599796  0.65095055  0.67488664\n",
      "  0.67566514  0.67109036  0.68013406  0.64392489  0.66065848  0.61975479\n",
      "  0.63701749  0.6651963   0.64860958  0.64999992  0.65996283  0.63370872\n",
      "  0.66100615  0.68818897  0.62869906  0.60876185  0.61974746  0.64417171\n",
      "  0.62517303  0.66769612  0.6226331   0.66458052  0.67799824  0.70590937\n",
      "  0.65926468  0.68830079  0.65845406  0.66720533  0.66319841  0.67982519\n",
      "  0.69859594  0.66300315  0.6910699   0.64577818  0.68118346  0.66089076\n",
      "  0.69609994  0.67869657  0.66909498  0.67499965  0.70720524  0.68616599\n",
      "  0.69601309  0.67042863  0.7068485   0.66637498  0.69903636  0.70321852]\n"
     ]
    }
   ],
   "source": [
    "test_weights = 1e-3 * np.fromiter(map(lambda x:\n",
    "    s.run(weird_psychotic_function, {my_scalar:x, my_vector:[1, 2, 3]}),\n",
    "                               0.1 * np.arange(1, X.shape[1] + 1)),\n",
    "                               count=X.shape[1], dtype=np.float32)[:, np.newaxis]\n",
    "prediction_test = s.run(\n",
    "    predicted_y, {\n",
    "    input_X: X,\n",
    "    weights: test_weights,\n",
    "    b: 1e-1})\n",
    "\n",
    "print(prediction_test)"
   ]
  },
  {
   "cell_type": "code",
   "execution_count": 79,
   "metadata": {
    "collapsed": true
   },
   "outputs": [],
   "source": [
    "assert prediction_test.shape == (X.shape[0],),\\\n",
    "       \"Predictions must be a 1D array with length equal to the number \" \\\n",
    "       \"of examples in X_test\""
   ]
  },
  {
   "cell_type": "code",
   "execution_count": 57,
   "metadata": {},
   "outputs": [
    {
     "name": "stdout",
     "output_type": "stream",
     "text": [
      "0.775012\n"
     ]
    }
   ],
   "source": [
    "loss_test = s.run(\n",
    "    loss, {\n",
    "        input_X: X[:100],\n",
    "        input_y: y[-100:],\n",
    "        weights: test_weights+1.21e-3,\n",
    "        b: -1e-1})\n",
    "\n",
    "print(loss_test)\n",
    "# Yes, the X/y indices mistmach is intentional"
   ]
  }
 ],
 "metadata": {
  "kernelspec": {
   "display_name": "Python 3",
   "language": "python",
   "name": "python3"
  },
  "language_info": {
   "codemirror_mode": {
    "name": "ipython",
    "version": 3
   },
   "file_extension": ".py",
   "mimetype": "text/x-python",
   "name": "python",
   "nbconvert_exporter": "python",
   "pygments_lexer": "ipython3",
   "version": "3.6.2"
  },
  "varInspector": {
   "cols": {
    "lenName": 16,
    "lenType": 16,
    "lenVar": 40
   },
   "kernels_config": {
    "python": {
     "delete_cmd_postfix": "",
     "delete_cmd_prefix": "del ",
     "library": "var_list.py",
     "varRefreshCmd": "print(var_dic_list())"
    },
    "r": {
     "delete_cmd_postfix": ") ",
     "delete_cmd_prefix": "rm(",
     "library": "var_list.r",
     "varRefreshCmd": "cat(var_dic_list()) "
    }
   },
   "types_to_exclude": [
    "module",
    "function",
    "builtin_function_or_method",
    "instance",
    "_Feature"
   ],
   "window_display": false
  }
 },
 "nbformat": 4,
 "nbformat_minor": 1
}
