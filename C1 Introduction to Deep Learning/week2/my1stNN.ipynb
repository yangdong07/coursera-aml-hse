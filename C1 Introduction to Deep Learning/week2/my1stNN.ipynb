{
 "cells": [
  {
   "cell_type": "code",
   "execution_count": 1,
   "metadata": {},
   "outputs": [
    {
     "name": "stderr",
     "output_type": "stream",
     "text": [
      "/home/yangdong/Applications/miniconda3/envs/DL3/lib/python3.6/site-packages/h5py/__init__.py:36: FutureWarning: Conversion of the second argument of issubdtype from `float` to `np.floating` is deprecated. In future, it will be treated as `np.float64 == np.dtype(float).type`.\n",
      "  from ._conv import register_converters as _register_converters\n"
     ]
    }
   ],
   "source": [
    "import numpy as np\n",
    "import tensorflow as tf\n",
    "\n",
    "import matplotlib.pyplot as plt\n",
    "%matplotlib inline"
   ]
  },
  {
   "cell_type": "code",
   "execution_count": 2,
   "metadata": {},
   "outputs": [
    {
     "name": "stderr",
     "output_type": "stream",
     "text": [
      "Using TensorFlow backend.\n"
     ]
    },
    {
     "name": "stdout",
     "output_type": "stream",
     "text": [
      "(50000, 784)\n",
      "(50000,)\n",
      "(50000, 10)\n"
     ]
    }
   ],
   "source": [
    "from preprocessed_mnist import load_dataset\n",
    "\n",
    "X_train, y_train, X_val, y_val, X_test, y_test = load_dataset(flatten=True)\n",
    "\n",
    "print(X_train.shape)\n",
    "print(y_train.shape)\n",
    "\n",
    "# lables - one hot encoding\n",
    "\n",
    "n_classes = 10\n",
    "\n",
    "def one_hot_encoding(labels):\n",
    "    n = labels.shape[0]\n",
    "    one_hot = np.zeros((n, n_classes))\n",
    "    one_hot[np.arange(n), labels] = 1\n",
    "    return one_hot\n",
    "\n",
    "y_train = one_hot_encoding(y_train)\n",
    "y_val = one_hot_encoding(y_val)\n",
    "y_test = one_hot_encoding(y_test)\n",
    "\n",
    "print(y_train.shape)"
   ]
  },
  {
   "cell_type": "code",
   "execution_count": 3,
   "metadata": {},
   "outputs": [],
   "source": [
    "\n",
    "# Network Parameters\n",
    "n_input = 784 # MNIST data input (img shape: 28*28)\n",
    "n_hidden_1 = 512 # 1st layer number of neurons\n",
    "n_hidden_2 = 256 # 2nd layer number of neurons\n",
    "n_classes = 10 # MNIST total classes (0-9 digits)\n",
    "\n",
    "\n",
    "tf.reset_default_graph()\n",
    "# input, placeholder\n",
    "X = tf.placeholder(\"float\", [None, n_input])\n",
    "Y = tf.placeholder(\"float\", [None, n_classes])\n",
    "keep_prob = tf.placeholder(tf.float32)\n",
    "\n",
    "# parameters\n",
    "W1 = tf.Variable(tf.random_normal((n_input, n_hidden_1), stddev=0.1))\n",
    "b1 = tf.Variable(tf.random_normal((n_hidden_1,), stddev=0.1))\n",
    "W2 = tf.Variable(tf.random_normal((n_hidden_1, n_hidden_2), stddev=0.1))\n",
    "b2 = tf.Variable(tf.random_normal((n_hidden_2,), stddev=0.1))\n",
    "W3 = tf.Variable(tf.random_normal((n_hidden_2, n_classes), stddev=0.1))\n",
    "b3 = tf.Variable(tf.random_normal((n_classes,), stddev=0.1))\n",
    "\n",
    "# multi layer perceptron\n",
    "Z1 = tf.matmul(X, W1) + b1\n",
    "A1 = tf.nn.dropout(tf.nn.tanh(Z1), keep_prob=keep_prob)\n",
    "Z2 = tf.matmul(A1, W2) + b2\n",
    "A2 = tf.nn.dropout(tf.nn.tanh(Z2), keep_prob=keep_prob)\n",
    "Z3 = tf.matmul(A2, W3) + b3    \n",
    "A3 = tf.nn.softmax(Z3)"
   ]
  },
  {
   "cell_type": "code",
   "execution_count": 4,
   "metadata": {},
   "outputs": [],
   "source": [
    "# Parameters\n",
    "learning_rate = 0.0001\n",
    "\n",
    "# Define loss and optimizer\n",
    "cost_function = tf.reduce_mean(tf.nn.softmax_cross_entropy_with_logits_v2(logits=Z3, labels=Y))\n",
    "optimizer = tf.train.AdamOptimizer(learning_rate=learning_rate).minimize(cost_function)\n",
    "\n",
    "# Evaluate model (with test logits, for dropout to be disabled)\n",
    "correct_prediction = tf.equal(tf.argmax(Z3, 1), tf.argmax(Y, 1))\n",
    "accuracy = tf.reduce_mean(tf.cast(correct_prediction, tf.float32))\n",
    "\n",
    "# start TensorFlow session\n",
    "init = tf.global_variables_initializer()\n",
    "sess = tf.InteractiveSession()\n",
    "\n",
    "sess.run(init)"
   ]
  },
  {
   "cell_type": "code",
   "execution_count": 5,
   "metadata": {},
   "outputs": [
    {
     "name": "stdout",
     "output_type": "stream",
     "text": [
      "Epoch 0, Training Loss = 0.4478, Training/Test Acc = 0.8631 / 0.8742\n",
      "Epoch 1, Training Loss = 0.3599, Training/Test Acc = 0.8947 / 0.9028\n",
      "Epoch 20, Training Loss = 0.1513, Training/Test Acc = 0.9557 / 0.9513\n",
      "Epoch 40, Training Loss = 0.0946, Training/Test Acc = 0.9707 / 0.9633\n",
      "Epoch 60, Training Loss = 0.0659, Training/Test Acc = 0.9798 / 0.9698\n",
      "Epoch 80, Training Loss = 0.0486, Training/Test Acc = 0.9850 / 0.9726\n",
      "Epoch 100, Training Loss = 0.0359, Training/Test Acc = 0.9886 / 0.9744\n",
      "Epoch 120, Training Loss = 0.0277, Training/Test Acc = 0.9913 / 0.9766\n",
      "Epoch 140, Training Loss = 0.0214, Training/Test Acc = 0.9937 / 0.9775\n",
      "Epoch 160, Training Loss = 0.0167, Training/Test Acc = 0.9952 / 0.9782\n",
      "Epoch 180, Training Loss = 0.0133, Training/Test Acc = 0.9962 / 0.9791\n",
      "Epoch 200, Training Loss = 0.0104, Training/Test Acc = 0.9971 / 0.9790\n",
      "Epoch 220, Training Loss = 0.0082, Training/Test Acc = 0.9980 / 0.9802\n",
      "Epoch 240, Training Loss = 0.0067, Training/Test Acc = 0.9983 / 0.9794\n",
      "Epoch 260, Training Loss = 0.0051, Training/Test Acc = 0.9988 / 0.9803\n",
      "Epoch 280, Training Loss = 0.0042, Training/Test Acc = 0.9990 / 0.9806\n",
      "CPU times: user 4min 41s, sys: 18.9 s, total: 5min\n",
      "Wall time: 2min 52s\n"
     ]
    }
   ],
   "source": [
    "%%time\n",
    "\n",
    "# training parameters\n",
    "train_size = X_train.shape[0]\n",
    "epochs = 300\n",
    "batch_size = 128\n",
    "dropout_keep_prob = 0.5\n",
    "display_epoch = 20\n",
    "\n",
    "\n",
    "# training \n",
    "train_loss_list = []\n",
    "test_loss_list = []\n",
    "\n",
    "# Start training\n",
    "for epoch in range(epochs):\n",
    "    perm = np.arange(train_size)\n",
    "    np.random.shuffle(perm)\n",
    "    for i in range(0, train_size, batch_size):\n",
    "        randidx = perm[i:i+batch_size]\n",
    "        batch_x = X_train[randidx, :]\n",
    "        batch_y = y_train[randidx, :]\n",
    "        # Run optimization op (backprop)\n",
    "        sess.run(optimizer, feed_dict={X: batch_x, Y: batch_y, keep_prob: dropout_keep_prob})\n",
    "\n",
    "    if epoch % display_epoch == 0 or epoch == 1:\n",
    "        train_loss, train_acc = sess.run([cost_function, accuracy], \n",
    "                                         feed_dict={X: X_train, Y: y_train, keep_prob: 1.})\n",
    "        train_loss_list.append(train_loss)\n",
    "        test_loss, test_acc = sess.run([cost_function, accuracy], \n",
    "                                       feed_dict={X: X_test, Y: y_test, keep_prob: 1.})\n",
    "        test_loss_list.append(test_loss)\n",
    "\n",
    "        print(\"Epoch \" + str(epoch) + \", Training Loss = \" + \\\n",
    "              \"{:.4f}\".format(train_loss) + \", Training/Test Acc = \" + \\\n",
    "              \"{:.4f}\".format(train_acc) + \" / \" + \"{:.4f}\".format(test_acc))\n"
   ]
  },
  {
   "cell_type": "code",
   "execution_count": 8,
   "metadata": {},
   "outputs": [
    {
     "name": "stdout",
     "output_type": "stream",
     "text": [
      "Testing Accuracy: 0.981\n"
     ]
    }
   ],
   "source": [
    "print(\"Testing Accuracy:\", \\\n",
    "    sess.run(accuracy, feed_dict={X: X_test, Y: y_test, keep_prob: 1.}))"
   ]
  },
  {
   "cell_type": "code",
   "execution_count": 7,
   "metadata": {},
   "outputs": [
    {
     "data": {
      "image/png": "[encoded data removed]",
      "text/plain": [
       "<Figure size 432x288 with 1 Axes>"
      ]
     },
     "metadata": {},
     "output_type": "display_data"
    }
   ],
   "source": [
    "t = np.arange(len(train_loss_list))\n",
    "plt.plot(t, train_loss_list, 'r-', t, test_loss_list, '-')\n",
    "plt.show()"
   ]
  },
  {
   "cell_type": "code",
   "execution_count": null,
   "metadata": {},
   "outputs": [],
   "source": []
  }
 ],
 "metadata": {
  "kernelspec": {
   "display_name": "Python 3",
   "language": "python",
   "name": "python3"
  },
  "language_info": {
   "codemirror_mode": {
    "name": "ipython",
    "version": 3
   },
   "file_extension": ".py",
   "mimetype": "text/x-python",
   "name": "python",
   "nbconvert_exporter": "python",
   "pygments_lexer": "ipython3",
   "version": "3.6.4"
  },
  "varInspector": {
   "cols": {
    "lenName": 16,
    "lenType": 16,
    "lenVar": 40
   },
   "kernels_config": {
    "python": {
     "delete_cmd_postfix": "",
     "delete_cmd_prefix": "del ",
     "library": "var_list.py",
     "varRefreshCmd": "print(var_dic_list())"
    },
    "r": {
     "delete_cmd_postfix": ") ",
     "delete_cmd_prefix": "rm(",
     "library": "var_list.r",
     "varRefreshCmd": "cat(var_dic_list()) "
    }
   },
   "types_to_exclude": [
    "module",
    "function",
    "builtin_function_or_method",
    "instance",
    "_Feature"
   ],
   "window_display": false
  }
 },
 "nbformat": 4,
 "nbformat_minor": 2
}
